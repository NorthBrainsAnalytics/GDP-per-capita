{
 "cells": [
  {
   "cell_type": "markdown",
   "id": "a0c03e8a-e696-4e90-8226-109e57a5be6a",
   "metadata": {},
   "source": [
    "<b><big> GDP per capita (USD $)</big></b> 💵\n",
    "<br>\n",
    "<br>\n",
    "<b>Data downloaded from:</b> https://data.worldbank.org/indicator/NY.GDP.PCAP.CD\n",
    "<br>\n",
    "<b>Data update by World Bank at</b> <u>30-06-2022</u>\n",
    "<br>\n",
    "<br>\n",
    "Designed by <b>N</b>orth<b>B</b>rains <b>Analytics</b> 🧠\n",
    "<br> \n",
    "Oskar Mierkiewicz & Sebastian Wozniczka"
   ]
  },
  {
   "cell_type": "code",
   "execution_count": 305,
   "id": "fd06b31d-31ef-4995-a7fe-45b29e6325ca",
   "metadata": {},
   "outputs": [],
   "source": [
    "import pandas as pd \n",
    "import numpy as np"
   ]
  },
  {
   "cell_type": "code",
   "execution_count": 306,
   "id": "3aafc3b8-344e-4901-b16b-3cbbf84e91ee",
   "metadata": {},
   "outputs": [],
   "source": [
    "#step 1 - load data\n",
    "\n",
    "df = pd.read_excel(\"data.xlsx\")"
   ]
  },
  {
   "cell_type": "code",
   "execution_count": 307,
   "id": "e2624dac-88a2-40b0-9e3c-71d341f1186b",
   "metadata": {},
   "outputs": [
    {
     "data": {
      "text/html": [
       "<div>\n",
       "<style scoped>\n",
       "    .dataframe tbody tr th:only-of-type {\n",
       "        vertical-align: middle;\n",
       "    }\n",
       "\n",
       "    .dataframe tbody tr th {\n",
       "        vertical-align: top;\n",
       "    }\n",
       "\n",
       "    .dataframe thead th {\n",
       "        text-align: right;\n",
       "    }\n",
       "</style>\n",
       "<table border=\"1\" class=\"dataframe\">\n",
       "  <thead>\n",
       "    <tr style=\"text-align: right;\">\n",
       "      <th></th>\n",
       "      <th>Country Name</th>\n",
       "      <th>Country Code</th>\n",
       "      <th>1960</th>\n",
       "      <th>1961</th>\n",
       "      <th>1962</th>\n",
       "      <th>1963</th>\n",
       "      <th>1964</th>\n",
       "      <th>1965</th>\n",
       "      <th>1966</th>\n",
       "      <th>1967</th>\n",
       "      <th>...</th>\n",
       "      <th>2012</th>\n",
       "      <th>2013</th>\n",
       "      <th>2014</th>\n",
       "      <th>2015</th>\n",
       "      <th>2016</th>\n",
       "      <th>2017</th>\n",
       "      <th>2018</th>\n",
       "      <th>2019</th>\n",
       "      <th>2020</th>\n",
       "      <th>2021</th>\n",
       "    </tr>\n",
       "  </thead>\n",
       "  <tbody>\n",
       "    <tr>\n",
       "      <th>0</th>\n",
       "      <td>Aruba</td>\n",
       "      <td>ABW</td>\n",
       "      <td>NaN</td>\n",
       "      <td>NaN</td>\n",
       "      <td>NaN</td>\n",
       "      <td>NaN</td>\n",
       "      <td>NaN</td>\n",
       "      <td>NaN</td>\n",
       "      <td>NaN</td>\n",
       "      <td>NaN</td>\n",
       "      <td>...</td>\n",
       "      <td>25496.8</td>\n",
       "      <td>26442.4</td>\n",
       "      <td>26895.1</td>\n",
       "      <td>28399.1</td>\n",
       "      <td>28453.7</td>\n",
       "      <td>29348.4</td>\n",
       "      <td>30253.7</td>\n",
       "      <td>31135.9</td>\n",
       "      <td>23384.3</td>\n",
       "      <td>NaN</td>\n",
       "    </tr>\n",
       "    <tr>\n",
       "      <th>1</th>\n",
       "      <td>Africa Eastern and Southern</td>\n",
       "      <td>AFE</td>\n",
       "      <td>162.7</td>\n",
       "      <td>162.6</td>\n",
       "      <td>172.3</td>\n",
       "      <td>199.8</td>\n",
       "      <td>180.2</td>\n",
       "      <td>199.5</td>\n",
       "      <td>211.1</td>\n",
       "      <td>213.6</td>\n",
       "      <td>...</td>\n",
       "      <td>1777.3</td>\n",
       "      <td>1748.9</td>\n",
       "      <td>1736.2</td>\n",
       "      <td>1556.3</td>\n",
       "      <td>1446.5</td>\n",
       "      <td>1629.4</td>\n",
       "      <td>1541.0</td>\n",
       "      <td>1511.3</td>\n",
       "      <td>1360.9</td>\n",
       "      <td>1557.7</td>\n",
       "    </tr>\n",
       "    <tr>\n",
       "      <th>2</th>\n",
       "      <td>Afghanistan</td>\n",
       "      <td>AFG</td>\n",
       "      <td>59.8</td>\n",
       "      <td>59.9</td>\n",
       "      <td>58.5</td>\n",
       "      <td>78.7</td>\n",
       "      <td>82.1</td>\n",
       "      <td>101.1</td>\n",
       "      <td>137.6</td>\n",
       "      <td>160.9</td>\n",
       "      <td>...</td>\n",
       "      <td>638.8</td>\n",
       "      <td>624.3</td>\n",
       "      <td>614.2</td>\n",
       "      <td>556.0</td>\n",
       "      <td>512.0</td>\n",
       "      <td>516.7</td>\n",
       "      <td>485.7</td>\n",
       "      <td>494.2</td>\n",
       "      <td>516.7</td>\n",
       "      <td>NaN</td>\n",
       "    </tr>\n",
       "    <tr>\n",
       "      <th>3</th>\n",
       "      <td>Africa Western and Central</td>\n",
       "      <td>AFW</td>\n",
       "      <td>107.9</td>\n",
       "      <td>113.1</td>\n",
       "      <td>118.8</td>\n",
       "      <td>123.4</td>\n",
       "      <td>131.9</td>\n",
       "      <td>138.5</td>\n",
       "      <td>144.3</td>\n",
       "      <td>128.6</td>\n",
       "      <td>...</td>\n",
       "      <td>1965.1</td>\n",
       "      <td>2157.5</td>\n",
       "      <td>2212.9</td>\n",
       "      <td>1894.3</td>\n",
       "      <td>1673.8</td>\n",
       "      <td>1613.5</td>\n",
       "      <td>1704.1</td>\n",
       "      <td>1777.9</td>\n",
       "      <td>1709.8</td>\n",
       "      <td>1774.9</td>\n",
       "    </tr>\n",
       "    <tr>\n",
       "      <th>4</th>\n",
       "      <td>Angola</td>\n",
       "      <td>AGO</td>\n",
       "      <td>NaN</td>\n",
       "      <td>NaN</td>\n",
       "      <td>NaN</td>\n",
       "      <td>NaN</td>\n",
       "      <td>NaN</td>\n",
       "      <td>NaN</td>\n",
       "      <td>NaN</td>\n",
       "      <td>NaN</td>\n",
       "      <td>...</td>\n",
       "      <td>4978.4</td>\n",
       "      <td>5127.7</td>\n",
       "      <td>5094.1</td>\n",
       "      <td>3127.9</td>\n",
       "      <td>1728.0</td>\n",
       "      <td>2313.2</td>\n",
       "      <td>2524.9</td>\n",
       "      <td>2177.8</td>\n",
       "      <td>1631.4</td>\n",
       "      <td>2137.9</td>\n",
       "    </tr>\n",
       "    <tr>\n",
       "      <th>...</th>\n",
       "      <td>...</td>\n",
       "      <td>...</td>\n",
       "      <td>...</td>\n",
       "      <td>...</td>\n",
       "      <td>...</td>\n",
       "      <td>...</td>\n",
       "      <td>...</td>\n",
       "      <td>...</td>\n",
       "      <td>...</td>\n",
       "      <td>...</td>\n",
       "      <td>...</td>\n",
       "      <td>...</td>\n",
       "      <td>...</td>\n",
       "      <td>...</td>\n",
       "      <td>...</td>\n",
       "      <td>...</td>\n",
       "      <td>...</td>\n",
       "      <td>...</td>\n",
       "      <td>...</td>\n",
       "      <td>...</td>\n",
       "      <td>...</td>\n",
       "    </tr>\n",
       "    <tr>\n",
       "      <th>261</th>\n",
       "      <td>Kosovo</td>\n",
       "      <td>XKX</td>\n",
       "      <td>NaN</td>\n",
       "      <td>NaN</td>\n",
       "      <td>NaN</td>\n",
       "      <td>NaN</td>\n",
       "      <td>NaN</td>\n",
       "      <td>NaN</td>\n",
       "      <td>NaN</td>\n",
       "      <td>NaN</td>\n",
       "      <td>...</td>\n",
       "      <td>3410.9</td>\n",
       "      <td>3704.8</td>\n",
       "      <td>3902.7</td>\n",
       "      <td>3520.8</td>\n",
       "      <td>3759.6</td>\n",
       "      <td>4009.4</td>\n",
       "      <td>4384.0</td>\n",
       "      <td>4416.1</td>\n",
       "      <td>4310.8</td>\n",
       "      <td>4986.6</td>\n",
       "    </tr>\n",
       "    <tr>\n",
       "      <th>262</th>\n",
       "      <td>Yemen, Rep.</td>\n",
       "      <td>YEM</td>\n",
       "      <td>NaN</td>\n",
       "      <td>NaN</td>\n",
       "      <td>NaN</td>\n",
       "      <td>NaN</td>\n",
       "      <td>NaN</td>\n",
       "      <td>NaN</td>\n",
       "      <td>NaN</td>\n",
       "      <td>NaN</td>\n",
       "      <td>...</td>\n",
       "      <td>1446.5</td>\n",
       "      <td>1607.2</td>\n",
       "      <td>1674.0</td>\n",
       "      <td>1601.8</td>\n",
       "      <td>1152.7</td>\n",
       "      <td>964.3</td>\n",
       "      <td>758.1</td>\n",
       "      <td>750.6</td>\n",
       "      <td>631.7</td>\n",
       "      <td>690.8</td>\n",
       "    </tr>\n",
       "    <tr>\n",
       "      <th>263</th>\n",
       "      <td>South Africa</td>\n",
       "      <td>ZAF</td>\n",
       "      <td>511.6</td>\n",
       "      <td>526.5</td>\n",
       "      <td>546.3</td>\n",
       "      <td>589.2</td>\n",
       "      <td>632.7</td>\n",
       "      <td>674.2</td>\n",
       "      <td>714.6</td>\n",
       "      <td>775.3</td>\n",
       "      <td>...</td>\n",
       "      <td>8222.2</td>\n",
       "      <td>7467.1</td>\n",
       "      <td>6988.8</td>\n",
       "      <td>6259.8</td>\n",
       "      <td>5757.0</td>\n",
       "      <td>6690.9</td>\n",
       "      <td>7005.1</td>\n",
       "      <td>6624.8</td>\n",
       "      <td>5655.9</td>\n",
       "      <td>6994.2</td>\n",
       "    </tr>\n",
       "    <tr>\n",
       "      <th>264</th>\n",
       "      <td>Zambia</td>\n",
       "      <td>ZMB</td>\n",
       "      <td>232.2</td>\n",
       "      <td>220.0</td>\n",
       "      <td>212.6</td>\n",
       "      <td>213.9</td>\n",
       "      <td>242.4</td>\n",
       "      <td>303.3</td>\n",
       "      <td>343.4</td>\n",
       "      <td>360.2</td>\n",
       "      <td>...</td>\n",
       "      <td>1763.1</td>\n",
       "      <td>1878.3</td>\n",
       "      <td>1762.4</td>\n",
       "      <td>1338.3</td>\n",
       "      <td>1280.8</td>\n",
       "      <td>1535.2</td>\n",
       "      <td>1516.4</td>\n",
       "      <td>1305.0</td>\n",
       "      <td>985.1</td>\n",
       "      <td>1120.6</td>\n",
       "    </tr>\n",
       "    <tr>\n",
       "      <th>265</th>\n",
       "      <td>Zimbabwe</td>\n",
       "      <td>ZWE</td>\n",
       "      <td>278.8</td>\n",
       "      <td>280.8</td>\n",
       "      <td>276.7</td>\n",
       "      <td>277.5</td>\n",
       "      <td>281.6</td>\n",
       "      <td>293.3</td>\n",
       "      <td>277.2</td>\n",
       "      <td>292.3</td>\n",
       "      <td>...</td>\n",
       "      <td>1305.0</td>\n",
       "      <td>1430.0</td>\n",
       "      <td>1434.9</td>\n",
       "      <td>1445.1</td>\n",
       "      <td>1464.6</td>\n",
       "      <td>1235.2</td>\n",
       "      <td>1254.6</td>\n",
       "      <td>1316.7</td>\n",
       "      <td>1214.5</td>\n",
       "      <td>1737.2</td>\n",
       "    </tr>\n",
       "  </tbody>\n",
       "</table>\n",
       "<p>266 rows × 64 columns</p>\n",
       "</div>"
      ],
      "text/plain": [
       "                    Country Name Country Code   1960   1961   1962   1963  \\\n",
       "0                          Aruba          ABW    NaN    NaN    NaN    NaN   \n",
       "1    Africa Eastern and Southern          AFE  162.7  162.6  172.3  199.8   \n",
       "2                    Afghanistan          AFG   59.8   59.9   58.5   78.7   \n",
       "3     Africa Western and Central          AFW  107.9  113.1  118.8  123.4   \n",
       "4                         Angola          AGO    NaN    NaN    NaN    NaN   \n",
       "..                           ...          ...    ...    ...    ...    ...   \n",
       "261                       Kosovo          XKX    NaN    NaN    NaN    NaN   \n",
       "262                  Yemen, Rep.          YEM    NaN    NaN    NaN    NaN   \n",
       "263                 South Africa          ZAF  511.6  526.5  546.3  589.2   \n",
       "264                       Zambia          ZMB  232.2  220.0  212.6  213.9   \n",
       "265                     Zimbabwe          ZWE  278.8  280.8  276.7  277.5   \n",
       "\n",
       "      1964   1965   1966   1967  ...     2012     2013     2014     2015  \\\n",
       "0      NaN    NaN    NaN    NaN  ...  25496.8  26442.4  26895.1  28399.1   \n",
       "1    180.2  199.5  211.1  213.6  ...   1777.3   1748.9   1736.2   1556.3   \n",
       "2     82.1  101.1  137.6  160.9  ...    638.8    624.3    614.2    556.0   \n",
       "3    131.9  138.5  144.3  128.6  ...   1965.1   2157.5   2212.9   1894.3   \n",
       "4      NaN    NaN    NaN    NaN  ...   4978.4   5127.7   5094.1   3127.9   \n",
       "..     ...    ...    ...    ...  ...      ...      ...      ...      ...   \n",
       "261    NaN    NaN    NaN    NaN  ...   3410.9   3704.8   3902.7   3520.8   \n",
       "262    NaN    NaN    NaN    NaN  ...   1446.5   1607.2   1674.0   1601.8   \n",
       "263  632.7  674.2  714.6  775.3  ...   8222.2   7467.1   6988.8   6259.8   \n",
       "264  242.4  303.3  343.4  360.2  ...   1763.1   1878.3   1762.4   1338.3   \n",
       "265  281.6  293.3  277.2  292.3  ...   1305.0   1430.0   1434.9   1445.1   \n",
       "\n",
       "        2016     2017     2018     2019     2020    2021  \n",
       "0    28453.7  29348.4  30253.7  31135.9  23384.3     NaN  \n",
       "1     1446.5   1629.4   1541.0   1511.3   1360.9  1557.7  \n",
       "2      512.0    516.7    485.7    494.2    516.7     NaN  \n",
       "3     1673.8   1613.5   1704.1   1777.9   1709.8  1774.9  \n",
       "4     1728.0   2313.2   2524.9   2177.8   1631.4  2137.9  \n",
       "..       ...      ...      ...      ...      ...     ...  \n",
       "261   3759.6   4009.4   4384.0   4416.1   4310.8  4986.6  \n",
       "262   1152.7    964.3    758.1    750.6    631.7   690.8  \n",
       "263   5757.0   6690.9   7005.1   6624.8   5655.9  6994.2  \n",
       "264   1280.8   1535.2   1516.4   1305.0    985.1  1120.6  \n",
       "265   1464.6   1235.2   1254.6   1316.7   1214.5  1737.2  \n",
       "\n",
       "[266 rows x 64 columns]"
      ]
     },
     "execution_count": 307,
     "metadata": {},
     "output_type": "execute_result"
    }
   ],
   "source": [
    "#step 2 - order data\n",
    "\n",
    "data = df.drop(columns = [\"Indicator Name\", \"Indicator Code\"]).round(decimals = 1) \n",
    "#round values in entire dataframe\n",
    "\n",
    "data"
   ]
  },
  {
   "cell_type": "code",
   "execution_count": 308,
   "id": "1b84825b-dc5a-42c9-81fe-50b4e74aabe8",
   "metadata": {},
   "outputs": [
    {
     "data": {
      "text/plain": [
       "Country Name    266\n",
       "Country Code    266\n",
       "1960            133\n",
       "1961            135\n",
       "1962            137\n",
       "               ... \n",
       "2017            257\n",
       "2018            257\n",
       "2019            255\n",
       "2020            251\n",
       "2021            229\n",
       "Length: 64, dtype: int64"
      ]
     },
     "execution_count": 308,
     "metadata": {},
     "output_type": "execute_result"
    }
   ],
   "source": [
    "data.count() #show us how many rows in columns are valid (with no NaN values)"
   ]
  },
  {
   "cell_type": "code",
   "execution_count": 309,
   "id": "40b5ab53-4879-4a14-a45d-774ffe777611",
   "metadata": {},
   "outputs": [],
   "source": [
    "GDP = data.fillna(0) #changing NaN values for 0 - entire table"
   ]
  },
  {
   "cell_type": "code",
   "execution_count": 310,
   "id": "980b4512-52e2-411d-aca4-4552f1d661b4",
   "metadata": {},
   "outputs": [
    {
     "data": {
      "text/html": [
       "<div>\n",
       "<style scoped>\n",
       "    .dataframe tbody tr th:only-of-type {\n",
       "        vertical-align: middle;\n",
       "    }\n",
       "\n",
       "    .dataframe tbody tr th {\n",
       "        vertical-align: top;\n",
       "    }\n",
       "\n",
       "    .dataframe thead th {\n",
       "        text-align: right;\n",
       "    }\n",
       "</style>\n",
       "<table border=\"1\" class=\"dataframe\">\n",
       "  <thead>\n",
       "    <tr style=\"text-align: right;\">\n",
       "      <th></th>\n",
       "      <th>Country Name</th>\n",
       "      <th>Country Code</th>\n",
       "      <th>1960</th>\n",
       "      <th>1961</th>\n",
       "      <th>1962</th>\n",
       "      <th>1963</th>\n",
       "      <th>1964</th>\n",
       "      <th>1965</th>\n",
       "      <th>1966</th>\n",
       "      <th>1967</th>\n",
       "      <th>...</th>\n",
       "      <th>2012</th>\n",
       "      <th>2013</th>\n",
       "      <th>2014</th>\n",
       "      <th>2015</th>\n",
       "      <th>2016</th>\n",
       "      <th>2017</th>\n",
       "      <th>2018</th>\n",
       "      <th>2019</th>\n",
       "      <th>2020</th>\n",
       "      <th>2021</th>\n",
       "    </tr>\n",
       "  </thead>\n",
       "  <tbody>\n",
       "    <tr>\n",
       "      <th>0</th>\n",
       "      <td>Aruba</td>\n",
       "      <td>ABW</td>\n",
       "      <td>0.0</td>\n",
       "      <td>0.0</td>\n",
       "      <td>0.0</td>\n",
       "      <td>0.0</td>\n",
       "      <td>0.0</td>\n",
       "      <td>0.0</td>\n",
       "      <td>0.0</td>\n",
       "      <td>0.0</td>\n",
       "      <td>...</td>\n",
       "      <td>25496.8</td>\n",
       "      <td>26442.4</td>\n",
       "      <td>26895.1</td>\n",
       "      <td>28399.1</td>\n",
       "      <td>28453.7</td>\n",
       "      <td>29348.4</td>\n",
       "      <td>30253.7</td>\n",
       "      <td>31135.9</td>\n",
       "      <td>23384.3</td>\n",
       "      <td>0.0</td>\n",
       "    </tr>\n",
       "    <tr>\n",
       "      <th>1</th>\n",
       "      <td>Africa Eastern and Southern</td>\n",
       "      <td>AFE</td>\n",
       "      <td>162.7</td>\n",
       "      <td>162.6</td>\n",
       "      <td>172.3</td>\n",
       "      <td>199.8</td>\n",
       "      <td>180.2</td>\n",
       "      <td>199.5</td>\n",
       "      <td>211.1</td>\n",
       "      <td>213.6</td>\n",
       "      <td>...</td>\n",
       "      <td>1777.3</td>\n",
       "      <td>1748.9</td>\n",
       "      <td>1736.2</td>\n",
       "      <td>1556.3</td>\n",
       "      <td>1446.5</td>\n",
       "      <td>1629.4</td>\n",
       "      <td>1541.0</td>\n",
       "      <td>1511.3</td>\n",
       "      <td>1360.9</td>\n",
       "      <td>1557.7</td>\n",
       "    </tr>\n",
       "    <tr>\n",
       "      <th>2</th>\n",
       "      <td>Afghanistan</td>\n",
       "      <td>AFG</td>\n",
       "      <td>59.8</td>\n",
       "      <td>59.9</td>\n",
       "      <td>58.5</td>\n",
       "      <td>78.7</td>\n",
       "      <td>82.1</td>\n",
       "      <td>101.1</td>\n",
       "      <td>137.6</td>\n",
       "      <td>160.9</td>\n",
       "      <td>...</td>\n",
       "      <td>638.8</td>\n",
       "      <td>624.3</td>\n",
       "      <td>614.2</td>\n",
       "      <td>556.0</td>\n",
       "      <td>512.0</td>\n",
       "      <td>516.7</td>\n",
       "      <td>485.7</td>\n",
       "      <td>494.2</td>\n",
       "      <td>516.7</td>\n",
       "      <td>0.0</td>\n",
       "    </tr>\n",
       "    <tr>\n",
       "      <th>3</th>\n",
       "      <td>Africa Western and Central</td>\n",
       "      <td>AFW</td>\n",
       "      <td>107.9</td>\n",
       "      <td>113.1</td>\n",
       "      <td>118.8</td>\n",
       "      <td>123.4</td>\n",
       "      <td>131.9</td>\n",
       "      <td>138.5</td>\n",
       "      <td>144.3</td>\n",
       "      <td>128.6</td>\n",
       "      <td>...</td>\n",
       "      <td>1965.1</td>\n",
       "      <td>2157.5</td>\n",
       "      <td>2212.9</td>\n",
       "      <td>1894.3</td>\n",
       "      <td>1673.8</td>\n",
       "      <td>1613.5</td>\n",
       "      <td>1704.1</td>\n",
       "      <td>1777.9</td>\n",
       "      <td>1709.8</td>\n",
       "      <td>1774.9</td>\n",
       "    </tr>\n",
       "    <tr>\n",
       "      <th>4</th>\n",
       "      <td>Angola</td>\n",
       "      <td>AGO</td>\n",
       "      <td>0.0</td>\n",
       "      <td>0.0</td>\n",
       "      <td>0.0</td>\n",
       "      <td>0.0</td>\n",
       "      <td>0.0</td>\n",
       "      <td>0.0</td>\n",
       "      <td>0.0</td>\n",
       "      <td>0.0</td>\n",
       "      <td>...</td>\n",
       "      <td>4978.4</td>\n",
       "      <td>5127.7</td>\n",
       "      <td>5094.1</td>\n",
       "      <td>3127.9</td>\n",
       "      <td>1728.0</td>\n",
       "      <td>2313.2</td>\n",
       "      <td>2524.9</td>\n",
       "      <td>2177.8</td>\n",
       "      <td>1631.4</td>\n",
       "      <td>2137.9</td>\n",
       "    </tr>\n",
       "    <tr>\n",
       "      <th>...</th>\n",
       "      <td>...</td>\n",
       "      <td>...</td>\n",
       "      <td>...</td>\n",
       "      <td>...</td>\n",
       "      <td>...</td>\n",
       "      <td>...</td>\n",
       "      <td>...</td>\n",
       "      <td>...</td>\n",
       "      <td>...</td>\n",
       "      <td>...</td>\n",
       "      <td>...</td>\n",
       "      <td>...</td>\n",
       "      <td>...</td>\n",
       "      <td>...</td>\n",
       "      <td>...</td>\n",
       "      <td>...</td>\n",
       "      <td>...</td>\n",
       "      <td>...</td>\n",
       "      <td>...</td>\n",
       "      <td>...</td>\n",
       "      <td>...</td>\n",
       "    </tr>\n",
       "    <tr>\n",
       "      <th>261</th>\n",
       "      <td>Kosovo</td>\n",
       "      <td>XKX</td>\n",
       "      <td>0.0</td>\n",
       "      <td>0.0</td>\n",
       "      <td>0.0</td>\n",
       "      <td>0.0</td>\n",
       "      <td>0.0</td>\n",
       "      <td>0.0</td>\n",
       "      <td>0.0</td>\n",
       "      <td>0.0</td>\n",
       "      <td>...</td>\n",
       "      <td>3410.9</td>\n",
       "      <td>3704.8</td>\n",
       "      <td>3902.7</td>\n",
       "      <td>3520.8</td>\n",
       "      <td>3759.6</td>\n",
       "      <td>4009.4</td>\n",
       "      <td>4384.0</td>\n",
       "      <td>4416.1</td>\n",
       "      <td>4310.8</td>\n",
       "      <td>4986.6</td>\n",
       "    </tr>\n",
       "    <tr>\n",
       "      <th>262</th>\n",
       "      <td>Yemen, Rep.</td>\n",
       "      <td>YEM</td>\n",
       "      <td>0.0</td>\n",
       "      <td>0.0</td>\n",
       "      <td>0.0</td>\n",
       "      <td>0.0</td>\n",
       "      <td>0.0</td>\n",
       "      <td>0.0</td>\n",
       "      <td>0.0</td>\n",
       "      <td>0.0</td>\n",
       "      <td>...</td>\n",
       "      <td>1446.5</td>\n",
       "      <td>1607.2</td>\n",
       "      <td>1674.0</td>\n",
       "      <td>1601.8</td>\n",
       "      <td>1152.7</td>\n",
       "      <td>964.3</td>\n",
       "      <td>758.1</td>\n",
       "      <td>750.6</td>\n",
       "      <td>631.7</td>\n",
       "      <td>690.8</td>\n",
       "    </tr>\n",
       "    <tr>\n",
       "      <th>263</th>\n",
       "      <td>South Africa</td>\n",
       "      <td>ZAF</td>\n",
       "      <td>511.6</td>\n",
       "      <td>526.5</td>\n",
       "      <td>546.3</td>\n",
       "      <td>589.2</td>\n",
       "      <td>632.7</td>\n",
       "      <td>674.2</td>\n",
       "      <td>714.6</td>\n",
       "      <td>775.3</td>\n",
       "      <td>...</td>\n",
       "      <td>8222.2</td>\n",
       "      <td>7467.1</td>\n",
       "      <td>6988.8</td>\n",
       "      <td>6259.8</td>\n",
       "      <td>5757.0</td>\n",
       "      <td>6690.9</td>\n",
       "      <td>7005.1</td>\n",
       "      <td>6624.8</td>\n",
       "      <td>5655.9</td>\n",
       "      <td>6994.2</td>\n",
       "    </tr>\n",
       "    <tr>\n",
       "      <th>264</th>\n",
       "      <td>Zambia</td>\n",
       "      <td>ZMB</td>\n",
       "      <td>232.2</td>\n",
       "      <td>220.0</td>\n",
       "      <td>212.6</td>\n",
       "      <td>213.9</td>\n",
       "      <td>242.4</td>\n",
       "      <td>303.3</td>\n",
       "      <td>343.4</td>\n",
       "      <td>360.2</td>\n",
       "      <td>...</td>\n",
       "      <td>1763.1</td>\n",
       "      <td>1878.3</td>\n",
       "      <td>1762.4</td>\n",
       "      <td>1338.3</td>\n",
       "      <td>1280.8</td>\n",
       "      <td>1535.2</td>\n",
       "      <td>1516.4</td>\n",
       "      <td>1305.0</td>\n",
       "      <td>985.1</td>\n",
       "      <td>1120.6</td>\n",
       "    </tr>\n",
       "    <tr>\n",
       "      <th>265</th>\n",
       "      <td>Zimbabwe</td>\n",
       "      <td>ZWE</td>\n",
       "      <td>278.8</td>\n",
       "      <td>280.8</td>\n",
       "      <td>276.7</td>\n",
       "      <td>277.5</td>\n",
       "      <td>281.6</td>\n",
       "      <td>293.3</td>\n",
       "      <td>277.2</td>\n",
       "      <td>292.3</td>\n",
       "      <td>...</td>\n",
       "      <td>1305.0</td>\n",
       "      <td>1430.0</td>\n",
       "      <td>1434.9</td>\n",
       "      <td>1445.1</td>\n",
       "      <td>1464.6</td>\n",
       "      <td>1235.2</td>\n",
       "      <td>1254.6</td>\n",
       "      <td>1316.7</td>\n",
       "      <td>1214.5</td>\n",
       "      <td>1737.2</td>\n",
       "    </tr>\n",
       "  </tbody>\n",
       "</table>\n",
       "<p>266 rows × 64 columns</p>\n",
       "</div>"
      ],
      "text/plain": [
       "                    Country Name Country Code   1960   1961   1962   1963  \\\n",
       "0                          Aruba          ABW    0.0    0.0    0.0    0.0   \n",
       "1    Africa Eastern and Southern          AFE  162.7  162.6  172.3  199.8   \n",
       "2                    Afghanistan          AFG   59.8   59.9   58.5   78.7   \n",
       "3     Africa Western and Central          AFW  107.9  113.1  118.8  123.4   \n",
       "4                         Angola          AGO    0.0    0.0    0.0    0.0   \n",
       "..                           ...          ...    ...    ...    ...    ...   \n",
       "261                       Kosovo          XKX    0.0    0.0    0.0    0.0   \n",
       "262                  Yemen, Rep.          YEM    0.0    0.0    0.0    0.0   \n",
       "263                 South Africa          ZAF  511.6  526.5  546.3  589.2   \n",
       "264                       Zambia          ZMB  232.2  220.0  212.6  213.9   \n",
       "265                     Zimbabwe          ZWE  278.8  280.8  276.7  277.5   \n",
       "\n",
       "      1964   1965   1966   1967  ...     2012     2013     2014     2015  \\\n",
       "0      0.0    0.0    0.0    0.0  ...  25496.8  26442.4  26895.1  28399.1   \n",
       "1    180.2  199.5  211.1  213.6  ...   1777.3   1748.9   1736.2   1556.3   \n",
       "2     82.1  101.1  137.6  160.9  ...    638.8    624.3    614.2    556.0   \n",
       "3    131.9  138.5  144.3  128.6  ...   1965.1   2157.5   2212.9   1894.3   \n",
       "4      0.0    0.0    0.0    0.0  ...   4978.4   5127.7   5094.1   3127.9   \n",
       "..     ...    ...    ...    ...  ...      ...      ...      ...      ...   \n",
       "261    0.0    0.0    0.0    0.0  ...   3410.9   3704.8   3902.7   3520.8   \n",
       "262    0.0    0.0    0.0    0.0  ...   1446.5   1607.2   1674.0   1601.8   \n",
       "263  632.7  674.2  714.6  775.3  ...   8222.2   7467.1   6988.8   6259.8   \n",
       "264  242.4  303.3  343.4  360.2  ...   1763.1   1878.3   1762.4   1338.3   \n",
       "265  281.6  293.3  277.2  292.3  ...   1305.0   1430.0   1434.9   1445.1   \n",
       "\n",
       "        2016     2017     2018     2019     2020    2021  \n",
       "0    28453.7  29348.4  30253.7  31135.9  23384.3     0.0  \n",
       "1     1446.5   1629.4   1541.0   1511.3   1360.9  1557.7  \n",
       "2      512.0    516.7    485.7    494.2    516.7     0.0  \n",
       "3     1673.8   1613.5   1704.1   1777.9   1709.8  1774.9  \n",
       "4     1728.0   2313.2   2524.9   2177.8   1631.4  2137.9  \n",
       "..       ...      ...      ...      ...      ...     ...  \n",
       "261   3759.6   4009.4   4384.0   4416.1   4310.8  4986.6  \n",
       "262   1152.7    964.3    758.1    750.6    631.7   690.8  \n",
       "263   5757.0   6690.9   7005.1   6624.8   5655.9  6994.2  \n",
       "264   1280.8   1535.2   1516.4   1305.0    985.1  1120.6  \n",
       "265   1464.6   1235.2   1254.6   1316.7   1214.5  1737.2  \n",
       "\n",
       "[266 rows x 64 columns]"
      ]
     },
     "execution_count": 310,
     "metadata": {},
     "output_type": "execute_result"
    }
   ],
   "source": [
    "GDP"
   ]
  },
  {
   "cell_type": "markdown",
   "id": "aafac433-e330-4da7-bc4b-2ac42fa06180",
   "metadata": {},
   "source": [
    "<b>Median Data</b>"
   ]
  },
  {
   "cell_type": "code",
   "execution_count": 311,
   "id": "5d7cb717-a01b-410e-a6da-8bd27c03b17a",
   "metadata": {},
   "outputs": [
    {
     "data": {
      "text/html": [
       "<div>\n",
       "<style scoped>\n",
       "    .dataframe tbody tr th:only-of-type {\n",
       "        vertical-align: middle;\n",
       "    }\n",
       "\n",
       "    .dataframe tbody tr th {\n",
       "        vertical-align: top;\n",
       "    }\n",
       "\n",
       "    .dataframe thead th {\n",
       "        text-align: right;\n",
       "    }\n",
       "</style>\n",
       "<table border=\"1\" class=\"dataframe\">\n",
       "  <thead>\n",
       "    <tr style=\"text-align: right;\">\n",
       "      <th></th>\n",
       "      <th>Year</th>\n",
       "      <th>GDP</th>\n",
       "    </tr>\n",
       "  </thead>\n",
       "  <tbody>\n",
       "    <tr>\n",
       "      <th>0</th>\n",
       "      <td>1960</td>\n",
       "      <td>20.2</td>\n",
       "    </tr>\n",
       "    <tr>\n",
       "      <th>1</th>\n",
       "      <td>1961</td>\n",
       "      <td>41.3</td>\n",
       "    </tr>\n",
       "    <tr>\n",
       "      <th>2</th>\n",
       "      <td>1962</td>\n",
       "      <td>48.0</td>\n",
       "    </tr>\n",
       "    <tr>\n",
       "      <th>3</th>\n",
       "      <td>1963</td>\n",
       "      <td>47.7</td>\n",
       "    </tr>\n",
       "    <tr>\n",
       "      <th>4</th>\n",
       "      <td>1964</td>\n",
       "      <td>47.6</td>\n",
       "    </tr>\n",
       "    <tr>\n",
       "      <th>...</th>\n",
       "      <td>...</td>\n",
       "      <td>...</td>\n",
       "    </tr>\n",
       "    <tr>\n",
       "      <th>57</th>\n",
       "      <td>2017</td>\n",
       "      <td>6243.2</td>\n",
       "    </tr>\n",
       "    <tr>\n",
       "      <th>58</th>\n",
       "      <td>2018</td>\n",
       "      <td>6511.5</td>\n",
       "    </tr>\n",
       "    <tr>\n",
       "      <th>59</th>\n",
       "      <td>2019</td>\n",
       "      <td>6518.4</td>\n",
       "    </tr>\n",
       "    <tr>\n",
       "      <th>60</th>\n",
       "      <td>2020</td>\n",
       "      <td>5274.6</td>\n",
       "    </tr>\n",
       "    <tr>\n",
       "      <th>61</th>\n",
       "      <td>2021</td>\n",
       "      <td>4560.8</td>\n",
       "    </tr>\n",
       "  </tbody>\n",
       "</table>\n",
       "<p>62 rows × 2 columns</p>\n",
       "</div>"
      ],
      "text/plain": [
       "    Year     GDP\n",
       "0   1960    20.2\n",
       "1   1961    41.3\n",
       "2   1962    48.0\n",
       "3   1963    47.7\n",
       "4   1964    47.6\n",
       "..   ...     ...\n",
       "57  2017  6243.2\n",
       "58  2018  6511.5\n",
       "59  2019  6518.4\n",
       "60  2020  5274.6\n",
       "61  2021  4560.8\n",
       "\n",
       "[62 rows x 2 columns]"
      ]
     },
     "execution_count": 311,
     "metadata": {},
     "output_type": "execute_result"
    }
   ],
   "source": [
    "MedianData = GDP.iloc[:, 2:] #skip columns with code and name of countries\n",
    "MedianData = MedianData.median().round(decimals=1)\n",
    "MDdf = pd.DataFrame(MedianData)\n",
    "MDdf.reset_index(inplace=True) #convert index into dataframe's column\n",
    "MDdf.columns = ['Year', 'GDP'] \n",
    "MDdf.dtypes #Year = object , GDP = float64\n",
    "MDdf[\"Year\"] = pd.to_numeric(MDdf[\"Year\"]) #switch obejct type into int64 type\n",
    "MDdf"
   ]
  },
  {
   "cell_type": "code",
   "execution_count": 312,
   "id": "5ac32bf8-d8d5-4ab5-a6ce-84a3a5c64f3a",
   "metadata": {},
   "outputs": [
    {
     "name": "stdout",
     "output_type": "stream",
     "text": [
      "World max median is equal to: 6604.4 and it's from year: 2014\n"
     ]
    }
   ],
   "source": [
    "MedianMax = MDdf['GDP'].max()\n",
    "IndexNumber = MDdf.index[MDdf['GDP'] == MDdf['GDP'].max()].tolist()\n",
    "MedianMaxYear = MDdf['Year'].loc[54]\n",
    "\n",
    "print(\"World max median is equal to:\", MedianMax, \"and it's from year:\", MedianMaxYear)"
   ]
  },
  {
   "cell_type": "code",
   "execution_count": 313,
   "id": "e4b874d4-81e6-45b4-a2f5-06113b4442f1",
   "metadata": {},
   "outputs": [
    {
     "name": "stdout",
     "output_type": "stream",
     "text": [
      "World min median is equal to: 20.2 and it's from year: 1960\n"
     ]
    }
   ],
   "source": [
    "MedianMin = MDdf['GDP'].min()\n",
    "IndexNumber = MDdf.index[MDdf['GDP'] == MDdf['GDP'].min()].tolist()\n",
    "MedianMinYear = MDdf['Year'].loc[0]\n",
    "\n",
    "print(\"World min median is equal to:\", MedianMin, \"and it's from year:\", MedianMinYear)"
   ]
  },
  {
   "cell_type": "code",
   "execution_count": 314,
   "id": "2edf9b39-2955-4ccc-bde2-9aa0c5650f86",
   "metadata": {},
   "outputs": [],
   "source": [
    "from matplotlib import pyplot as plt "
   ]
  },
  {
   "cell_type": "code",
   "execution_count": 315,
   "id": "560ebf05-d5f4-42bb-8660-5122ce9a9e5e",
   "metadata": {
    "tags": []
   },
   "outputs": [
    {
     "data": {
      "image/png": "[encoded data removed]",
      "text/plain": [
       "<Figure size 432x288 with 1 Axes>"
      ]
     },
     "metadata": {},
     "output_type": "display_data"
    }
   ],
   "source": [
    "plt.plot(MDdf['Year'], MDdf['GDP'], color = 'blue', marker = '', linestyle = 'solid')\n",
    "plt.title('World median GDP per year')\n",
    "plt.ylabel('Dollars $')\n",
    "\n",
    "plt.show()"
   ]
  },
  {
   "cell_type": "markdown",
   "id": "037aa7a2-652c-449b-8fea-9e477d0fc6fa",
   "metadata": {},
   "source": [
    "<b>Mean Data</b>"
   ]
  },
  {
   "cell_type": "code",
   "execution_count": 316,
   "id": "1dd9c886-3d6e-4421-817a-4944ec3230e8",
   "metadata": {},
   "outputs": [
    {
     "data": {
      "text/html": [
       "<div>\n",
       "<style scoped>\n",
       "    .dataframe tbody tr th:only-of-type {\n",
       "        vertical-align: middle;\n",
       "    }\n",
       "\n",
       "    .dataframe tbody tr th {\n",
       "        vertical-align: top;\n",
       "    }\n",
       "\n",
       "    .dataframe thead th {\n",
       "        text-align: right;\n",
       "    }\n",
       "</style>\n",
       "<table border=\"1\" class=\"dataframe\">\n",
       "  <thead>\n",
       "    <tr style=\"text-align: right;\">\n",
       "      <th></th>\n",
       "      <th>Year</th>\n",
       "      <th>GDP</th>\n",
       "    </tr>\n",
       "  </thead>\n",
       "  <tbody>\n",
       "    <tr>\n",
       "      <th>0</th>\n",
       "      <td>1960</td>\n",
       "      <td>238.6</td>\n",
       "    </tr>\n",
       "    <tr>\n",
       "      <th>1</th>\n",
       "      <td>1961</td>\n",
       "      <td>248.7</td>\n",
       "    </tr>\n",
       "    <tr>\n",
       "      <th>2</th>\n",
       "      <td>1962</td>\n",
       "      <td>264.7</td>\n",
       "    </tr>\n",
       "    <tr>\n",
       "      <th>3</th>\n",
       "      <td>1963</td>\n",
       "      <td>280.9</td>\n",
       "    </tr>\n",
       "    <tr>\n",
       "      <th>4</th>\n",
       "      <td>1964</td>\n",
       "      <td>304.7</td>\n",
       "    </tr>\n",
       "    <tr>\n",
       "      <th>...</th>\n",
       "      <td>...</td>\n",
       "      <td>...</td>\n",
       "    </tr>\n",
       "    <tr>\n",
       "      <th>57</th>\n",
       "      <td>2017</td>\n",
       "      <td>15822.2</td>\n",
       "    </tr>\n",
       "    <tr>\n",
       "      <th>58</th>\n",
       "      <td>2018</td>\n",
       "      <td>16746.7</td>\n",
       "    </tr>\n",
       "    <tr>\n",
       "      <th>59</th>\n",
       "      <td>2019</td>\n",
       "      <td>16512.3</td>\n",
       "    </tr>\n",
       "    <tr>\n",
       "      <th>60</th>\n",
       "      <td>2020</td>\n",
       "      <td>14307.3</td>\n",
       "    </tr>\n",
       "    <tr>\n",
       "      <th>61</th>\n",
       "      <td>2021</td>\n",
       "      <td>13014.8</td>\n",
       "    </tr>\n",
       "  </tbody>\n",
       "</table>\n",
       "<p>62 rows × 2 columns</p>\n",
       "</div>"
      ],
      "text/plain": [
       "    Year      GDP\n",
       "0   1960    238.6\n",
       "1   1961    248.7\n",
       "2   1962    264.7\n",
       "3   1963    280.9\n",
       "4   1964    304.7\n",
       "..   ...      ...\n",
       "57  2017  15822.2\n",
       "58  2018  16746.7\n",
       "59  2019  16512.3\n",
       "60  2020  14307.3\n",
       "61  2021  13014.8\n",
       "\n",
       "[62 rows x 2 columns]"
      ]
     },
     "execution_count": 316,
     "metadata": {},
     "output_type": "execute_result"
    }
   ],
   "source": [
    "MeanData = GDP.iloc[:, 2:] #skip columns with code and name of countries\n",
    "MeanData = MeanData.mean().round(decimals=1)\n",
    "MEdf = pd.DataFrame(MeanData)\n",
    "MEdf.reset_index(inplace=True) #convert index into dataframe's column\n",
    "MEdf.columns = ['Year', 'GDP'] \n",
    "MEdf.dtypes #Year = object , GDP = float64\n",
    "MEdf[\"Year\"] = pd.to_numeric(MEdf[\"Year\"]) #switch obejct type into int64 type\n",
    "MEdf"
   ]
  },
  {
   "cell_type": "code",
   "execution_count": 317,
   "id": "fec9d825-8588-4a8e-b881-e800d9399b93",
   "metadata": {},
   "outputs": [
    {
     "name": "stdout",
     "output_type": "stream",
     "text": [
      "World max mean is equal to: 16746.7 and it's from year: 2018\n"
     ]
    }
   ],
   "source": [
    "MeanMax = MEdf['GDP'].max()\n",
    "IndexNumber = MEdf.index[MEdf['GDP'] == MEdf['GDP'].max()].tolist()\n",
    "MeanMaxYear = MEdf['Year'].loc[58]\n",
    "\n",
    "print(\"World max mean is equal to:\", MeanMax, \"and it's from year:\", MeanMaxYear)"
   ]
  },
  {
   "cell_type": "code",
   "execution_count": 318,
   "id": "8dc78042-2f68-4a1e-9678-bb0a9f2de042",
   "metadata": {},
   "outputs": [
    {
     "name": "stdout",
     "output_type": "stream",
     "text": [
      "World min mean is equal to: 238.6 and it's from year: 1960\n"
     ]
    }
   ],
   "source": [
    "MeanMin = MEdf['GDP'].min()\n",
    "IndexNumber = MEdf.index[MEdf['GDP'] == MEdf['GDP'].min()].tolist()\n",
    "MeanMinYear = MEdf['Year'].loc[0]\n",
    "\n",
    "print(\"World min mean is equal to:\", MeanMin, \"and it's from year:\", MeanMinYear)"
   ]
  },
  {
   "cell_type": "code",
   "execution_count": 319,
   "id": "65d5c82a-c42f-4158-bf4c-a904b224e3e6",
   "metadata": {},
   "outputs": [
    {
     "data": {
      "image/png": "[encoded data removed]",
      "text/plain": [
       "<Figure size 432x288 with 1 Axes>"
      ]
     },
     "metadata": {},
     "output_type": "display_data"
    }
   ],
   "source": [
    "plt.plot(MEdf['Year'], MEdf['GDP'], color = 'orange', marker = '', linestyle = 'solid')\n",
    "plt.title('World mean GDP per year')\n",
    "plt.ylabel('Dollars $')\n",
    "\n",
    "plt.show()"
   ]
  },
  {
   "cell_type": "markdown",
   "id": "121b8ddf-226b-434e-b6e1-465ba41f1a19",
   "metadata": {},
   "source": [
    "<b>Comparing mean with median</b>"
   ]
  },
  {
   "cell_type": "code",
   "execution_count": 320,
   "id": "201d2485-f1e5-4726-945b-81343a96f4ba",
   "metadata": {},
   "outputs": [
    {
     "data": {
      "text/html": [
       "<div>\n",
       "<style scoped>\n",
       "    .dataframe tbody tr th:only-of-type {\n",
       "        vertical-align: middle;\n",
       "    }\n",
       "\n",
       "    .dataframe tbody tr th {\n",
       "        vertical-align: top;\n",
       "    }\n",
       "\n",
       "    .dataframe thead th {\n",
       "        text-align: right;\n",
       "    }\n",
       "</style>\n",
       "<table border=\"1\" class=\"dataframe\">\n",
       "  <thead>\n",
       "    <tr style=\"text-align: right;\">\n",
       "      <th></th>\n",
       "      <th>Median</th>\n",
       "      <th>Mean</th>\n",
       "    </tr>\n",
       "    <tr>\n",
       "      <th>Year</th>\n",
       "      <th></th>\n",
       "      <th></th>\n",
       "    </tr>\n",
       "  </thead>\n",
       "  <tbody>\n",
       "    <tr>\n",
       "      <th>1960</th>\n",
       "      <td>20.2</td>\n",
       "      <td>238.6</td>\n",
       "    </tr>\n",
       "    <tr>\n",
       "      <th>1961</th>\n",
       "      <td>41.3</td>\n",
       "      <td>248.7</td>\n",
       "    </tr>\n",
       "    <tr>\n",
       "      <th>1962</th>\n",
       "      <td>48.0</td>\n",
       "      <td>264.7</td>\n",
       "    </tr>\n",
       "    <tr>\n",
       "      <th>1963</th>\n",
       "      <td>47.7</td>\n",
       "      <td>280.9</td>\n",
       "    </tr>\n",
       "    <tr>\n",
       "      <th>1964</th>\n",
       "      <td>47.6</td>\n",
       "      <td>304.7</td>\n",
       "    </tr>\n",
       "    <tr>\n",
       "      <th>...</th>\n",
       "      <td>...</td>\n",
       "      <td>...</td>\n",
       "    </tr>\n",
       "    <tr>\n",
       "      <th>2017</th>\n",
       "      <td>6243.2</td>\n",
       "      <td>15822.2</td>\n",
       "    </tr>\n",
       "    <tr>\n",
       "      <th>2018</th>\n",
       "      <td>6511.5</td>\n",
       "      <td>16746.7</td>\n",
       "    </tr>\n",
       "    <tr>\n",
       "      <th>2019</th>\n",
       "      <td>6518.4</td>\n",
       "      <td>16512.3</td>\n",
       "    </tr>\n",
       "    <tr>\n",
       "      <th>2020</th>\n",
       "      <td>5274.6</td>\n",
       "      <td>14307.3</td>\n",
       "    </tr>\n",
       "    <tr>\n",
       "      <th>2021</th>\n",
       "      <td>4560.8</td>\n",
       "      <td>13014.8</td>\n",
       "    </tr>\n",
       "  </tbody>\n",
       "</table>\n",
       "<p>62 rows × 2 columns</p>\n",
       "</div>"
      ],
      "text/plain": [
       "      Median     Mean\n",
       "Year                 \n",
       "1960    20.2    238.6\n",
       "1961    41.3    248.7\n",
       "1962    48.0    264.7\n",
       "1963    47.7    280.9\n",
       "1964    47.6    304.7\n",
       "...      ...      ...\n",
       "2017  6243.2  15822.2\n",
       "2018  6511.5  16746.7\n",
       "2019  6518.4  16512.3\n",
       "2020  5274.6  14307.3\n",
       "2021  4560.8  13014.8\n",
       "\n",
       "[62 rows x 2 columns]"
      ]
     },
     "execution_count": 320,
     "metadata": {},
     "output_type": "execute_result"
    }
   ],
   "source": [
    "MMdf = pd.merge(MDdf, MEdf, how = 'left', on = ['Year']) #merged two tables MDdf and MEdf, sorted by the year \n",
    "MMdf.columns = ['Year', 'Median', 'Mean']\n",
    "MMdf = MMdf.set_index('Year') #index will add into the chart automaticlly as x label\n",
    "MMdf"
   ]
  },
  {
   "cell_type": "code",
   "execution_count": 321,
   "id": "3e46a20c-f78d-4e57-bd45-46ae34df328c",
   "metadata": {},
   "outputs": [
    {
     "data": {
      "image/png": "[encoded data removed]",
      "text/plain": [
       "<Figure size 432x288 with 1 Axes>"
      ]
     },
     "metadata": {},
     "output_type": "display_data"
    }
   ],
   "source": [
    "import seaborn as sns\n",
    "\n",
    "sns.set_theme(style=\"whitegrid\")\n",
    "\n",
    "data = MMdf[\"Median\"], MMdf[\"Mean\"]\n",
    "\n",
    "p = sns.lineplot(data=data, palette=\"tab10\", linewidth=3)\n",
    "p.set(ylabel = \"Dollars $\")\n",
    "p.set(xlabel = '')\n",
    "plt.title(\"Comparing world median with world mean\")\n",
    "plt.show()"
   ]
  },
  {
   "cell_type": "markdown",
   "id": "d0731027-1041-4e4a-9035-699fa44ac042",
   "metadata": {},
   "source": [
    "<b>Load notes.csv </b>"
   ]
  },
  {
   "cell_type": "code",
   "execution_count": 322,
   "id": "9e4ebaca-441a-4f15-a92d-c4ed75f6b348",
   "metadata": {},
   "outputs": [
    {
     "data": {
      "text/html": [
       "<div>\n",
       "<style scoped>\n",
       "    .dataframe tbody tr th:only-of-type {\n",
       "        vertical-align: middle;\n",
       "    }\n",
       "\n",
       "    .dataframe tbody tr th {\n",
       "        vertical-align: top;\n",
       "    }\n",
       "\n",
       "    .dataframe thead th {\n",
       "        text-align: right;\n",
       "    }\n",
       "</style>\n",
       "<table border=\"1\" class=\"dataframe\">\n",
       "  <thead>\n",
       "    <tr style=\"text-align: right;\">\n",
       "      <th></th>\n",
       "      <th>Country Code</th>\n",
       "      <th>Region</th>\n",
       "      <th>IncomeGroup</th>\n",
       "    </tr>\n",
       "  </thead>\n",
       "  <tbody>\n",
       "    <tr>\n",
       "      <th>128</th>\n",
       "      <td>LAO</td>\n",
       "      <td>East Asia &amp; Pacific</td>\n",
       "      <td>Lower middle income</td>\n",
       "    </tr>\n",
       "    <tr>\n",
       "      <th>31</th>\n",
       "      <td>BRN</td>\n",
       "      <td>East Asia &amp; Pacific</td>\n",
       "      <td>High income</td>\n",
       "    </tr>\n",
       "    <tr>\n",
       "      <th>106</th>\n",
       "      <td>IDN</td>\n",
       "      <td>East Asia &amp; Pacific</td>\n",
       "      <td>Lower middle income</td>\n",
       "    </tr>\n",
       "    <tr>\n",
       "      <th>162</th>\n",
       "      <td>MNG</td>\n",
       "      <td>East Asia &amp; Pacific</td>\n",
       "      <td>Lower middle income</td>\n",
       "    </tr>\n",
       "    <tr>\n",
       "      <th>163</th>\n",
       "      <td>MNP</td>\n",
       "      <td>East Asia &amp; Pacific</td>\n",
       "      <td>High income</td>\n",
       "    </tr>\n",
       "    <tr>\n",
       "      <th>...</th>\n",
       "      <td>...</td>\n",
       "      <td>...</td>\n",
       "      <td>...</td>\n",
       "    </tr>\n",
       "    <tr>\n",
       "      <th>43</th>\n",
       "      <td>COD</td>\n",
       "      <td>Sub-Saharan Africa</td>\n",
       "      <td>Low income</td>\n",
       "    </tr>\n",
       "    <tr>\n",
       "      <th>42</th>\n",
       "      <td>CMR</td>\n",
       "      <td>Sub-Saharan Africa</td>\n",
       "      <td>Lower middle income</td>\n",
       "    </tr>\n",
       "    <tr>\n",
       "      <th>41</th>\n",
       "      <td>CIV</td>\n",
       "      <td>Sub-Saharan Africa</td>\n",
       "      <td>Lower middle income</td>\n",
       "    </tr>\n",
       "    <tr>\n",
       "      <th>223</th>\n",
       "      <td>SWZ</td>\n",
       "      <td>Sub-Saharan Africa</td>\n",
       "      <td>Lower middle income</td>\n",
       "    </tr>\n",
       "    <tr>\n",
       "      <th>264</th>\n",
       "      <td>ZWE</td>\n",
       "      <td>Sub-Saharan Africa</td>\n",
       "      <td>Lower middle income</td>\n",
       "    </tr>\n",
       "  </tbody>\n",
       "</table>\n",
       "<p>216 rows × 3 columns</p>\n",
       "</div>"
      ],
      "text/plain": [
       "    Country Code               Region          IncomeGroup\n",
       "128          LAO  East Asia & Pacific  Lower middle income\n",
       "31           BRN  East Asia & Pacific          High income\n",
       "106          IDN  East Asia & Pacific  Lower middle income\n",
       "162          MNG  East Asia & Pacific  Lower middle income\n",
       "163          MNP  East Asia & Pacific          High income\n",
       "..           ...                  ...                  ...\n",
       "43           COD   Sub-Saharan Africa           Low income\n",
       "42           CMR   Sub-Saharan Africa  Lower middle income\n",
       "41           CIV   Sub-Saharan Africa  Lower middle income\n",
       "223          SWZ   Sub-Saharan Africa  Lower middle income\n",
       "264          ZWE   Sub-Saharan Africa  Lower middle income\n",
       "\n",
       "[216 rows x 3 columns]"
      ]
     },
     "execution_count": 322,
     "metadata": {},
     "output_type": "execute_result"
    }
   ],
   "source": [
    "Notes = pd.read_csv(\"notes.csv\") \n",
    "Notes = Notes.drop(columns=['Unnamed: 5'])\n",
    "Region = Notes.iloc[: , :3].dropna()\n",
    "Region = Region.sort_values('Region')\n",
    "Region"
   ]
  },
  {
   "cell_type": "code",
   "execution_count": 323,
   "id": "bd7a05c7-9aaa-4cea-b962-cbd707878261",
   "metadata": {},
   "outputs": [
    {
     "data": {
      "text/plain": [
       "High income            80\n",
       "Lower middle income    54\n",
       "Upper middle income    54\n",
       "Low income             28\n",
       "Name: IncomeGroup, dtype: int64"
      ]
     },
     "execution_count": 323,
     "metadata": {},
     "output_type": "execute_result"
    }
   ],
   "source": [
    "income_group_counts = Region['IncomeGroup'].value_counts(dropna=False)\n",
    "income_group_counts"
   ]
  },
  {
   "cell_type": "code",
   "execution_count": 324,
   "id": "499f9d85-18c9-4834-8494-f747f6ef5890",
   "metadata": {},
   "outputs": [
    {
     "data": {
      "application/vnd.plotly.v1+json": {
       "config": {
        "plotlyServerURL": "https://plot.ly"
       },
       "data": [
        {
         "alignmentgroup": "True",
         "hovertemplate": "Income Groups=%{x}<br>Quantity=%{y}<extra></extra>",
         "legendgroup": "",
         "marker": {
          "color": "#636efa",
          "pattern": {
           "shape": ""
          }
         },
         "name": "",
         "offsetgroup": "",
         "orientation": "v",
         "showlegend": false,
         "textposition": "auto",
         "type": "bar",
         "x": [
          "High income",
          "Lower middle income",
          "Upper middle income",
          "Low income"
         ],
         "xaxis": "x",
         "y": [
          80,
          54,
          54,
          28
         ],
         "yaxis": "y"
        }
       ],
       "layout": {
        "autosize": true,
        "barmode": "relative",
        "legend": {
         "tracegroupgap": 0
        },
        "template": {
         "data": {
          "bar": [
           {
            "error_x": {
             "color": "#2a3f5f"
            },
            "error_y": {
             "color": "#2a3f5f"
            },
            "marker": {
             "line": {
              "color": "#E5ECF6",
              "width": 0.5
             },
             "pattern": {
              "fillmode": "overlay",
              "size": 10,
              "solidity": 0.2
             }
            },
            "type": "bar"
           }
          ],
          "barpolar": [
           {
            "marker": {
             "line": {
              "color": "#E5ECF6",
              "width": 0.5
             },
             "pattern": {
              "fillmode": "overlay",
              "size": 10,
              "solidity": 0.2
             }
            },
            "type": "barpolar"
           }
          ],
          "carpet": [
           {
            "aaxis": {
             "endlinecolor": "#2a3f5f",
             "gridcolor": "white",
             "linecolor": "white",
             "minorgridcolor": "white",
             "startlinecolor": "#2a3f5f"
            },
            "baxis": {
             "endlinecolor": "#2a3f5f",
             "gridcolor": "white",
             "linecolor": "white",
             "minorgridcolor": "white",
             "startlinecolor": "#2a3f5f"
            },
            "type": "carpet"
           }
          ],
          "choropleth": [
           {
            "colorbar": {
             "outlinewidth": 0,
             "ticks": ""
            },
            "type": "choropleth"
           }
          ],
          "contour": [
           {
            "colorbar": {
             "outlinewidth": 0,
             "ticks": ""
            },
            "colorscale": [
             [
              0,
              "#0d0887"
             ],
             [
              0.1111111111111111,
              "#46039f"
             ],
             [
              0.2222222222222222,
              "#7201a8"
             ],
             [
              0.3333333333333333,
              "#9c179e"
             ],
             [
              0.4444444444444444,
              "#bd3786"
             ],
             [
              0.5555555555555556,
              "#d8576b"
             ],
             [
              0.6666666666666666,
              "#ed7953"
             ],
             [
              0.7777777777777778,
              "#fb9f3a"
             ],
             [
              0.8888888888888888,
              "#fdca26"
             ],
             [
              1,
              "#f0f921"
             ]
            ],
            "type": "contour"
           }
          ],
          "contourcarpet": [
           {
            "colorbar": {
             "outlinewidth": 0,
             "ticks": ""
            },
            "type": "contourcarpet"
           }
          ],
          "heatmap": [
           {
            "colorbar": {
             "outlinewidth": 0,
             "ticks": ""
            },
            "colorscale": [
             [
              0,
              "#0d0887"
             ],
             [
              0.1111111111111111,
              "#46039f"
             ],
             [
              0.2222222222222222,
              "#7201a8"
             ],
             [
              0.3333333333333333,
              "#9c179e"
             ],
             [
              0.4444444444444444,
              "#bd3786"
             ],
             [
              0.5555555555555556,
              "#d8576b"
             ],
             [
              0.6666666666666666,
              "#ed7953"
             ],
             [
              0.7777777777777778,
              "#fb9f3a"
             ],
             [
              0.8888888888888888,
              "#fdca26"
             ],
             [
              1,
              "#f0f921"
             ]
            ],
            "type": "heatmap"
           }
          ],
          "heatmapgl": [
           {
            "colorbar": {
             "outlinewidth": 0,
             "ticks": ""
            },
            "colorscale": [
             [
              0,
              "#0d0887"
             ],
             [
              0.1111111111111111,
              "#46039f"
             ],
             [
              0.2222222222222222,
              "#7201a8"
             ],
             [
              0.3333333333333333,
              "#9c179e"
             ],
             [
              0.4444444444444444,
              "#bd3786"
             ],
             [
              0.5555555555555556,
              "#d8576b"
             ],
             [
              0.6666666666666666,
              "#ed7953"
             ],
             [
              0.7777777777777778,
              "#fb9f3a"
             ],
             [
              0.8888888888888888,
              "#fdca26"
             ],
             [
              1,
              "#f0f921"
             ]
            ],
            "type": "heatmapgl"
           }
          ],
          "histogram": [
           {
            "marker": {
             "pattern": {
              "fillmode": "overlay",
              "size": 10,
              "solidity": 0.2
             }
            },
            "type": "histogram"
           }
          ],
          "histogram2d": [
           {
            "colorbar": {
             "outlinewidth": 0,
             "ticks": ""
            },
            "colorscale": [
             [
              0,
              "#0d0887"
             ],
             [
              0.1111111111111111,
              "#46039f"
             ],
             [
              0.2222222222222222,
              "#7201a8"
             ],
             [
              0.3333333333333333,
              "#9c179e"
             ],
             [
              0.4444444444444444,
              "#bd3786"
             ],
             [
              0.5555555555555556,
              "#d8576b"
             ],
             [
              0.6666666666666666,
              "#ed7953"
             ],
             [
              0.7777777777777778,
              "#fb9f3a"
             ],
             [
              0.8888888888888888,
              "#fdca26"
             ],
             [
              1,
              "#f0f921"
             ]
            ],
            "type": "histogram2d"
           }
          ],
          "histogram2dcontour": [
           {
            "colorbar": {
             "outlinewidth": 0,
             "ticks": ""
            },
            "colorscale": [
             [
              0,
              "#0d0887"
             ],
             [
              0.1111111111111111,
              "#46039f"
             ],
             [
              0.2222222222222222,
              "#7201a8"
             ],
             [
              0.3333333333333333,
              "#9c179e"
             ],
             [
              0.4444444444444444,
              "#bd3786"
             ],
             [
              0.5555555555555556,
              "#d8576b"
             ],
             [
              0.6666666666666666,
              "#ed7953"
             ],
             [
              0.7777777777777778,
              "#fb9f3a"
             ],
             [
              0.8888888888888888,
              "#fdca26"
             ],
             [
              1,
              "#f0f921"
             ]
            ],
            "type": "histogram2dcontour"
           }
          ],
          "mesh3d": [
           {
            "colorbar": {
             "outlinewidth": 0,
             "ticks": ""
            },
            "type": "mesh3d"
           }
          ],
          "parcoords": [
           {
            "line": {
             "colorbar": {
              "outlinewidth": 0,
              "ticks": ""
             }
            },
            "type": "parcoords"
           }
          ],
          "pie": [
           {
            "automargin": true,
            "type": "pie"
           }
          ],
          "scatter": [
           {
            "marker": {
             "colorbar": {
              "outlinewidth": 0,
              "ticks": ""
             }
            },
            "type": "scatter"
           }
          ],
          "scatter3d": [
           {
            "line": {
             "colorbar": {
              "outlinewidth": 0,
              "ticks": ""
             }
            },
            "marker": {
             "colorbar": {
              "outlinewidth": 0,
              "ticks": ""
             }
            },
            "type": "scatter3d"
           }
          ],
          "scattercarpet": [
           {
            "marker": {
             "colorbar": {
              "outlinewidth": 0,
              "ticks": ""
             }
            },
            "type": "scattercarpet"
           }
          ],
          "scattergeo": [
           {
            "marker": {
             "colorbar": {
              "outlinewidth": 0,
              "ticks": ""
             }
            },
            "type": "scattergeo"
           }
          ],
          "scattergl": [
           {
            "marker": {
             "colorbar": {
              "outlinewidth": 0,
              "ticks": ""
             }
            },
            "type": "scattergl"
           }
          ],
          "scattermapbox": [
           {
            "marker": {
             "colorbar": {
              "outlinewidth": 0,
              "ticks": ""
             }
            },
            "type": "scattermapbox"
           }
          ],
          "scatterpolar": [
           {
            "marker": {
             "colorbar": {
              "outlinewidth": 0,
              "ticks": ""
             }
            },
            "type": "scatterpolar"
           }
          ],
          "scatterpolargl": [
           {
            "marker": {
             "colorbar": {
              "outlinewidth": 0,
              "ticks": ""
             }
            },
            "type": "scatterpolargl"
           }
          ],
          "scatterternary": [
           {
            "marker": {
             "colorbar": {
              "outlinewidth": 0,
              "ticks": ""
             }
            },
            "type": "scatterternary"
           }
          ],
          "surface": [
           {
            "colorbar": {
             "outlinewidth": 0,
             "ticks": ""
            },
            "colorscale": [
             [
              0,
              "#0d0887"
             ],
             [
              0.1111111111111111,
              "#46039f"
             ],
             [
              0.2222222222222222,
              "#7201a8"
             ],
             [
              0.3333333333333333,
              "#9c179e"
             ],
             [
              0.4444444444444444,
              "#bd3786"
             ],
             [
              0.5555555555555556,
              "#d8576b"
             ],
             [
              0.6666666666666666,
              "#ed7953"
             ],
             [
              0.7777777777777778,
              "#fb9f3a"
             ],
             [
              0.8888888888888888,
              "#fdca26"
             ],
             [
              1,
              "#f0f921"
             ]
            ],
            "type": "surface"
           }
          ],
          "table": [
           {
            "cells": {
             "fill": {
              "color": "#EBF0F8"
             },
             "line": {
              "color": "white"
             }
            },
            "header": {
             "fill": {
              "color": "#C8D4E3"
             },
             "line": {
              "color": "white"
             }
            },
            "type": "table"
           }
          ]
         },
         "layout": {
          "annotationdefaults": {
           "arrowcolor": "#2a3f5f",
           "arrowhead": 0,
           "arrowwidth": 1
          },
          "autotypenumbers": "strict",
          "coloraxis": {
           "colorbar": {
            "outlinewidth": 0,
            "ticks": ""
           }
          },
          "colorscale": {
           "diverging": [
            [
             0,
             "#8e0152"
            ],
            [
             0.1,
             "#c51b7d"
            ],
            [
             0.2,
             "#de77ae"
            ],
            [
             0.3,
             "#f1b6da"
            ],
            [
             0.4,
             "#fde0ef"
            ],
            [
             0.5,
             "#f7f7f7"
            ],
            [
             0.6,
             "#e6f5d0"
            ],
            [
             0.7,
             "#b8e186"
            ],
            [
             0.8,
             "#7fbc41"
            ],
            [
             0.9,
             "#4d9221"
            ],
            [
             1,
             "#276419"
            ]
           ],
           "sequential": [
            [
             0,
             "#0d0887"
            ],
            [
             0.1111111111111111,
             "#46039f"
            ],
            [
             0.2222222222222222,
             "#7201a8"
            ],
            [
             0.3333333333333333,
             "#9c179e"
            ],
            [
             0.4444444444444444,
             "#bd3786"
            ],
            [
             0.5555555555555556,
             "#d8576b"
            ],
            [
             0.6666666666666666,
             "#ed7953"
            ],
            [
             0.7777777777777778,
             "#fb9f3a"
            ],
            [
             0.8888888888888888,
             "#fdca26"
            ],
            [
             1,
             "#f0f921"
            ]
           ],
           "sequentialminus": [
            [
             0,
             "#0d0887"
            ],
            [
             0.1111111111111111,
             "#46039f"
            ],
            [
             0.2222222222222222,
             "#7201a8"
            ],
            [
             0.3333333333333333,
             "#9c179e"
            ],
            [
             0.4444444444444444,
             "#bd3786"
            ],
            [
             0.5555555555555556,
             "#d8576b"
            ],
            [
             0.6666666666666666,
             "#ed7953"
            ],
            [
             0.7777777777777778,
             "#fb9f3a"
            ],
            [
             0.8888888888888888,
             "#fdca26"
            ],
            [
             1,
             "#f0f921"
            ]
           ]
          },
          "colorway": [
           "#636efa",
           "#EF553B",
           "#00cc96",
           "#ab63fa",
           "#FFA15A",
           "#19d3f3",
           "#FF6692",
           "#B6E880",
           "#FF97FF",
           "#FECB52"
          ],
          "font": {
           "color": "#2a3f5f"
          },
          "geo": {
           "bgcolor": "white",
           "lakecolor": "white",
           "landcolor": "#E5ECF6",
           "showlakes": true,
           "showland": true,
           "subunitcolor": "white"
          },
          "hoverlabel": {
           "align": "left"
          },
          "hovermode": "closest",
          "mapbox": {
           "style": "light"
          },
          "paper_bgcolor": "white",
          "plot_bgcolor": "#E5ECF6",
          "polar": {
           "angularaxis": {
            "gridcolor": "white",
            "linecolor": "white",
            "ticks": ""
           },
           "bgcolor": "#E5ECF6",
           "radialaxis": {
            "gridcolor": "white",
            "linecolor": "white",
            "ticks": ""
           }
          },
          "scene": {
           "xaxis": {
            "backgroundcolor": "#E5ECF6",
            "gridcolor": "white",
            "gridwidth": 2,
            "linecolor": "white",
            "showbackground": true,
            "ticks": "",
            "zerolinecolor": "white"
           },
           "yaxis": {
            "backgroundcolor": "#E5ECF6",
            "gridcolor": "white",
            "gridwidth": 2,
            "linecolor": "white",
            "showbackground": true,
            "ticks": "",
            "zerolinecolor": "white"
           },
           "zaxis": {
            "backgroundcolor": "#E5ECF6",
            "gridcolor": "white",
            "gridwidth": 2,
            "linecolor": "white",
            "showbackground": true,
            "ticks": "",
            "zerolinecolor": "white"
           }
          },
          "shapedefaults": {
           "line": {
            "color": "#2a3f5f"
           }
          },
          "ternary": {
           "aaxis": {
            "gridcolor": "white",
            "linecolor": "white",
            "ticks": ""
           },
           "baxis": {
            "gridcolor": "white",
            "linecolor": "white",
            "ticks": ""
           },
           "bgcolor": "#E5ECF6",
           "caxis": {
            "gridcolor": "white",
            "linecolor": "white",
            "ticks": ""
           }
          },
          "title": {
           "x": 0.05
          },
          "xaxis": {
           "automargin": true,
           "gridcolor": "white",
           "linecolor": "white",
           "ticks": "",
           "title": {
            "standoff": 15
           },
           "zerolinecolor": "white",
           "zerolinewidth": 2
          },
          "yaxis": {
           "automargin": true,
           "gridcolor": "white",
           "linecolor": "white",
           "ticks": "",
           "title": {
            "standoff": 15
           },
           "zerolinecolor": "white",
           "zerolinewidth": 2
          }
         }
        },
        "title": {
         "text": "Number of countries per income group"
        },
        "xaxis": {
         "anchor": "y",
         "autorange": true,
         "domain": [
          0,
          1
         ],
         "range": [
          -0.5,
          3.5
         ],
         "title": {
          "text": "Income Groups"
         },
         "type": "category"
        },
        "yaxis": {
         "anchor": "x",
         "autorange": true,
         "domain": [
          0,
          1
         ],
         "range": [
          0,
          84.21052631578948
         ],
         "title": {
          "text": "Quantity"
         },
         "type": "linear"
        }
       }
      },
      "image/png": "[encoded data removed]",
      "text/html": [
       "<div>                            <div id=\"5069df4c-c982-4aa6-bb4d-09efca2d96a8\" class=\"plotly-graph-div\" style=\"height:525px; width:100%;\"></div>            <script type=\"text/javascript\">                require([\"plotly\"], function(Plotly) {                    window.PLOTLYENV=window.PLOTLYENV || {};                                    if (document.getElementById(\"5069df4c-c982-4aa6-bb4d-09efca2d96a8\")) {                    Plotly.newPlot(                        \"5069df4c-c982-4aa6-bb4d-09efca2d96a8\",                        [{\"alignmentgroup\":\"True\",\"hovertemplate\":\"Income Groups=%{x}<br>Quantity=%{y}<extra></extra>\",\"legendgroup\":\"\",\"marker\":{\"color\":\"#636efa\",\"pattern\":{\"shape\":\"\"}},\"name\":\"\",\"offsetgroup\":\"\",\"orientation\":\"v\",\"showlegend\":false,\"textposition\":\"auto\",\"x\":[\"High income\",\"Lower middle income\",\"Upper middle income\",\"Low income\"],\"xaxis\":\"x\",\"y\":[80,54,54,28],\"yaxis\":\"y\",\"type\":\"bar\"}],                        {\"template\":{\"data\":{\"bar\":[{\"error_x\":{\"color\":\"#2a3f5f\"},\"error_y\":{\"color\":\"#2a3f5f\"},\"marker\":{\"line\":{\"color\":\"#E5ECF6\",\"width\":0.5},\"pattern\":{\"fillmode\":\"overlay\",\"size\":10,\"solidity\":0.2}},\"type\":\"bar\"}],\"barpolar\":[{\"marker\":{\"line\":{\"color\":\"#E5ECF6\",\"width\":0.5},\"pattern\":{\"fillmode\":\"overlay\",\"size\":10,\"solidity\":0.2}},\"type\":\"barpolar\"}],\"carpet\":[{\"aaxis\":{\"endlinecolor\":\"#2a3f5f\",\"gridcolor\":\"white\",\"linecolor\":\"white\",\"minorgridcolor\":\"white\",\"startlinecolor\":\"#2a3f5f\"},\"baxis\":{\"endlinecolor\":\"#2a3f5f\",\"gridcolor\":\"white\",\"linecolor\":\"white\",\"minorgridcolor\":\"white\",\"startlinecolor\":\"#2a3f5f\"},\"type\":\"carpet\"}],\"choropleth\":[{\"colorbar\":{\"outlinewidth\":0,\"ticks\":\"\"},\"type\":\"choropleth\"}],\"contour\":[{\"colorbar\":{\"outlinewidth\":0,\"ticks\":\"\"},\"colorscale\":[[0.0,\"#0d0887\"],[0.1111111111111111,\"#46039f\"],[0.2222222222222222,\"#7201a8\"],[0.3333333333333333,\"#9c179e\"],[0.4444444444444444,\"#bd3786\"],[0.5555555555555556,\"#d8576b\"],[0.6666666666666666,\"#ed7953\"],[0.7777777777777778,\"#fb9f3a\"],[0.8888888888888888,\"#fdca26\"],[1.0,\"#f0f921\"]],\"type\":\"contour\"}],\"contourcarpet\":[{\"colorbar\":{\"outlinewidth\":0,\"ticks\":\"\"},\"type\":\"contourcarpet\"}],\"heatmap\":[{\"colorbar\":{\"outlinewidth\":0,\"ticks\":\"\"},\"colorscale\":[[0.0,\"#0d0887\"],[0.1111111111111111,\"#46039f\"],[0.2222222222222222,\"#7201a8\"],[0.3333333333333333,\"#9c179e\"],[0.4444444444444444,\"#bd3786\"],[0.5555555555555556,\"#d8576b\"],[0.6666666666666666,\"#ed7953\"],[0.7777777777777778,\"#fb9f3a\"],[0.8888888888888888,\"#fdca26\"],[1.0,\"#f0f921\"]],\"type\":\"heatmap\"}],\"heatmapgl\":[{\"colorbar\":{\"outlinewidth\":0,\"ticks\":\"\"},\"colorscale\":[[0.0,\"#0d0887\"],[0.1111111111111111,\"#46039f\"],[0.2222222222222222,\"#7201a8\"],[0.3333333333333333,\"#9c179e\"],[0.4444444444444444,\"#bd3786\"],[0.5555555555555556,\"#d8576b\"],[0.6666666666666666,\"#ed7953\"],[0.7777777777777778,\"#fb9f3a\"],[0.8888888888888888,\"#fdca26\"],[1.0,\"#f0f921\"]],\"type\":\"heatmapgl\"}],\"histogram\":[{\"marker\":{\"pattern\":{\"fillmode\":\"overlay\",\"size\":10,\"solidity\":0.2}},\"type\":\"histogram\"}],\"histogram2d\":[{\"colorbar\":{\"outlinewidth\":0,\"ticks\":\"\"},\"colorscale\":[[0.0,\"#0d0887\"],[0.1111111111111111,\"#46039f\"],[0.2222222222222222,\"#7201a8\"],[0.3333333333333333,\"#9c179e\"],[0.4444444444444444,\"#bd3786\"],[0.5555555555555556,\"#d8576b\"],[0.6666666666666666,\"#ed7953\"],[0.7777777777777778,\"#fb9f3a\"],[0.8888888888888888,\"#fdca26\"],[1.0,\"#f0f921\"]],\"type\":\"histogram2d\"}],\"histogram2dcontour\":[{\"colorbar\":{\"outlinewidth\":0,\"ticks\":\"\"},\"colorscale\":[[0.0,\"#0d0887\"],[0.1111111111111111,\"#46039f\"],[0.2222222222222222,\"#7201a8\"],[0.3333333333333333,\"#9c179e\"],[0.4444444444444444,\"#bd3786\"],[0.5555555555555556,\"#d8576b\"],[0.6666666666666666,\"#ed7953\"],[0.7777777777777778,\"#fb9f3a\"],[0.8888888888888888,\"#fdca26\"],[1.0,\"#f0f921\"]],\"type\":\"histogram2dcontour\"}],\"mesh3d\":[{\"colorbar\":{\"outlinewidth\":0,\"ticks\":\"\"},\"type\":\"mesh3d\"}],\"parcoords\":[{\"line\":{\"colorbar\":{\"outlinewidth\":0,\"ticks\":\"\"}},\"type\":\"parcoords\"}],\"pie\":[{\"automargin\":true,\"type\":\"pie\"}],\"scatter\":[{\"marker\":{\"colorbar\":{\"outlinewidth\":0,\"ticks\":\"\"}},\"type\":\"scatter\"}],\"scatter3d\":[{\"line\":{\"colorbar\":{\"outlinewidth\":0,\"ticks\":\"\"}},\"marker\":{\"colorbar\":{\"outlinewidth\":0,\"ticks\":\"\"}},\"type\":\"scatter3d\"}],\"scattercarpet\":[{\"marker\":{\"colorbar\":{\"outlinewidth\":0,\"ticks\":\"\"}},\"type\":\"scattercarpet\"}],\"scattergeo\":[{\"marker\":{\"colorbar\":{\"outlinewidth\":0,\"ticks\":\"\"}},\"type\":\"scattergeo\"}],\"scattergl\":[{\"marker\":{\"colorbar\":{\"outlinewidth\":0,\"ticks\":\"\"}},\"type\":\"scattergl\"}],\"scattermapbox\":[{\"marker\":{\"colorbar\":{\"outlinewidth\":0,\"ticks\":\"\"}},\"type\":\"scattermapbox\"}],\"scatterpolar\":[{\"marker\":{\"colorbar\":{\"outlinewidth\":0,\"ticks\":\"\"}},\"type\":\"scatterpolar\"}],\"scatterpolargl\":[{\"marker\":{\"colorbar\":{\"outlinewidth\":0,\"ticks\":\"\"}},\"type\":\"scatterpolargl\"}],\"scatterternary\":[{\"marker\":{\"colorbar\":{\"outlinewidth\":0,\"ticks\":\"\"}},\"type\":\"scatterternary\"}],\"surface\":[{\"colorbar\":{\"outlinewidth\":0,\"ticks\":\"\"},\"colorscale\":[[0.0,\"#0d0887\"],[0.1111111111111111,\"#46039f\"],[0.2222222222222222,\"#7201a8\"],[0.3333333333333333,\"#9c179e\"],[0.4444444444444444,\"#bd3786\"],[0.5555555555555556,\"#d8576b\"],[0.6666666666666666,\"#ed7953\"],[0.7777777777777778,\"#fb9f3a\"],[0.8888888888888888,\"#fdca26\"],[1.0,\"#f0f921\"]],\"type\":\"surface\"}],\"table\":[{\"cells\":{\"fill\":{\"color\":\"#EBF0F8\"},\"line\":{\"color\":\"white\"}},\"header\":{\"fill\":{\"color\":\"#C8D4E3\"},\"line\":{\"color\":\"white\"}},\"type\":\"table\"}]},\"layout\":{\"annotationdefaults\":{\"arrowcolor\":\"#2a3f5f\",\"arrowhead\":0,\"arrowwidth\":1},\"autotypenumbers\":\"strict\",\"coloraxis\":{\"colorbar\":{\"outlinewidth\":0,\"ticks\":\"\"}},\"colorscale\":{\"diverging\":[[0,\"#8e0152\"],[0.1,\"#c51b7d\"],[0.2,\"#de77ae\"],[0.3,\"#f1b6da\"],[0.4,\"#fde0ef\"],[0.5,\"#f7f7f7\"],[0.6,\"#e6f5d0\"],[0.7,\"#b8e186\"],[0.8,\"#7fbc41\"],[0.9,\"#4d9221\"],[1,\"#276419\"]],\"sequential\":[[0.0,\"#0d0887\"],[0.1111111111111111,\"#46039f\"],[0.2222222222222222,\"#7201a8\"],[0.3333333333333333,\"#9c179e\"],[0.4444444444444444,\"#bd3786\"],[0.5555555555555556,\"#d8576b\"],[0.6666666666666666,\"#ed7953\"],[0.7777777777777778,\"#fb9f3a\"],[0.8888888888888888,\"#fdca26\"],[1.0,\"#f0f921\"]],\"sequentialminus\":[[0.0,\"#0d0887\"],[0.1111111111111111,\"#46039f\"],[0.2222222222222222,\"#7201a8\"],[0.3333333333333333,\"#9c179e\"],[0.4444444444444444,\"#bd3786\"],[0.5555555555555556,\"#d8576b\"],[0.6666666666666666,\"#ed7953\"],[0.7777777777777778,\"#fb9f3a\"],[0.8888888888888888,\"#fdca26\"],[1.0,\"#f0f921\"]]},\"colorway\":[\"#636efa\",\"#EF553B\",\"#00cc96\",\"#ab63fa\",\"#FFA15A\",\"#19d3f3\",\"#FF6692\",\"#B6E880\",\"#FF97FF\",\"#FECB52\"],\"font\":{\"color\":\"#2a3f5f\"},\"geo\":{\"bgcolor\":\"white\",\"lakecolor\":\"white\",\"landcolor\":\"#E5ECF6\",\"showlakes\":true,\"showland\":true,\"subunitcolor\":\"white\"},\"hoverlabel\":{\"align\":\"left\"},\"hovermode\":\"closest\",\"mapbox\":{\"style\":\"light\"},\"paper_bgcolor\":\"white\",\"plot_bgcolor\":\"#E5ECF6\",\"polar\":{\"angularaxis\":{\"gridcolor\":\"white\",\"linecolor\":\"white\",\"ticks\":\"\"},\"bgcolor\":\"#E5ECF6\",\"radialaxis\":{\"gridcolor\":\"white\",\"linecolor\":\"white\",\"ticks\":\"\"}},\"scene\":{\"xaxis\":{\"backgroundcolor\":\"#E5ECF6\",\"gridcolor\":\"white\",\"gridwidth\":2,\"linecolor\":\"white\",\"showbackground\":true,\"ticks\":\"\",\"zerolinecolor\":\"white\"},\"yaxis\":{\"backgroundcolor\":\"#E5ECF6\",\"gridcolor\":\"white\",\"gridwidth\":2,\"linecolor\":\"white\",\"showbackground\":true,\"ticks\":\"\",\"zerolinecolor\":\"white\"},\"zaxis\":{\"backgroundcolor\":\"#E5ECF6\",\"gridcolor\":\"white\",\"gridwidth\":2,\"linecolor\":\"white\",\"showbackground\":true,\"ticks\":\"\",\"zerolinecolor\":\"white\"}},\"shapedefaults\":{\"line\":{\"color\":\"#2a3f5f\"}},\"ternary\":{\"aaxis\":{\"gridcolor\":\"white\",\"linecolor\":\"white\",\"ticks\":\"\"},\"baxis\":{\"gridcolor\":\"white\",\"linecolor\":\"white\",\"ticks\":\"\"},\"bgcolor\":\"#E5ECF6\",\"caxis\":{\"gridcolor\":\"white\",\"linecolor\":\"white\",\"ticks\":\"\"}},\"title\":{\"x\":0.05},\"xaxis\":{\"automargin\":true,\"gridcolor\":\"white\",\"linecolor\":\"white\",\"ticks\":\"\",\"title\":{\"standoff\":15},\"zerolinecolor\":\"white\",\"zerolinewidth\":2},\"yaxis\":{\"automargin\":true,\"gridcolor\":\"white\",\"linecolor\":\"white\",\"ticks\":\"\",\"title\":{\"standoff\":15},\"zerolinecolor\":\"white\",\"zerolinewidth\":2}}},\"xaxis\":{\"anchor\":\"y\",\"domain\":[0.0,1.0],\"title\":{\"text\":\"Income Groups\"}},\"yaxis\":{\"anchor\":\"x\",\"domain\":[0.0,1.0],\"title\":{\"text\":\"Quantity\"}},\"legend\":{\"tracegroupgap\":0},\"title\":{\"text\":\"Number of countries per income group\"},\"barmode\":\"relative\"},                        {\"responsive\": true}                    ).then(function(){\n",
       "                            \n",
       "var gd = document.getElementById('5069df4c-c982-4aa6-bb4d-09efca2d96a8');\n",
       "var x = new MutationObserver(function (mutations, observer) {{\n",
       "        var display = window.getComputedStyle(gd).display;\n",
       "        if (!display || display === 'none') {{\n",
       "            console.log([gd, 'removed!']);\n",
       "            Plotly.purge(gd);\n",
       "            observer.disconnect();\n",
       "        }}\n",
       "}});\n",
       "\n",
       "// Listen for the removal of the full notebook cells\n",
       "var notebookContainer = gd.closest('#notebook-container');\n",
       "if (notebookContainer) {{\n",
       "    x.observe(notebookContainer, {childList: true});\n",
       "}}\n",
       "\n",
       "// Listen for the clearing of the current output cell\n",
       "var outputEl = gd.closest('.output');\n",
       "if (outputEl) {{\n",
       "    x.observe(outputEl, {childList: true});\n",
       "}}\n",
       "\n",
       "                        })                };                });            </script>        </div>"
      ]
     },
     "metadata": {},
     "output_type": "display_data"
    }
   ],
   "source": [
    "import plotly.express as px\n",
    "\n",
    "px.bar(y=income_group_counts, \n",
    "       x=income_group_counts.index.astype(str), \n",
    "       labels= {\n",
    "       \"y\": \"Quantity\",\n",
    "       \"x\": \"Income Groups\"  },\n",
    "       title='Number of countries per income group')"
   ]
  },
  {
   "cell_type": "code",
   "execution_count": 325,
   "id": "0dd30e11-9f7f-4bea-b8c0-d1726a7c6d3d",
   "metadata": {},
   "outputs": [
    {
     "data": {
      "text/html": [
       "<style type=\"text/css\">\n",
       "#T_724e5_row0_col0 {\n",
       "  background-color: #fee838;\n",
       "  color: #000000;\n",
       "}\n",
       "#T_724e5_row1_col0 {\n",
       "  background-color: #cebc63;\n",
       "  color: #000000;\n",
       "}\n",
       "#T_724e5_row2_col0 {\n",
       "  background-color: #aba072;\n",
       "  color: #f1f1f1;\n",
       "}\n",
       "#T_724e5_row3_col0 {\n",
       "  background-color: #999277;\n",
       "  color: #f1f1f1;\n",
       "}\n",
       "#T_724e5_row4_col0 {\n",
       "  background-color: #555c6d;\n",
       "  color: #f1f1f1;\n",
       "}\n",
       "#T_724e5_row5_col0 {\n",
       "  background-color: #013271;\n",
       "  color: #f1f1f1;\n",
       "}\n",
       "#T_724e5_row6_col0 {\n",
       "  background-color: #00224e;\n",
       "  color: #f1f1f1;\n",
       "}\n",
       "</style>\n",
       "<table id=\"T_724e5_\">\n",
       "  <thead>\n",
       "    <tr>\n",
       "      <th class=\"blank level0\" >&nbsp;</th>\n",
       "      <th class=\"col_heading level0 col0\" >Region</th>\n",
       "    </tr>\n",
       "  </thead>\n",
       "  <tbody>\n",
       "    <tr>\n",
       "      <th id=\"T_724e5_level0_row0\" class=\"row_heading level0 row0\" >Europe & Central Asia</th>\n",
       "      <td id=\"T_724e5_row0_col0\" class=\"data row0 col0\" >58</td>\n",
       "    </tr>\n",
       "    <tr>\n",
       "      <th id=\"T_724e5_level0_row1\" class=\"row_heading level0 row1\" >Sub-Saharan Africa</th>\n",
       "      <td id=\"T_724e5_row1_col0\" class=\"data row1 col0\" >48</td>\n",
       "    </tr>\n",
       "    <tr>\n",
       "      <th id=\"T_724e5_level0_row2\" class=\"row_heading level0 row2\" >Latin America & Caribbean</th>\n",
       "      <td id=\"T_724e5_row2_col0\" class=\"data row2 col0\" >41</td>\n",
       "    </tr>\n",
       "    <tr>\n",
       "      <th id=\"T_724e5_level0_row3\" class=\"row_heading level0 row3\" >East Asia & Pacific</th>\n",
       "      <td id=\"T_724e5_row3_col0\" class=\"data row3 col0\" >37</td>\n",
       "    </tr>\n",
       "    <tr>\n",
       "      <th id=\"T_724e5_level0_row4\" class=\"row_heading level0 row4\" >Middle East & North Africa</th>\n",
       "      <td id=\"T_724e5_row4_col0\" class=\"data row4 col0\" >21</td>\n",
       "    </tr>\n",
       "    <tr>\n",
       "      <th id=\"T_724e5_level0_row5\" class=\"row_heading level0 row5\" >South Asia</th>\n",
       "      <td id=\"T_724e5_row5_col0\" class=\"data row5 col0\" >8</td>\n",
       "    </tr>\n",
       "    <tr>\n",
       "      <th id=\"T_724e5_level0_row6\" class=\"row_heading level0 row6\" >North America</th>\n",
       "      <td id=\"T_724e5_row6_col0\" class=\"data row6 col0\" >3</td>\n",
       "    </tr>\n",
       "  </tbody>\n",
       "</table>\n"
      ],
      "text/plain": [
       "<pandas.io.formats.style.Styler at 0x7fb2cc543f10>"
      ]
     },
     "execution_count": 325,
     "metadata": {},
     "output_type": "execute_result"
    }
   ],
   "source": [
    "Region['Region'].value_counts(dropna=False).to_frame().style.background_gradient('cividis')\n",
    "#how many times indicated region has been mentioned "
   ]
  },
  {
   "cell_type": "code",
   "execution_count": 326,
   "id": "ad3bb6e6-8507-4abd-86c6-2b03d736e3a4",
   "metadata": {
    "tags": []
   },
   "outputs": [
    {
     "data": {
      "text/html": [
       "<div>\n",
       "<style scoped>\n",
       "    .dataframe tbody tr th:only-of-type {\n",
       "        vertical-align: middle;\n",
       "    }\n",
       "\n",
       "    .dataframe tbody tr th {\n",
       "        vertical-align: top;\n",
       "    }\n",
       "\n",
       "    .dataframe thead th {\n",
       "        text-align: right;\n",
       "    }\n",
       "</style>\n",
       "<table border=\"1\" class=\"dataframe\">\n",
       "  <thead>\n",
       "    <tr style=\"text-align: right;\">\n",
       "      <th></th>\n",
       "      <th>Country Name</th>\n",
       "      <th>Country Code</th>\n",
       "      <th>is_country</th>\n",
       "    </tr>\n",
       "  </thead>\n",
       "  <tbody>\n",
       "    <tr>\n",
       "      <th>0</th>\n",
       "      <td>Aruba</td>\n",
       "      <td>ABW</td>\n",
       "      <td>True</td>\n",
       "    </tr>\n",
       "    <tr>\n",
       "      <th>1</th>\n",
       "      <td>Africa Eastern and Southern</td>\n",
       "      <td>AFE</td>\n",
       "      <td>True</td>\n",
       "    </tr>\n",
       "    <tr>\n",
       "      <th>2</th>\n",
       "      <td>Afghanistan</td>\n",
       "      <td>AFG</td>\n",
       "      <td>True</td>\n",
       "    </tr>\n",
       "    <tr>\n",
       "      <th>3</th>\n",
       "      <td>Africa Western and Central</td>\n",
       "      <td>AFW</td>\n",
       "      <td>True</td>\n",
       "    </tr>\n",
       "    <tr>\n",
       "      <th>4</th>\n",
       "      <td>Angola</td>\n",
       "      <td>AGO</td>\n",
       "      <td>True</td>\n",
       "    </tr>\n",
       "    <tr>\n",
       "      <th>...</th>\n",
       "      <td>...</td>\n",
       "      <td>...</td>\n",
       "      <td>...</td>\n",
       "    </tr>\n",
       "    <tr>\n",
       "      <th>261</th>\n",
       "      <td>Kosovo</td>\n",
       "      <td>XKX</td>\n",
       "      <td>True</td>\n",
       "    </tr>\n",
       "    <tr>\n",
       "      <th>262</th>\n",
       "      <td>Yemen, Rep.</td>\n",
       "      <td>YEM</td>\n",
       "      <td>True</td>\n",
       "    </tr>\n",
       "    <tr>\n",
       "      <th>263</th>\n",
       "      <td>South Africa</td>\n",
       "      <td>ZAF</td>\n",
       "      <td>True</td>\n",
       "    </tr>\n",
       "    <tr>\n",
       "      <th>264</th>\n",
       "      <td>Zambia</td>\n",
       "      <td>ZMB</td>\n",
       "      <td>True</td>\n",
       "    </tr>\n",
       "    <tr>\n",
       "      <th>265</th>\n",
       "      <td>Zimbabwe</td>\n",
       "      <td>ZWE</td>\n",
       "      <td>True</td>\n",
       "    </tr>\n",
       "  </tbody>\n",
       "</table>\n",
       "<p>266 rows × 3 columns</p>\n",
       "</div>"
      ],
      "text/plain": [
       "                    Country Name Country Code  is_country\n",
       "0                          Aruba          ABW        True\n",
       "1    Africa Eastern and Southern          AFE        True\n",
       "2                    Afghanistan          AFG        True\n",
       "3     Africa Western and Central          AFW        True\n",
       "4                         Angola          AGO        True\n",
       "..                           ...          ...         ...\n",
       "261                       Kosovo          XKX        True\n",
       "262                  Yemen, Rep.          YEM        True\n",
       "263                 South Africa          ZAF        True\n",
       "264                       Zambia          ZMB        True\n",
       "265                     Zimbabwe          ZWE        True\n",
       "\n",
       "[266 rows x 3 columns]"
      ]
     },
     "execution_count": 326,
     "metadata": {},
     "output_type": "execute_result"
    }
   ],
   "source": [
    "GDP['is_country'] = GDP['Country Name'].notna()\n",
    "GDP2 = GDP[['Country Name', 'Country Code', 'is_country']]\n",
    "GDP2"
   ]
  },
  {
   "cell_type": "code",
   "execution_count": 327,
   "id": "93dc2e5b-8e3e-4241-9f9a-7a987bf64761",
   "metadata": {},
   "outputs": [
    {
     "data": {
      "text/html": [
       "<div>\n",
       "<style scoped>\n",
       "    .dataframe tbody tr th:only-of-type {\n",
       "        vertical-align: middle;\n",
       "    }\n",
       "\n",
       "    .dataframe tbody tr th {\n",
       "        vertical-align: top;\n",
       "    }\n",
       "\n",
       "    .dataframe thead th {\n",
       "        text-align: right;\n",
       "    }\n",
       "</style>\n",
       "<table border=\"1\" class=\"dataframe\">\n",
       "  <thead>\n",
       "    <tr style=\"text-align: right;\">\n",
       "      <th></th>\n",
       "      <th>Country Code</th>\n",
       "      <th>Short Name</th>\n",
       "      <th>Table Name</th>\n",
       "      <th>Long Name</th>\n",
       "      <th>2-alpha code</th>\n",
       "      <th>Currency Unit</th>\n",
       "      <th>Special Notes</th>\n",
       "      <th>Region</th>\n",
       "      <th>Income Group</th>\n",
       "      <th>WB-2 code</th>\n",
       "      <th>...</th>\n",
       "      <th>Government Accounting concept</th>\n",
       "      <th>IMF data dissemination standard</th>\n",
       "      <th>Latest population census</th>\n",
       "      <th>Latest household survey</th>\n",
       "      <th>Source of most recent Income and expenditure data</th>\n",
       "      <th>Vital registration complete</th>\n",
       "      <th>Latest agricultural census</th>\n",
       "      <th>Latest industrial data</th>\n",
       "      <th>Latest trade data</th>\n",
       "      <th>Unnamed: 30</th>\n",
       "    </tr>\n",
       "  </thead>\n",
       "  <tbody>\n",
       "    <tr>\n",
       "      <th>26</th>\n",
       "      <td>CIV</td>\n",
       "      <td>Côte d'Ivoire</td>\n",
       "      <td>Côte d'Ivoire</td>\n",
       "      <td>Republic of Côte d'Ivoire</td>\n",
       "      <td>CI</td>\n",
       "      <td>West African CFA franc</td>\n",
       "      <td>NaN</td>\n",
       "      <td>Sub-Saharan Africa</td>\n",
       "      <td>Lower middle income</td>\n",
       "      <td>CI</td>\n",
       "      <td>...</td>\n",
       "      <td>Budgetary central government</td>\n",
       "      <td>Enhanced General Data Dissemination System (e-...</td>\n",
       "      <td>2014</td>\n",
       "      <td>Multiple Indicator Cluster Survey, 2016</td>\n",
       "      <td>Integrated household survey (IHS), 2015</td>\n",
       "      <td>NaN</td>\n",
       "      <td>2014-2015</td>\n",
       "      <td>1997.0</td>\n",
       "      <td>2017.0</td>\n",
       "      <td>NaN</td>\n",
       "    </tr>\n",
       "  </tbody>\n",
       "</table>\n",
       "<p>1 rows × 31 columns</p>\n",
       "</div>"
      ],
      "text/plain": [
       "   Country Code     Short Name     Table Name                  Long Name  \\\n",
       "26          CIV  Côte d'Ivoire  Côte d'Ivoire  Republic of Côte d'Ivoire   \n",
       "\n",
       "   2-alpha code           Currency Unit Special Notes              Region  \\\n",
       "26           CI  West African CFA franc           NaN  Sub-Saharan Africa   \n",
       "\n",
       "           Income Group WB-2 code  ... Government Accounting concept  \\\n",
       "26  Lower middle income        CI  ...  Budgetary central government   \n",
       "\n",
       "                      IMF data dissemination standard  \\\n",
       "26  Enhanced General Data Dissemination System (e-...   \n",
       "\n",
       "   Latest population census                  Latest household survey  \\\n",
       "26                     2014  Multiple Indicator Cluster Survey, 2016   \n",
       "\n",
       "   Source of most recent Income and expenditure data  \\\n",
       "26           Integrated household survey (IHS), 2015   \n",
       "\n",
       "   Vital registration complete Latest agricultural census  \\\n",
       "26                         NaN                  2014-2015   \n",
       "\n",
       "   Latest industrial data Latest trade data Unnamed: 30  \n",
       "26                 1997.0            2017.0         NaN  \n",
       "\n",
       "[1 rows x 31 columns]"
      ]
     },
     "execution_count": 327,
     "metadata": {},
     "output_type": "execute_result"
    }
   ],
   "source": [
    "AlphaCode = pd.read_csv('PovStatsCountry.csv')\n",
    "AlphaCode.sample(1)\n",
    "\n",
    "#cuz we need Alpha-2-code to use library with countries flags"
   ]
  },
  {
   "cell_type": "code",
   "execution_count": 328,
   "id": "3faadeef-cec9-4d36-a4a8-887de8be8dda",
   "metadata": {},
   "outputs": [
    {
     "data": {
      "text/html": [
       "<div>\n",
       "<style scoped>\n",
       "    .dataframe tbody tr th:only-of-type {\n",
       "        vertical-align: middle;\n",
       "    }\n",
       "\n",
       "    .dataframe tbody tr th {\n",
       "        vertical-align: top;\n",
       "    }\n",
       "\n",
       "    .dataframe thead th {\n",
       "        text-align: right;\n",
       "    }\n",
       "</style>\n",
       "<table border=\"1\" class=\"dataframe\">\n",
       "  <thead>\n",
       "    <tr style=\"text-align: right;\">\n",
       "      <th></th>\n",
       "      <th>Country Name</th>\n",
       "      <th>Country Code</th>\n",
       "      <th>is_country</th>\n",
       "      <th>2alphaCode</th>\n",
       "    </tr>\n",
       "  </thead>\n",
       "  <tbody>\n",
       "    <tr>\n",
       "      <th>0</th>\n",
       "      <td>Afghanistan</td>\n",
       "      <td>AFG</td>\n",
       "      <td>True</td>\n",
       "      <td>AF</td>\n",
       "    </tr>\n",
       "    <tr>\n",
       "      <th>1</th>\n",
       "      <td>Angola</td>\n",
       "      <td>AGO</td>\n",
       "      <td>True</td>\n",
       "      <td>AO</td>\n",
       "    </tr>\n",
       "    <tr>\n",
       "      <th>2</th>\n",
       "      <td>Albania</td>\n",
       "      <td>ALB</td>\n",
       "      <td>True</td>\n",
       "      <td>AL</td>\n",
       "    </tr>\n",
       "    <tr>\n",
       "      <th>3</th>\n",
       "      <td>Argentina</td>\n",
       "      <td>ARG</td>\n",
       "      <td>True</td>\n",
       "      <td>AR</td>\n",
       "    </tr>\n",
       "    <tr>\n",
       "      <th>4</th>\n",
       "      <td>Armenia</td>\n",
       "      <td>ARM</td>\n",
       "      <td>True</td>\n",
       "      <td>AM</td>\n",
       "    </tr>\n",
       "    <tr>\n",
       "      <th>...</th>\n",
       "      <td>...</td>\n",
       "      <td>...</td>\n",
       "      <td>...</td>\n",
       "      <td>...</td>\n",
       "    </tr>\n",
       "    <tr>\n",
       "      <th>177</th>\n",
       "      <td>Kosovo</td>\n",
       "      <td>XKX</td>\n",
       "      <td>True</td>\n",
       "      <td>XK</td>\n",
       "    </tr>\n",
       "    <tr>\n",
       "      <th>178</th>\n",
       "      <td>Yemen, Rep.</td>\n",
       "      <td>YEM</td>\n",
       "      <td>True</td>\n",
       "      <td>YE</td>\n",
       "    </tr>\n",
       "    <tr>\n",
       "      <th>179</th>\n",
       "      <td>South Africa</td>\n",
       "      <td>ZAF</td>\n",
       "      <td>True</td>\n",
       "      <td>ZA</td>\n",
       "    </tr>\n",
       "    <tr>\n",
       "      <th>180</th>\n",
       "      <td>Zambia</td>\n",
       "      <td>ZMB</td>\n",
       "      <td>True</td>\n",
       "      <td>ZM</td>\n",
       "    </tr>\n",
       "    <tr>\n",
       "      <th>181</th>\n",
       "      <td>Zimbabwe</td>\n",
       "      <td>ZWE</td>\n",
       "      <td>True</td>\n",
       "      <td>ZW</td>\n",
       "    </tr>\n",
       "  </tbody>\n",
       "</table>\n",
       "<p>182 rows × 4 columns</p>\n",
       "</div>"
      ],
      "text/plain": [
       "     Country Name Country Code  is_country 2alphaCode\n",
       "0     Afghanistan          AFG        True         AF\n",
       "1          Angola          AGO        True         AO\n",
       "2         Albania          ALB        True         AL\n",
       "3       Argentina          ARG        True         AR\n",
       "4         Armenia          ARM        True         AM\n",
       "..            ...          ...         ...        ...\n",
       "177        Kosovo          XKX        True         XK\n",
       "178   Yemen, Rep.          YEM        True         YE\n",
       "179  South Africa          ZAF        True         ZA\n",
       "180        Zambia          ZMB        True         ZM\n",
       "181      Zimbabwe          ZWE        True         ZW\n",
       "\n",
       "[182 rows x 4 columns]"
      ]
     },
     "execution_count": 328,
     "metadata": {},
     "output_type": "execute_result"
    }
   ],
   "source": [
    "AlphaCode = AlphaCode[['Country Code', '2-alpha code']]\n",
    "GDPAlpha = pd.merge(GDP2, AlphaCode, how = 'left', on = ['Country Code'])\n",
    "GDPAlpha = GDPAlpha.dropna().reset_index()\n",
    "GDPAlpha = GDPAlpha.drop(columns = [\"index\"])\n",
    "GDPAlpha = GDPAlpha.rename(columns = {'2-alpha code': '2alphaCode'}, inplace=False )\n",
    "GDPAlpha"
   ]
  },
  {
   "cell_type": "code",
   "execution_count": 329,
   "id": "f050780d-4a4e-49c0-8f3e-4eba098690a5",
   "metadata": {},
   "outputs": [
    {
     "data": {
      "text/html": [
       "<div>\n",
       "<style scoped>\n",
       "    .dataframe tbody tr th:only-of-type {\n",
       "        vertical-align: middle;\n",
       "    }\n",
       "\n",
       "    .dataframe tbody tr th {\n",
       "        vertical-align: top;\n",
       "    }\n",
       "\n",
       "    .dataframe thead th {\n",
       "        text-align: right;\n",
       "    }\n",
       "</style>\n",
       "<table border=\"1\" class=\"dataframe\">\n",
       "  <thead>\n",
       "    <tr style=\"text-align: right;\">\n",
       "      <th></th>\n",
       "      <th>Country Name</th>\n",
       "      <th>Country Code</th>\n",
       "      <th>is_country</th>\n",
       "      <th>2alphaCode</th>\n",
       "    </tr>\n",
       "  </thead>\n",
       "  <tbody>\n",
       "    <tr>\n",
       "      <th>41</th>\n",
       "      <td>East Asia &amp; Pacific</td>\n",
       "      <td>EAS</td>\n",
       "      <td>True</td>\n",
       "      <td>Z4</td>\n",
       "    </tr>\n",
       "    <tr>\n",
       "      <th>42</th>\n",
       "      <td>Europe &amp; Central Asia</td>\n",
       "      <td>ECS</td>\n",
       "      <td>True</td>\n",
       "      <td>Z7</td>\n",
       "    </tr>\n",
       "    <tr>\n",
       "      <th>49</th>\n",
       "      <td>Fragile and conflict affected situations</td>\n",
       "      <td>FCS</td>\n",
       "      <td>True</td>\n",
       "      <td>F1</td>\n",
       "    </tr>\n",
       "    <tr>\n",
       "      <th>137</th>\n",
       "      <td>South Asia</td>\n",
       "      <td>SAS</td>\n",
       "      <td>True</td>\n",
       "      <td>8S</td>\n",
       "    </tr>\n",
       "    <tr>\n",
       "      <th>175</th>\n",
       "      <td>World</td>\n",
       "      <td>WLD</td>\n",
       "      <td>True</td>\n",
       "      <td>1W</td>\n",
       "    </tr>\n",
       "  </tbody>\n",
       "</table>\n",
       "</div>"
      ],
      "text/plain": [
       "                                 Country Name Country Code  is_country  \\\n",
       "41                        East Asia & Pacific          EAS        True   \n",
       "42                      Europe & Central Asia          ECS        True   \n",
       "49   Fragile and conflict affected situations          FCS        True   \n",
       "137                                South Asia          SAS        True   \n",
       "175                                     World          WLD        True   \n",
       "\n",
       "    2alphaCode  \n",
       "41          Z4  \n",
       "42          Z7  \n",
       "49          F1  \n",
       "137         8S  \n",
       "175         1W  "
      ]
     },
     "execution_count": 329,
     "metadata": {},
     "output_type": "execute_result"
    }
   ],
   "source": [
    "array = [\"Z4\", \"Z7\", \"8S\", \"1W\", \"F1\"] #these values cause an error (include numbers)\n",
    "#GDPAlpha.loc[~GDPAlpha[\"2-alpha code\"].isin(array)] #when mentioned values are not in array\n",
    "#GDPAlpha[GDPAlpha[\"2-alpha code\"] == \"Z4\"]\n",
    "GDPAlpha.loc[GDPAlpha[\"2alphaCode\"].isin(array)]"
   ]
  },
  {
   "cell_type": "code",
   "execution_count": 330,
   "id": "4f2625a9-6c15-4836-9c90-f3fb6161685c",
   "metadata": {},
   "outputs": [],
   "source": [
    "GDPAlpha = GDPAlpha.drop(GDPAlpha.index [[41, 42, 49, 137, 175]])"
   ]
  },
  {
   "cell_type": "code",
   "execution_count": 331,
   "id": "00558907-eac1-4118-936a-8f92a80eaea1",
   "metadata": {},
   "outputs": [
    {
     "data": {
      "text/html": [
       "<div>\n",
       "<style scoped>\n",
       "    .dataframe tbody tr th:only-of-type {\n",
       "        vertical-align: middle;\n",
       "    }\n",
       "\n",
       "    .dataframe tbody tr th {\n",
       "        vertical-align: top;\n",
       "    }\n",
       "\n",
       "    .dataframe thead th {\n",
       "        text-align: right;\n",
       "    }\n",
       "</style>\n",
       "<table border=\"1\" class=\"dataframe\">\n",
       "  <thead>\n",
       "    <tr style=\"text-align: right;\">\n",
       "      <th></th>\n",
       "      <th>Country Name</th>\n",
       "      <th>Country Code</th>\n",
       "      <th>is_country</th>\n",
       "      <th>2alphaCode</th>\n",
       "    </tr>\n",
       "  </thead>\n",
       "  <tbody>\n",
       "    <tr>\n",
       "      <th>69</th>\n",
       "      <td>IDA total</td>\n",
       "      <td>IDA</td>\n",
       "      <td>True</td>\n",
       "      <td>XG</td>\n",
       "    </tr>\n",
       "    <tr>\n",
       "      <th>91</th>\n",
       "      <td>Latin America &amp; Caribbean</td>\n",
       "      <td>LCN</td>\n",
       "      <td>True</td>\n",
       "      <td>ZJ</td>\n",
       "    </tr>\n",
       "    <tr>\n",
       "      <th>92</th>\n",
       "      <td>Low income</td>\n",
       "      <td>LIC</td>\n",
       "      <td>True</td>\n",
       "      <td>XM</td>\n",
       "    </tr>\n",
       "    <tr>\n",
       "      <th>94</th>\n",
       "      <td>Lower middle income</td>\n",
       "      <td>LMC</td>\n",
       "      <td>True</td>\n",
       "      <td>XN</td>\n",
       "    </tr>\n",
       "    <tr>\n",
       "      <th>95</th>\n",
       "      <td>Low &amp; middle income</td>\n",
       "      <td>LMY</td>\n",
       "      <td>True</td>\n",
       "      <td>XO</td>\n",
       "    </tr>\n",
       "    <tr>\n",
       "      <th>104</th>\n",
       "      <td>Middle East &amp; North Africa</td>\n",
       "      <td>MEA</td>\n",
       "      <td>True</td>\n",
       "      <td>ZQ</td>\n",
       "    </tr>\n",
       "    <tr>\n",
       "      <th>106</th>\n",
       "      <td>Middle income</td>\n",
       "      <td>MIC</td>\n",
       "      <td>True</td>\n",
       "      <td>XP</td>\n",
       "    </tr>\n",
       "    <tr>\n",
       "      <th>145</th>\n",
       "      <td>Sub-Saharan Africa</td>\n",
       "      <td>SSF</td>\n",
       "      <td>True</td>\n",
       "      <td>ZG</td>\n",
       "    </tr>\n",
       "    <tr>\n",
       "      <th>168</th>\n",
       "      <td>Upper middle income</td>\n",
       "      <td>UMC</td>\n",
       "      <td>True</td>\n",
       "      <td>XT</td>\n",
       "    </tr>\n",
       "  </tbody>\n",
       "</table>\n",
       "</div>"
      ],
      "text/plain": [
       "                   Country Name Country Code  is_country 2alphaCode\n",
       "69                    IDA total          IDA        True         XG\n",
       "91    Latin America & Caribbean          LCN        True         ZJ\n",
       "92                   Low income          LIC        True         XM\n",
       "94          Lower middle income          LMC        True         XN\n",
       "95          Low & middle income          LMY        True         XO\n",
       "104  Middle East & North Africa          MEA        True         ZQ\n",
       "106               Middle income          MIC        True         XP\n",
       "145          Sub-Saharan Africa          SSF        True         ZG\n",
       "168         Upper middle income          UMC        True         XT"
      ]
     },
     "execution_count": 331,
     "metadata": {},
     "output_type": "execute_result"
    }
   ],
   "source": [
    "array2 = (\"ZJ\", \"XM\", \"XN\", \"XO\", \"XG\", \"ZQ\", \"XP\", \"ZG\", \"XT\") #rows which are not countries \n",
    "GDPAlpha.loc[GDPAlpha[\"2alphaCode\"].isin(array2)]"
   ]
  },
  {
   "cell_type": "code",
   "execution_count": 332,
   "id": "c76d1d88-67ca-4c82-ad29-b3e1d1b3ae0f",
   "metadata": {},
   "outputs": [],
   "source": [
    "GDPAlpha = GDPAlpha.drop(GDPAlpha.index[GDPAlpha['2alphaCode'].isin(array2)]) #remove unnecessary rows"
   ]
  },
  {
   "cell_type": "code",
   "execution_count": 333,
   "id": "e96341f9-08fa-439f-9d96-43d4d8f1d5a2",
   "metadata": {},
   "outputs": [],
   "source": [
    "from unicodedata import lookup\n",
    "country_codes = GDPAlpha[GDPAlpha['is_country']]['2alphaCode'].str.lower().tolist()\n",
    "\n",
    "def flag(letters): \n",
    "    if pd.isna(letters) or (letters.lower() not in country_codes):\n",
    "        return '' \n",
    "    L0 = lookup(f'REGIONAL INDICATOR SYMBOL LETTER {letters[0]}')\n",
    "    L1 = lookup(f'REGIONAL INDICATOR SYMBOL LETTER {letters[1]}')\n",
    "    return L0 + L1 "
   ]
  },
  {
   "cell_type": "code",
   "execution_count": 334,
   "id": "3a165ef2-b1fb-4bc4-94e5-9d514cf1f6a6",
   "metadata": {},
   "outputs": [
    {
     "data": {
      "text/plain": [
       "'🇦'"
      ]
     },
     "execution_count": 334,
     "metadata": {},
     "output_type": "execute_result"
    }
   ],
   "source": [
    "lookup('REGIONAL INDICATOR SYMBOL LETTER a')\n",
    "#country_codes? # '?'question mark show us the info about variable or constant"
   ]
  },
  {
   "cell_type": "code",
   "execution_count": 335,
   "id": "5ea62d67-ce52-4211-baab-0583a0c2a03f",
   "metadata": {},
   "outputs": [
    {
     "name": "stdout",
     "output_type": "stream",
     "text": [
      "🇦🇫 🇦🇴 🇦🇱 🇦🇷 🇦🇲 🇦🇺 🇦🇹 🇦🇿 🇧🇮 🇧🇪 🇧🇯 🇧🇫 🇧🇩 🇧🇬 🇧🇦 🇧🇾 🇧🇿 🇧🇴 🇧🇷 🇧🇹 🇧🇼 🇨🇫 🇨🇦 🇨🇭 🇨🇱 🇨🇳 🇨🇮 🇨🇲 🇨🇩 🇨🇬 🇨🇴 🇰🇲 🇨🇻 🇨🇷 🇨🇾 🇨🇿 🇩🇪 🇩🇯 🇩🇰 🇩🇴 🇩🇿 🇪🇨 🇪🇬 🇪🇷 🇪🇸 🇪🇪 🇪🇹 🇫🇮 🇫🇯 🇫🇷 🇫🇲 🇬🇦 🇬🇧 🇬🇪 🇬🇭 🇬🇳 🇬🇲 🇬🇼 🇬🇶 🇬🇷 🇬🇹 🇬🇾 🇭🇳 🇭🇷 🇭🇹 🇭🇺 🇮🇩 🇮🇳 🇮🇪 🇮🇷 🇮🇶 🇮🇸 🇮🇱 🇮🇹 🇯🇲 🇯🇴 🇯🇵 🇰🇿 🇰🇪 🇰🇬 🇰🇭 🇰🇮 🇰🇷 🇱🇦 🇱🇧 🇱🇷 🇱🇨 🇱🇰 🇱🇸 🇱🇹 🇱🇺 🇱🇻 🇲🇦 🇲🇩 🇲🇬 🇲🇻 🇲🇽 🇲🇰 🇲🇱 🇲🇹 🇲🇲 🇲🇪 🇲🇳 🇲🇿 🇲🇷 🇲🇺 🇲🇼 🇲🇾 🇳🇪 🇳🇬 🇳🇮 🇳🇱 🇳🇴 🇳🇵 🇵🇰 🇵🇦 🇵🇪 🇵🇭 🇵🇼 🇵🇬 🇵🇱 🇵🇹 🇵🇾 🇵🇸 🇷🇴 🇷🇺 🇷🇼 🇸🇩 🇸🇳 🇸🇧 🇸🇱 🇸🇻 🇷🇸 🇸🇸 🇸🇹 🇸🇷 🇸🇰 🇸🇮 🇸🇪 🇸🇿 🇸🇨 🇸🇾 🇹🇩 🇹🇬 🇹🇭 🇹🇯 🇹🇲 🇹🇱 🇹🇴 🇹🇹 🇹🇳 🇹🇷 🇹🇻 🇹🇿 🇺🇬 🇺🇦 🇺🇾 🇺🇸 🇺🇿 🇻🇪 🇻🇳 🇻🇺 🇼🇸 🇽🇰 🇾🇪 🇿🇦 🇿🇲 🇿🇼\n"
     ]
    }
   ],
   "source": [
    "print(*[flag(c) for c in country_codes])"
   ]
  },
  {
   "cell_type": "code",
   "execution_count": 336,
   "id": "d32e8466-8544-4843-8675-3b12be57ca33",
   "metadata": {},
   "outputs": [
    {
     "data": {
      "text/html": [
       "<div>\n",
       "<style scoped>\n",
       "    .dataframe tbody tr th:only-of-type {\n",
       "        vertical-align: middle;\n",
       "    }\n",
       "\n",
       "    .dataframe tbody tr th {\n",
       "        vertical-align: top;\n",
       "    }\n",
       "\n",
       "    .dataframe thead th {\n",
       "        text-align: right;\n",
       "    }\n",
       "</style>\n",
       "<table border=\"1\" class=\"dataframe\">\n",
       "  <thead>\n",
       "    <tr style=\"text-align: right;\">\n",
       "      <th></th>\n",
       "      <th>Country Name</th>\n",
       "      <th>Country Code</th>\n",
       "      <th>is_country</th>\n",
       "      <th>2alphaCode</th>\n",
       "      <th>flag</th>\n",
       "    </tr>\n",
       "  </thead>\n",
       "  <tbody>\n",
       "    <tr>\n",
       "      <th>141</th>\n",
       "      <td>Sierra Leone</td>\n",
       "      <td>SLE</td>\n",
       "      <td>True</td>\n",
       "      <td>SL</td>\n",
       "      <td>🇸🇱</td>\n",
       "    </tr>\n",
       "    <tr>\n",
       "      <th>55</th>\n",
       "      <td>United Kingdom</td>\n",
       "      <td>GBR</td>\n",
       "      <td>True</td>\n",
       "      <td>GB</td>\n",
       "      <td>🇬🇧</td>\n",
       "    </tr>\n",
       "    <tr>\n",
       "      <th>38</th>\n",
       "      <td>Denmark</td>\n",
       "      <td>DNK</td>\n",
       "      <td>True</td>\n",
       "      <td>DK</td>\n",
       "      <td>🇩🇰</td>\n",
       "    </tr>\n",
       "    <tr>\n",
       "      <th>64</th>\n",
       "      <td>Guyana</td>\n",
       "      <td>GUY</td>\n",
       "      <td>True</td>\n",
       "      <td>GY</td>\n",
       "      <td>🇬🇾</td>\n",
       "    </tr>\n",
       "    <tr>\n",
       "      <th>179</th>\n",
       "      <td>South Africa</td>\n",
       "      <td>ZAF</td>\n",
       "      <td>True</td>\n",
       "      <td>ZA</td>\n",
       "      <td>🇿🇦</td>\n",
       "    </tr>\n",
       "  </tbody>\n",
       "</table>\n",
       "</div>"
      ],
      "text/plain": [
       "       Country Name Country Code  is_country 2alphaCode flag\n",
       "141    Sierra Leone          SLE        True         SL   🇸🇱\n",
       "55   United Kingdom          GBR        True         GB   🇬🇧\n",
       "38          Denmark          DNK        True         DK   🇩🇰\n",
       "64           Guyana          GUY        True         GY   🇬🇾\n",
       "179    South Africa          ZAF        True         ZA   🇿🇦"
      ]
     },
     "execution_count": 336,
     "metadata": {},
     "output_type": "execute_result"
    }
   ],
   "source": [
    "GDPAlpha['flag'] = [flag(code) for code in GDPAlpha['2alphaCode']]\n",
    "GDPAlpha.sample(5)"
   ]
  },
  {
   "cell_type": "markdown",
   "id": "8d00399f-2bb7-45e6-9dd9-fe99c4d0dccc",
   "metadata": {},
   "source": [
    "<b>Merge GDPAlpha with GDP into one frame</b> "
   ]
  },
  {
   "cell_type": "code",
   "execution_count": 337,
   "id": "368c61a5-8f2d-492e-accd-02fcb5782a56",
   "metadata": {},
   "outputs": [
    {
     "data": {
      "text/html": [
       "<div>\n",
       "<style scoped>\n",
       "    .dataframe tbody tr th:only-of-type {\n",
       "        vertical-align: middle;\n",
       "    }\n",
       "\n",
       "    .dataframe tbody tr th {\n",
       "        vertical-align: top;\n",
       "    }\n",
       "\n",
       "    .dataframe thead th {\n",
       "        text-align: right;\n",
       "    }\n",
       "</style>\n",
       "<table border=\"1\" class=\"dataframe\">\n",
       "  <thead>\n",
       "    <tr style=\"text-align: right;\">\n",
       "      <th></th>\n",
       "      <th>Country Name</th>\n",
       "      <th>Country Code</th>\n",
       "      <th>2alphaCode</th>\n",
       "      <th>flag</th>\n",
       "      <th>1960</th>\n",
       "      <th>1961</th>\n",
       "      <th>1962</th>\n",
       "      <th>1963</th>\n",
       "      <th>1964</th>\n",
       "      <th>1965</th>\n",
       "      <th>...</th>\n",
       "      <th>2012</th>\n",
       "      <th>2013</th>\n",
       "      <th>2014</th>\n",
       "      <th>2015</th>\n",
       "      <th>2016</th>\n",
       "      <th>2017</th>\n",
       "      <th>2018</th>\n",
       "      <th>2019</th>\n",
       "      <th>2020</th>\n",
       "      <th>2021</th>\n",
       "    </tr>\n",
       "  </thead>\n",
       "  <tbody>\n",
       "    <tr>\n",
       "      <th>2</th>\n",
       "      <td>Afghanistan</td>\n",
       "      <td>AFG</td>\n",
       "      <td>AF</td>\n",
       "      <td>🇦🇫</td>\n",
       "      <td>59.8</td>\n",
       "      <td>59.9</td>\n",
       "      <td>58.5</td>\n",
       "      <td>78.7</td>\n",
       "      <td>82.1</td>\n",
       "      <td>101.1</td>\n",
       "      <td>...</td>\n",
       "      <td>638.8</td>\n",
       "      <td>624.3</td>\n",
       "      <td>614.2</td>\n",
       "      <td>556.0</td>\n",
       "      <td>512.0</td>\n",
       "      <td>516.7</td>\n",
       "      <td>485.7</td>\n",
       "      <td>494.2</td>\n",
       "      <td>516.7</td>\n",
       "      <td>0.0</td>\n",
       "    </tr>\n",
       "    <tr>\n",
       "      <th>4</th>\n",
       "      <td>Angola</td>\n",
       "      <td>AGO</td>\n",
       "      <td>AO</td>\n",
       "      <td>🇦🇴</td>\n",
       "      <td>0.0</td>\n",
       "      <td>0.0</td>\n",
       "      <td>0.0</td>\n",
       "      <td>0.0</td>\n",
       "      <td>0.0</td>\n",
       "      <td>0.0</td>\n",
       "      <td>...</td>\n",
       "      <td>4978.4</td>\n",
       "      <td>5127.7</td>\n",
       "      <td>5094.1</td>\n",
       "      <td>3127.9</td>\n",
       "      <td>1728.0</td>\n",
       "      <td>2313.2</td>\n",
       "      <td>2524.9</td>\n",
       "      <td>2177.8</td>\n",
       "      <td>1631.4</td>\n",
       "      <td>2137.9</td>\n",
       "    </tr>\n",
       "    <tr>\n",
       "      <th>5</th>\n",
       "      <td>Albania</td>\n",
       "      <td>ALB</td>\n",
       "      <td>AL</td>\n",
       "      <td>🇦🇱</td>\n",
       "      <td>0.0</td>\n",
       "      <td>0.0</td>\n",
       "      <td>0.0</td>\n",
       "      <td>0.0</td>\n",
       "      <td>0.0</td>\n",
       "      <td>0.0</td>\n",
       "      <td>...</td>\n",
       "      <td>4247.6</td>\n",
       "      <td>4413.1</td>\n",
       "      <td>4578.6</td>\n",
       "      <td>3952.8</td>\n",
       "      <td>4124.1</td>\n",
       "      <td>4531.0</td>\n",
       "      <td>5287.7</td>\n",
       "      <td>5396.2</td>\n",
       "      <td>5332.2</td>\n",
       "      <td>6494.4</td>\n",
       "    </tr>\n",
       "    <tr>\n",
       "      <th>9</th>\n",
       "      <td>Argentina</td>\n",
       "      <td>ARG</td>\n",
       "      <td>AR</td>\n",
       "      <td>🇦🇷</td>\n",
       "      <td>0.0</td>\n",
       "      <td>0.0</td>\n",
       "      <td>1155.9</td>\n",
       "      <td>850.3</td>\n",
       "      <td>1173.2</td>\n",
       "      <td>1279.1</td>\n",
       "      <td>...</td>\n",
       "      <td>13082.7</td>\n",
       "      <td>13080.3</td>\n",
       "      <td>12334.8</td>\n",
       "      <td>13789.1</td>\n",
       "      <td>12790.2</td>\n",
       "      <td>14613.0</td>\n",
       "      <td>11795.2</td>\n",
       "      <td>10076.4</td>\n",
       "      <td>8585.7</td>\n",
       "      <td>10729.2</td>\n",
       "    </tr>\n",
       "    <tr>\n",
       "      <th>10</th>\n",
       "      <td>Armenia</td>\n",
       "      <td>ARM</td>\n",
       "      <td>AM</td>\n",
       "      <td>🇦🇲</td>\n",
       "      <td>0.0</td>\n",
       "      <td>0.0</td>\n",
       "      <td>0.0</td>\n",
       "      <td>0.0</td>\n",
       "      <td>0.0</td>\n",
       "      <td>0.0</td>\n",
       "      <td>...</td>\n",
       "      <td>3681.8</td>\n",
       "      <td>3838.2</td>\n",
       "      <td>3986.2</td>\n",
       "      <td>3607.3</td>\n",
       "      <td>3591.8</td>\n",
       "      <td>3914.5</td>\n",
       "      <td>4220.5</td>\n",
       "      <td>4604.6</td>\n",
       "      <td>4266.0</td>\n",
       "      <td>4670.0</td>\n",
       "    </tr>\n",
       "    <tr>\n",
       "      <th>...</th>\n",
       "      <td>...</td>\n",
       "      <td>...</td>\n",
       "      <td>...</td>\n",
       "      <td>...</td>\n",
       "      <td>...</td>\n",
       "      <td>...</td>\n",
       "      <td>...</td>\n",
       "      <td>...</td>\n",
       "      <td>...</td>\n",
       "      <td>...</td>\n",
       "      <td>...</td>\n",
       "      <td>...</td>\n",
       "      <td>...</td>\n",
       "      <td>...</td>\n",
       "      <td>...</td>\n",
       "      <td>...</td>\n",
       "      <td>...</td>\n",
       "      <td>...</td>\n",
       "      <td>...</td>\n",
       "      <td>...</td>\n",
       "      <td>...</td>\n",
       "    </tr>\n",
       "    <tr>\n",
       "      <th>261</th>\n",
       "      <td>Kosovo</td>\n",
       "      <td>XKX</td>\n",
       "      <td>XK</td>\n",
       "      <td>🇽🇰</td>\n",
       "      <td>0.0</td>\n",
       "      <td>0.0</td>\n",
       "      <td>0.0</td>\n",
       "      <td>0.0</td>\n",
       "      <td>0.0</td>\n",
       "      <td>0.0</td>\n",
       "      <td>...</td>\n",
       "      <td>3410.9</td>\n",
       "      <td>3704.8</td>\n",
       "      <td>3902.7</td>\n",
       "      <td>3520.8</td>\n",
       "      <td>3759.6</td>\n",
       "      <td>4009.4</td>\n",
       "      <td>4384.0</td>\n",
       "      <td>4416.1</td>\n",
       "      <td>4310.8</td>\n",
       "      <td>4986.6</td>\n",
       "    </tr>\n",
       "    <tr>\n",
       "      <th>262</th>\n",
       "      <td>Yemen, Rep.</td>\n",
       "      <td>YEM</td>\n",
       "      <td>YE</td>\n",
       "      <td>🇾🇪</td>\n",
       "      <td>0.0</td>\n",
       "      <td>0.0</td>\n",
       "      <td>0.0</td>\n",
       "      <td>0.0</td>\n",
       "      <td>0.0</td>\n",
       "      <td>0.0</td>\n",
       "      <td>...</td>\n",
       "      <td>1446.5</td>\n",
       "      <td>1607.2</td>\n",
       "      <td>1674.0</td>\n",
       "      <td>1601.8</td>\n",
       "      <td>1152.7</td>\n",
       "      <td>964.3</td>\n",
       "      <td>758.1</td>\n",
       "      <td>750.6</td>\n",
       "      <td>631.7</td>\n",
       "      <td>690.8</td>\n",
       "    </tr>\n",
       "    <tr>\n",
       "      <th>263</th>\n",
       "      <td>South Africa</td>\n",
       "      <td>ZAF</td>\n",
       "      <td>ZA</td>\n",
       "      <td>🇿🇦</td>\n",
       "      <td>511.6</td>\n",
       "      <td>526.5</td>\n",
       "      <td>546.3</td>\n",
       "      <td>589.2</td>\n",
       "      <td>632.7</td>\n",
       "      <td>674.2</td>\n",
       "      <td>...</td>\n",
       "      <td>8222.2</td>\n",
       "      <td>7467.1</td>\n",
       "      <td>6988.8</td>\n",
       "      <td>6259.8</td>\n",
       "      <td>5757.0</td>\n",
       "      <td>6690.9</td>\n",
       "      <td>7005.1</td>\n",
       "      <td>6624.8</td>\n",
       "      <td>5655.9</td>\n",
       "      <td>6994.2</td>\n",
       "    </tr>\n",
       "    <tr>\n",
       "      <th>264</th>\n",
       "      <td>Zambia</td>\n",
       "      <td>ZMB</td>\n",
       "      <td>ZM</td>\n",
       "      <td>🇿🇲</td>\n",
       "      <td>232.2</td>\n",
       "      <td>220.0</td>\n",
       "      <td>212.6</td>\n",
       "      <td>213.9</td>\n",
       "      <td>242.4</td>\n",
       "      <td>303.3</td>\n",
       "      <td>...</td>\n",
       "      <td>1763.1</td>\n",
       "      <td>1878.3</td>\n",
       "      <td>1762.4</td>\n",
       "      <td>1338.3</td>\n",
       "      <td>1280.8</td>\n",
       "      <td>1535.2</td>\n",
       "      <td>1516.4</td>\n",
       "      <td>1305.0</td>\n",
       "      <td>985.1</td>\n",
       "      <td>1120.6</td>\n",
       "    </tr>\n",
       "    <tr>\n",
       "      <th>265</th>\n",
       "      <td>Zimbabwe</td>\n",
       "      <td>ZWE</td>\n",
       "      <td>ZW</td>\n",
       "      <td>🇿🇼</td>\n",
       "      <td>278.8</td>\n",
       "      <td>280.8</td>\n",
       "      <td>276.7</td>\n",
       "      <td>277.5</td>\n",
       "      <td>281.6</td>\n",
       "      <td>293.3</td>\n",
       "      <td>...</td>\n",
       "      <td>1305.0</td>\n",
       "      <td>1430.0</td>\n",
       "      <td>1434.9</td>\n",
       "      <td>1445.1</td>\n",
       "      <td>1464.6</td>\n",
       "      <td>1235.2</td>\n",
       "      <td>1254.6</td>\n",
       "      <td>1316.7</td>\n",
       "      <td>1214.5</td>\n",
       "      <td>1737.2</td>\n",
       "    </tr>\n",
       "  </tbody>\n",
       "</table>\n",
       "<p>168 rows × 66 columns</p>\n",
       "</div>"
      ],
      "text/plain": [
       "     Country Name Country Code 2alphaCode flag   1960   1961    1962   1963  \\\n",
       "2     Afghanistan          AFG         AF   🇦🇫   59.8   59.9    58.5   78.7   \n",
       "4          Angola          AGO         AO   🇦🇴    0.0    0.0     0.0    0.0   \n",
       "5         Albania          ALB         AL   🇦🇱    0.0    0.0     0.0    0.0   \n",
       "9       Argentina          ARG         AR   🇦🇷    0.0    0.0  1155.9  850.3   \n",
       "10        Armenia          ARM         AM   🇦🇲    0.0    0.0     0.0    0.0   \n",
       "..            ...          ...        ...  ...    ...    ...     ...    ...   \n",
       "261        Kosovo          XKX         XK   🇽🇰    0.0    0.0     0.0    0.0   \n",
       "262   Yemen, Rep.          YEM         YE   🇾🇪    0.0    0.0     0.0    0.0   \n",
       "263  South Africa          ZAF         ZA   🇿🇦  511.6  526.5   546.3  589.2   \n",
       "264        Zambia          ZMB         ZM   🇿🇲  232.2  220.0   212.6  213.9   \n",
       "265      Zimbabwe          ZWE         ZW   🇿🇼  278.8  280.8   276.7  277.5   \n",
       "\n",
       "       1964    1965  ...     2012     2013     2014     2015     2016  \\\n",
       "2      82.1   101.1  ...    638.8    624.3    614.2    556.0    512.0   \n",
       "4       0.0     0.0  ...   4978.4   5127.7   5094.1   3127.9   1728.0   \n",
       "5       0.0     0.0  ...   4247.6   4413.1   4578.6   3952.8   4124.1   \n",
       "9    1173.2  1279.1  ...  13082.7  13080.3  12334.8  13789.1  12790.2   \n",
       "10      0.0     0.0  ...   3681.8   3838.2   3986.2   3607.3   3591.8   \n",
       "..      ...     ...  ...      ...      ...      ...      ...      ...   \n",
       "261     0.0     0.0  ...   3410.9   3704.8   3902.7   3520.8   3759.6   \n",
       "262     0.0     0.0  ...   1446.5   1607.2   1674.0   1601.8   1152.7   \n",
       "263   632.7   674.2  ...   8222.2   7467.1   6988.8   6259.8   5757.0   \n",
       "264   242.4   303.3  ...   1763.1   1878.3   1762.4   1338.3   1280.8   \n",
       "265   281.6   293.3  ...   1305.0   1430.0   1434.9   1445.1   1464.6   \n",
       "\n",
       "        2017     2018     2019    2020     2021  \n",
       "2      516.7    485.7    494.2   516.7      0.0  \n",
       "4     2313.2   2524.9   2177.8  1631.4   2137.9  \n",
       "5     4531.0   5287.7   5396.2  5332.2   6494.4  \n",
       "9    14613.0  11795.2  10076.4  8585.7  10729.2  \n",
       "10    3914.5   4220.5   4604.6  4266.0   4670.0  \n",
       "..       ...      ...      ...     ...      ...  \n",
       "261   4009.4   4384.0   4416.1  4310.8   4986.6  \n",
       "262    964.3    758.1    750.6   631.7    690.8  \n",
       "263   6690.9   7005.1   6624.8  5655.9   6994.2  \n",
       "264   1535.2   1516.4   1305.0   985.1   1120.6  \n",
       "265   1235.2   1254.6   1316.7  1214.5   1737.2  \n",
       "\n",
       "[168 rows x 66 columns]"
      ]
     },
     "execution_count": 337,
     "metadata": {},
     "output_type": "execute_result"
    }
   ],
   "source": [
    "GDPwithFlag = pd.merge(GDPAlpha, GDP, how = 'right', on = ['Country Name'])\n",
    "GDPwithFlag = GDPwithFlag.dropna()\n",
    "GDPwithFlag = GDPwithFlag.drop(columns = ['Country Code_y', 'is_country_x', 'is_country_y'])\n",
    "GDPwithFlag = GDPwithFlag.rename(columns = {'Country Code_x': 'Country Code'}, inplace=False )\n",
    "GDPwithFlag"
   ]
  },
  {
   "cell_type": "markdown",
   "id": "f56f530b-5d3b-4fe0-841e-28e09a8c353f",
   "metadata": {},
   "source": [
    "<b>Merge Region with GDPwithFlag into one frame</b>"
   ]
  },
  {
   "cell_type": "code",
   "execution_count": 338,
   "id": "8fa63f4b-1769-4ad3-a2f8-45bf9cbe2bab",
   "metadata": {},
   "outputs": [
    {
     "data": {
      "text/html": [
       "<div>\n",
       "<style scoped>\n",
       "    .dataframe tbody tr th:only-of-type {\n",
       "        vertical-align: middle;\n",
       "    }\n",
       "\n",
       "    .dataframe tbody tr th {\n",
       "        vertical-align: top;\n",
       "    }\n",
       "\n",
       "    .dataframe thead th {\n",
       "        text-align: right;\n",
       "    }\n",
       "</style>\n",
       "<table border=\"1\" class=\"dataframe\">\n",
       "  <thead>\n",
       "    <tr style=\"text-align: right;\">\n",
       "      <th></th>\n",
       "      <th>Country Name</th>\n",
       "      <th>Country Code</th>\n",
       "      <th>2alphaCode</th>\n",
       "      <th>flag</th>\n",
       "      <th>1960</th>\n",
       "      <th>1961</th>\n",
       "      <th>1962</th>\n",
       "      <th>1963</th>\n",
       "      <th>1964</th>\n",
       "      <th>1965</th>\n",
       "      <th>...</th>\n",
       "      <th>2014</th>\n",
       "      <th>2015</th>\n",
       "      <th>2016</th>\n",
       "      <th>2017</th>\n",
       "      <th>2018</th>\n",
       "      <th>2019</th>\n",
       "      <th>2020</th>\n",
       "      <th>2021</th>\n",
       "      <th>Region</th>\n",
       "      <th>IncomeGroup</th>\n",
       "    </tr>\n",
       "  </thead>\n",
       "  <tbody>\n",
       "    <tr>\n",
       "      <th>0</th>\n",
       "      <td>Lao PDR</td>\n",
       "      <td>LAO</td>\n",
       "      <td>LA</td>\n",
       "      <td>🇱🇦</td>\n",
       "      <td>0.0</td>\n",
       "      <td>0.0</td>\n",
       "      <td>0.0</td>\n",
       "      <td>0.0</td>\n",
       "      <td>0.0</td>\n",
       "      <td>0.0</td>\n",
       "      <td>...</td>\n",
       "      <td>2000.0</td>\n",
       "      <td>2140.0</td>\n",
       "      <td>2324.4</td>\n",
       "      <td>2455.2</td>\n",
       "      <td>2569.1</td>\n",
       "      <td>2613.9</td>\n",
       "      <td>2609.0</td>\n",
       "      <td>2551.3</td>\n",
       "      <td>East Asia &amp; Pacific</td>\n",
       "      <td>Lower middle income</td>\n",
       "    </tr>\n",
       "    <tr>\n",
       "      <th>2</th>\n",
       "      <td>Indonesia</td>\n",
       "      <td>IDN</td>\n",
       "      <td>ID</td>\n",
       "      <td>🇮🇩</td>\n",
       "      <td>0.0</td>\n",
       "      <td>0.0</td>\n",
       "      <td>0.0</td>\n",
       "      <td>0.0</td>\n",
       "      <td>0.0</td>\n",
       "      <td>0.0</td>\n",
       "      <td>...</td>\n",
       "      <td>3491.6</td>\n",
       "      <td>3331.7</td>\n",
       "      <td>3562.8</td>\n",
       "      <td>3837.6</td>\n",
       "      <td>3893.9</td>\n",
       "      <td>4135.2</td>\n",
       "      <td>3870.6</td>\n",
       "      <td>4291.8</td>\n",
       "      <td>East Asia &amp; Pacific</td>\n",
       "      <td>Lower middle income</td>\n",
       "    </tr>\n",
       "    <tr>\n",
       "      <th>3</th>\n",
       "      <td>Mongolia</td>\n",
       "      <td>MNG</td>\n",
       "      <td>MN</td>\n",
       "      <td>🇲🇳</td>\n",
       "      <td>0.0</td>\n",
       "      <td>0.0</td>\n",
       "      <td>0.0</td>\n",
       "      <td>0.0</td>\n",
       "      <td>0.0</td>\n",
       "      <td>0.0</td>\n",
       "      <td>...</td>\n",
       "      <td>4158.5</td>\n",
       "      <td>3875.3</td>\n",
       "      <td>3658.4</td>\n",
       "      <td>3687.1</td>\n",
       "      <td>4156.8</td>\n",
       "      <td>4404.8</td>\n",
       "      <td>4061.0</td>\n",
       "      <td>4534.9</td>\n",
       "      <td>East Asia &amp; Pacific</td>\n",
       "      <td>Lower middle income</td>\n",
       "    </tr>\n",
       "    <tr>\n",
       "      <th>6</th>\n",
       "      <td>China</td>\n",
       "      <td>CHN</td>\n",
       "      <td>CN</td>\n",
       "      <td>🇨🇳</td>\n",
       "      <td>89.5</td>\n",
       "      <td>75.8</td>\n",
       "      <td>70.9</td>\n",
       "      <td>74.3</td>\n",
       "      <td>85.5</td>\n",
       "      <td>98.5</td>\n",
       "      <td>...</td>\n",
       "      <td>7636.1</td>\n",
       "      <td>8016.4</td>\n",
       "      <td>8094.4</td>\n",
       "      <td>8817.0</td>\n",
       "      <td>9905.3</td>\n",
       "      <td>10143.8</td>\n",
       "      <td>10408.7</td>\n",
       "      <td>12556.3</td>\n",
       "      <td>East Asia &amp; Pacific</td>\n",
       "      <td>Upper middle income</td>\n",
       "    </tr>\n",
       "    <tr>\n",
       "      <th>7</th>\n",
       "      <td>Malaysia</td>\n",
       "      <td>MYS</td>\n",
       "      <td>MY</td>\n",
       "      <td>🇲🇾</td>\n",
       "      <td>234.9</td>\n",
       "      <td>225.9</td>\n",
       "      <td>230.3</td>\n",
       "      <td>279.7</td>\n",
       "      <td>289.0</td>\n",
       "      <td>310.3</td>\n",
       "      <td>...</td>\n",
       "      <td>11319.1</td>\n",
       "      <td>9955.2</td>\n",
       "      <td>9817.8</td>\n",
       "      <td>10259.3</td>\n",
       "      <td>11380.1</td>\n",
       "      <td>11432.8</td>\n",
       "      <td>10412.3</td>\n",
       "      <td>11371.1</td>\n",
       "      <td>East Asia &amp; Pacific</td>\n",
       "      <td>Upper middle income</td>\n",
       "    </tr>\n",
       "    <tr>\n",
       "      <th>...</th>\n",
       "      <td>...</td>\n",
       "      <td>...</td>\n",
       "      <td>...</td>\n",
       "      <td>...</td>\n",
       "      <td>...</td>\n",
       "      <td>...</td>\n",
       "      <td>...</td>\n",
       "      <td>...</td>\n",
       "      <td>...</td>\n",
       "      <td>...</td>\n",
       "      <td>...</td>\n",
       "      <td>...</td>\n",
       "      <td>...</td>\n",
       "      <td>...</td>\n",
       "      <td>...</td>\n",
       "      <td>...</td>\n",
       "      <td>...</td>\n",
       "      <td>...</td>\n",
       "      <td>...</td>\n",
       "      <td>...</td>\n",
       "      <td>...</td>\n",
       "    </tr>\n",
       "    <tr>\n",
       "      <th>211</th>\n",
       "      <td>Congo, Dem. Rep.</td>\n",
       "      <td>COD</td>\n",
       "      <td>CD</td>\n",
       "      <td>🇨🇩</td>\n",
       "      <td>220.3</td>\n",
       "      <td>197.4</td>\n",
       "      <td>235.6</td>\n",
       "      <td>377.4</td>\n",
       "      <td>170.5</td>\n",
       "      <td>232.8</td>\n",
       "      <td>...</td>\n",
       "      <td>486.8</td>\n",
       "      <td>497.3</td>\n",
       "      <td>471.3</td>\n",
       "      <td>467.1</td>\n",
       "      <td>565.8</td>\n",
       "      <td>596.6</td>\n",
       "      <td>544.0</td>\n",
       "      <td>584.1</td>\n",
       "      <td>Sub-Saharan Africa</td>\n",
       "      <td>Low income</td>\n",
       "    </tr>\n",
       "    <tr>\n",
       "      <th>212</th>\n",
       "      <td>Cameroon</td>\n",
       "      <td>CMR</td>\n",
       "      <td>CM</td>\n",
       "      <td>🇨🇲</td>\n",
       "      <td>118.6</td>\n",
       "      <td>123.5</td>\n",
       "      <td>128.6</td>\n",
       "      <td>130.2</td>\n",
       "      <td>137.6</td>\n",
       "      <td>141.0</td>\n",
       "      <td>...</td>\n",
       "      <td>1604.2</td>\n",
       "      <td>1382.5</td>\n",
       "      <td>1413.3</td>\n",
       "      <td>1469.4</td>\n",
       "      <td>1585.2</td>\n",
       "      <td>1533.1</td>\n",
       "      <td>1537.1</td>\n",
       "      <td>1661.7</td>\n",
       "      <td>Sub-Saharan Africa</td>\n",
       "      <td>Lower middle income</td>\n",
       "    </tr>\n",
       "    <tr>\n",
       "      <th>213</th>\n",
       "      <td>Cote d'Ivoire</td>\n",
       "      <td>CIV</td>\n",
       "      <td>CI</td>\n",
       "      <td>🇨🇮</td>\n",
       "      <td>155.9</td>\n",
       "      <td>170.2</td>\n",
       "      <td>171.1</td>\n",
       "      <td>194.2</td>\n",
       "      <td>226.2</td>\n",
       "      <td>217.6</td>\n",
       "      <td>...</td>\n",
       "      <td>2156.6</td>\n",
       "      <td>1972.5</td>\n",
       "      <td>2013.4</td>\n",
       "      <td>2111.0</td>\n",
       "      <td>2314.1</td>\n",
       "      <td>2276.3</td>\n",
       "      <td>2325.7</td>\n",
       "      <td>2578.8</td>\n",
       "      <td>Sub-Saharan Africa</td>\n",
       "      <td>Lower middle income</td>\n",
       "    </tr>\n",
       "    <tr>\n",
       "      <th>214</th>\n",
       "      <td>Eswatini</td>\n",
       "      <td>SWZ</td>\n",
       "      <td>SZ</td>\n",
       "      <td>🇸🇿</td>\n",
       "      <td>104.2</td>\n",
       "      <td>125.3</td>\n",
       "      <td>131.2</td>\n",
       "      <td>151.5</td>\n",
       "      <td>178.0</td>\n",
       "      <td>187.9</td>\n",
       "      <td>...</td>\n",
       "      <td>4039.2</td>\n",
       "      <td>3680.3</td>\n",
       "      <td>3425.5</td>\n",
       "      <td>3914.4</td>\n",
       "      <td>4107.1</td>\n",
       "      <td>3889.9</td>\n",
       "      <td>3434.7</td>\n",
       "      <td>4214.9</td>\n",
       "      <td>Sub-Saharan Africa</td>\n",
       "      <td>Lower middle income</td>\n",
       "    </tr>\n",
       "    <tr>\n",
       "      <th>215</th>\n",
       "      <td>Zimbabwe</td>\n",
       "      <td>ZWE</td>\n",
       "      <td>ZW</td>\n",
       "      <td>🇿🇼</td>\n",
       "      <td>278.8</td>\n",
       "      <td>280.8</td>\n",
       "      <td>276.7</td>\n",
       "      <td>277.5</td>\n",
       "      <td>281.6</td>\n",
       "      <td>293.3</td>\n",
       "      <td>...</td>\n",
       "      <td>1434.9</td>\n",
       "      <td>1445.1</td>\n",
       "      <td>1464.6</td>\n",
       "      <td>1235.2</td>\n",
       "      <td>1254.6</td>\n",
       "      <td>1316.7</td>\n",
       "      <td>1214.5</td>\n",
       "      <td>1737.2</td>\n",
       "      <td>Sub-Saharan Africa</td>\n",
       "      <td>Lower middle income</td>\n",
       "    </tr>\n",
       "  </tbody>\n",
       "</table>\n",
       "<p>167 rows × 68 columns</p>\n",
       "</div>"
      ],
      "text/plain": [
       "         Country Name Country Code 2alphaCode flag   1960   1961   1962  \\\n",
       "0             Lao PDR          LAO         LA   🇱🇦    0.0    0.0    0.0   \n",
       "2           Indonesia          IDN         ID   🇮🇩    0.0    0.0    0.0   \n",
       "3            Mongolia          MNG         MN   🇲🇳    0.0    0.0    0.0   \n",
       "6               China          CHN         CN   🇨🇳   89.5   75.8   70.9   \n",
       "7            Malaysia          MYS         MY   🇲🇾  234.9  225.9  230.3   \n",
       "..                ...          ...        ...  ...    ...    ...    ...   \n",
       "211  Congo, Dem. Rep.          COD         CD   🇨🇩  220.3  197.4  235.6   \n",
       "212          Cameroon          CMR         CM   🇨🇲  118.6  123.5  128.6   \n",
       "213     Cote d'Ivoire          CIV         CI   🇨🇮  155.9  170.2  171.1   \n",
       "214          Eswatini          SWZ         SZ   🇸🇿  104.2  125.3  131.2   \n",
       "215          Zimbabwe          ZWE         ZW   🇿🇼  278.8  280.8  276.7   \n",
       "\n",
       "      1963   1964   1965  ...     2014    2015    2016     2017     2018  \\\n",
       "0      0.0    0.0    0.0  ...   2000.0  2140.0  2324.4   2455.2   2569.1   \n",
       "2      0.0    0.0    0.0  ...   3491.6  3331.7  3562.8   3837.6   3893.9   \n",
       "3      0.0    0.0    0.0  ...   4158.5  3875.3  3658.4   3687.1   4156.8   \n",
       "6     74.3   85.5   98.5  ...   7636.1  8016.4  8094.4   8817.0   9905.3   \n",
       "7    279.7  289.0  310.3  ...  11319.1  9955.2  9817.8  10259.3  11380.1   \n",
       "..     ...    ...    ...  ...      ...     ...     ...      ...      ...   \n",
       "211  377.4  170.5  232.8  ...    486.8   497.3   471.3    467.1    565.8   \n",
       "212  130.2  137.6  141.0  ...   1604.2  1382.5  1413.3   1469.4   1585.2   \n",
       "213  194.2  226.2  217.6  ...   2156.6  1972.5  2013.4   2111.0   2314.1   \n",
       "214  151.5  178.0  187.9  ...   4039.2  3680.3  3425.5   3914.4   4107.1   \n",
       "215  277.5  281.6  293.3  ...   1434.9  1445.1  1464.6   1235.2   1254.6   \n",
       "\n",
       "        2019     2020     2021               Region          IncomeGroup  \n",
       "0     2613.9   2609.0   2551.3  East Asia & Pacific  Lower middle income  \n",
       "2     4135.2   3870.6   4291.8  East Asia & Pacific  Lower middle income  \n",
       "3     4404.8   4061.0   4534.9  East Asia & Pacific  Lower middle income  \n",
       "6    10143.8  10408.7  12556.3  East Asia & Pacific  Upper middle income  \n",
       "7    11432.8  10412.3  11371.1  East Asia & Pacific  Upper middle income  \n",
       "..       ...      ...      ...                  ...                  ...  \n",
       "211    596.6    544.0    584.1   Sub-Saharan Africa           Low income  \n",
       "212   1533.1   1537.1   1661.7   Sub-Saharan Africa  Lower middle income  \n",
       "213   2276.3   2325.7   2578.8   Sub-Saharan Africa  Lower middle income  \n",
       "214   3889.9   3434.7   4214.9   Sub-Saharan Africa  Lower middle income  \n",
       "215   1316.7   1214.5   1737.2   Sub-Saharan Africa  Lower middle income  \n",
       "\n",
       "[167 rows x 68 columns]"
      ]
     },
     "execution_count": 338,
     "metadata": {},
     "output_type": "execute_result"
    }
   ],
   "source": [
    "MainFrame = pd.merge(GDPwithFlag, Region, how = 'right', on = 'Country Code').dropna()\n",
    "MainFrame"
   ]
  },
  {
   "cell_type": "code",
   "execution_count": 339,
   "id": "57a8067f-97ae-4fcc-853d-792dd0e74238",
   "metadata": {},
   "outputs": [
    {
     "data": {
      "application/vnd.plotly.v1+json": {
       "config": {
        "plotlyServerURL": "https://plot.ly"
       },
       "data": [
        {
         "hovertemplate": "Country Name=Lao PDR<br>flag=🇱🇦<br>2alphaCode=%{x}<br>2021=%{y}<extra></extra>",
         "legendgroup": "Lao PDR, 🇱🇦",
         "marker": {
          "color": "#636efa",
          "symbol": "circle"
         },
         "mode": "markers",
         "name": "Lao PDR, 🇱🇦",
         "orientation": "v",
         "showlegend": true,
         "type": "scatter",
         "x": [
          "LA"
         ],
         "xaxis": "x",
         "y": [
          2551.3
         ],
         "yaxis": "y"
        },
        {
         "hovertemplate": "Country Name=Indonesia<br>flag=🇮🇩<br>2alphaCode=%{x}<br>2021=%{y}<extra></extra>",
         "legendgroup": "Indonesia, 🇮🇩",
         "marker": {
          "color": "#EF553B",
          "symbol": "diamond"
         },
         "mode": "markers",
         "name": "Indonesia, 🇮🇩",
         "orientation": "v",
         "showlegend": true,
         "type": "scatter",
         "x": [
          "ID"
         ],
         "xaxis": "x",
         "y": [
          4291.8
         ],
         "yaxis": "y"
        },
        {
         "hovertemplate": "Country Name=Mongolia<br>flag=🇲🇳<br>2alphaCode=%{x}<br>2021=%{y}<extra></extra>",
         "legendgroup": "Mongolia, 🇲🇳",
         "marker": {
          "color": "#00cc96",
          "symbol": "square"
         },
         "mode": "markers",
         "name": "Mongolia, 🇲🇳",
         "orientation": "v",
         "showlegend": true,
         "type": "scatter",
         "x": [
          "MN"
         ],
         "xaxis": "x",
         "y": [
          4534.9
         ],
         "yaxis": "y"
        },
        {
         "hovertemplate": "Country Name=China<br>flag=🇨🇳<br>2alphaCode=%{x}<br>2021=%{y}<extra></extra>",
         "legendgroup": "China, 🇨🇳",
         "marker": {
          "color": "#ab63fa",
          "symbol": "x"
         },
         "mode": "markers",
         "name": "China, 🇨🇳",
         "orientation": "v",
         "showlegend": true,
         "type": "scatter",
         "x": [
          "CN"
         ],
         "xaxis": "x",
         "y": [
          12556.3
         ],
         "yaxis": "y"
        },
        {
         "hovertemplate": "Country Name=Malaysia<br>flag=🇲🇾<br>2alphaCode=%{x}<br>2021=%{y}<extra></extra>",
         "legendgroup": "Malaysia, 🇲🇾",
         "marker": {
          "color": "#FFA15A",
          "symbol": "cross"
         },
         "mode": "markers",
         "name": "Malaysia, 🇲🇾",
         "orientation": "v",
         "showlegend": true,
         "type": "scatter",
         "x": [
          "MY"
         ],
         "xaxis": "x",
         "y": [
          11371.1
         ],
         "yaxis": "y"
        },
        {
         "hovertemplate": "Country Name=Solomon Islands<br>flag=🇸🇧<br>2alphaCode=%{x}<br>2021=%{y}<extra></extra>",
         "legendgroup": "Solomon Islands, 🇸🇧",
         "marker": {
          "color": "#19d3f3",
          "symbol": "circle"
         },
         "mode": "markers",
         "name": "Solomon Islands, 🇸🇧",
         "orientation": "v",
         "showlegend": true,
         "type": "scatter",
         "x": [
          "SB"
         ],
         "xaxis": "x",
         "y": [
          2337
         ],
         "yaxis": "y"
        },
        {
         "hovertemplate": "Country Name=Micronesia, Fed. Sts.<br>flag=🇫🇲<br>2alphaCode=%{x}<br>2021=%{y}<extra></extra>",
         "legendgroup": "Micronesia, Fed. Sts., 🇫🇲",
         "marker": {
          "color": "#FF6692",
          "symbol": "diamond"
         },
         "mode": "markers",
         "name": "Micronesia, Fed. Sts., 🇫🇲",
         "orientation": "v",
         "showlegend": true,
         "type": "scatter",
         "x": [
          "FM"
         ],
         "xaxis": "x",
         "y": [
          3476.7
         ],
         "yaxis": "y"
        },
        {
         "hovertemplate": "Country Name=Fiji<br>flag=🇫🇯<br>2alphaCode=%{x}<br>2021=%{y}<extra></extra>",
         "legendgroup": "Fiji, 🇫🇯",
         "marker": {
          "color": "#B6E880",
          "symbol": "square"
         },
         "mode": "markers",
         "name": "Fiji, 🇫🇯",
         "orientation": "v",
         "showlegend": true,
         "type": "scatter",
         "x": [
          "FJ"
         ],
         "xaxis": "x",
         "y": [
          5086
         ],
         "yaxis": "y"
        },
        {
         "hovertemplate": "Country Name=Papua New Guinea<br>flag=🇵🇬<br>2alphaCode=%{x}<br>2021=%{y}<extra></extra>",
         "legendgroup": "Papua New Guinea, 🇵🇬",
         "marker": {
          "color": "#FF97FF",
          "symbol": "x"
         },
         "mode": "markers",
         "name": "Papua New Guinea, 🇵🇬",
         "orientation": "v",
         "showlegend": true,
         "type": "scatter",
         "x": [
          "PG"
         ],
         "xaxis": "x",
         "y": [
          2916.4
         ],
         "yaxis": "y"
        },
        {
         "hovertemplate": "Country Name=Palau<br>flag=🇵🇼<br>2alphaCode=%{x}<br>2021=%{y}<extra></extra>",
         "legendgroup": "Palau, 🇵🇼",
         "marker": {
          "color": "#FECB52",
          "symbol": "cross"
         },
         "mode": "markers",
         "name": "Palau, 🇵🇼",
         "orientation": "v",
         "showlegend": true,
         "type": "scatter",
         "x": [
          "PW"
         ],
         "xaxis": "x",
         "y": [
          0
         ],
         "yaxis": "y"
        },
        {
         "hovertemplate": "Country Name=Timor-Leste<br>flag=🇹🇱<br>2alphaCode=%{x}<br>2021=%{y}<extra></extra>",
         "legendgroup": "Timor-Leste, 🇹🇱",
         "marker": {
          "color": "#636efa",
          "symbol": "circle"
         },
         "mode": "markers",
         "name": "Timor-Leste, 🇹🇱",
         "orientation": "v",
         "showlegend": true,
         "type": "scatter",
         "x": [
          "TL"
         ],
         "xaxis": "x",
         "y": [
          1457.8
         ],
         "yaxis": "y"
        },
        {
         "hovertemplate": "Country Name=Tonga<br>flag=🇹🇴<br>2alphaCode=%{x}<br>2021=%{y}<extra></extra>",
         "legendgroup": "Tonga, 🇹🇴",
         "marker": {
          "color": "#EF553B",
          "symbol": "diamond"
         },
         "mode": "markers",
         "name": "Tonga, 🇹🇴",
         "orientation": "v",
         "showlegend": true,
         "type": "scatter",
         "x": [
          "TO"
         ],
         "xaxis": "x",
         "y": [
          0
         ],
         "yaxis": "y"
        },
        {
         "hovertemplate": "Country Name=Thailand<br>flag=🇹🇭<br>2alphaCode=%{x}<br>2021=%{y}<extra></extra>",
         "legendgroup": "Thailand, 🇹🇭",
         "marker": {
          "color": "#00cc96",
          "symbol": "square"
         },
         "mode": "markers",
         "name": "Thailand, 🇹🇭",
         "orientation": "v",
         "showlegend": true,
         "type": "scatter",
         "x": [
          "TH"
         ],
         "xaxis": "x",
         "y": [
          7233.4
         ],
         "yaxis": "y"
        },
        {
         "hovertemplate": "Country Name=Philippines<br>flag=🇵🇭<br>2alphaCode=%{x}<br>2021=%{y}<extra></extra>",
         "legendgroup": "Philippines, 🇵🇭",
         "marker": {
          "color": "#ab63fa",
          "symbol": "x"
         },
         "mode": "markers",
         "name": "Philippines, 🇵🇭",
         "orientation": "v",
         "showlegend": true,
         "type": "scatter",
         "x": [
          "PH"
         ],
         "xaxis": "x",
         "y": [
          3548.8
         ],
         "yaxis": "y"
        },
        {
         "hovertemplate": "Country Name=Myanmar<br>flag=🇲🇲<br>2alphaCode=%{x}<br>2021=%{y}<extra></extra>",
         "legendgroup": "Myanmar, 🇲🇲",
         "marker": {
          "color": "#FFA15A",
          "symbol": "cross"
         },
         "mode": "markers",
         "name": "Myanmar, 🇲🇲",
         "orientation": "v",
         "showlegend": true,
         "type": "scatter",
         "x": [
          "MM"
         ],
         "xaxis": "x",
         "y": [
          1187.2
         ],
         "yaxis": "y"
        },
        {
         "hovertemplate": "Country Name=Cambodia<br>flag=🇰🇭<br>2alphaCode=%{x}<br>2021=%{y}<extra></extra>",
         "legendgroup": "Cambodia, 🇰🇭",
         "marker": {
          "color": "#19d3f3",
          "symbol": "circle"
         },
         "mode": "markers",
         "name": "Cambodia, 🇰🇭",
         "orientation": "v",
         "showlegend": true,
         "type": "scatter",
         "x": [
          "KH"
         ],
         "xaxis": "x",
         "y": [
          1591
         ],
         "yaxis": "y"
        },
        {
         "hovertemplate": "Country Name=Korea, Rep.<br>flag=🇰🇷<br>2alphaCode=%{x}<br>2021=%{y}<extra></extra>",
         "legendgroup": "Korea, Rep., 🇰🇷",
         "marker": {
          "color": "#FF6692",
          "symbol": "diamond"
         },
         "mode": "markers",
         "name": "Korea, Rep., 🇰🇷",
         "orientation": "v",
         "showlegend": true,
         "type": "scatter",
         "x": [
          "KR"
         ],
         "xaxis": "x",
         "y": [
          34757.7
         ],
         "yaxis": "y"
        },
        {
         "hovertemplate": "Country Name=Vietnam<br>flag=🇻🇳<br>2alphaCode=%{x}<br>2021=%{y}<extra></extra>",
         "legendgroup": "Vietnam, 🇻🇳",
         "marker": {
          "color": "#B6E880",
          "symbol": "square"
         },
         "mode": "markers",
         "name": "Vietnam, 🇻🇳",
         "orientation": "v",
         "showlegend": true,
         "type": "scatter",
         "x": [
          "VN"
         ],
         "xaxis": "x",
         "y": [
          3694
         ],
         "yaxis": "y"
        },
        {
         "hovertemplate": "Country Name=Japan<br>flag=🇯🇵<br>2alphaCode=%{x}<br>2021=%{y}<extra></extra>",
         "legendgroup": "Japan, 🇯🇵",
         "marker": {
          "color": "#FF97FF",
          "symbol": "x"
         },
         "mode": "markers",
         "name": "Japan, 🇯🇵",
         "orientation": "v",
         "showlegend": true,
         "type": "scatter",
         "x": [
          "JP"
         ],
         "xaxis": "x",
         "y": [
          39285.2
         ],
         "yaxis": "y"
        },
        {
         "hovertemplate": "Country Name=Australia<br>flag=🇦🇺<br>2alphaCode=%{x}<br>2021=%{y}<extra></extra>",
         "legendgroup": "Australia, 🇦🇺",
         "marker": {
          "color": "#FECB52",
          "symbol": "cross"
         },
         "mode": "markers",
         "name": "Australia, 🇦🇺",
         "orientation": "v",
         "showlegend": true,
         "type": "scatter",
         "x": [
          "AU"
         ],
         "xaxis": "x",
         "y": [
          59934.1
         ],
         "yaxis": "y"
        },
        {
         "hovertemplate": "Country Name=Vanuatu<br>flag=🇻🇺<br>2alphaCode=%{x}<br>2021=%{y}<extra></extra>",
         "legendgroup": "Vanuatu, 🇻🇺",
         "marker": {
          "color": "#636efa",
          "symbol": "circle"
         },
         "mode": "markers",
         "name": "Vanuatu, 🇻🇺",
         "orientation": "v",
         "showlegend": true,
         "type": "scatter",
         "x": [
          "VU"
         ],
         "xaxis": "x",
         "y": [
          3127.4
         ],
         "yaxis": "y"
        },
        {
         "hovertemplate": "Country Name=Kiribati<br>flag=🇰🇮<br>2alphaCode=%{x}<br>2021=%{y}<extra></extra>",
         "legendgroup": "Kiribati, 🇰🇮",
         "marker": {
          "color": "#EF553B",
          "symbol": "diamond"
         },
         "mode": "markers",
         "name": "Kiribati, 🇰🇮",
         "orientation": "v",
         "showlegend": true,
         "type": "scatter",
         "x": [
          "KI"
         ],
         "xaxis": "x",
         "y": [
          0
         ],
         "yaxis": "y"
        },
        {
         "hovertemplate": "Country Name=Tuvalu<br>flag=🇹🇻<br>2alphaCode=%{x}<br>2021=%{y}<extra></extra>",
         "legendgroup": "Tuvalu, 🇹🇻",
         "marker": {
          "color": "#00cc96",
          "symbol": "square"
         },
         "mode": "markers",
         "name": "Tuvalu, 🇹🇻",
         "orientation": "v",
         "showlegend": true,
         "type": "scatter",
         "x": [
          "TV"
         ],
         "xaxis": "x",
         "y": [
          5291.5
         ],
         "yaxis": "y"
        },
        {
         "hovertemplate": "Country Name=Samoa<br>flag=🇼🇸<br>2alphaCode=%{x}<br>2021=%{y}<extra></extra>",
         "legendgroup": "Samoa, 🇼🇸",
         "marker": {
          "color": "#ab63fa",
          "symbol": "x"
         },
         "mode": "markers",
         "name": "Samoa, 🇼🇸",
         "orientation": "v",
         "showlegend": true,
         "type": "scatter",
         "x": [
          "WS"
         ],
         "xaxis": "x",
         "y": [
          3939.1
         ],
         "yaxis": "y"
        },
        {
         "hovertemplate": "Country Name=Georgia<br>flag=🇬🇪<br>2alphaCode=%{x}<br>2021=%{y}<extra></extra>",
         "legendgroup": "Georgia, 🇬🇪",
         "marker": {
          "color": "#FFA15A",
          "symbol": "cross"
         },
         "mode": "markers",
         "name": "Georgia, 🇬🇪",
         "orientation": "v",
         "showlegend": true,
         "type": "scatter",
         "x": [
          "GE"
         ],
         "xaxis": "x",
         "y": [
          5042.4
         ],
         "yaxis": "y"
        },
        {
         "hovertemplate": "Country Name=France<br>flag=🇫🇷<br>2alphaCode=%{x}<br>2021=%{y}<extra></extra>",
         "legendgroup": "France, 🇫🇷",
         "marker": {
          "color": "#19d3f3",
          "symbol": "circle"
         },
         "mode": "markers",
         "name": "France, 🇫🇷",
         "orientation": "v",
         "showlegend": true,
         "type": "scatter",
         "x": [
          "FR"
         ],
         "xaxis": "x",
         "y": [
          43518.5
         ],
         "yaxis": "y"
        },
        {
         "hovertemplate": "Country Name=Latvia<br>flag=🇱🇻<br>2alphaCode=%{x}<br>2021=%{y}<extra></extra>",
         "legendgroup": "Latvia, 🇱🇻",
         "marker": {
          "color": "#FF6692",
          "symbol": "diamond"
         },
         "mode": "markers",
         "name": "Latvia, 🇱🇻",
         "orientation": "v",
         "showlegend": true,
         "type": "scatter",
         "x": [
          "LV"
         ],
         "xaxis": "x",
         "y": [
          20642.2
         ],
         "yaxis": "y"
        },
        {
         "hovertemplate": "Country Name=Luxembourg<br>flag=🇱🇺<br>2alphaCode=%{x}<br>2021=%{y}<extra></extra>",
         "legendgroup": "Luxembourg, 🇱🇺",
         "marker": {
          "color": "#B6E880",
          "symbol": "square"
         },
         "mode": "markers",
         "name": "Luxembourg, 🇱🇺",
         "orientation": "v",
         "showlegend": true,
         "type": "scatter",
         "x": [
          "LU"
         ],
         "xaxis": "x",
         "y": [
          135682.8
         ],
         "yaxis": "y"
        },
        {
         "hovertemplate": "Country Name=Norway<br>flag=🇳🇴<br>2alphaCode=%{x}<br>2021=%{y}<extra></extra>",
         "legendgroup": "Norway, 🇳🇴",
         "marker": {
          "color": "#FF97FF",
          "symbol": "x"
         },
         "mode": "markers",
         "name": "Norway, 🇳🇴",
         "orientation": "v",
         "showlegend": true,
         "type": "scatter",
         "x": [
          "NO"
         ],
         "xaxis": "x",
         "y": [
          89202.8
         ],
         "yaxis": "y"
        },
        {
         "hovertemplate": "Country Name=United Kingdom<br>flag=🇬🇧<br>2alphaCode=%{x}<br>2021=%{y}<extra></extra>",
         "legendgroup": "United Kingdom, 🇬🇧",
         "marker": {
          "color": "#FECB52",
          "symbol": "cross"
         },
         "mode": "markers",
         "name": "United Kingdom, 🇬🇧",
         "orientation": "v",
         "showlegend": true,
         "type": "scatter",
         "x": [
          "GB"
         ],
         "xaxis": "x",
         "y": [
          47334.4
         ],
         "yaxis": "y"
        },
        {
         "hovertemplate": "Country Name=Ireland<br>flag=🇮🇪<br>2alphaCode=%{x}<br>2021=%{y}<extra></extra>",
         "legendgroup": "Ireland, 🇮🇪",
         "marker": {
          "color": "#636efa",
          "symbol": "circle"
         },
         "mode": "markers",
         "name": "Ireland, 🇮🇪",
         "orientation": "v",
         "showlegend": true,
         "type": "scatter",
         "x": [
          "IE"
         ],
         "xaxis": "x",
         "y": [
          99152.1
         ],
         "yaxis": "y"
        },
        {
         "hovertemplate": "Country Name=Kyrgyz Republic<br>flag=🇰🇬<br>2alphaCode=%{x}<br>2021=%{y}<extra></extra>",
         "legendgroup": "Kyrgyz Republic, 🇰🇬",
         "marker": {
          "color": "#EF553B",
          "symbol": "diamond"
         },
         "mode": "markers",
         "name": "Kyrgyz Republic, 🇰🇬",
         "orientation": "v",
         "showlegend": true,
         "type": "scatter",
         "x": [
          "KG"
         ],
         "xaxis": "x",
         "y": [
          1276.2
         ],
         "yaxis": "y"
        },
        {
         "hovertemplate": "Country Name=Kazakhstan<br>flag=🇰🇿<br>2alphaCode=%{x}<br>2021=%{y}<extra></extra>",
         "legendgroup": "Kazakhstan, 🇰🇿",
         "marker": {
          "color": "#00cc96",
          "symbol": "square"
         },
         "mode": "markers",
         "name": "Kazakhstan, 🇰🇿",
         "orientation": "v",
         "showlegend": true,
         "type": "scatter",
         "x": [
          "KZ"
         ],
         "xaxis": "x",
         "y": [
          10041.5
         ],
         "yaxis": "y"
        },
        {
         "hovertemplate": "Country Name=Moldova<br>flag=🇲🇩<br>2alphaCode=%{x}<br>2021=%{y}<extra></extra>",
         "legendgroup": "Moldova, 🇲🇩",
         "marker": {
          "color": "#ab63fa",
          "symbol": "x"
         },
         "mode": "markers",
         "name": "Moldova, 🇲🇩",
         "orientation": "v",
         "showlegend": true,
         "type": "scatter",
         "x": [
          "MD"
         ],
         "xaxis": "x",
         "y": [
          5314.5
         ],
         "yaxis": "y"
        },
        {
         "hovertemplate": "Country Name=Croatia<br>flag=🇭🇷<br>2alphaCode=%{x}<br>2021=%{y}<extra></extra>",
         "legendgroup": "Croatia, 🇭🇷",
         "marker": {
          "color": "#FFA15A",
          "symbol": "cross"
         },
         "mode": "markers",
         "name": "Croatia, 🇭🇷",
         "orientation": "v",
         "showlegend": true,
         "type": "scatter",
         "x": [
          "HR"
         ],
         "xaxis": "x",
         "y": [
          17398.8
         ],
         "yaxis": "y"
        },
        {
         "hovertemplate": "Country Name=Italy<br>flag=🇮🇹<br>2alphaCode=%{x}<br>2021=%{y}<extra></extra>",
         "legendgroup": "Italy, 🇮🇹",
         "marker": {
          "color": "#19d3f3",
          "symbol": "circle"
         },
         "mode": "markers",
         "name": "Italy, 🇮🇹",
         "orientation": "v",
         "showlegend": true,
         "type": "scatter",
         "x": [
          "IT"
         ],
         "xaxis": "x",
         "y": [
          35551.3
         ],
         "yaxis": "y"
        },
        {
         "hovertemplate": "Country Name=Hungary<br>flag=🇭🇺<br>2alphaCode=%{x}<br>2021=%{y}<extra></extra>",
         "legendgroup": "Hungary, 🇭🇺",
         "marker": {
          "color": "#FF6692",
          "symbol": "diamond"
         },
         "mode": "markers",
         "name": "Hungary, 🇭🇺",
         "orientation": "v",
         "showlegend": true,
         "type": "scatter",
         "x": [
          "HU"
         ],
         "xaxis": "x",
         "y": [
          18772.7
         ],
         "yaxis": "y"
        },
        {
         "hovertemplate": "Country Name=Finland<br>flag=🇫🇮<br>2alphaCode=%{x}<br>2021=%{y}<extra></extra>",
         "legendgroup": "Finland, 🇫🇮",
         "marker": {
          "color": "#B6E880",
          "symbol": "square"
         },
         "mode": "markers",
         "name": "Finland, 🇫🇮",
         "orientation": "v",
         "showlegend": true,
         "type": "scatter",
         "x": [
          "FI"
         ],
         "xaxis": "x",
         "y": [
          53982.6
         ],
         "yaxis": "y"
        },
        {
         "hovertemplate": "Country Name=Iceland<br>flag=🇮🇸<br>2alphaCode=%{x}<br>2021=%{y}<extra></extra>",
         "legendgroup": "Iceland, 🇮🇸",
         "marker": {
          "color": "#FF97FF",
          "symbol": "x"
         },
         "mode": "markers",
         "name": "Iceland, 🇮🇸",
         "orientation": "v",
         "showlegend": true,
         "type": "scatter",
         "x": [
          "IS"
         ],
         "xaxis": "x",
         "y": [
          68383.8
         ],
         "yaxis": "y"
        },
        {
         "hovertemplate": "Country Name=North Macedonia<br>flag=🇲🇰<br>2alphaCode=%{x}<br>2021=%{y}<extra></extra>",
         "legendgroup": "North Macedonia, 🇲🇰",
         "marker": {
          "color": "#FECB52",
          "symbol": "cross"
         },
         "mode": "markers",
         "name": "North Macedonia, 🇲🇰",
         "orientation": "v",
         "showlegend": true,
         "type": "scatter",
         "x": [
          "MK"
         ],
         "xaxis": "x",
         "y": [
          6720.9
         ],
         "yaxis": "y"
        },
        {
         "hovertemplate": "Country Name=Montenegro<br>flag=🇲🇪<br>2alphaCode=%{x}<br>2021=%{y}<extra></extra>",
         "legendgroup": "Montenegro, 🇲🇪",
         "marker": {
          "color": "#636efa",
          "symbol": "circle"
         },
         "mode": "markers",
         "name": "Montenegro, 🇲🇪",
         "orientation": "v",
         "showlegend": true,
         "type": "scatter",
         "x": [
          "ME"
         ],
         "xaxis": "x",
         "y": [
          9367
         ],
         "yaxis": "y"
        },
        {
         "hovertemplate": "Country Name=Netherlands<br>flag=🇳🇱<br>2alphaCode=%{x}<br>2021=%{y}<extra></extra>",
         "legendgroup": "Netherlands, 🇳🇱",
         "marker": {
          "color": "#EF553B",
          "symbol": "diamond"
         },
         "mode": "markers",
         "name": "Netherlands, 🇳🇱",
         "orientation": "v",
         "showlegend": true,
         "type": "scatter",
         "x": [
          "NL"
         ],
         "xaxis": "x",
         "y": [
          58061
         ],
         "yaxis": "y"
        },
        {
         "hovertemplate": "Country Name=Greece<br>flag=🇬🇷<br>2alphaCode=%{x}<br>2021=%{y}<extra></extra>",
         "legendgroup": "Greece, 🇬🇷",
         "marker": {
          "color": "#00cc96",
          "symbol": "square"
         },
         "mode": "markers",
         "name": "Greece, 🇬🇷",
         "orientation": "v",
         "showlegend": true,
         "type": "scatter",
         "x": [
          "GR"
         ],
         "xaxis": "x",
         "y": [
          20276.5
         ],
         "yaxis": "y"
        },
        {
         "hovertemplate": "Country Name=Spain<br>flag=🇪🇸<br>2alphaCode=%{x}<br>2021=%{y}<extra></extra>",
         "legendgroup": "Spain, 🇪🇸",
         "marker": {
          "color": "#ab63fa",
          "symbol": "x"
         },
         "mode": "markers",
         "name": "Spain, 🇪🇸",
         "orientation": "v",
         "showlegend": true,
         "type": "scatter",
         "x": [
          "ES"
         ],
         "xaxis": "x",
         "y": [
          30115.7
         ],
         "yaxis": "y"
        },
        {
         "hovertemplate": "Country Name=Slovenia<br>flag=🇸🇮<br>2alphaCode=%{x}<br>2021=%{y}<extra></extra>",
         "legendgroup": "Slovenia, 🇸🇮",
         "marker": {
          "color": "#FFA15A",
          "symbol": "cross"
         },
         "mode": "markers",
         "name": "Slovenia, 🇸🇮",
         "orientation": "v",
         "showlegend": true,
         "type": "scatter",
         "x": [
          "SI"
         ],
         "xaxis": "x",
         "y": [
          29200.8
         ],
         "yaxis": "y"
        },
        {
         "hovertemplate": "Country Name=Sweden<br>flag=🇸🇪<br>2alphaCode=%{x}<br>2021=%{y}<extra></extra>",
         "legendgroup": "Sweden, 🇸🇪",
         "marker": {
          "color": "#19d3f3",
          "symbol": "circle"
         },
         "mode": "markers",
         "name": "Sweden, 🇸🇪",
         "orientation": "v",
         "showlegend": true,
         "type": "scatter",
         "x": [
          "SE"
         ],
         "xaxis": "x",
         "y": [
          60239
         ],
         "yaxis": "y"
        },
        {
         "hovertemplate": "Country Name=Switzerland<br>flag=🇨🇭<br>2alphaCode=%{x}<br>2021=%{y}<extra></extra>",
         "legendgroup": "Switzerland, 🇨🇭",
         "marker": {
          "color": "#FF6692",
          "symbol": "diamond"
         },
         "mode": "markers",
         "name": "Switzerland, 🇨🇭",
         "orientation": "v",
         "showlegend": true,
         "type": "scatter",
         "x": [
          "CH"
         ],
         "xaxis": "x",
         "y": [
          93457.4
         ],
         "yaxis": "y"
        },
        {
         "hovertemplate": "Country Name=Austria<br>flag=🇦🇹<br>2alphaCode=%{x}<br>2021=%{y}<extra></extra>",
         "legendgroup": "Austria, 🇦🇹",
         "marker": {
          "color": "#B6E880",
          "symbol": "square"
         },
         "mode": "markers",
         "name": "Austria, 🇦🇹",
         "orientation": "v",
         "showlegend": true,
         "type": "scatter",
         "x": [
          "AT"
         ],
         "xaxis": "x",
         "y": [
          53267.9
         ],
         "yaxis": "y"
        },
        {
         "hovertemplate": "Country Name=Estonia<br>flag=🇪🇪<br>2alphaCode=%{x}<br>2021=%{y}<extra></extra>",
         "legendgroup": "Estonia, 🇪🇪",
         "marker": {
          "color": "#FF97FF",
          "symbol": "x"
         },
         "mode": "markers",
         "name": "Estonia, 🇪🇪",
         "orientation": "v",
         "showlegend": true,
         "type": "scatter",
         "x": [
          "EE"
         ],
         "xaxis": "x",
         "y": [
          27280.7
         ],
         "yaxis": "y"
        },
        {
         "hovertemplate": "Country Name=Slovak Republic<br>flag=🇸🇰<br>2alphaCode=%{x}<br>2021=%{y}<extra></extra>",
         "legendgroup": "Slovak Republic, 🇸🇰",
         "marker": {
          "color": "#FECB52",
          "symbol": "cross"
         },
         "mode": "markers",
         "name": "Slovak Republic, 🇸🇰",
         "orientation": "v",
         "showlegend": true,
         "type": "scatter",
         "x": [
          "SK"
         ],
         "xaxis": "x",
         "y": [
          21087.8
         ],
         "yaxis": "y"
        },
        {
         "hovertemplate": "Country Name=Tajikistan<br>flag=🇹🇯<br>2alphaCode=%{x}<br>2021=%{y}<extra></extra>",
         "legendgroup": "Tajikistan, 🇹🇯",
         "marker": {
          "color": "#636efa",
          "symbol": "circle"
         },
         "mode": "markers",
         "name": "Tajikistan, 🇹🇯",
         "orientation": "v",
         "showlegend": true,
         "type": "scatter",
         "x": [
          "TJ"
         ],
         "xaxis": "x",
         "y": [
          897.1
         ],
         "yaxis": "y"
        },
        {
         "hovertemplate": "Country Name=Azerbaijan<br>flag=🇦🇿<br>2alphaCode=%{x}<br>2021=%{y}<extra></extra>",
         "legendgroup": "Azerbaijan, 🇦🇿",
         "marker": {
          "color": "#EF553B",
          "symbol": "diamond"
         },
         "mode": "markers",
         "name": "Azerbaijan, 🇦🇿",
         "orientation": "v",
         "showlegend": true,
         "type": "scatter",
         "x": [
          "AZ"
         ],
         "xaxis": "x",
         "y": [
          5384
         ],
         "yaxis": "y"
        },
        {
         "hovertemplate": "Country Name=Turkiye<br>flag=🇹🇷<br>2alphaCode=%{x}<br>2021=%{y}<extra></extra>",
         "legendgroup": "Turkiye, 🇹🇷",
         "marker": {
          "color": "#00cc96",
          "symbol": "square"
         },
         "mode": "markers",
         "name": "Turkiye, 🇹🇷",
         "orientation": "v",
         "showlegend": true,
         "type": "scatter",
         "x": [
          "TR"
         ],
         "xaxis": "x",
         "y": [
          9586.6
         ],
         "yaxis": "y"
        },
        {
         "hovertemplate": "Country Name=Belarus<br>flag=🇧🇾<br>2alphaCode=%{x}<br>2021=%{y}<extra></extra>",
         "legendgroup": "Belarus, 🇧🇾",
         "marker": {
          "color": "#ab63fa",
          "symbol": "x"
         },
         "mode": "markers",
         "name": "Belarus, 🇧🇾",
         "orientation": "v",
         "showlegend": true,
         "type": "scatter",
         "x": [
          "BY"
         ],
         "xaxis": "x",
         "y": [
          7303.7
         ],
         "yaxis": "y"
        },
        {
         "hovertemplate": "Country Name=Bosnia and Herzegovina<br>flag=🇧🇦<br>2alphaCode=%{x}<br>2021=%{y}<extra></extra>",
         "legendgroup": "Bosnia and Herzegovina, 🇧🇦",
         "marker": {
          "color": "#FFA15A",
          "symbol": "cross"
         },
         "mode": "markers",
         "name": "Bosnia and Herzegovina, 🇧🇦",
         "orientation": "v",
         "showlegend": true,
         "type": "scatter",
         "x": [
          "BA"
         ],
         "xaxis": "x",
         "y": [
          6916.4
         ],
         "yaxis": "y"
        },
        {
         "hovertemplate": "Country Name=Ukraine<br>flag=🇺🇦<br>2alphaCode=%{x}<br>2021=%{y}<extra></extra>",
         "legendgroup": "Ukraine, 🇺🇦",
         "marker": {
          "color": "#19d3f3",
          "symbol": "circle"
         },
         "mode": "markers",
         "name": "Ukraine, 🇺🇦",
         "orientation": "v",
         "showlegend": true,
         "type": "scatter",
         "x": [
          "UA"
         ],
         "xaxis": "x",
         "y": [
          4835.6
         ],
         "yaxis": "y"
        },
        {
         "hovertemplate": "Country Name=Bulgaria<br>flag=🇧🇬<br>2alphaCode=%{x}<br>2021=%{y}<extra></extra>",
         "legendgroup": "Bulgaria, 🇧🇬",
         "marker": {
          "color": "#FF6692",
          "symbol": "diamond"
         },
         "mode": "markers",
         "name": "Bulgaria, 🇧🇬",
         "orientation": "v",
         "showlegend": true,
         "type": "scatter",
         "x": [
          "BG"
         ],
         "xaxis": "x",
         "y": [
          11635
         ],
         "yaxis": "y"
        },
        {
         "hovertemplate": "Country Name=Turkmenistan<br>flag=🇹🇲<br>2alphaCode=%{x}<br>2021=%{y}<extra></extra>",
         "legendgroup": "Turkmenistan, 🇹🇲",
         "marker": {
          "color": "#B6E880",
          "symbol": "square"
         },
         "mode": "markers",
         "name": "Turkmenistan, 🇹🇲",
         "orientation": "v",
         "showlegend": true,
         "type": "scatter",
         "x": [
          "TM"
         ],
         "xaxis": "x",
         "y": [
          0
         ],
         "yaxis": "y"
        },
        {
         "hovertemplate": "Country Name=Belgium<br>flag=🇧🇪<br>2alphaCode=%{x}<br>2021=%{y}<extra></extra>",
         "legendgroup": "Belgium, 🇧🇪",
         "marker": {
          "color": "#FF97FF",
          "symbol": "x"
         },
         "mode": "markers",
         "name": "Belgium, 🇧🇪",
         "orientation": "v",
         "showlegend": true,
         "type": "scatter",
         "x": [
          "BE"
         ],
         "xaxis": "x",
         "y": [
          51767.8
         ],
         "yaxis": "y"
        },
        {
         "hovertemplate": "Country Name=Uzbekistan<br>flag=🇺🇿<br>2alphaCode=%{x}<br>2021=%{y}<extra></extra>",
         "legendgroup": "Uzbekistan, 🇺🇿",
         "marker": {
          "color": "#FECB52",
          "symbol": "cross"
         },
         "mode": "markers",
         "name": "Uzbekistan, 🇺🇿",
         "orientation": "v",
         "showlegend": true,
         "type": "scatter",
         "x": [
          "UZ"
         ],
         "xaxis": "x",
         "y": [
          1983.1
         ],
         "yaxis": "y"
        },
        {
         "hovertemplate": "Country Name=Germany<br>flag=🇩🇪<br>2alphaCode=%{x}<br>2021=%{y}<extra></extra>",
         "legendgroup": "Germany, 🇩🇪",
         "marker": {
          "color": "#636efa",
          "symbol": "circle"
         },
         "mode": "markers",
         "name": "Germany, 🇩🇪",
         "orientation": "v",
         "showlegend": true,
         "type": "scatter",
         "x": [
          "DE"
         ],
         "xaxis": "x",
         "y": [
          50801.8
         ],
         "yaxis": "y"
        },
        {
         "hovertemplate": "Country Name=Armenia<br>flag=🇦🇲<br>2alphaCode=%{x}<br>2021=%{y}<extra></extra>",
         "legendgroup": "Armenia, 🇦🇲",
         "marker": {
          "color": "#EF553B",
          "symbol": "diamond"
         },
         "mode": "markers",
         "name": "Armenia, 🇦🇲",
         "orientation": "v",
         "showlegend": true,
         "type": "scatter",
         "x": [
          "AM"
         ],
         "xaxis": "x",
         "y": [
          4670
         ],
         "yaxis": "y"
        },
        {
         "hovertemplate": "Country Name=Russian Federation<br>flag=🇷🇺<br>2alphaCode=%{x}<br>2021=%{y}<extra></extra>",
         "legendgroup": "Russian Federation, 🇷🇺",
         "marker": {
          "color": "#00cc96",
          "symbol": "square"
         },
         "mode": "markers",
         "name": "Russian Federation, 🇷🇺",
         "orientation": "v",
         "showlegend": true,
         "type": "scatter",
         "x": [
          "RU"
         ],
         "xaxis": "x",
         "y": [
          12172.8
         ],
         "yaxis": "y"
        },
        {
         "hovertemplate": "Country Name=Romania<br>flag=🇷🇴<br>2alphaCode=%{x}<br>2021=%{y}<extra></extra>",
         "legendgroup": "Romania, 🇷🇴",
         "marker": {
          "color": "#ab63fa",
          "symbol": "x"
         },
         "mode": "markers",
         "name": "Romania, 🇷🇴",
         "orientation": "v",
         "showlegend": true,
         "type": "scatter",
         "x": [
          "RO"
         ],
         "xaxis": "x",
         "y": [
          14861.9
         ],
         "yaxis": "y"
        },
        {
         "hovertemplate": "Country Name=Cyprus<br>flag=🇨🇾<br>2alphaCode=%{x}<br>2021=%{y}<extra></extra>",
         "legendgroup": "Cyprus, 🇨🇾",
         "marker": {
          "color": "#FFA15A",
          "symbol": "cross"
         },
         "mode": "markers",
         "name": "Cyprus, 🇨🇾",
         "orientation": "v",
         "showlegend": true,
         "type": "scatter",
         "x": [
          "CY"
         ],
         "xaxis": "x",
         "y": [
          30798.5
         ],
         "yaxis": "y"
        },
        {
         "hovertemplate": "Country Name=Czech Republic<br>flag=🇨🇿<br>2alphaCode=%{x}<br>2021=%{y}<extra></extra>",
         "legendgroup": "Czech Republic, 🇨🇿",
         "marker": {
          "color": "#19d3f3",
          "symbol": "circle"
         },
         "mode": "markers",
         "name": "Czech Republic, 🇨🇿",
         "orientation": "v",
         "showlegend": true,
         "type": "scatter",
         "x": [
          "CZ"
         ],
         "xaxis": "x",
         "y": [
          26378.5
         ],
         "yaxis": "y"
        },
        {
         "hovertemplate": "Country Name=Serbia<br>flag=🇷🇸<br>2alphaCode=%{x}<br>2021=%{y}<extra></extra>",
         "legendgroup": "Serbia, 🇷🇸",
         "marker": {
          "color": "#FF6692",
          "symbol": "diamond"
         },
         "mode": "markers",
         "name": "Serbia, 🇷🇸",
         "orientation": "v",
         "showlegend": true,
         "type": "scatter",
         "x": [
          "RS"
         ],
         "xaxis": "x",
         "y": [
          9215
         ],
         "yaxis": "y"
        },
        {
         "hovertemplate": "Country Name=Albania<br>flag=🇦🇱<br>2alphaCode=%{x}<br>2021=%{y}<extra></extra>",
         "legendgroup": "Albania, 🇦🇱",
         "marker": {
          "color": "#B6E880",
          "symbol": "square"
         },
         "mode": "markers",
         "name": "Albania, 🇦🇱",
         "orientation": "v",
         "showlegend": true,
         "type": "scatter",
         "x": [
          "AL"
         ],
         "xaxis": "x",
         "y": [
          6494.4
         ],
         "yaxis": "y"
        },
        {
         "hovertemplate": "Country Name=Kosovo<br>flag=🇽🇰<br>2alphaCode=%{x}<br>2021=%{y}<extra></extra>",
         "legendgroup": "Kosovo, 🇽🇰",
         "marker": {
          "color": "#FF97FF",
          "symbol": "x"
         },
         "mode": "markers",
         "name": "Kosovo, 🇽🇰",
         "orientation": "v",
         "showlegend": true,
         "type": "scatter",
         "x": [
          "XK"
         ],
         "xaxis": "x",
         "y": [
          4986.6
         ],
         "yaxis": "y"
        },
        {
         "hovertemplate": "Country Name=Portugal<br>flag=🇵🇹<br>2alphaCode=%{x}<br>2021=%{y}<extra></extra>",
         "legendgroup": "Portugal, 🇵🇹",
         "marker": {
          "color": "#FECB52",
          "symbol": "cross"
         },
         "mode": "markers",
         "name": "Portugal, 🇵🇹",
         "orientation": "v",
         "showlegend": true,
         "type": "scatter",
         "x": [
          "PT"
         ],
         "xaxis": "x",
         "y": [
          24262.2
         ],
         "yaxis": "y"
        },
        {
         "hovertemplate": "Country Name=Denmark<br>flag=🇩🇰<br>2alphaCode=%{x}<br>2021=%{y}<extra></extra>",
         "legendgroup": "Denmark, 🇩🇰",
         "marker": {
          "color": "#636efa",
          "symbol": "circle"
         },
         "mode": "markers",
         "name": "Denmark, 🇩🇰",
         "orientation": "v",
         "showlegend": true,
         "type": "scatter",
         "x": [
          "DK"
         ],
         "xaxis": "x",
         "y": [
          67803
         ],
         "yaxis": "y"
        },
        {
         "hovertemplate": "Country Name=Lithuania<br>flag=🇱🇹<br>2alphaCode=%{x}<br>2021=%{y}<extra></extra>",
         "legendgroup": "Lithuania, 🇱🇹",
         "marker": {
          "color": "#EF553B",
          "symbol": "diamond"
         },
         "mode": "markers",
         "name": "Lithuania, 🇱🇹",
         "orientation": "v",
         "showlegend": true,
         "type": "scatter",
         "x": [
          "LT"
         ],
         "xaxis": "x",
         "y": [
          23433.4
         ],
         "yaxis": "y"
        },
        {
         "hovertemplate": "Country Name=Poland<br>flag=🇵🇱<br>2alphaCode=%{x}<br>2021=%{y}<extra></extra>",
         "legendgroup": "Poland, 🇵🇱",
         "marker": {
          "color": "#00cc96",
          "symbol": "square"
         },
         "mode": "markers",
         "name": "Poland, 🇵🇱",
         "orientation": "v",
         "showlegend": true,
         "type": "scatter",
         "x": [
          "PL"
         ],
         "xaxis": "x",
         "y": [
          17840.9
         ],
         "yaxis": "y"
        },
        {
         "hovertemplate": "Country Name=Mexico<br>flag=🇲🇽<br>2alphaCode=%{x}<br>2021=%{y}<extra></extra>",
         "legendgroup": "Mexico, 🇲🇽",
         "marker": {
          "color": "#ab63fa",
          "symbol": "x"
         },
         "mode": "markers",
         "name": "Mexico, 🇲🇽",
         "orientation": "v",
         "showlegend": true,
         "type": "scatter",
         "x": [
          "MX"
         ],
         "xaxis": "x",
         "y": [
          9926.4
         ],
         "yaxis": "y"
        },
        {
         "hovertemplate": "Country Name=Uruguay<br>flag=🇺🇾<br>2alphaCode=%{x}<br>2021=%{y}<extra></extra>",
         "legendgroup": "Uruguay, 🇺🇾",
         "marker": {
          "color": "#FFA15A",
          "symbol": "cross"
         },
         "mode": "markers",
         "name": "Uruguay, 🇺🇾",
         "orientation": "v",
         "showlegend": true,
         "type": "scatter",
         "x": [
          "UY"
         ],
         "xaxis": "x",
         "y": [
          17020.6
         ],
         "yaxis": "y"
        },
        {
         "hovertemplate": "Country Name=Trinidad and Tobago<br>flag=🇹🇹<br>2alphaCode=%{x}<br>2021=%{y}<extra></extra>",
         "legendgroup": "Trinidad and Tobago, 🇹🇹",
         "marker": {
          "color": "#19d3f3",
          "symbol": "circle"
         },
         "mode": "markers",
         "name": "Trinidad and Tobago, 🇹🇹",
         "orientation": "v",
         "showlegend": true,
         "type": "scatter",
         "x": [
          "TT"
         ],
         "xaxis": "x",
         "y": [
          15243.1
         ],
         "yaxis": "y"
        },
        {
         "hovertemplate": "Country Name=Suriname<br>flag=🇸🇷<br>2alphaCode=%{x}<br>2021=%{y}<extra></extra>",
         "legendgroup": "Suriname, 🇸🇷",
         "marker": {
          "color": "#FF6692",
          "symbol": "diamond"
         },
         "mode": "markers",
         "name": "Suriname, 🇸🇷",
         "orientation": "v",
         "showlegend": true,
         "type": "scatter",
         "x": [
          "SR"
         ],
         "xaxis": "x",
         "y": [
          4836.3
         ],
         "yaxis": "y"
        },
        {
         "hovertemplate": "Country Name=Nicaragua<br>flag=🇳🇮<br>2alphaCode=%{x}<br>2021=%{y}<extra></extra>",
         "legendgroup": "Nicaragua, 🇳🇮",
         "marker": {
          "color": "#B6E880",
          "symbol": "square"
         },
         "mode": "markers",
         "name": "Nicaragua, 🇳🇮",
         "orientation": "v",
         "showlegend": true,
         "type": "scatter",
         "x": [
          "NI"
         ],
         "xaxis": "x",
         "y": [
          2090.8
         ],
         "yaxis": "y"
        },
        {
         "hovertemplate": "Country Name=El Salvador<br>flag=🇸🇻<br>2alphaCode=%{x}<br>2021=%{y}<extra></extra>",
         "legendgroup": "El Salvador, 🇸🇻",
         "marker": {
          "color": "#FF97FF",
          "symbol": "x"
         },
         "mode": "markers",
         "name": "El Salvador, 🇸🇻",
         "orientation": "v",
         "showlegend": true,
         "type": "scatter",
         "x": [
          "SV"
         ],
         "xaxis": "x",
         "y": [
          4408.5
         ],
         "yaxis": "y"
        },
        {
         "hovertemplate": "Country Name=Panama<br>flag=🇵🇦<br>2alphaCode=%{x}<br>2021=%{y}<extra></extra>",
         "legendgroup": "Panama, 🇵🇦",
         "marker": {
          "color": "#FECB52",
          "symbol": "cross"
         },
         "mode": "markers",
         "name": "Panama, 🇵🇦",
         "orientation": "v",
         "showlegend": true,
         "type": "scatter",
         "x": [
          "PA"
         ],
         "xaxis": "x",
         "y": [
          14516.5
         ],
         "yaxis": "y"
        },
        {
         "hovertemplate": "Country Name=Paraguay<br>flag=🇵🇾<br>2alphaCode=%{x}<br>2021=%{y}<extra></extra>",
         "legendgroup": "Paraguay, 🇵🇾",
         "marker": {
          "color": "#636efa",
          "symbol": "circle"
         },
         "mode": "markers",
         "name": "Paraguay, 🇵🇾",
         "orientation": "v",
         "showlegend": true,
         "type": "scatter",
         "x": [
          "PY"
         ],
         "xaxis": "x",
         "y": [
          5400.1
         ],
         "yaxis": "y"
        },
        {
         "hovertemplate": "Country Name=Peru<br>flag=🇵🇪<br>2alphaCode=%{x}<br>2021=%{y}<extra></extra>",
         "legendgroup": "Peru, 🇵🇪",
         "marker": {
          "color": "#EF553B",
          "symbol": "diamond"
         },
         "mode": "markers",
         "name": "Peru, 🇵🇪",
         "orientation": "v",
         "showlegend": true,
         "type": "scatter",
         "x": [
          "PE"
         ],
         "xaxis": "x",
         "y": [
          6692.2
         ],
         "yaxis": "y"
        },
        {
         "hovertemplate": "Country Name=Costa Rica<br>flag=🇨🇷<br>2alphaCode=%{x}<br>2021=%{y}<extra></extra>",
         "legendgroup": "Costa Rica, 🇨🇷",
         "marker": {
          "color": "#00cc96",
          "symbol": "square"
         },
         "mode": "markers",
         "name": "Costa Rica, 🇨🇷",
         "orientation": "v",
         "showlegend": true,
         "type": "scatter",
         "x": [
          "CR"
         ],
         "xaxis": "x",
         "y": [
          12508.6
         ],
         "yaxis": "y"
        },
        {
         "hovertemplate": "Country Name=St. Lucia<br>flag=🇱🇨<br>2alphaCode=%{x}<br>2021=%{y}<extra></extra>",
         "legendgroup": "St. Lucia, 🇱🇨",
         "marker": {
          "color": "#ab63fa",
          "symbol": "x"
         },
         "mode": "markers",
         "name": "St. Lucia, 🇱🇨",
         "orientation": "v",
         "showlegend": true,
         "type": "scatter",
         "x": [
          "LC"
         ],
         "xaxis": "x",
         "y": [
          9571
         ],
         "yaxis": "y"
        },
        {
         "hovertemplate": "Country Name=Honduras<br>flag=🇭🇳<br>2alphaCode=%{x}<br>2021=%{y}<extra></extra>",
         "legendgroup": "Honduras, 🇭🇳",
         "marker": {
          "color": "#FFA15A",
          "symbol": "cross"
         },
         "mode": "markers",
         "name": "Honduras, 🇭🇳",
         "orientation": "v",
         "showlegend": true,
         "type": "scatter",
         "x": [
          "HN"
         ],
         "xaxis": "x",
         "y": [
          2831
         ],
         "yaxis": "y"
        },
        {
         "hovertemplate": "Country Name=Haiti<br>flag=🇭🇹<br>2alphaCode=%{x}<br>2021=%{y}<extra></extra>",
         "legendgroup": "Haiti, 🇭🇹",
         "marker": {
          "color": "#19d3f3",
          "symbol": "circle"
         },
         "mode": "markers",
         "name": "Haiti, 🇭🇹",
         "orientation": "v",
         "showlegend": true,
         "type": "scatter",
         "x": [
          "HT"
         ],
         "xaxis": "x",
         "y": [
          1814.7
         ],
         "yaxis": "y"
        },
        {
         "hovertemplate": "Country Name=Guatemala<br>flag=🇬🇹<br>2alphaCode=%{x}<br>2021=%{y}<extra></extra>",
         "legendgroup": "Guatemala, 🇬🇹",
         "marker": {
          "color": "#FF6692",
          "symbol": "diamond"
         },
         "mode": "markers",
         "name": "Guatemala, 🇬🇹",
         "orientation": "v",
         "showlegend": true,
         "type": "scatter",
         "x": [
          "GT"
         ],
         "xaxis": "x",
         "y": [
          5025.6
         ],
         "yaxis": "y"
        },
        {
         "hovertemplate": "Country Name=Colombia<br>flag=🇨🇴<br>2alphaCode=%{x}<br>2021=%{y}<extra></extra>",
         "legendgroup": "Colombia, 🇨🇴",
         "marker": {
          "color": "#B6E880",
          "symbol": "square"
         },
         "mode": "markers",
         "name": "Colombia, 🇨🇴",
         "orientation": "v",
         "showlegend": true,
         "type": "scatter",
         "x": [
          "CO"
         ],
         "xaxis": "x",
         "y": [
          6131.2
         ],
         "yaxis": "y"
        },
        {
         "hovertemplate": "Country Name=Chile<br>flag=🇨🇱<br>2alphaCode=%{x}<br>2021=%{y}<extra></extra>",
         "legendgroup": "Chile, 🇨🇱",
         "marker": {
          "color": "#FF97FF",
          "symbol": "x"
         },
         "mode": "markers",
         "name": "Chile, 🇨🇱",
         "orientation": "v",
         "showlegend": true,
         "type": "scatter",
         "x": [
          "CL"
         ],
         "xaxis": "x",
         "y": [
          16502.8
         ],
         "yaxis": "y"
        },
        {
         "hovertemplate": "Country Name=Jamaica<br>flag=🇯🇲<br>2alphaCode=%{x}<br>2021=%{y}<extra></extra>",
         "legendgroup": "Jamaica, 🇯🇲",
         "marker": {
          "color": "#FECB52",
          "symbol": "cross"
         },
         "mode": "markers",
         "name": "Jamaica, 🇯🇲",
         "orientation": "v",
         "showlegend": true,
         "type": "scatter",
         "x": [
          "JM"
         ],
         "xaxis": "x",
         "y": [
          4586.7
         ],
         "yaxis": "y"
        },
        {
         "hovertemplate": "Country Name=Bolivia<br>flag=🇧🇴<br>2alphaCode=%{x}<br>2021=%{y}<extra></extra>",
         "legendgroup": "Bolivia, 🇧🇴",
         "marker": {
          "color": "#636efa",
          "symbol": "circle"
         },
         "mode": "markers",
         "name": "Bolivia, 🇧🇴",
         "orientation": "v",
         "showlegend": true,
         "type": "scatter",
         "x": [
          "BO"
         ],
         "xaxis": "x",
         "y": [
          3414.9
         ],
         "yaxis": "y"
        },
        {
         "hovertemplate": "Country Name=Dominican Republic<br>flag=🇩🇴<br>2alphaCode=%{x}<br>2021=%{y}<extra></extra>",
         "legendgroup": "Dominican Republic, 🇩🇴",
         "marker": {
          "color": "#EF553B",
          "symbol": "diamond"
         },
         "mode": "markers",
         "name": "Dominican Republic, 🇩🇴",
         "orientation": "v",
         "showlegend": true,
         "type": "scatter",
         "x": [
          "DO"
         ],
         "xaxis": "x",
         "y": [
          8603.8
         ],
         "yaxis": "y"
        },
        {
         "hovertemplate": "Country Name=Belize<br>flag=🇧🇿<br>2alphaCode=%{x}<br>2021=%{y}<extra></extra>",
         "legendgroup": "Belize, 🇧🇿",
         "marker": {
          "color": "#00cc96",
          "symbol": "square"
         },
         "mode": "markers",
         "name": "Belize, 🇧🇿",
         "orientation": "v",
         "showlegend": true,
         "type": "scatter",
         "x": [
          "BZ"
         ],
         "xaxis": "x",
         "y": [
          4420.5
         ],
         "yaxis": "y"
        },
        {
         "hovertemplate": "Country Name=Argentina<br>flag=🇦🇷<br>2alphaCode=%{x}<br>2021=%{y}<extra></extra>",
         "legendgroup": "Argentina, 🇦🇷",
         "marker": {
          "color": "#ab63fa",
          "symbol": "x"
         },
         "mode": "markers",
         "name": "Argentina, 🇦🇷",
         "orientation": "v",
         "showlegend": true,
         "type": "scatter",
         "x": [
          "AR"
         ],
         "xaxis": "x",
         "y": [
          10729.2
         ],
         "yaxis": "y"
        },
        {
         "hovertemplate": "Country Name=Ecuador<br>flag=🇪🇨<br>2alphaCode=%{x}<br>2021=%{y}<extra></extra>",
         "legendgroup": "Ecuador, 🇪🇨",
         "marker": {
          "color": "#FFA15A",
          "symbol": "cross"
         },
         "mode": "markers",
         "name": "Ecuador, 🇪🇨",
         "orientation": "v",
         "showlegend": true,
         "type": "scatter",
         "x": [
          "EC"
         ],
         "xaxis": "x",
         "y": [
          5934.9
         ],
         "yaxis": "y"
        },
        {
         "hovertemplate": "Country Name=Brazil<br>flag=🇧🇷<br>2alphaCode=%{x}<br>2021=%{y}<extra></extra>",
         "legendgroup": "Brazil, 🇧🇷",
         "marker": {
          "color": "#19d3f3",
          "symbol": "circle"
         },
         "mode": "markers",
         "name": "Brazil, 🇧🇷",
         "orientation": "v",
         "showlegend": true,
         "type": "scatter",
         "x": [
          "BR"
         ],
         "xaxis": "x",
         "y": [
          7518.8
         ],
         "yaxis": "y"
        },
        {
         "hovertemplate": "Country Name=Guyana<br>flag=🇬🇾<br>2alphaCode=%{x}<br>2021=%{y}<extra></extra>",
         "legendgroup": "Guyana, 🇬🇾",
         "marker": {
          "color": "#FF6692",
          "symbol": "diamond"
         },
         "mode": "markers",
         "name": "Guyana, 🇬🇾",
         "orientation": "v",
         "showlegend": true,
         "type": "scatter",
         "x": [
          "GY"
         ],
         "xaxis": "x",
         "y": [
          9374.8
         ],
         "yaxis": "y"
        },
        {
         "hovertemplate": "Country Name=Djibouti<br>flag=🇩🇯<br>2alphaCode=%{x}<br>2021=%{y}<extra></extra>",
         "legendgroup": "Djibouti, 🇩🇯",
         "marker": {
          "color": "#B6E880",
          "symbol": "square"
         },
         "mode": "markers",
         "name": "Djibouti, 🇩🇯",
         "orientation": "v",
         "showlegend": true,
         "type": "scatter",
         "x": [
          "DJ"
         ],
         "xaxis": "x",
         "y": [
          3363.7
         ],
         "yaxis": "y"
        },
        {
         "hovertemplate": "Country Name=Algeria<br>flag=🇩🇿<br>2alphaCode=%{x}<br>2021=%{y}<extra></extra>",
         "legendgroup": "Algeria, 🇩🇿",
         "marker": {
          "color": "#FF97FF",
          "symbol": "x"
         },
         "mode": "markers",
         "name": "Algeria, 🇩🇿",
         "orientation": "v",
         "showlegend": true,
         "type": "scatter",
         "x": [
          "DZ"
         ],
         "xaxis": "x",
         "y": [
          3765
         ],
         "yaxis": "y"
        },
        {
         "hovertemplate": "Country Name=Egypt, Arab Rep.<br>flag=🇪🇬<br>2alphaCode=%{x}<br>2021=%{y}<extra></extra>",
         "legendgroup": "Egypt, Arab Rep., 🇪🇬",
         "marker": {
          "color": "#FECB52",
          "symbol": "cross"
         },
         "mode": "markers",
         "name": "Egypt, Arab Rep., 🇪🇬",
         "orientation": "v",
         "showlegend": true,
         "type": "scatter",
         "x": [
          "EG"
         ],
         "xaxis": "x",
         "y": [
          3876.4
         ],
         "yaxis": "y"
        },
        {
         "hovertemplate": "Country Name=Syrian Arab Republic<br>flag=🇸🇾<br>2alphaCode=%{x}<br>2021=%{y}<extra></extra>",
         "legendgroup": "Syrian Arab Republic, 🇸🇾",
         "marker": {
          "color": "#636efa",
          "symbol": "circle"
         },
         "mode": "markers",
         "name": "Syrian Arab Republic, 🇸🇾",
         "orientation": "v",
         "showlegend": true,
         "type": "scatter",
         "x": [
          "SY"
         ],
         "xaxis": "x",
         "y": [
          0
         ],
         "yaxis": "y"
        },
        {
         "hovertemplate": "Country Name=Tunisia<br>flag=🇹🇳<br>2alphaCode=%{x}<br>2021=%{y}<extra></extra>",
         "legendgroup": "Tunisia, 🇹🇳",
         "marker": {
          "color": "#EF553B",
          "symbol": "diamond"
         },
         "mode": "markers",
         "name": "Tunisia, 🇹🇳",
         "orientation": "v",
         "showlegend": true,
         "type": "scatter",
         "x": [
          "TN"
         ],
         "xaxis": "x",
         "y": [
          3924.3
         ],
         "yaxis": "y"
        },
        {
         "hovertemplate": "Country Name=Yemen, Rep.<br>flag=🇾🇪<br>2alphaCode=%{x}<br>2021=%{y}<extra></extra>",
         "legendgroup": "Yemen, Rep., 🇾🇪",
         "marker": {
          "color": "#00cc96",
          "symbol": "square"
         },
         "mode": "markers",
         "name": "Yemen, Rep., 🇾🇪",
         "orientation": "v",
         "showlegend": true,
         "type": "scatter",
         "x": [
          "YE"
         ],
         "xaxis": "x",
         "y": [
          690.8
         ],
         "yaxis": "y"
        },
        {
         "hovertemplate": "Country Name=West Bank and Gaza<br>flag=🇵🇸<br>2alphaCode=%{x}<br>2021=%{y}<extra></extra>",
         "legendgroup": "West Bank and Gaza, 🇵🇸",
         "marker": {
          "color": "#ab63fa",
          "symbol": "x"
         },
         "mode": "markers",
         "name": "West Bank and Gaza, 🇵🇸",
         "orientation": "v",
         "showlegend": true,
         "type": "scatter",
         "x": [
          "PS"
         ],
         "xaxis": "x",
         "y": [
          3664
         ],
         "yaxis": "y"
        },
        {
         "hovertemplate": "Country Name=Iraq<br>flag=🇮🇶<br>2alphaCode=%{x}<br>2021=%{y}<extra></extra>",
         "legendgroup": "Iraq, 🇮🇶",
         "marker": {
          "color": "#FFA15A",
          "symbol": "cross"
         },
         "mode": "markers",
         "name": "Iraq, 🇮🇶",
         "orientation": "v",
         "showlegend": true,
         "type": "scatter",
         "x": [
          "IQ"
         ],
         "xaxis": "x",
         "y": [
          5048.4
         ],
         "yaxis": "y"
        },
        {
         "hovertemplate": "Country Name=Israel<br>flag=🇮🇱<br>2alphaCode=%{x}<br>2021=%{y}<extra></extra>",
         "legendgroup": "Israel, 🇮🇱",
         "marker": {
          "color": "#19d3f3",
          "symbol": "circle"
         },
         "mode": "markers",
         "name": "Israel, 🇮🇱",
         "orientation": "v",
         "showlegend": true,
         "type": "scatter",
         "x": [
          "IL"
         ],
         "xaxis": "x",
         "y": [
          51430.1
         ],
         "yaxis": "y"
        },
        {
         "hovertemplate": "Country Name=Jordan<br>flag=🇯🇴<br>2alphaCode=%{x}<br>2021=%{y}<extra></extra>",
         "legendgroup": "Jordan, 🇯🇴",
         "marker": {
          "color": "#FF6692",
          "symbol": "diamond"
         },
         "mode": "markers",
         "name": "Jordan, 🇯🇴",
         "orientation": "v",
         "showlegend": true,
         "type": "scatter",
         "x": [
          "JO"
         ],
         "xaxis": "x",
         "y": [
          4405.8
         ],
         "yaxis": "y"
        },
        {
         "hovertemplate": "Country Name=Morocco<br>flag=🇲🇦<br>2alphaCode=%{x}<br>2021=%{y}<extra></extra>",
         "legendgroup": "Morocco, 🇲🇦",
         "marker": {
          "color": "#B6E880",
          "symbol": "square"
         },
         "mode": "markers",
         "name": "Morocco, 🇲🇦",
         "orientation": "v",
         "showlegend": true,
         "type": "scatter",
         "x": [
          "MA"
         ],
         "xaxis": "x",
         "y": [
          3496.8
         ],
         "yaxis": "y"
        },
        {
         "hovertemplate": "Country Name=Malta<br>flag=🇲🇹<br>2alphaCode=%{x}<br>2021=%{y}<extra></extra>",
         "legendgroup": "Malta, 🇲🇹",
         "marker": {
          "color": "#FF97FF",
          "symbol": "x"
         },
         "mode": "markers",
         "name": "Malta, 🇲🇹",
         "orientation": "v",
         "showlegend": true,
         "type": "scatter",
         "x": [
          "MT"
         ],
         "xaxis": "x",
         "y": [
          33257.4
         ],
         "yaxis": "y"
        },
        {
         "hovertemplate": "Country Name=Iran, Islamic Rep.<br>flag=🇮🇷<br>2alphaCode=%{x}<br>2021=%{y}<extra></extra>",
         "legendgroup": "Iran, Islamic Rep., 🇮🇷",
         "marker": {
          "color": "#FECB52",
          "symbol": "cross"
         },
         "mode": "markers",
         "name": "Iran, Islamic Rep., 🇮🇷",
         "orientation": "v",
         "showlegend": true,
         "type": "scatter",
         "x": [
          "IR"
         ],
         "xaxis": "x",
         "y": [
          0
         ],
         "yaxis": "y"
        },
        {
         "hovertemplate": "Country Name=Lebanon<br>flag=🇱🇧<br>2alphaCode=%{x}<br>2021=%{y}<extra></extra>",
         "legendgroup": "Lebanon, 🇱🇧",
         "marker": {
          "color": "#636efa",
          "symbol": "circle"
         },
         "mode": "markers",
         "name": "Lebanon, 🇱🇧",
         "orientation": "v",
         "showlegend": true,
         "type": "scatter",
         "x": [
          "LB"
         ],
         "xaxis": "x",
         "y": [
          2670.4
         ],
         "yaxis": "y"
        },
        {
         "hovertemplate": "Country Name=United States<br>flag=🇺🇸<br>2alphaCode=%{x}<br>2021=%{y}<extra></extra>",
         "legendgroup": "United States, 🇺🇸",
         "marker": {
          "color": "#EF553B",
          "symbol": "diamond"
         },
         "mode": "markers",
         "name": "United States, 🇺🇸",
         "orientation": "v",
         "showlegend": true,
         "type": "scatter",
         "x": [
          "US"
         ],
         "xaxis": "x",
         "y": [
          69287.5
         ],
         "yaxis": "y"
        },
        {
         "hovertemplate": "Country Name=Canada<br>flag=🇨🇦<br>2alphaCode=%{x}<br>2021=%{y}<extra></extra>",
         "legendgroup": "Canada, 🇨🇦",
         "marker": {
          "color": "#00cc96",
          "symbol": "square"
         },
         "mode": "markers",
         "name": "Canada, 🇨🇦",
         "orientation": "v",
         "showlegend": true,
         "type": "scatter",
         "x": [
          "CA"
         ],
         "xaxis": "x",
         "y": [
          52051.4
         ],
         "yaxis": "y"
        },
        {
         "hovertemplate": "Country Name=Pakistan<br>flag=🇵🇰<br>2alphaCode=%{x}<br>2021=%{y}<extra></extra>",
         "legendgroup": "Pakistan, 🇵🇰",
         "marker": {
          "color": "#ab63fa",
          "symbol": "x"
         },
         "mode": "markers",
         "name": "Pakistan, 🇵🇰",
         "orientation": "v",
         "showlegend": true,
         "type": "scatter",
         "x": [
          "PK"
         ],
         "xaxis": "x",
         "y": [
          1537.9
         ],
         "yaxis": "y"
        },
        {
         "hovertemplate": "Country Name=Bangladesh<br>flag=🇧🇩<br>2alphaCode=%{x}<br>2021=%{y}<extra></extra>",
         "legendgroup": "Bangladesh, 🇧🇩",
         "marker": {
          "color": "#FFA15A",
          "symbol": "cross"
         },
         "mode": "markers",
         "name": "Bangladesh, 🇧🇩",
         "orientation": "v",
         "showlegend": true,
         "type": "scatter",
         "x": [
          "BD"
         ],
         "xaxis": "x",
         "y": [
          2503
         ],
         "yaxis": "y"
        },
        {
         "hovertemplate": "Country Name=India<br>flag=🇮🇳<br>2alphaCode=%{x}<br>2021=%{y}<extra></extra>",
         "legendgroup": "India, 🇮🇳",
         "marker": {
          "color": "#19d3f3",
          "symbol": "circle"
         },
         "mode": "markers",
         "name": "India, 🇮🇳",
         "orientation": "v",
         "showlegend": true,
         "type": "scatter",
         "x": [
          "IN"
         ],
         "xaxis": "x",
         "y": [
          2277.4
         ],
         "yaxis": "y"
        },
        {
         "hovertemplate": "Country Name=Bhutan<br>flag=🇧🇹<br>2alphaCode=%{x}<br>2021=%{y}<extra></extra>",
         "legendgroup": "Bhutan, 🇧🇹",
         "marker": {
          "color": "#FF6692",
          "symbol": "diamond"
         },
         "mode": "markers",
         "name": "Bhutan, 🇧🇹",
         "orientation": "v",
         "showlegend": true,
         "type": "scatter",
         "x": [
          "BT"
         ],
         "xaxis": "x",
         "y": [
          0
         ],
         "yaxis": "y"
        },
        {
         "hovertemplate": "Country Name=Nepal<br>flag=🇳🇵<br>2alphaCode=%{x}<br>2021=%{y}<extra></extra>",
         "legendgroup": "Nepal, 🇳🇵",
         "marker": {
          "color": "#B6E880",
          "symbol": "square"
         },
         "mode": "markers",
         "name": "Nepal, 🇳🇵",
         "orientation": "v",
         "showlegend": true,
         "type": "scatter",
         "x": [
          "NP"
         ],
         "xaxis": "x",
         "y": [
          1222.9
         ],
         "yaxis": "y"
        },
        {
         "hovertemplate": "Country Name=Maldives<br>flag=🇲🇻<br>2alphaCode=%{x}<br>2021=%{y}<extra></extra>",
         "legendgroup": "Maldives, 🇲🇻",
         "marker": {
          "color": "#FF97FF",
          "symbol": "x"
         },
         "mode": "markers",
         "name": "Maldives, 🇲🇻",
         "orientation": "v",
         "showlegend": true,
         "type": "scatter",
         "x": [
          "MV"
         ],
         "xaxis": "x",
         "y": [
          8994.6
         ],
         "yaxis": "y"
        },
        {
         "hovertemplate": "Country Name=Afghanistan<br>flag=🇦🇫<br>2alphaCode=%{x}<br>2021=%{y}<extra></extra>",
         "legendgroup": "Afghanistan, 🇦🇫",
         "marker": {
          "color": "#FECB52",
          "symbol": "cross"
         },
         "mode": "markers",
         "name": "Afghanistan, 🇦🇫",
         "orientation": "v",
         "showlegend": true,
         "type": "scatter",
         "x": [
          "AF"
         ],
         "xaxis": "x",
         "y": [
          0
         ],
         "yaxis": "y"
        },
        {
         "hovertemplate": "Country Name=Sri Lanka<br>flag=🇱🇰<br>2alphaCode=%{x}<br>2021=%{y}<extra></extra>",
         "legendgroup": "Sri Lanka, 🇱🇰",
         "marker": {
          "color": "#636efa",
          "symbol": "circle"
         },
         "mode": "markers",
         "name": "Sri Lanka, 🇱🇰",
         "orientation": "v",
         "showlegend": true,
         "type": "scatter",
         "x": [
          "LK"
         ],
         "xaxis": "x",
         "y": [
          3814.7
         ],
         "yaxis": "y"
        },
        {
         "hovertemplate": "Country Name=Benin<br>flag=🇧🇯<br>2alphaCode=%{x}<br>2021=%{y}<extra></extra>",
         "legendgroup": "Benin, 🇧🇯",
         "marker": {
          "color": "#EF553B",
          "symbol": "diamond"
         },
         "mode": "markers",
         "name": "Benin, 🇧🇯",
         "orientation": "v",
         "showlegend": true,
         "type": "scatter",
         "x": [
          "BJ"
         ],
         "xaxis": "x",
         "y": [
          1428.4
         ],
         "yaxis": "y"
        },
        {
         "hovertemplate": "Country Name=Central African Republic<br>flag=🇨🇫<br>2alphaCode=%{x}<br>2021=%{y}<extra></extra>",
         "legendgroup": "Central African Republic, 🇨🇫",
         "marker": {
          "color": "#00cc96",
          "symbol": "square"
         },
         "mode": "markers",
         "name": "Central African Republic, 🇨🇫",
         "orientation": "v",
         "showlegend": true,
         "type": "scatter",
         "x": [
          "CF"
         ],
         "xaxis": "x",
         "y": [
          511.5
         ],
         "yaxis": "y"
        },
        {
         "hovertemplate": "Country Name=Chad<br>flag=🇹🇩<br>2alphaCode=%{x}<br>2021=%{y}<extra></extra>",
         "legendgroup": "Chad, 🇹🇩",
         "marker": {
          "color": "#ab63fa",
          "symbol": "x"
         },
         "mode": "markers",
         "name": "Chad, 🇹🇩",
         "orientation": "v",
         "showlegend": true,
         "type": "scatter",
         "x": [
          "TD"
         ],
         "xaxis": "x",
         "y": [
          696.4
         ],
         "yaxis": "y"
        },
        {
         "hovertemplate": "Country Name=Togo<br>flag=🇹🇬<br>2alphaCode=%{x}<br>2021=%{y}<extra></extra>",
         "legendgroup": "Togo, 🇹🇬",
         "marker": {
          "color": "#FFA15A",
          "symbol": "cross"
         },
         "mode": "markers",
         "name": "Togo, 🇹🇬",
         "orientation": "v",
         "showlegend": true,
         "type": "scatter",
         "x": [
          "TG"
         ],
         "xaxis": "x",
         "y": [
          992.3
         ],
         "yaxis": "y"
        },
        {
         "hovertemplate": "Country Name=Botswana<br>flag=🇧🇼<br>2alphaCode=%{x}<br>2021=%{y}<extra></extra>",
         "legendgroup": "Botswana, 🇧🇼",
         "marker": {
          "color": "#19d3f3",
          "symbol": "circle"
         },
         "mode": "markers",
         "name": "Botswana, 🇧🇼",
         "orientation": "v",
         "showlegend": true,
         "type": "scatter",
         "x": [
          "BW"
         ],
         "xaxis": "x",
         "y": [
          7347.6
         ],
         "yaxis": "y"
        },
        {
         "hovertemplate": "Country Name=Madagascar<br>flag=🇲🇬<br>2alphaCode=%{x}<br>2021=%{y}<extra></extra>",
         "legendgroup": "Madagascar, 🇲🇬",
         "marker": {
          "color": "#FF6692",
          "symbol": "diamond"
         },
         "mode": "markers",
         "name": "Madagascar, 🇲🇬",
         "orientation": "v",
         "showlegend": true,
         "type": "scatter",
         "x": [
          "MG"
         ],
         "xaxis": "x",
         "y": [
          514.9
         ],
         "yaxis": "y"
        },
        {
         "hovertemplate": "Country Name=Kenya<br>flag=🇰🇪<br>2alphaCode=%{x}<br>2021=%{y}<extra></extra>",
         "legendgroup": "Kenya, 🇰🇪",
         "marker": {
          "color": "#B6E880",
          "symbol": "square"
         },
         "mode": "markers",
         "name": "Kenya, 🇰🇪",
         "orientation": "v",
         "showlegend": true,
         "type": "scatter",
         "x": [
          "KE"
         ],
         "xaxis": "x",
         "y": [
          2006.8
         ],
         "yaxis": "y"
        },
        {
         "hovertemplate": "Country Name=Burundi<br>flag=🇧🇮<br>2alphaCode=%{x}<br>2021=%{y}<extra></extra>",
         "legendgroup": "Burundi, 🇧🇮",
         "marker": {
          "color": "#FF97FF",
          "symbol": "x"
         },
         "mode": "markers",
         "name": "Burundi, 🇧🇮",
         "orientation": "v",
         "showlegend": true,
         "type": "scatter",
         "x": [
          "BI"
         ],
         "xaxis": "x",
         "y": [
          236.8
         ],
         "yaxis": "y"
        },
        {
         "hovertemplate": "Country Name=Angola<br>flag=🇦🇴<br>2alphaCode=%{x}<br>2021=%{y}<extra></extra>",
         "legendgroup": "Angola, 🇦🇴",
         "marker": {
          "color": "#FECB52",
          "symbol": "cross"
         },
         "mode": "markers",
         "name": "Angola, 🇦🇴",
         "orientation": "v",
         "showlegend": true,
         "type": "scatter",
         "x": [
          "AO"
         ],
         "xaxis": "x",
         "y": [
          2137.9
         ],
         "yaxis": "y"
        },
        {
         "hovertemplate": "Country Name=Tanzania<br>flag=🇹🇿<br>2alphaCode=%{x}<br>2021=%{y}<extra></extra>",
         "legendgroup": "Tanzania, 🇹🇿",
         "marker": {
          "color": "#636efa",
          "symbol": "circle"
         },
         "mode": "markers",
         "name": "Tanzania, 🇹🇿",
         "orientation": "v",
         "showlegend": true,
         "type": "scatter",
         "x": [
          "TZ"
         ],
         "xaxis": "x",
         "y": [
          1135.5
         ],
         "yaxis": "y"
        },
        {
         "hovertemplate": "Country Name=Lesotho<br>flag=🇱🇸<br>2alphaCode=%{x}<br>2021=%{y}<extra></extra>",
         "legendgroup": "Lesotho, 🇱🇸",
         "marker": {
          "color": "#EF553B",
          "symbol": "diamond"
         },
         "mode": "markers",
         "name": "Lesotho, 🇱🇸",
         "orientation": "v",
         "showlegend": true,
         "type": "scatter",
         "x": [
          "LS"
         ],
         "xaxis": "x",
         "y": [
          1166.5
         ],
         "yaxis": "y"
        },
        {
         "hovertemplate": "Country Name=Seychelles<br>flag=🇸🇨<br>2alphaCode=%{x}<br>2021=%{y}<extra></extra>",
         "legendgroup": "Seychelles, 🇸🇨",
         "marker": {
          "color": "#00cc96",
          "symbol": "square"
         },
         "mode": "markers",
         "name": "Seychelles, 🇸🇨",
         "orientation": "v",
         "showlegend": true,
         "type": "scatter",
         "x": [
          "SC"
         ],
         "xaxis": "x",
         "y": [
          13306.7
         ],
         "yaxis": "y"
        },
        {
         "hovertemplate": "Country Name=Zambia<br>flag=🇿🇲<br>2alphaCode=%{x}<br>2021=%{y}<extra></extra>",
         "legendgroup": "Zambia, 🇿🇲",
         "marker": {
          "color": "#ab63fa",
          "symbol": "x"
         },
         "mode": "markers",
         "name": "Zambia, 🇿🇲",
         "orientation": "v",
         "showlegend": true,
         "type": "scatter",
         "x": [
          "ZM"
         ],
         "xaxis": "x",
         "y": [
          1120.6
         ],
         "yaxis": "y"
        },
        {
         "hovertemplate": "Country Name=Liberia<br>flag=🇱🇷<br>2alphaCode=%{x}<br>2021=%{y}<extra></extra>",
         "legendgroup": "Liberia, 🇱🇷",
         "marker": {
          "color": "#FFA15A",
          "symbol": "cross"
         },
         "mode": "markers",
         "name": "Liberia, 🇱🇷",
         "orientation": "v",
         "showlegend": true,
         "type": "scatter",
         "x": [
          "LR"
         ],
         "xaxis": "x",
         "y": [
          673.1
         ],
         "yaxis": "y"
        },
        {
         "hovertemplate": "Country Name=Burkina Faso<br>flag=🇧🇫<br>2alphaCode=%{x}<br>2021=%{y}<extra></extra>",
         "legendgroup": "Burkina Faso, 🇧🇫",
         "marker": {
          "color": "#19d3f3",
          "symbol": "circle"
         },
         "mode": "markers",
         "name": "Burkina Faso, 🇧🇫",
         "orientation": "v",
         "showlegend": true,
         "type": "scatter",
         "x": [
          "BF"
         ],
         "xaxis": "x",
         "y": [
          918.2
         ],
         "yaxis": "y"
        },
        {
         "hovertemplate": "Country Name=South Africa<br>flag=🇿🇦<br>2alphaCode=%{x}<br>2021=%{y}<extra></extra>",
         "legendgroup": "South Africa, 🇿🇦",
         "marker": {
          "color": "#FF6692",
          "symbol": "diamond"
         },
         "mode": "markers",
         "name": "South Africa, 🇿🇦",
         "orientation": "v",
         "showlegend": true,
         "type": "scatter",
         "x": [
          "ZA"
         ],
         "xaxis": "x",
         "y": [
          6994.2
         ],
         "yaxis": "y"
        },
        {
         "hovertemplate": "Country Name=Uganda<br>flag=🇺🇬<br>2alphaCode=%{x}<br>2021=%{y}<extra></extra>",
         "legendgroup": "Uganda, 🇺🇬",
         "marker": {
          "color": "#B6E880",
          "symbol": "square"
         },
         "mode": "markers",
         "name": "Uganda, 🇺🇬",
         "orientation": "v",
         "showlegend": true,
         "type": "scatter",
         "x": [
          "UG"
         ],
         "xaxis": "x",
         "y": [
          858.1
         ],
         "yaxis": "y"
        },
        {
         "hovertemplate": "Country Name=Gambia, The<br>flag=🇬🇲<br>2alphaCode=%{x}<br>2021=%{y}<extra></extra>",
         "legendgroup": "Gambia, The, 🇬🇲",
         "marker": {
          "color": "#FF97FF",
          "symbol": "x"
         },
         "mode": "markers",
         "name": "Gambia, The, 🇬🇲",
         "orientation": "v",
         "showlegend": true,
         "type": "scatter",
         "x": [
          "GM"
         ],
         "xaxis": "x",
         "y": [
          835.6
         ],
         "yaxis": "y"
        },
        {
         "hovertemplate": "Country Name=Guinea<br>flag=🇬🇳<br>2alphaCode=%{x}<br>2021=%{y}<extra></extra>",
         "legendgroup": "Guinea, 🇬🇳",
         "marker": {
          "color": "#FECB52",
          "symbol": "cross"
         },
         "mode": "markers",
         "name": "Guinea, 🇬🇳",
         "orientation": "v",
         "showlegend": true,
         "type": "scatter",
         "x": [
          "GN"
         ],
         "xaxis": "x",
         "y": [
          1174.4
         ],
         "yaxis": "y"
        },
        {
         "hovertemplate": "Country Name=Ghana<br>flag=🇬🇭<br>2alphaCode=%{x}<br>2021=%{y}<extra></extra>",
         "legendgroup": "Ghana, 🇬🇭",
         "marker": {
          "color": "#636efa",
          "symbol": "circle"
         },
         "mode": "markers",
         "name": "Ghana, 🇬🇭",
         "orientation": "v",
         "showlegend": true,
         "type": "scatter",
         "x": [
          "GH"
         ],
         "xaxis": "x",
         "y": [
          2445.3
         ],
         "yaxis": "y"
        },
        {
         "hovertemplate": "Country Name=Gabon<br>flag=🇬🇦<br>2alphaCode=%{x}<br>2021=%{y}<extra></extra>",
         "legendgroup": "Gabon, 🇬🇦",
         "marker": {
          "color": "#EF553B",
          "symbol": "diamond"
         },
         "mode": "markers",
         "name": "Gabon, 🇬🇦",
         "orientation": "v",
         "showlegend": true,
         "type": "scatter",
         "x": [
          "GA"
         ],
         "xaxis": "x",
         "y": [
          8017
         ],
         "yaxis": "y"
        },
        {
         "hovertemplate": "Country Name=Ethiopia<br>flag=🇪🇹<br>2alphaCode=%{x}<br>2021=%{y}<extra></extra>",
         "legendgroup": "Ethiopia, 🇪🇹",
         "marker": {
          "color": "#00cc96",
          "symbol": "square"
         },
         "mode": "markers",
         "name": "Ethiopia, 🇪🇹",
         "orientation": "v",
         "showlegend": true,
         "type": "scatter",
         "x": [
          "ET"
         ],
         "xaxis": "x",
         "y": [
          944
         ],
         "yaxis": "y"
        },
        {
         "hovertemplate": "Country Name=Eritrea<br>flag=🇪🇷<br>2alphaCode=%{x}<br>2021=%{y}<extra></extra>",
         "legendgroup": "Eritrea, 🇪🇷",
         "marker": {
          "color": "#ab63fa",
          "symbol": "x"
         },
         "mode": "markers",
         "name": "Eritrea, 🇪🇷",
         "orientation": "v",
         "showlegend": true,
         "type": "scatter",
         "x": [
          "ER"
         ],
         "xaxis": "x",
         "y": [
          0
         ],
         "yaxis": "y"
        },
        {
         "hovertemplate": "Country Name=Guinea-Bissau<br>flag=🇬🇼<br>2alphaCode=%{x}<br>2021=%{y}<extra></extra>",
         "legendgroup": "Guinea-Bissau, 🇬🇼",
         "marker": {
          "color": "#FFA15A",
          "symbol": "cross"
         },
         "mode": "markers",
         "name": "Guinea-Bissau, 🇬🇼",
         "orientation": "v",
         "showlegend": true,
         "type": "scatter",
         "x": [
          "GW"
         ],
         "xaxis": "x",
         "y": [
          813
         ],
         "yaxis": "y"
        },
        {
         "hovertemplate": "Country Name=Equatorial Guinea<br>flag=🇬🇶<br>2alphaCode=%{x}<br>2021=%{y}<extra></extra>",
         "legendgroup": "Equatorial Guinea, 🇬🇶",
         "marker": {
          "color": "#19d3f3",
          "symbol": "circle"
         },
         "mode": "markers",
         "name": "Equatorial Guinea, 🇬🇶",
         "orientation": "v",
         "showlegend": true,
         "type": "scatter",
         "x": [
          "GQ"
         ],
         "xaxis": "x",
         "y": [
          8462.3
         ],
         "yaxis": "y"
        },
        {
         "hovertemplate": "Country Name=Nigeria<br>flag=🇳🇬<br>2alphaCode=%{x}<br>2021=%{y}<extra></extra>",
         "legendgroup": "Nigeria, 🇳🇬",
         "marker": {
          "color": "#FF6692",
          "symbol": "diamond"
         },
         "mode": "markers",
         "name": "Nigeria, 🇳🇬",
         "orientation": "v",
         "showlegend": true,
         "type": "scatter",
         "x": [
          "NG"
         ],
         "xaxis": "x",
         "y": [
          2085
         ],
         "yaxis": "y"
        },
        {
         "hovertemplate": "Country Name=Niger<br>flag=🇳🇪<br>2alphaCode=%{x}<br>2021=%{y}<extra></extra>",
         "legendgroup": "Niger, 🇳🇪",
         "marker": {
          "color": "#B6E880",
          "symbol": "square"
         },
         "mode": "markers",
         "name": "Niger, 🇳🇪",
         "orientation": "v",
         "showlegend": true,
         "type": "scatter",
         "x": [
          "NE"
         ],
         "xaxis": "x",
         "y": [
          594.9
         ],
         "yaxis": "y"
        },
        {
         "hovertemplate": "Country Name=Malawi<br>flag=🇲🇼<br>2alphaCode=%{x}<br>2021=%{y}<extra></extra>",
         "legendgroup": "Malawi, 🇲🇼",
         "marker": {
          "color": "#FF97FF",
          "symbol": "x"
         },
         "mode": "markers",
         "name": "Malawi, 🇲🇼",
         "orientation": "v",
         "showlegend": true,
         "type": "scatter",
         "x": [
          "MW"
         ],
         "xaxis": "x",
         "y": [
          642.7
         ],
         "yaxis": "y"
        },
        {
         "hovertemplate": "Country Name=Mauritius<br>flag=🇲🇺<br>2alphaCode=%{x}<br>2021=%{y}<extra></extra>",
         "legendgroup": "Mauritius, 🇲🇺",
         "marker": {
          "color": "#FECB52",
          "symbol": "cross"
         },
         "mode": "markers",
         "name": "Mauritius, 🇲🇺",
         "orientation": "v",
         "showlegend": true,
         "type": "scatter",
         "x": [
          "MU"
         ],
         "xaxis": "x",
         "y": [
          8812.1
         ],
         "yaxis": "y"
        },
        {
         "hovertemplate": "Country Name=Mauritania<br>flag=🇲🇷<br>2alphaCode=%{x}<br>2021=%{y}<extra></extra>",
         "legendgroup": "Mauritania, 🇲🇷",
         "marker": {
          "color": "#636efa",
          "symbol": "circle"
         },
         "mode": "markers",
         "name": "Mauritania, 🇲🇷",
         "orientation": "v",
         "showlegend": true,
         "type": "scatter",
         "x": [
          "MR"
         ],
         "xaxis": "x",
         "y": [
          1723
         ],
         "yaxis": "y"
        },
        {
         "hovertemplate": "Country Name=Mozambique<br>flag=🇲🇿<br>2alphaCode=%{x}<br>2021=%{y}<extra></extra>",
         "legendgroup": "Mozambique, 🇲🇿",
         "marker": {
          "color": "#EF553B",
          "symbol": "diamond"
         },
         "mode": "markers",
         "name": "Mozambique, 🇲🇿",
         "orientation": "v",
         "showlegend": true,
         "type": "scatter",
         "x": [
          "MZ"
         ],
         "xaxis": "x",
         "y": [
          500.4
         ],
         "yaxis": "y"
        },
        {
         "hovertemplate": "Country Name=Rwanda<br>flag=🇷🇼<br>2alphaCode=%{x}<br>2021=%{y}<extra></extra>",
         "legendgroup": "Rwanda, 🇷🇼",
         "marker": {
          "color": "#00cc96",
          "symbol": "square"
         },
         "mode": "markers",
         "name": "Rwanda, 🇷🇼",
         "orientation": "v",
         "showlegend": true,
         "type": "scatter",
         "x": [
          "RW"
         ],
         "xaxis": "x",
         "y": [
          833.8
         ],
         "yaxis": "y"
        },
        {
         "hovertemplate": "Country Name=Sudan<br>flag=🇸🇩<br>2alphaCode=%{x}<br>2021=%{y}<extra></extra>",
         "legendgroup": "Sudan, 🇸🇩",
         "marker": {
          "color": "#ab63fa",
          "symbol": "x"
         },
         "mode": "markers",
         "name": "Sudan, 🇸🇩",
         "orientation": "v",
         "showlegend": true,
         "type": "scatter",
         "x": [
          "SD"
         ],
         "xaxis": "x",
         "y": [
          764.3
         ],
         "yaxis": "y"
        },
        {
         "hovertemplate": "Country Name=Senegal<br>flag=🇸🇳<br>2alphaCode=%{x}<br>2021=%{y}<extra></extra>",
         "legendgroup": "Senegal, 🇸🇳",
         "marker": {
          "color": "#FFA15A",
          "symbol": "cross"
         },
         "mode": "markers",
         "name": "Senegal, 🇸🇳",
         "orientation": "v",
         "showlegend": true,
         "type": "scatter",
         "x": [
          "SN"
         ],
         "xaxis": "x",
         "y": [
          1606.5
         ],
         "yaxis": "y"
        },
        {
         "hovertemplate": "Country Name=Cabo Verde<br>flag=🇨🇻<br>2alphaCode=%{x}<br>2021=%{y}<extra></extra>",
         "legendgroup": "Cabo Verde, 🇨🇻",
         "marker": {
          "color": "#19d3f3",
          "symbol": "circle"
         },
         "mode": "markers",
         "name": "Cabo Verde, 🇨🇻",
         "orientation": "v",
         "showlegend": true,
         "type": "scatter",
         "x": [
          "CV"
         ],
         "xaxis": "x",
         "y": [
          3445.8
         ],
         "yaxis": "y"
        },
        {
         "hovertemplate": "Country Name=Sierra Leone<br>flag=🇸🇱<br>2alphaCode=%{x}<br>2021=%{y}<extra></extra>",
         "legendgroup": "Sierra Leone, 🇸🇱",
         "marker": {
          "color": "#FF6692",
          "symbol": "diamond"
         },
         "mode": "markers",
         "name": "Sierra Leone, 🇸🇱",
         "orientation": "v",
         "showlegend": true,
         "type": "scatter",
         "x": [
          "SL"
         ],
         "xaxis": "x",
         "y": [
          515.9
         ],
         "yaxis": "y"
        },
        {
         "hovertemplate": "Country Name=Comoros<br>flag=🇰🇲<br>2alphaCode=%{x}<br>2021=%{y}<extra></extra>",
         "legendgroup": "Comoros, 🇰🇲",
         "marker": {
          "color": "#B6E880",
          "symbol": "square"
         },
         "mode": "markers",
         "name": "Comoros, 🇰🇲",
         "orientation": "v",
         "showlegend": true,
         "type": "scatter",
         "x": [
          "KM"
         ],
         "xaxis": "x",
         "y": [
          1494.7
         ],
         "yaxis": "y"
        },
        {
         "hovertemplate": "Country Name=Mali<br>flag=🇲🇱<br>2alphaCode=%{x}<br>2021=%{y}<extra></extra>",
         "legendgroup": "Mali, 🇲🇱",
         "marker": {
          "color": "#FF97FF",
          "symbol": "x"
         },
         "mode": "markers",
         "name": "Mali, 🇲🇱",
         "orientation": "v",
         "showlegend": true,
         "type": "scatter",
         "x": [
          "ML"
         ],
         "xaxis": "x",
         "y": [
          917.9
         ],
         "yaxis": "y"
        },
        {
         "hovertemplate": "Country Name=Congo, Rep.<br>flag=🇨🇬<br>2alphaCode=%{x}<br>2021=%{y}<extra></extra>",
         "legendgroup": "Congo, Rep., 🇨🇬",
         "marker": {
          "color": "#FECB52",
          "symbol": "cross"
         },
         "mode": "markers",
         "name": "Congo, Rep., 🇨🇬",
         "orientation": "v",
         "showlegend": true,
         "type": "scatter",
         "x": [
          "CG"
         ],
         "xaxis": "x",
         "y": [
          2213.9
         ],
         "yaxis": "y"
        },
        {
         "hovertemplate": "Country Name=South Sudan<br>flag=🇸🇸<br>2alphaCode=%{x}<br>2021=%{y}<extra></extra>",
         "legendgroup": "South Sudan, 🇸🇸",
         "marker": {
          "color": "#636efa",
          "symbol": "circle"
         },
         "mode": "markers",
         "name": "South Sudan, 🇸🇸",
         "orientation": "v",
         "showlegend": true,
         "type": "scatter",
         "x": [
          "SS"
         ],
         "xaxis": "x",
         "y": [
          0
         ],
         "yaxis": "y"
        },
        {
         "hovertemplate": "Country Name=Sao Tome and Principe<br>flag=🇸🇹<br>2alphaCode=%{x}<br>2021=%{y}<extra></extra>",
         "legendgroup": "Sao Tome and Principe, 🇸🇹",
         "marker": {
          "color": "#EF553B",
          "symbol": "diamond"
         },
         "mode": "markers",
         "name": "Sao Tome and Principe, 🇸🇹",
         "orientation": "v",
         "showlegend": true,
         "type": "scatter",
         "x": [
          "ST"
         ],
         "xaxis": "x",
         "y": [
          2449.3
         ],
         "yaxis": "y"
        },
        {
         "hovertemplate": "Country Name=Congo, Dem. Rep.<br>flag=🇨🇩<br>2alphaCode=%{x}<br>2021=%{y}<extra></extra>",
         "legendgroup": "Congo, Dem. Rep., 🇨🇩",
         "marker": {
          "color": "#00cc96",
          "symbol": "square"
         },
         "mode": "markers",
         "name": "Congo, Dem. Rep., 🇨🇩",
         "orientation": "v",
         "showlegend": true,
         "type": "scatter",
         "x": [
          "CD"
         ],
         "xaxis": "x",
         "y": [
          584.1
         ],
         "yaxis": "y"
        },
        {
         "hovertemplate": "Country Name=Cameroon<br>flag=🇨🇲<br>2alphaCode=%{x}<br>2021=%{y}<extra></extra>",
         "legendgroup": "Cameroon, 🇨🇲",
         "marker": {
          "color": "#ab63fa",
          "symbol": "x"
         },
         "mode": "markers",
         "name": "Cameroon, 🇨🇲",
         "orientation": "v",
         "showlegend": true,
         "type": "scatter",
         "x": [
          "CM"
         ],
         "xaxis": "x",
         "y": [
          1661.7
         ],
         "yaxis": "y"
        },
        {
         "hovertemplate": "Country Name=Cote d'Ivoire<br>flag=🇨🇮<br>2alphaCode=%{x}<br>2021=%{y}<extra></extra>",
         "legendgroup": "Cote d'Ivoire, 🇨🇮",
         "marker": {
          "color": "#FFA15A",
          "symbol": "cross"
         },
         "mode": "markers",
         "name": "Cote d'Ivoire, 🇨🇮",
         "orientation": "v",
         "showlegend": true,
         "type": "scatter",
         "x": [
          "CI"
         ],
         "xaxis": "x",
         "y": [
          2578.8
         ],
         "yaxis": "y"
        },
        {
         "hovertemplate": "Country Name=Eswatini<br>flag=🇸🇿<br>2alphaCode=%{x}<br>2021=%{y}<extra></extra>",
         "legendgroup": "Eswatini, 🇸🇿",
         "marker": {
          "color": "#19d3f3",
          "symbol": "circle"
         },
         "mode": "markers",
         "name": "Eswatini, 🇸🇿",
         "orientation": "v",
         "showlegend": true,
         "type": "scatter",
         "x": [
          "SZ"
         ],
         "xaxis": "x",
         "y": [
          4214.9
         ],
         "yaxis": "y"
        },
        {
         "hovertemplate": "Country Name=Zimbabwe<br>flag=🇿🇼<br>2alphaCode=%{x}<br>2021=%{y}<extra></extra>",
         "legendgroup": "Zimbabwe, 🇿🇼",
         "marker": {
          "color": "#FF6692",
          "symbol": "diamond"
         },
         "mode": "markers",
         "name": "Zimbabwe, 🇿🇼",
         "orientation": "v",
         "showlegend": true,
         "type": "scatter",
         "x": [
          "ZW"
         ],
         "xaxis": "x",
         "y": [
          1737.2
         ],
         "yaxis": "y"
        }
       ],
       "layout": {
        "autosize": true,
        "font": {
         "color": "black",
         "family": "Arial"
        },
        "legend": {
         "title": {
          "font": {
           "color": "green"
          },
          "text": "Country"
         },
         "tracegroupgap": 0
        },
        "template": {
         "data": {
          "bar": [
           {
            "error_x": {
             "color": "#2a3f5f"
            },
            "error_y": {
             "color": "#2a3f5f"
            },
            "marker": {
             "line": {
              "color": "#E5ECF6",
              "width": 0.5
             },
             "pattern": {
              "fillmode": "overlay",
              "size": 10,
              "solidity": 0.2
             }
            },
            "type": "bar"
           }
          ],
          "barpolar": [
           {
            "marker": {
             "line": {
              "color": "#E5ECF6",
              "width": 0.5
             },
             "pattern": {
              "fillmode": "overlay",
              "size": 10,
              "solidity": 0.2
             }
            },
            "type": "barpolar"
           }
          ],
          "carpet": [
           {
            "aaxis": {
             "endlinecolor": "#2a3f5f",
             "gridcolor": "white",
             "linecolor": "white",
             "minorgridcolor": "white",
             "startlinecolor": "#2a3f5f"
            },
            "baxis": {
             "endlinecolor": "#2a3f5f",
             "gridcolor": "white",
             "linecolor": "white",
             "minorgridcolor": "white",
             "startlinecolor": "#2a3f5f"
            },
            "type": "carpet"
           }
          ],
          "choropleth": [
           {
            "colorbar": {
             "outlinewidth": 0,
             "ticks": ""
            },
            "type": "choropleth"
           }
          ],
          "contour": [
           {
            "colorbar": {
             "outlinewidth": 0,
             "ticks": ""
            },
            "colorscale": [
             [
              0,
              "#0d0887"
             ],
             [
              0.1111111111111111,
              "#46039f"
             ],
             [
              0.2222222222222222,
              "#7201a8"
             ],
             [
              0.3333333333333333,
              "#9c179e"
             ],
             [
              0.4444444444444444,
              "#bd3786"
             ],
             [
              0.5555555555555556,
              "#d8576b"
             ],
             [
              0.6666666666666666,
              "#ed7953"
             ],
             [
              0.7777777777777778,
              "#fb9f3a"
             ],
             [
              0.8888888888888888,
              "#fdca26"
             ],
             [
              1,
              "#f0f921"
             ]
            ],
            "type": "contour"
           }
          ],
          "contourcarpet": [
           {
            "colorbar": {
             "outlinewidth": 0,
             "ticks": ""
            },
            "type": "contourcarpet"
           }
          ],
          "heatmap": [
           {
            "colorbar": {
             "outlinewidth": 0,
             "ticks": ""
            },
            "colorscale": [
             [
              0,
              "#0d0887"
             ],
             [
              0.1111111111111111,
              "#46039f"
             ],
             [
              0.2222222222222222,
              "#7201a8"
             ],
             [
              0.3333333333333333,
              "#9c179e"
             ],
             [
              0.4444444444444444,
              "#bd3786"
             ],
             [
              0.5555555555555556,
              "#d8576b"
             ],
             [
              0.6666666666666666,
              "#ed7953"
             ],
             [
              0.7777777777777778,
              "#fb9f3a"
             ],
             [
              0.8888888888888888,
              "#fdca26"
             ],
             [
              1,
              "#f0f921"
             ]
            ],
            "type": "heatmap"
           }
          ],
          "heatmapgl": [
           {
            "colorbar": {
             "outlinewidth": 0,
             "ticks": ""
            },
            "colorscale": [
             [
              0,
              "#0d0887"
             ],
             [
              0.1111111111111111,
              "#46039f"
             ],
             [
              0.2222222222222222,
              "#7201a8"
             ],
             [
              0.3333333333333333,
              "#9c179e"
             ],
             [
              0.4444444444444444,
              "#bd3786"
             ],
             [
              0.5555555555555556,
              "#d8576b"
             ],
             [
              0.6666666666666666,
              "#ed7953"
             ],
             [
              0.7777777777777778,
              "#fb9f3a"
             ],
             [
              0.8888888888888888,
              "#fdca26"
             ],
             [
              1,
              "#f0f921"
             ]
            ],
            "type": "heatmapgl"
           }
          ],
          "histogram": [
           {
            "marker": {
             "pattern": {
              "fillmode": "overlay",
              "size": 10,
              "solidity": 0.2
             }
            },
            "type": "histogram"
           }
          ],
          "histogram2d": [
           {
            "colorbar": {
             "outlinewidth": 0,
             "ticks": ""
            },
            "colorscale": [
             [
              0,
              "#0d0887"
             ],
             [
              0.1111111111111111,
              "#46039f"
             ],
             [
              0.2222222222222222,
              "#7201a8"
             ],
             [
              0.3333333333333333,
              "#9c179e"
             ],
             [
              0.4444444444444444,
              "#bd3786"
             ],
             [
              0.5555555555555556,
              "#d8576b"
             ],
             [
              0.6666666666666666,
              "#ed7953"
             ],
             [
              0.7777777777777778,
              "#fb9f3a"
             ],
             [
              0.8888888888888888,
              "#fdca26"
             ],
             [
              1,
              "#f0f921"
             ]
            ],
            "type": "histogram2d"
           }
          ],
          "histogram2dcontour": [
           {
            "colorbar": {
             "outlinewidth": 0,
             "ticks": ""
            },
            "colorscale": [
             [
              0,
              "#0d0887"
             ],
             [
              0.1111111111111111,
              "#46039f"
             ],
             [
              0.2222222222222222,
              "#7201a8"
             ],
             [
              0.3333333333333333,
              "#9c179e"
             ],
             [
              0.4444444444444444,
              "#bd3786"
             ],
             [
              0.5555555555555556,
              "#d8576b"
             ],
             [
              0.6666666666666666,
              "#ed7953"
             ],
             [
              0.7777777777777778,
              "#fb9f3a"
             ],
             [
              0.8888888888888888,
              "#fdca26"
             ],
             [
              1,
              "#f0f921"
             ]
            ],
            "type": "histogram2dcontour"
           }
          ],
          "mesh3d": [
           {
            "colorbar": {
             "outlinewidth": 0,
             "ticks": ""
            },
            "type": "mesh3d"
           }
          ],
          "parcoords": [
           {
            "line": {
             "colorbar": {
              "outlinewidth": 0,
              "ticks": ""
             }
            },
            "type": "parcoords"
           }
          ],
          "pie": [
           {
            "automargin": true,
            "type": "pie"
           }
          ],
          "scatter": [
           {
            "marker": {
             "colorbar": {
              "outlinewidth": 0,
              "ticks": ""
             }
            },
            "type": "scatter"
           }
          ],
          "scatter3d": [
           {
            "line": {
             "colorbar": {
              "outlinewidth": 0,
              "ticks": ""
             }
            },
            "marker": {
             "colorbar": {
              "outlinewidth": 0,
              "ticks": ""
             }
            },
            "type": "scatter3d"
           }
          ],
          "scattercarpet": [
           {
            "marker": {
             "colorbar": {
              "outlinewidth": 0,
              "ticks": ""
             }
            },
            "type": "scattercarpet"
           }
          ],
          "scattergeo": [
           {
            "marker": {
             "colorbar": {
              "outlinewidth": 0,
              "ticks": ""
             }
            },
            "type": "scattergeo"
           }
          ],
          "scattergl": [
           {
            "marker": {
             "colorbar": {
              "outlinewidth": 0,
              "ticks": ""
             }
            },
            "type": "scattergl"
           }
          ],
          "scattermapbox": [
           {
            "marker": {
             "colorbar": {
              "outlinewidth": 0,
              "ticks": ""
             }
            },
            "type": "scattermapbox"
           }
          ],
          "scatterpolar": [
           {
            "marker": {
             "colorbar": {
              "outlinewidth": 0,
              "ticks": ""
             }
            },
            "type": "scatterpolar"
           }
          ],
          "scatterpolargl": [
           {
            "marker": {
             "colorbar": {
              "outlinewidth": 0,
              "ticks": ""
             }
            },
            "type": "scatterpolargl"
           }
          ],
          "scatterternary": [
           {
            "marker": {
             "colorbar": {
              "outlinewidth": 0,
              "ticks": ""
             }
            },
            "type": "scatterternary"
           }
          ],
          "surface": [
           {
            "colorbar": {
             "outlinewidth": 0,
             "ticks": ""
            },
            "colorscale": [
             [
              0,
              "#0d0887"
             ],
             [
              0.1111111111111111,
              "#46039f"
             ],
             [
              0.2222222222222222,
              "#7201a8"
             ],
             [
              0.3333333333333333,
              "#9c179e"
             ],
             [
              0.4444444444444444,
              "#bd3786"
             ],
             [
              0.5555555555555556,
              "#d8576b"
             ],
             [
              0.6666666666666666,
              "#ed7953"
             ],
             [
              0.7777777777777778,
              "#fb9f3a"
             ],
             [
              0.8888888888888888,
              "#fdca26"
             ],
             [
              1,
              "#f0f921"
             ]
            ],
            "type": "surface"
           }
          ],
          "table": [
           {
            "cells": {
             "fill": {
              "color": "#EBF0F8"
             },
             "line": {
              "color": "white"
             }
            },
            "header": {
             "fill": {
              "color": "#C8D4E3"
             },
             "line": {
              "color": "white"
             }
            },
            "type": "table"
           }
          ]
         },
         "layout": {
          "annotationdefaults": {
           "arrowcolor": "#2a3f5f",
           "arrowhead": 0,
           "arrowwidth": 1
          },
          "autotypenumbers": "strict",
          "coloraxis": {
           "colorbar": {
            "outlinewidth": 0,
            "ticks": ""
           }
          },
          "colorscale": {
           "diverging": [
            [
             0,
             "#8e0152"
            ],
            [
             0.1,
             "#c51b7d"
            ],
            [
             0.2,
             "#de77ae"
            ],
            [
             0.3,
             "#f1b6da"
            ],
            [
             0.4,
             "#fde0ef"
            ],
            [
             0.5,
             "#f7f7f7"
            ],
            [
             0.6,
             "#e6f5d0"
            ],
            [
             0.7,
             "#b8e186"
            ],
            [
             0.8,
             "#7fbc41"
            ],
            [
             0.9,
             "#4d9221"
            ],
            [
             1,
             "#276419"
            ]
           ],
           "sequential": [
            [
             0,
             "#0d0887"
            ],
            [
             0.1111111111111111,
             "#46039f"
            ],
            [
             0.2222222222222222,
             "#7201a8"
            ],
            [
             0.3333333333333333,
             "#9c179e"
            ],
            [
             0.4444444444444444,
             "#bd3786"
            ],
            [
             0.5555555555555556,
             "#d8576b"
            ],
            [
             0.6666666666666666,
             "#ed7953"
            ],
            [
             0.7777777777777778,
             "#fb9f3a"
            ],
            [
             0.8888888888888888,
             "#fdca26"
            ],
            [
             1,
             "#f0f921"
            ]
           ],
           "sequentialminus": [
            [
             0,
             "#0d0887"
            ],
            [
             0.1111111111111111,
             "#46039f"
            ],
            [
             0.2222222222222222,
             "#7201a8"
            ],
            [
             0.3333333333333333,
             "#9c179e"
            ],
            [
             0.4444444444444444,
             "#bd3786"
            ],
            [
             0.5555555555555556,
             "#d8576b"
            ],
            [
             0.6666666666666666,
             "#ed7953"
            ],
            [
             0.7777777777777778,
             "#fb9f3a"
            ],
            [
             0.8888888888888888,
             "#fdca26"
            ],
            [
             1,
             "#f0f921"
            ]
           ]
          },
          "colorway": [
           "#636efa",
           "#EF553B",
           "#00cc96",
           "#ab63fa",
           "#FFA15A",
           "#19d3f3",
           "#FF6692",
           "#B6E880",
           "#FF97FF",
           "#FECB52"
          ],
          "font": {
           "color": "#2a3f5f"
          },
          "geo": {
           "bgcolor": "white",
           "lakecolor": "white",
           "landcolor": "#E5ECF6",
           "showlakes": true,
           "showland": true,
           "subunitcolor": "white"
          },
          "hoverlabel": {
           "align": "left"
          },
          "hovermode": "closest",
          "mapbox": {
           "style": "light"
          },
          "paper_bgcolor": "white",
          "plot_bgcolor": "#E5ECF6",
          "polar": {
           "angularaxis": {
            "gridcolor": "white",
            "linecolor": "white",
            "ticks": ""
           },
           "bgcolor": "#E5ECF6",
           "radialaxis": {
            "gridcolor": "white",
            "linecolor": "white",
            "ticks": ""
           }
          },
          "scene": {
           "xaxis": {
            "backgroundcolor": "#E5ECF6",
            "gridcolor": "white",
            "gridwidth": 2,
            "linecolor": "white",
            "showbackground": true,
            "ticks": "",
            "zerolinecolor": "white"
           },
           "yaxis": {
            "backgroundcolor": "#E5ECF6",
            "gridcolor": "white",
            "gridwidth": 2,
            "linecolor": "white",
            "showbackground": true,
            "ticks": "",
            "zerolinecolor": "white"
           },
           "zaxis": {
            "backgroundcolor": "#E5ECF6",
            "gridcolor": "white",
            "gridwidth": 2,
            "linecolor": "white",
            "showbackground": true,
            "ticks": "",
            "zerolinecolor": "white"
           }
          },
          "shapedefaults": {
           "line": {
            "color": "#2a3f5f"
           }
          },
          "ternary": {
           "aaxis": {
            "gridcolor": "white",
            "linecolor": "white",
            "ticks": ""
           },
           "baxis": {
            "gridcolor": "white",
            "linecolor": "white",
            "ticks": ""
           },
           "bgcolor": "#E5ECF6",
           "caxis": {
            "gridcolor": "white",
            "linecolor": "white",
            "ticks": ""
           }
          },
          "title": {
           "x": 0.05
          },
          "xaxis": {
           "automargin": true,
           "gridcolor": "white",
           "linecolor": "white",
           "ticks": "",
           "title": {
            "standoff": 15
           },
           "zerolinecolor": "white",
           "zerolinewidth": 2
          },
          "yaxis": {
           "automargin": true,
           "gridcolor": "white",
           "linecolor": "white",
           "ticks": "",
           "title": {
            "standoff": 15
           },
           "zerolinecolor": "white",
           "zerolinewidth": 2
          }
         }
        },
        "title": {
         "font": {
          "color": "orange",
          "family": "Arial"
         },
         "text": "GDP per country on 2021"
        },
        "xaxis": {
         "anchor": "y",
         "autorange": true,
         "domain": [
          0,
          1
         ],
         "range": [
          -9.96499140893471,
          175.9649914089347
         ],
         "title": {
          "text": ""
         },
         "type": "category"
        },
        "yaxis": {
         "anchor": "x",
         "autorange": true,
         "domain": [
          0,
          1
         ],
         "range": [
          -11197.12427184466,
          146879.92427184465
         ],
         "title": {
          "text": "year 2021"
         },
         "type": "linear"
        }
       }
      },
      "image/png": "[encoded data removed]",
      "text/html": [
       "<div>                            <div id=\"017645ac-acd9-46db-b34f-4e7bfd36de50\" class=\"plotly-graph-div\" style=\"height:525px; width:100%;\"></div>            <script type=\"text/javascript\">                require([\"plotly\"], function(Plotly) {                    window.PLOTLYENV=window.PLOTLYENV || {};                                    if (document.getElementById(\"017645ac-acd9-46db-b34f-4e7bfd36de50\")) {                    Plotly.newPlot(                        \"017645ac-acd9-46db-b34f-4e7bfd36de50\",                        [{\"hovertemplate\":\"Country Name=Lao PDR<br>flag=\\ud83c\\uddf1\\ud83c\\udde6<br>2alphaCode=%{x}<br>2021=%{y}<extra></extra>\",\"legendgroup\":\"Lao PDR, \\ud83c\\uddf1\\ud83c\\udde6\",\"marker\":{\"color\":\"#636efa\",\"symbol\":\"circle\"},\"mode\":\"markers\",\"name\":\"Lao PDR, \\ud83c\\uddf1\\ud83c\\udde6\",\"orientation\":\"v\",\"showlegend\":true,\"x\":[\"LA\"],\"xaxis\":\"x\",\"y\":[2551.3],\"yaxis\":\"y\",\"type\":\"scatter\"},{\"hovertemplate\":\"Country Name=Indonesia<br>flag=\\ud83c\\uddee\\ud83c\\udde9<br>2alphaCode=%{x}<br>2021=%{y}<extra></extra>\",\"legendgroup\":\"Indonesia, \\ud83c\\uddee\\ud83c\\udde9\",\"marker\":{\"color\":\"#EF553B\",\"symbol\":\"diamond\"},\"mode\":\"markers\",\"name\":\"Indonesia, \\ud83c\\uddee\\ud83c\\udde9\",\"orientation\":\"v\",\"showlegend\":true,\"x\":[\"ID\"],\"xaxis\":\"x\",\"y\":[4291.8],\"yaxis\":\"y\",\"type\":\"scatter\"},{\"hovertemplate\":\"Country Name=Mongolia<br>flag=\\ud83c\\uddf2\\ud83c\\uddf3<br>2alphaCode=%{x}<br>2021=%{y}<extra></extra>\",\"legendgroup\":\"Mongolia, \\ud83c\\uddf2\\ud83c\\uddf3\",\"marker\":{\"color\":\"#00cc96\",\"symbol\":\"square\"},\"mode\":\"markers\",\"name\":\"Mongolia, \\ud83c\\uddf2\\ud83c\\uddf3\",\"orientation\":\"v\",\"showlegend\":true,\"x\":[\"MN\"],\"xaxis\":\"x\",\"y\":[4534.9],\"yaxis\":\"y\",\"type\":\"scatter\"},{\"hovertemplate\":\"Country Name=China<br>flag=\\ud83c\\udde8\\ud83c\\uddf3<br>2alphaCode=%{x}<br>2021=%{y}<extra></extra>\",\"legendgroup\":\"China, \\ud83c\\udde8\\ud83c\\uddf3\",\"marker\":{\"color\":\"#ab63fa\",\"symbol\":\"x\"},\"mode\":\"markers\",\"name\":\"China, \\ud83c\\udde8\\ud83c\\uddf3\",\"orientation\":\"v\",\"showlegend\":true,\"x\":[\"CN\"],\"xaxis\":\"x\",\"y\":[12556.3],\"yaxis\":\"y\",\"type\":\"scatter\"},{\"hovertemplate\":\"Country Name=Malaysia<br>flag=\\ud83c\\uddf2\\ud83c\\uddfe<br>2alphaCode=%{x}<br>2021=%{y}<extra></extra>\",\"legendgroup\":\"Malaysia, \\ud83c\\uddf2\\ud83c\\uddfe\",\"marker\":{\"color\":\"#FFA15A\",\"symbol\":\"cross\"},\"mode\":\"markers\",\"name\":\"Malaysia, \\ud83c\\uddf2\\ud83c\\uddfe\",\"orientation\":\"v\",\"showlegend\":true,\"x\":[\"MY\"],\"xaxis\":\"x\",\"y\":[11371.1],\"yaxis\":\"y\",\"type\":\"scatter\"},{\"hovertemplate\":\"Country Name=Solomon Islands<br>flag=\\ud83c\\uddf8\\ud83c\\udde7<br>2alphaCode=%{x}<br>2021=%{y}<extra></extra>\",\"legendgroup\":\"Solomon Islands, \\ud83c\\uddf8\\ud83c\\udde7\",\"marker\":{\"color\":\"#19d3f3\",\"symbol\":\"circle\"},\"mode\":\"markers\",\"name\":\"Solomon Islands, \\ud83c\\uddf8\\ud83c\\udde7\",\"orientation\":\"v\",\"showlegend\":true,\"x\":[\"SB\"],\"xaxis\":\"x\",\"y\":[2337.0],\"yaxis\":\"y\",\"type\":\"scatter\"},{\"hovertemplate\":\"Country Name=Micronesia, Fed. Sts.<br>flag=\\ud83c\\uddeb\\ud83c\\uddf2<br>2alphaCode=%{x}<br>2021=%{y}<extra></extra>\",\"legendgroup\":\"Micronesia, Fed. Sts., \\ud83c\\uddeb\\ud83c\\uddf2\",\"marker\":{\"color\":\"#FF6692\",\"symbol\":\"diamond\"},\"mode\":\"markers\",\"name\":\"Micronesia, Fed. Sts., \\ud83c\\uddeb\\ud83c\\uddf2\",\"orientation\":\"v\",\"showlegend\":true,\"x\":[\"FM\"],\"xaxis\":\"x\",\"y\":[3476.7],\"yaxis\":\"y\",\"type\":\"scatter\"},{\"hovertemplate\":\"Country Name=Fiji<br>flag=\\ud83c\\uddeb\\ud83c\\uddef<br>2alphaCode=%{x}<br>2021=%{y}<extra></extra>\",\"legendgroup\":\"Fiji, \\ud83c\\uddeb\\ud83c\\uddef\",\"marker\":{\"color\":\"#B6E880\",\"symbol\":\"square\"},\"mode\":\"markers\",\"name\":\"Fiji, \\ud83c\\uddeb\\ud83c\\uddef\",\"orientation\":\"v\",\"showlegend\":true,\"x\":[\"FJ\"],\"xaxis\":\"x\",\"y\":[5086.0],\"yaxis\":\"y\",\"type\":\"scatter\"},{\"hovertemplate\":\"Country Name=Papua New Guinea<br>flag=\\ud83c\\uddf5\\ud83c\\uddec<br>2alphaCode=%{x}<br>2021=%{y}<extra></extra>\",\"legendgroup\":\"Papua New Guinea, \\ud83c\\uddf5\\ud83c\\uddec\",\"marker\":{\"color\":\"#FF97FF\",\"symbol\":\"x\"},\"mode\":\"markers\",\"name\":\"Papua New Guinea, \\ud83c\\uddf5\\ud83c\\uddec\",\"orientation\":\"v\",\"showlegend\":true,\"x\":[\"PG\"],\"xaxis\":\"x\",\"y\":[2916.4],\"yaxis\":\"y\",\"type\":\"scatter\"},{\"hovertemplate\":\"Country Name=Palau<br>flag=\\ud83c\\uddf5\\ud83c\\uddfc<br>2alphaCode=%{x}<br>2021=%{y}<extra></extra>\",\"legendgroup\":\"Palau, \\ud83c\\uddf5\\ud83c\\uddfc\",\"marker\":{\"color\":\"#FECB52\",\"symbol\":\"cross\"},\"mode\":\"markers\",\"name\":\"Palau, \\ud83c\\uddf5\\ud83c\\uddfc\",\"orientation\":\"v\",\"showlegend\":true,\"x\":[\"PW\"],\"xaxis\":\"x\",\"y\":[0.0],\"yaxis\":\"y\",\"type\":\"scatter\"},{\"hovertemplate\":\"Country Name=Timor-Leste<br>flag=\\ud83c\\uddf9\\ud83c\\uddf1<br>2alphaCode=%{x}<br>2021=%{y}<extra></extra>\",\"legendgroup\":\"Timor-Leste, \\ud83c\\uddf9\\ud83c\\uddf1\",\"marker\":{\"color\":\"#636efa\",\"symbol\":\"circle\"},\"mode\":\"markers\",\"name\":\"Timor-Leste, \\ud83c\\uddf9\\ud83c\\uddf1\",\"orientation\":\"v\",\"showlegend\":true,\"x\":[\"TL\"],\"xaxis\":\"x\",\"y\":[1457.8],\"yaxis\":\"y\",\"type\":\"scatter\"},{\"hovertemplate\":\"Country Name=Tonga<br>flag=\\ud83c\\uddf9\\ud83c\\uddf4<br>2alphaCode=%{x}<br>2021=%{y}<extra></extra>\",\"legendgroup\":\"Tonga, \\ud83c\\uddf9\\ud83c\\uddf4\",\"marker\":{\"color\":\"#EF553B\",\"symbol\":\"diamond\"},\"mode\":\"markers\",\"name\":\"Tonga, \\ud83c\\uddf9\\ud83c\\uddf4\",\"orientation\":\"v\",\"showlegend\":true,\"x\":[\"TO\"],\"xaxis\":\"x\",\"y\":[0.0],\"yaxis\":\"y\",\"type\":\"scatter\"},{\"hovertemplate\":\"Country Name=Thailand<br>flag=\\ud83c\\uddf9\\ud83c\\udded<br>2alphaCode=%{x}<br>2021=%{y}<extra></extra>\",\"legendgroup\":\"Thailand, \\ud83c\\uddf9\\ud83c\\udded\",\"marker\":{\"color\":\"#00cc96\",\"symbol\":\"square\"},\"mode\":\"markers\",\"name\":\"Thailand, \\ud83c\\uddf9\\ud83c\\udded\",\"orientation\":\"v\",\"showlegend\":true,\"x\":[\"TH\"],\"xaxis\":\"x\",\"y\":[7233.4],\"yaxis\":\"y\",\"type\":\"scatter\"},{\"hovertemplate\":\"Country Name=Philippines<br>flag=\\ud83c\\uddf5\\ud83c\\udded<br>2alphaCode=%{x}<br>2021=%{y}<extra></extra>\",\"legendgroup\":\"Philippines, \\ud83c\\uddf5\\ud83c\\udded\",\"marker\":{\"color\":\"#ab63fa\",\"symbol\":\"x\"},\"mode\":\"markers\",\"name\":\"Philippines, \\ud83c\\uddf5\\ud83c\\udded\",\"orientation\":\"v\",\"showlegend\":true,\"x\":[\"PH\"],\"xaxis\":\"x\",\"y\":[3548.8],\"yaxis\":\"y\",\"type\":\"scatter\"},{\"hovertemplate\":\"Country Name=Myanmar<br>flag=\\ud83c\\uddf2\\ud83c\\uddf2<br>2alphaCode=%{x}<br>2021=%{y}<extra></extra>\",\"legendgroup\":\"Myanmar, \\ud83c\\uddf2\\ud83c\\uddf2\",\"marker\":{\"color\":\"#FFA15A\",\"symbol\":\"cross\"},\"mode\":\"markers\",\"name\":\"Myanmar, \\ud83c\\uddf2\\ud83c\\uddf2\",\"orientation\":\"v\",\"showlegend\":true,\"x\":[\"MM\"],\"xaxis\":\"x\",\"y\":[1187.2],\"yaxis\":\"y\",\"type\":\"scatter\"},{\"hovertemplate\":\"Country Name=Cambodia<br>flag=\\ud83c\\uddf0\\ud83c\\udded<br>2alphaCode=%{x}<br>2021=%{y}<extra></extra>\",\"legendgroup\":\"Cambodia, \\ud83c\\uddf0\\ud83c\\udded\",\"marker\":{\"color\":\"#19d3f3\",\"symbol\":\"circle\"},\"mode\":\"markers\",\"name\":\"Cambodia, \\ud83c\\uddf0\\ud83c\\udded\",\"orientation\":\"v\",\"showlegend\":true,\"x\":[\"KH\"],\"xaxis\":\"x\",\"y\":[1591.0],\"yaxis\":\"y\",\"type\":\"scatter\"},{\"hovertemplate\":\"Country Name=Korea, Rep.<br>flag=\\ud83c\\uddf0\\ud83c\\uddf7<br>2alphaCode=%{x}<br>2021=%{y}<extra></extra>\",\"legendgroup\":\"Korea, Rep., \\ud83c\\uddf0\\ud83c\\uddf7\",\"marker\":{\"color\":\"#FF6692\",\"symbol\":\"diamond\"},\"mode\":\"markers\",\"name\":\"Korea, Rep., \\ud83c\\uddf0\\ud83c\\uddf7\",\"orientation\":\"v\",\"showlegend\":true,\"x\":[\"KR\"],\"xaxis\":\"x\",\"y\":[34757.7],\"yaxis\":\"y\",\"type\":\"scatter\"},{\"hovertemplate\":\"Country Name=Vietnam<br>flag=\\ud83c\\uddfb\\ud83c\\uddf3<br>2alphaCode=%{x}<br>2021=%{y}<extra></extra>\",\"legendgroup\":\"Vietnam, \\ud83c\\uddfb\\ud83c\\uddf3\",\"marker\":{\"color\":\"#B6E880\",\"symbol\":\"square\"},\"mode\":\"markers\",\"name\":\"Vietnam, \\ud83c\\uddfb\\ud83c\\uddf3\",\"orientation\":\"v\",\"showlegend\":true,\"x\":[\"VN\"],\"xaxis\":\"x\",\"y\":[3694.0],\"yaxis\":\"y\",\"type\":\"scatter\"},{\"hovertemplate\":\"Country Name=Japan<br>flag=\\ud83c\\uddef\\ud83c\\uddf5<br>2alphaCode=%{x}<br>2021=%{y}<extra></extra>\",\"legendgroup\":\"Japan, \\ud83c\\uddef\\ud83c\\uddf5\",\"marker\":{\"color\":\"#FF97FF\",\"symbol\":\"x\"},\"mode\":\"markers\",\"name\":\"Japan, \\ud83c\\uddef\\ud83c\\uddf5\",\"orientation\":\"v\",\"showlegend\":true,\"x\":[\"JP\"],\"xaxis\":\"x\",\"y\":[39285.2],\"yaxis\":\"y\",\"type\":\"scatter\"},{\"hovertemplate\":\"Country Name=Australia<br>flag=\\ud83c\\udde6\\ud83c\\uddfa<br>2alphaCode=%{x}<br>2021=%{y}<extra></extra>\",\"legendgroup\":\"Australia, \\ud83c\\udde6\\ud83c\\uddfa\",\"marker\":{\"color\":\"#FECB52\",\"symbol\":\"cross\"},\"mode\":\"markers\",\"name\":\"Australia, \\ud83c\\udde6\\ud83c\\uddfa\",\"orientation\":\"v\",\"showlegend\":true,\"x\":[\"AU\"],\"xaxis\":\"x\",\"y\":[59934.1],\"yaxis\":\"y\",\"type\":\"scatter\"},{\"hovertemplate\":\"Country Name=Vanuatu<br>flag=\\ud83c\\uddfb\\ud83c\\uddfa<br>2alphaCode=%{x}<br>2021=%{y}<extra></extra>\",\"legendgroup\":\"Vanuatu, \\ud83c\\uddfb\\ud83c\\uddfa\",\"marker\":{\"color\":\"#636efa\",\"symbol\":\"circle\"},\"mode\":\"markers\",\"name\":\"Vanuatu, \\ud83c\\uddfb\\ud83c\\uddfa\",\"orientation\":\"v\",\"showlegend\":true,\"x\":[\"VU\"],\"xaxis\":\"x\",\"y\":[3127.4],\"yaxis\":\"y\",\"type\":\"scatter\"},{\"hovertemplate\":\"Country Name=Kiribati<br>flag=\\ud83c\\uddf0\\ud83c\\uddee<br>2alphaCode=%{x}<br>2021=%{y}<extra></extra>\",\"legendgroup\":\"Kiribati, \\ud83c\\uddf0\\ud83c\\uddee\",\"marker\":{\"color\":\"#EF553B\",\"symbol\":\"diamond\"},\"mode\":\"markers\",\"name\":\"Kiribati, \\ud83c\\uddf0\\ud83c\\uddee\",\"orientation\":\"v\",\"showlegend\":true,\"x\":[\"KI\"],\"xaxis\":\"x\",\"y\":[0.0],\"yaxis\":\"y\",\"type\":\"scatter\"},{\"hovertemplate\":\"Country Name=Tuvalu<br>flag=\\ud83c\\uddf9\\ud83c\\uddfb<br>2alphaCode=%{x}<br>2021=%{y}<extra></extra>\",\"legendgroup\":\"Tuvalu, \\ud83c\\uddf9\\ud83c\\uddfb\",\"marker\":{\"color\":\"#00cc96\",\"symbol\":\"square\"},\"mode\":\"markers\",\"name\":\"Tuvalu, \\ud83c\\uddf9\\ud83c\\uddfb\",\"orientation\":\"v\",\"showlegend\":true,\"x\":[\"TV\"],\"xaxis\":\"x\",\"y\":[5291.5],\"yaxis\":\"y\",\"type\":\"scatter\"},{\"hovertemplate\":\"Country Name=Samoa<br>flag=\\ud83c\\uddfc\\ud83c\\uddf8<br>2alphaCode=%{x}<br>2021=%{y}<extra></extra>\",\"legendgroup\":\"Samoa, \\ud83c\\uddfc\\ud83c\\uddf8\",\"marker\":{\"color\":\"#ab63fa\",\"symbol\":\"x\"},\"mode\":\"markers\",\"name\":\"Samoa, \\ud83c\\uddfc\\ud83c\\uddf8\",\"orientation\":\"v\",\"showlegend\":true,\"x\":[\"WS\"],\"xaxis\":\"x\",\"y\":[3939.1],\"yaxis\":\"y\",\"type\":\"scatter\"},{\"hovertemplate\":\"Country Name=Georgia<br>flag=\\ud83c\\uddec\\ud83c\\uddea<br>2alphaCode=%{x}<br>2021=%{y}<extra></extra>\",\"legendgroup\":\"Georgia, \\ud83c\\uddec\\ud83c\\uddea\",\"marker\":{\"color\":\"#FFA15A\",\"symbol\":\"cross\"},\"mode\":\"markers\",\"name\":\"Georgia, \\ud83c\\uddec\\ud83c\\uddea\",\"orientation\":\"v\",\"showlegend\":true,\"x\":[\"GE\"],\"xaxis\":\"x\",\"y\":[5042.4],\"yaxis\":\"y\",\"type\":\"scatter\"},{\"hovertemplate\":\"Country Name=France<br>flag=\\ud83c\\uddeb\\ud83c\\uddf7<br>2alphaCode=%{x}<br>2021=%{y}<extra></extra>\",\"legendgroup\":\"France, \\ud83c\\uddeb\\ud83c\\uddf7\",\"marker\":{\"color\":\"#19d3f3\",\"symbol\":\"circle\"},\"mode\":\"markers\",\"name\":\"France, \\ud83c\\uddeb\\ud83c\\uddf7\",\"orientation\":\"v\",\"showlegend\":true,\"x\":[\"FR\"],\"xaxis\":\"x\",\"y\":[43518.5],\"yaxis\":\"y\",\"type\":\"scatter\"},{\"hovertemplate\":\"Country Name=Latvia<br>flag=\\ud83c\\uddf1\\ud83c\\uddfb<br>2alphaCode=%{x}<br>2021=%{y}<extra></extra>\",\"legendgroup\":\"Latvia, \\ud83c\\uddf1\\ud83c\\uddfb\",\"marker\":{\"color\":\"#FF6692\",\"symbol\":\"diamond\"},\"mode\":\"markers\",\"name\":\"Latvia, \\ud83c\\uddf1\\ud83c\\uddfb\",\"orientation\":\"v\",\"showlegend\":true,\"x\":[\"LV\"],\"xaxis\":\"x\",\"y\":[20642.2],\"yaxis\":\"y\",\"type\":\"scatter\"},{\"hovertemplate\":\"Country Name=Luxembourg<br>flag=\\ud83c\\uddf1\\ud83c\\uddfa<br>2alphaCode=%{x}<br>2021=%{y}<extra></extra>\",\"legendgroup\":\"Luxembourg, \\ud83c\\uddf1\\ud83c\\uddfa\",\"marker\":{\"color\":\"#B6E880\",\"symbol\":\"square\"},\"mode\":\"markers\",\"name\":\"Luxembourg, \\ud83c\\uddf1\\ud83c\\uddfa\",\"orientation\":\"v\",\"showlegend\":true,\"x\":[\"LU\"],\"xaxis\":\"x\",\"y\":[135682.8],\"yaxis\":\"y\",\"type\":\"scatter\"},{\"hovertemplate\":\"Country Name=Norway<br>flag=\\ud83c\\uddf3\\ud83c\\uddf4<br>2alphaCode=%{x}<br>2021=%{y}<extra></extra>\",\"legendgroup\":\"Norway, \\ud83c\\uddf3\\ud83c\\uddf4\",\"marker\":{\"color\":\"#FF97FF\",\"symbol\":\"x\"},\"mode\":\"markers\",\"name\":\"Norway, \\ud83c\\uddf3\\ud83c\\uddf4\",\"orientation\":\"v\",\"showlegend\":true,\"x\":[\"NO\"],\"xaxis\":\"x\",\"y\":[89202.8],\"yaxis\":\"y\",\"type\":\"scatter\"},{\"hovertemplate\":\"Country Name=United Kingdom<br>flag=\\ud83c\\uddec\\ud83c\\udde7<br>2alphaCode=%{x}<br>2021=%{y}<extra></extra>\",\"legendgroup\":\"United Kingdom, \\ud83c\\uddec\\ud83c\\udde7\",\"marker\":{\"color\":\"#FECB52\",\"symbol\":\"cross\"},\"mode\":\"markers\",\"name\":\"United Kingdom, \\ud83c\\uddec\\ud83c\\udde7\",\"orientation\":\"v\",\"showlegend\":true,\"x\":[\"GB\"],\"xaxis\":\"x\",\"y\":[47334.4],\"yaxis\":\"y\",\"type\":\"scatter\"},{\"hovertemplate\":\"Country Name=Ireland<br>flag=\\ud83c\\uddee\\ud83c\\uddea<br>2alphaCode=%{x}<br>2021=%{y}<extra></extra>\",\"legendgroup\":\"Ireland, \\ud83c\\uddee\\ud83c\\uddea\",\"marker\":{\"color\":\"#636efa\",\"symbol\":\"circle\"},\"mode\":\"markers\",\"name\":\"Ireland, \\ud83c\\uddee\\ud83c\\uddea\",\"orientation\":\"v\",\"showlegend\":true,\"x\":[\"IE\"],\"xaxis\":\"x\",\"y\":[99152.1],\"yaxis\":\"y\",\"type\":\"scatter\"},{\"hovertemplate\":\"Country Name=Kyrgyz Republic<br>flag=\\ud83c\\uddf0\\ud83c\\uddec<br>2alphaCode=%{x}<br>2021=%{y}<extra></extra>\",\"legendgroup\":\"Kyrgyz Republic, \\ud83c\\uddf0\\ud83c\\uddec\",\"marker\":{\"color\":\"#EF553B\",\"symbol\":\"diamond\"},\"mode\":\"markers\",\"name\":\"Kyrgyz Republic, \\ud83c\\uddf0\\ud83c\\uddec\",\"orientation\":\"v\",\"showlegend\":true,\"x\":[\"KG\"],\"xaxis\":\"x\",\"y\":[1276.2],\"yaxis\":\"y\",\"type\":\"scatter\"},{\"hovertemplate\":\"Country Name=Kazakhstan<br>flag=\\ud83c\\uddf0\\ud83c\\uddff<br>2alphaCode=%{x}<br>2021=%{y}<extra></extra>\",\"legendgroup\":\"Kazakhstan, \\ud83c\\uddf0\\ud83c\\uddff\",\"marker\":{\"color\":\"#00cc96\",\"symbol\":\"square\"},\"mode\":\"markers\",\"name\":\"Kazakhstan, \\ud83c\\uddf0\\ud83c\\uddff\",\"orientation\":\"v\",\"showlegend\":true,\"x\":[\"KZ\"],\"xaxis\":\"x\",\"y\":[10041.5],\"yaxis\":\"y\",\"type\":\"scatter\"},{\"hovertemplate\":\"Country Name=Moldova<br>flag=\\ud83c\\uddf2\\ud83c\\udde9<br>2alphaCode=%{x}<br>2021=%{y}<extra></extra>\",\"legendgroup\":\"Moldova, \\ud83c\\uddf2\\ud83c\\udde9\",\"marker\":{\"color\":\"#ab63fa\",\"symbol\":\"x\"},\"mode\":\"markers\",\"name\":\"Moldova, \\ud83c\\uddf2\\ud83c\\udde9\",\"orientation\":\"v\",\"showlegend\":true,\"x\":[\"MD\"],\"xaxis\":\"x\",\"y\":[5314.5],\"yaxis\":\"y\",\"type\":\"scatter\"},{\"hovertemplate\":\"Country Name=Croatia<br>flag=\\ud83c\\udded\\ud83c\\uddf7<br>2alphaCode=%{x}<br>2021=%{y}<extra></extra>\",\"legendgroup\":\"Croatia, \\ud83c\\udded\\ud83c\\uddf7\",\"marker\":{\"color\":\"#FFA15A\",\"symbol\":\"cross\"},\"mode\":\"markers\",\"name\":\"Croatia, \\ud83c\\udded\\ud83c\\uddf7\",\"orientation\":\"v\",\"showlegend\":true,\"x\":[\"HR\"],\"xaxis\":\"x\",\"y\":[17398.8],\"yaxis\":\"y\",\"type\":\"scatter\"},{\"hovertemplate\":\"Country Name=Italy<br>flag=\\ud83c\\uddee\\ud83c\\uddf9<br>2alphaCode=%{x}<br>2021=%{y}<extra></extra>\",\"legendgroup\":\"Italy, \\ud83c\\uddee\\ud83c\\uddf9\",\"marker\":{\"color\":\"#19d3f3\",\"symbol\":\"circle\"},\"mode\":\"markers\",\"name\":\"Italy, \\ud83c\\uddee\\ud83c\\uddf9\",\"orientation\":\"v\",\"showlegend\":true,\"x\":[\"IT\"],\"xaxis\":\"x\",\"y\":[35551.3],\"yaxis\":\"y\",\"type\":\"scatter\"},{\"hovertemplate\":\"Country Name=Hungary<br>flag=\\ud83c\\udded\\ud83c\\uddfa<br>2alphaCode=%{x}<br>2021=%{y}<extra></extra>\",\"legendgroup\":\"Hungary, \\ud83c\\udded\\ud83c\\uddfa\",\"marker\":{\"color\":\"#FF6692\",\"symbol\":\"diamond\"},\"mode\":\"markers\",\"name\":\"Hungary, \\ud83c\\udded\\ud83c\\uddfa\",\"orientation\":\"v\",\"showlegend\":true,\"x\":[\"HU\"],\"xaxis\":\"x\",\"y\":[18772.7],\"yaxis\":\"y\",\"type\":\"scatter\"},{\"hovertemplate\":\"Country Name=Finland<br>flag=\\ud83c\\uddeb\\ud83c\\uddee<br>2alphaCode=%{x}<br>2021=%{y}<extra></extra>\",\"legendgroup\":\"Finland, \\ud83c\\uddeb\\ud83c\\uddee\",\"marker\":{\"color\":\"#B6E880\",\"symbol\":\"square\"},\"mode\":\"markers\",\"name\":\"Finland, \\ud83c\\uddeb\\ud83c\\uddee\",\"orientation\":\"v\",\"showlegend\":true,\"x\":[\"FI\"],\"xaxis\":\"x\",\"y\":[53982.6],\"yaxis\":\"y\",\"type\":\"scatter\"},{\"hovertemplate\":\"Country Name=Iceland<br>flag=\\ud83c\\uddee\\ud83c\\uddf8<br>2alphaCode=%{x}<br>2021=%{y}<extra></extra>\",\"legendgroup\":\"Iceland, \\ud83c\\uddee\\ud83c\\uddf8\",\"marker\":{\"color\":\"#FF97FF\",\"symbol\":\"x\"},\"mode\":\"markers\",\"name\":\"Iceland, \\ud83c\\uddee\\ud83c\\uddf8\",\"orientation\":\"v\",\"showlegend\":true,\"x\":[\"IS\"],\"xaxis\":\"x\",\"y\":[68383.8],\"yaxis\":\"y\",\"type\":\"scatter\"},{\"hovertemplate\":\"Country Name=North Macedonia<br>flag=\\ud83c\\uddf2\\ud83c\\uddf0<br>2alphaCode=%{x}<br>2021=%{y}<extra></extra>\",\"legendgroup\":\"North Macedonia, \\ud83c\\uddf2\\ud83c\\uddf0\",\"marker\":{\"color\":\"#FECB52\",\"symbol\":\"cross\"},\"mode\":\"markers\",\"name\":\"North Macedonia, \\ud83c\\uddf2\\ud83c\\uddf0\",\"orientation\":\"v\",\"showlegend\":true,\"x\":[\"MK\"],\"xaxis\":\"x\",\"y\":[6720.9],\"yaxis\":\"y\",\"type\":\"scatter\"},{\"hovertemplate\":\"Country Name=Montenegro<br>flag=\\ud83c\\uddf2\\ud83c\\uddea<br>2alphaCode=%{x}<br>2021=%{y}<extra></extra>\",\"legendgroup\":\"Montenegro, \\ud83c\\uddf2\\ud83c\\uddea\",\"marker\":{\"color\":\"#636efa\",\"symbol\":\"circle\"},\"mode\":\"markers\",\"name\":\"Montenegro, \\ud83c\\uddf2\\ud83c\\uddea\",\"orientation\":\"v\",\"showlegend\":true,\"x\":[\"ME\"],\"xaxis\":\"x\",\"y\":[9367.0],\"yaxis\":\"y\",\"type\":\"scatter\"},{\"hovertemplate\":\"Country Name=Netherlands<br>flag=\\ud83c\\uddf3\\ud83c\\uddf1<br>2alphaCode=%{x}<br>2021=%{y}<extra></extra>\",\"legendgroup\":\"Netherlands, \\ud83c\\uddf3\\ud83c\\uddf1\",\"marker\":{\"color\":\"#EF553B\",\"symbol\":\"diamond\"},\"mode\":\"markers\",\"name\":\"Netherlands, \\ud83c\\uddf3\\ud83c\\uddf1\",\"orientation\":\"v\",\"showlegend\":true,\"x\":[\"NL\"],\"xaxis\":\"x\",\"y\":[58061.0],\"yaxis\":\"y\",\"type\":\"scatter\"},{\"hovertemplate\":\"Country Name=Greece<br>flag=\\ud83c\\uddec\\ud83c\\uddf7<br>2alphaCode=%{x}<br>2021=%{y}<extra></extra>\",\"legendgroup\":\"Greece, \\ud83c\\uddec\\ud83c\\uddf7\",\"marker\":{\"color\":\"#00cc96\",\"symbol\":\"square\"},\"mode\":\"markers\",\"name\":\"Greece, \\ud83c\\uddec\\ud83c\\uddf7\",\"orientation\":\"v\",\"showlegend\":true,\"x\":[\"GR\"],\"xaxis\":\"x\",\"y\":[20276.5],\"yaxis\":\"y\",\"type\":\"scatter\"},{\"hovertemplate\":\"Country Name=Spain<br>flag=\\ud83c\\uddea\\ud83c\\uddf8<br>2alphaCode=%{x}<br>2021=%{y}<extra></extra>\",\"legendgroup\":\"Spain, \\ud83c\\uddea\\ud83c\\uddf8\",\"marker\":{\"color\":\"#ab63fa\",\"symbol\":\"x\"},\"mode\":\"markers\",\"name\":\"Spain, \\ud83c\\uddea\\ud83c\\uddf8\",\"orientation\":\"v\",\"showlegend\":true,\"x\":[\"ES\"],\"xaxis\":\"x\",\"y\":[30115.7],\"yaxis\":\"y\",\"type\":\"scatter\"},{\"hovertemplate\":\"Country Name=Slovenia<br>flag=\\ud83c\\uddf8\\ud83c\\uddee<br>2alphaCode=%{x}<br>2021=%{y}<extra></extra>\",\"legendgroup\":\"Slovenia, \\ud83c\\uddf8\\ud83c\\uddee\",\"marker\":{\"color\":\"#FFA15A\",\"symbol\":\"cross\"},\"mode\":\"markers\",\"name\":\"Slovenia, \\ud83c\\uddf8\\ud83c\\uddee\",\"orientation\":\"v\",\"showlegend\":true,\"x\":[\"SI\"],\"xaxis\":\"x\",\"y\":[29200.8],\"yaxis\":\"y\",\"type\":\"scatter\"},{\"hovertemplate\":\"Country Name=Sweden<br>flag=\\ud83c\\uddf8\\ud83c\\uddea<br>2alphaCode=%{x}<br>2021=%{y}<extra></extra>\",\"legendgroup\":\"Sweden, \\ud83c\\uddf8\\ud83c\\uddea\",\"marker\":{\"color\":\"#19d3f3\",\"symbol\":\"circle\"},\"mode\":\"markers\",\"name\":\"Sweden, \\ud83c\\uddf8\\ud83c\\uddea\",\"orientation\":\"v\",\"showlegend\":true,\"x\":[\"SE\"],\"xaxis\":\"x\",\"y\":[60239.0],\"yaxis\":\"y\",\"type\":\"scatter\"},{\"hovertemplate\":\"Country Name=Switzerland<br>flag=\\ud83c\\udde8\\ud83c\\udded<br>2alphaCode=%{x}<br>2021=%{y}<extra></extra>\",\"legendgroup\":\"Switzerland, \\ud83c\\udde8\\ud83c\\udded\",\"marker\":{\"color\":\"#FF6692\",\"symbol\":\"diamond\"},\"mode\":\"markers\",\"name\":\"Switzerland, \\ud83c\\udde8\\ud83c\\udded\",\"orientation\":\"v\",\"showlegend\":true,\"x\":[\"CH\"],\"xaxis\":\"x\",\"y\":[93457.4],\"yaxis\":\"y\",\"type\":\"scatter\"},{\"hovertemplate\":\"Country Name=Austria<br>flag=\\ud83c\\udde6\\ud83c\\uddf9<br>2alphaCode=%{x}<br>2021=%{y}<extra></extra>\",\"legendgroup\":\"Austria, \\ud83c\\udde6\\ud83c\\uddf9\",\"marker\":{\"color\":\"#B6E880\",\"symbol\":\"square\"},\"mode\":\"markers\",\"name\":\"Austria, \\ud83c\\udde6\\ud83c\\uddf9\",\"orientation\":\"v\",\"showlegend\":true,\"x\":[\"AT\"],\"xaxis\":\"x\",\"y\":[53267.9],\"yaxis\":\"y\",\"type\":\"scatter\"},{\"hovertemplate\":\"Country Name=Estonia<br>flag=\\ud83c\\uddea\\ud83c\\uddea<br>2alphaCode=%{x}<br>2021=%{y}<extra></extra>\",\"legendgroup\":\"Estonia, \\ud83c\\uddea\\ud83c\\uddea\",\"marker\":{\"color\":\"#FF97FF\",\"symbol\":\"x\"},\"mode\":\"markers\",\"name\":\"Estonia, \\ud83c\\uddea\\ud83c\\uddea\",\"orientation\":\"v\",\"showlegend\":true,\"x\":[\"EE\"],\"xaxis\":\"x\",\"y\":[27280.7],\"yaxis\":\"y\",\"type\":\"scatter\"},{\"hovertemplate\":\"Country Name=Slovak Republic<br>flag=\\ud83c\\uddf8\\ud83c\\uddf0<br>2alphaCode=%{x}<br>2021=%{y}<extra></extra>\",\"legendgroup\":\"Slovak Republic, \\ud83c\\uddf8\\ud83c\\uddf0\",\"marker\":{\"color\":\"#FECB52\",\"symbol\":\"cross\"},\"mode\":\"markers\",\"name\":\"Slovak Republic, \\ud83c\\uddf8\\ud83c\\uddf0\",\"orientation\":\"v\",\"showlegend\":true,\"x\":[\"SK\"],\"xaxis\":\"x\",\"y\":[21087.8],\"yaxis\":\"y\",\"type\":\"scatter\"},{\"hovertemplate\":\"Country Name=Tajikistan<br>flag=\\ud83c\\uddf9\\ud83c\\uddef<br>2alphaCode=%{x}<br>2021=%{y}<extra></extra>\",\"legendgroup\":\"Tajikistan, \\ud83c\\uddf9\\ud83c\\uddef\",\"marker\":{\"color\":\"#636efa\",\"symbol\":\"circle\"},\"mode\":\"markers\",\"name\":\"Tajikistan, \\ud83c\\uddf9\\ud83c\\uddef\",\"orientation\":\"v\",\"showlegend\":true,\"x\":[\"TJ\"],\"xaxis\":\"x\",\"y\":[897.1],\"yaxis\":\"y\",\"type\":\"scatter\"},{\"hovertemplate\":\"Country Name=Azerbaijan<br>flag=\\ud83c\\udde6\\ud83c\\uddff<br>2alphaCode=%{x}<br>2021=%{y}<extra></extra>\",\"legendgroup\":\"Azerbaijan, \\ud83c\\udde6\\ud83c\\uddff\",\"marker\":{\"color\":\"#EF553B\",\"symbol\":\"diamond\"},\"mode\":\"markers\",\"name\":\"Azerbaijan, \\ud83c\\udde6\\ud83c\\uddff\",\"orientation\":\"v\",\"showlegend\":true,\"x\":[\"AZ\"],\"xaxis\":\"x\",\"y\":[5384.0],\"yaxis\":\"y\",\"type\":\"scatter\"},{\"hovertemplate\":\"Country Name=Turkiye<br>flag=\\ud83c\\uddf9\\ud83c\\uddf7<br>2alphaCode=%{x}<br>2021=%{y}<extra></extra>\",\"legendgroup\":\"Turkiye, \\ud83c\\uddf9\\ud83c\\uddf7\",\"marker\":{\"color\":\"#00cc96\",\"symbol\":\"square\"},\"mode\":\"markers\",\"name\":\"Turkiye, \\ud83c\\uddf9\\ud83c\\uddf7\",\"orientation\":\"v\",\"showlegend\":true,\"x\":[\"TR\"],\"xaxis\":\"x\",\"y\":[9586.6],\"yaxis\":\"y\",\"type\":\"scatter\"},{\"hovertemplate\":\"Country Name=Belarus<br>flag=\\ud83c\\udde7\\ud83c\\uddfe<br>2alphaCode=%{x}<br>2021=%{y}<extra></extra>\",\"legendgroup\":\"Belarus, \\ud83c\\udde7\\ud83c\\uddfe\",\"marker\":{\"color\":\"#ab63fa\",\"symbol\":\"x\"},\"mode\":\"markers\",\"name\":\"Belarus, \\ud83c\\udde7\\ud83c\\uddfe\",\"orientation\":\"v\",\"showlegend\":true,\"x\":[\"BY\"],\"xaxis\":\"x\",\"y\":[7303.7],\"yaxis\":\"y\",\"type\":\"scatter\"},{\"hovertemplate\":\"Country Name=Bosnia and Herzegovina<br>flag=\\ud83c\\udde7\\ud83c\\udde6<br>2alphaCode=%{x}<br>2021=%{y}<extra></extra>\",\"legendgroup\":\"Bosnia and Herzegovina, \\ud83c\\udde7\\ud83c\\udde6\",\"marker\":{\"color\":\"#FFA15A\",\"symbol\":\"cross\"},\"mode\":\"markers\",\"name\":\"Bosnia and Herzegovina, \\ud83c\\udde7\\ud83c\\udde6\",\"orientation\":\"v\",\"showlegend\":true,\"x\":[\"BA\"],\"xaxis\":\"x\",\"y\":[6916.4],\"yaxis\":\"y\",\"type\":\"scatter\"},{\"hovertemplate\":\"Country Name=Ukraine<br>flag=\\ud83c\\uddfa\\ud83c\\udde6<br>2alphaCode=%{x}<br>2021=%{y}<extra></extra>\",\"legendgroup\":\"Ukraine, \\ud83c\\uddfa\\ud83c\\udde6\",\"marker\":{\"color\":\"#19d3f3\",\"symbol\":\"circle\"},\"mode\":\"markers\",\"name\":\"Ukraine, \\ud83c\\uddfa\\ud83c\\udde6\",\"orientation\":\"v\",\"showlegend\":true,\"x\":[\"UA\"],\"xaxis\":\"x\",\"y\":[4835.6],\"yaxis\":\"y\",\"type\":\"scatter\"},{\"hovertemplate\":\"Country Name=Bulgaria<br>flag=\\ud83c\\udde7\\ud83c\\uddec<br>2alphaCode=%{x}<br>2021=%{y}<extra></extra>\",\"legendgroup\":\"Bulgaria, \\ud83c\\udde7\\ud83c\\uddec\",\"marker\":{\"color\":\"#FF6692\",\"symbol\":\"diamond\"},\"mode\":\"markers\",\"name\":\"Bulgaria, \\ud83c\\udde7\\ud83c\\uddec\",\"orientation\":\"v\",\"showlegend\":true,\"x\":[\"BG\"],\"xaxis\":\"x\",\"y\":[11635.0],\"yaxis\":\"y\",\"type\":\"scatter\"},{\"hovertemplate\":\"Country Name=Turkmenistan<br>flag=\\ud83c\\uddf9\\ud83c\\uddf2<br>2alphaCode=%{x}<br>2021=%{y}<extra></extra>\",\"legendgroup\":\"Turkmenistan, \\ud83c\\uddf9\\ud83c\\uddf2\",\"marker\":{\"color\":\"#B6E880\",\"symbol\":\"square\"},\"mode\":\"markers\",\"name\":\"Turkmenistan, \\ud83c\\uddf9\\ud83c\\uddf2\",\"orientation\":\"v\",\"showlegend\":true,\"x\":[\"TM\"],\"xaxis\":\"x\",\"y\":[0.0],\"yaxis\":\"y\",\"type\":\"scatter\"},{\"hovertemplate\":\"Country Name=Belgium<br>flag=\\ud83c\\udde7\\ud83c\\uddea<br>2alphaCode=%{x}<br>2021=%{y}<extra></extra>\",\"legendgroup\":\"Belgium, \\ud83c\\udde7\\ud83c\\uddea\",\"marker\":{\"color\":\"#FF97FF\",\"symbol\":\"x\"},\"mode\":\"markers\",\"name\":\"Belgium, \\ud83c\\udde7\\ud83c\\uddea\",\"orientation\":\"v\",\"showlegend\":true,\"x\":[\"BE\"],\"xaxis\":\"x\",\"y\":[51767.8],\"yaxis\":\"y\",\"type\":\"scatter\"},{\"hovertemplate\":\"Country Name=Uzbekistan<br>flag=\\ud83c\\uddfa\\ud83c\\uddff<br>2alphaCode=%{x}<br>2021=%{y}<extra></extra>\",\"legendgroup\":\"Uzbekistan, \\ud83c\\uddfa\\ud83c\\uddff\",\"marker\":{\"color\":\"#FECB52\",\"symbol\":\"cross\"},\"mode\":\"markers\",\"name\":\"Uzbekistan, \\ud83c\\uddfa\\ud83c\\uddff\",\"orientation\":\"v\",\"showlegend\":true,\"x\":[\"UZ\"],\"xaxis\":\"x\",\"y\":[1983.1],\"yaxis\":\"y\",\"type\":\"scatter\"},{\"hovertemplate\":\"Country Name=Germany<br>flag=\\ud83c\\udde9\\ud83c\\uddea<br>2alphaCode=%{x}<br>2021=%{y}<extra></extra>\",\"legendgroup\":\"Germany, \\ud83c\\udde9\\ud83c\\uddea\",\"marker\":{\"color\":\"#636efa\",\"symbol\":\"circle\"},\"mode\":\"markers\",\"name\":\"Germany, \\ud83c\\udde9\\ud83c\\uddea\",\"orientation\":\"v\",\"showlegend\":true,\"x\":[\"DE\"],\"xaxis\":\"x\",\"y\":[50801.8],\"yaxis\":\"y\",\"type\":\"scatter\"},{\"hovertemplate\":\"Country Name=Armenia<br>flag=\\ud83c\\udde6\\ud83c\\uddf2<br>2alphaCode=%{x}<br>2021=%{y}<extra></extra>\",\"legendgroup\":\"Armenia, \\ud83c\\udde6\\ud83c\\uddf2\",\"marker\":{\"color\":\"#EF553B\",\"symbol\":\"diamond\"},\"mode\":\"markers\",\"name\":\"Armenia, \\ud83c\\udde6\\ud83c\\uddf2\",\"orientation\":\"v\",\"showlegend\":true,\"x\":[\"AM\"],\"xaxis\":\"x\",\"y\":[4670.0],\"yaxis\":\"y\",\"type\":\"scatter\"},{\"hovertemplate\":\"Country Name=Russian Federation<br>flag=\\ud83c\\uddf7\\ud83c\\uddfa<br>2alphaCode=%{x}<br>2021=%{y}<extra></extra>\",\"legendgroup\":\"Russian Federation, \\ud83c\\uddf7\\ud83c\\uddfa\",\"marker\":{\"color\":\"#00cc96\",\"symbol\":\"square\"},\"mode\":\"markers\",\"name\":\"Russian Federation, \\ud83c\\uddf7\\ud83c\\uddfa\",\"orientation\":\"v\",\"showlegend\":true,\"x\":[\"RU\"],\"xaxis\":\"x\",\"y\":[12172.8],\"yaxis\":\"y\",\"type\":\"scatter\"},{\"hovertemplate\":\"Country Name=Romania<br>flag=\\ud83c\\uddf7\\ud83c\\uddf4<br>2alphaCode=%{x}<br>2021=%{y}<extra></extra>\",\"legendgroup\":\"Romania, \\ud83c\\uddf7\\ud83c\\uddf4\",\"marker\":{\"color\":\"#ab63fa\",\"symbol\":\"x\"},\"mode\":\"markers\",\"name\":\"Romania, \\ud83c\\uddf7\\ud83c\\uddf4\",\"orientation\":\"v\",\"showlegend\":true,\"x\":[\"RO\"],\"xaxis\":\"x\",\"y\":[14861.9],\"yaxis\":\"y\",\"type\":\"scatter\"},{\"hovertemplate\":\"Country Name=Cyprus<br>flag=\\ud83c\\udde8\\ud83c\\uddfe<br>2alphaCode=%{x}<br>2021=%{y}<extra></extra>\",\"legendgroup\":\"Cyprus, \\ud83c\\udde8\\ud83c\\uddfe\",\"marker\":{\"color\":\"#FFA15A\",\"symbol\":\"cross\"},\"mode\":\"markers\",\"name\":\"Cyprus, \\ud83c\\udde8\\ud83c\\uddfe\",\"orientation\":\"v\",\"showlegend\":true,\"x\":[\"CY\"],\"xaxis\":\"x\",\"y\":[30798.5],\"yaxis\":\"y\",\"type\":\"scatter\"},{\"hovertemplate\":\"Country Name=Czech Republic<br>flag=\\ud83c\\udde8\\ud83c\\uddff<br>2alphaCode=%{x}<br>2021=%{y}<extra></extra>\",\"legendgroup\":\"Czech Republic, \\ud83c\\udde8\\ud83c\\uddff\",\"marker\":{\"color\":\"#19d3f3\",\"symbol\":\"circle\"},\"mode\":\"markers\",\"name\":\"Czech Republic, \\ud83c\\udde8\\ud83c\\uddff\",\"orientation\":\"v\",\"showlegend\":true,\"x\":[\"CZ\"],\"xaxis\":\"x\",\"y\":[26378.5],\"yaxis\":\"y\",\"type\":\"scatter\"},{\"hovertemplate\":\"Country Name=Serbia<br>flag=\\ud83c\\uddf7\\ud83c\\uddf8<br>2alphaCode=%{x}<br>2021=%{y}<extra></extra>\",\"legendgroup\":\"Serbia, \\ud83c\\uddf7\\ud83c\\uddf8\",\"marker\":{\"color\":\"#FF6692\",\"symbol\":\"diamond\"},\"mode\":\"markers\",\"name\":\"Serbia, \\ud83c\\uddf7\\ud83c\\uddf8\",\"orientation\":\"v\",\"showlegend\":true,\"x\":[\"RS\"],\"xaxis\":\"x\",\"y\":[9215.0],\"yaxis\":\"y\",\"type\":\"scatter\"},{\"hovertemplate\":\"Country Name=Albania<br>flag=\\ud83c\\udde6\\ud83c\\uddf1<br>2alphaCode=%{x}<br>2021=%{y}<extra></extra>\",\"legendgroup\":\"Albania, \\ud83c\\udde6\\ud83c\\uddf1\",\"marker\":{\"color\":\"#B6E880\",\"symbol\":\"square\"},\"mode\":\"markers\",\"name\":\"Albania, \\ud83c\\udde6\\ud83c\\uddf1\",\"orientation\":\"v\",\"showlegend\":true,\"x\":[\"AL\"],\"xaxis\":\"x\",\"y\":[6494.4],\"yaxis\":\"y\",\"type\":\"scatter\"},{\"hovertemplate\":\"Country Name=Kosovo<br>flag=\\ud83c\\uddfd\\ud83c\\uddf0<br>2alphaCode=%{x}<br>2021=%{y}<extra></extra>\",\"legendgroup\":\"Kosovo, \\ud83c\\uddfd\\ud83c\\uddf0\",\"marker\":{\"color\":\"#FF97FF\",\"symbol\":\"x\"},\"mode\":\"markers\",\"name\":\"Kosovo, \\ud83c\\uddfd\\ud83c\\uddf0\",\"orientation\":\"v\",\"showlegend\":true,\"x\":[\"XK\"],\"xaxis\":\"x\",\"y\":[4986.6],\"yaxis\":\"y\",\"type\":\"scatter\"},{\"hovertemplate\":\"Country Name=Portugal<br>flag=\\ud83c\\uddf5\\ud83c\\uddf9<br>2alphaCode=%{x}<br>2021=%{y}<extra></extra>\",\"legendgroup\":\"Portugal, \\ud83c\\uddf5\\ud83c\\uddf9\",\"marker\":{\"color\":\"#FECB52\",\"symbol\":\"cross\"},\"mode\":\"markers\",\"name\":\"Portugal, \\ud83c\\uddf5\\ud83c\\uddf9\",\"orientation\":\"v\",\"showlegend\":true,\"x\":[\"PT\"],\"xaxis\":\"x\",\"y\":[24262.2],\"yaxis\":\"y\",\"type\":\"scatter\"},{\"hovertemplate\":\"Country Name=Denmark<br>flag=\\ud83c\\udde9\\ud83c\\uddf0<br>2alphaCode=%{x}<br>2021=%{y}<extra></extra>\",\"legendgroup\":\"Denmark, \\ud83c\\udde9\\ud83c\\uddf0\",\"marker\":{\"color\":\"#636efa\",\"symbol\":\"circle\"},\"mode\":\"markers\",\"name\":\"Denmark, \\ud83c\\udde9\\ud83c\\uddf0\",\"orientation\":\"v\",\"showlegend\":true,\"x\":[\"DK\"],\"xaxis\":\"x\",\"y\":[67803.0],\"yaxis\":\"y\",\"type\":\"scatter\"},{\"hovertemplate\":\"Country Name=Lithuania<br>flag=\\ud83c\\uddf1\\ud83c\\uddf9<br>2alphaCode=%{x}<br>2021=%{y}<extra></extra>\",\"legendgroup\":\"Lithuania, \\ud83c\\uddf1\\ud83c\\uddf9\",\"marker\":{\"color\":\"#EF553B\",\"symbol\":\"diamond\"},\"mode\":\"markers\",\"name\":\"Lithuania, \\ud83c\\uddf1\\ud83c\\uddf9\",\"orientation\":\"v\",\"showlegend\":true,\"x\":[\"LT\"],\"xaxis\":\"x\",\"y\":[23433.4],\"yaxis\":\"y\",\"type\":\"scatter\"},{\"hovertemplate\":\"Country Name=Poland<br>flag=\\ud83c\\uddf5\\ud83c\\uddf1<br>2alphaCode=%{x}<br>2021=%{y}<extra></extra>\",\"legendgroup\":\"Poland, \\ud83c\\uddf5\\ud83c\\uddf1\",\"marker\":{\"color\":\"#00cc96\",\"symbol\":\"square\"},\"mode\":\"markers\",\"name\":\"Poland, \\ud83c\\uddf5\\ud83c\\uddf1\",\"orientation\":\"v\",\"showlegend\":true,\"x\":[\"PL\"],\"xaxis\":\"x\",\"y\":[17840.9],\"yaxis\":\"y\",\"type\":\"scatter\"},{\"hovertemplate\":\"Country Name=Mexico<br>flag=\\ud83c\\uddf2\\ud83c\\uddfd<br>2alphaCode=%{x}<br>2021=%{y}<extra></extra>\",\"legendgroup\":\"Mexico, \\ud83c\\uddf2\\ud83c\\uddfd\",\"marker\":{\"color\":\"#ab63fa\",\"symbol\":\"x\"},\"mode\":\"markers\",\"name\":\"Mexico, \\ud83c\\uddf2\\ud83c\\uddfd\",\"orientation\":\"v\",\"showlegend\":true,\"x\":[\"MX\"],\"xaxis\":\"x\",\"y\":[9926.4],\"yaxis\":\"y\",\"type\":\"scatter\"},{\"hovertemplate\":\"Country Name=Uruguay<br>flag=\\ud83c\\uddfa\\ud83c\\uddfe<br>2alphaCode=%{x}<br>2021=%{y}<extra></extra>\",\"legendgroup\":\"Uruguay, \\ud83c\\uddfa\\ud83c\\uddfe\",\"marker\":{\"color\":\"#FFA15A\",\"symbol\":\"cross\"},\"mode\":\"markers\",\"name\":\"Uruguay, \\ud83c\\uddfa\\ud83c\\uddfe\",\"orientation\":\"v\",\"showlegend\":true,\"x\":[\"UY\"],\"xaxis\":\"x\",\"y\":[17020.6],\"yaxis\":\"y\",\"type\":\"scatter\"},{\"hovertemplate\":\"Country Name=Trinidad and Tobago<br>flag=\\ud83c\\uddf9\\ud83c\\uddf9<br>2alphaCode=%{x}<br>2021=%{y}<extra></extra>\",\"legendgroup\":\"Trinidad and Tobago, \\ud83c\\uddf9\\ud83c\\uddf9\",\"marker\":{\"color\":\"#19d3f3\",\"symbol\":\"circle\"},\"mode\":\"markers\",\"name\":\"Trinidad and Tobago, \\ud83c\\uddf9\\ud83c\\uddf9\",\"orientation\":\"v\",\"showlegend\":true,\"x\":[\"TT\"],\"xaxis\":\"x\",\"y\":[15243.1],\"yaxis\":\"y\",\"type\":\"scatter\"},{\"hovertemplate\":\"Country Name=Suriname<br>flag=\\ud83c\\uddf8\\ud83c\\uddf7<br>2alphaCode=%{x}<br>2021=%{y}<extra></extra>\",\"legendgroup\":\"Suriname, \\ud83c\\uddf8\\ud83c\\uddf7\",\"marker\":{\"color\":\"#FF6692\",\"symbol\":\"diamond\"},\"mode\":\"markers\",\"name\":\"Suriname, \\ud83c\\uddf8\\ud83c\\uddf7\",\"orientation\":\"v\",\"showlegend\":true,\"x\":[\"SR\"],\"xaxis\":\"x\",\"y\":[4836.3],\"yaxis\":\"y\",\"type\":\"scatter\"},{\"hovertemplate\":\"Country Name=Nicaragua<br>flag=\\ud83c\\uddf3\\ud83c\\uddee<br>2alphaCode=%{x}<br>2021=%{y}<extra></extra>\",\"legendgroup\":\"Nicaragua, \\ud83c\\uddf3\\ud83c\\uddee\",\"marker\":{\"color\":\"#B6E880\",\"symbol\":\"square\"},\"mode\":\"markers\",\"name\":\"Nicaragua, \\ud83c\\uddf3\\ud83c\\uddee\",\"orientation\":\"v\",\"showlegend\":true,\"x\":[\"NI\"],\"xaxis\":\"x\",\"y\":[2090.8],\"yaxis\":\"y\",\"type\":\"scatter\"},{\"hovertemplate\":\"Country Name=El Salvador<br>flag=\\ud83c\\uddf8\\ud83c\\uddfb<br>2alphaCode=%{x}<br>2021=%{y}<extra></extra>\",\"legendgroup\":\"El Salvador, \\ud83c\\uddf8\\ud83c\\uddfb\",\"marker\":{\"color\":\"#FF97FF\",\"symbol\":\"x\"},\"mode\":\"markers\",\"name\":\"El Salvador, \\ud83c\\uddf8\\ud83c\\uddfb\",\"orientation\":\"v\",\"showlegend\":true,\"x\":[\"SV\"],\"xaxis\":\"x\",\"y\":[4408.5],\"yaxis\":\"y\",\"type\":\"scatter\"},{\"hovertemplate\":\"Country Name=Panama<br>flag=\\ud83c\\uddf5\\ud83c\\udde6<br>2alphaCode=%{x}<br>2021=%{y}<extra></extra>\",\"legendgroup\":\"Panama, \\ud83c\\uddf5\\ud83c\\udde6\",\"marker\":{\"color\":\"#FECB52\",\"symbol\":\"cross\"},\"mode\":\"markers\",\"name\":\"Panama, \\ud83c\\uddf5\\ud83c\\udde6\",\"orientation\":\"v\",\"showlegend\":true,\"x\":[\"PA\"],\"xaxis\":\"x\",\"y\":[14516.5],\"yaxis\":\"y\",\"type\":\"scatter\"},{\"hovertemplate\":\"Country Name=Paraguay<br>flag=\\ud83c\\uddf5\\ud83c\\uddfe<br>2alphaCode=%{x}<br>2021=%{y}<extra></extra>\",\"legendgroup\":\"Paraguay, \\ud83c\\uddf5\\ud83c\\uddfe\",\"marker\":{\"color\":\"#636efa\",\"symbol\":\"circle\"},\"mode\":\"markers\",\"name\":\"Paraguay, \\ud83c\\uddf5\\ud83c\\uddfe\",\"orientation\":\"v\",\"showlegend\":true,\"x\":[\"PY\"],\"xaxis\":\"x\",\"y\":[5400.1],\"yaxis\":\"y\",\"type\":\"scatter\"},{\"hovertemplate\":\"Country Name=Peru<br>flag=\\ud83c\\uddf5\\ud83c\\uddea<br>2alphaCode=%{x}<br>2021=%{y}<extra></extra>\",\"legendgroup\":\"Peru, \\ud83c\\uddf5\\ud83c\\uddea\",\"marker\":{\"color\":\"#EF553B\",\"symbol\":\"diamond\"},\"mode\":\"markers\",\"name\":\"Peru, \\ud83c\\uddf5\\ud83c\\uddea\",\"orientation\":\"v\",\"showlegend\":true,\"x\":[\"PE\"],\"xaxis\":\"x\",\"y\":[6692.2],\"yaxis\":\"y\",\"type\":\"scatter\"},{\"hovertemplate\":\"Country Name=Costa Rica<br>flag=\\ud83c\\udde8\\ud83c\\uddf7<br>2alphaCode=%{x}<br>2021=%{y}<extra></extra>\",\"legendgroup\":\"Costa Rica, \\ud83c\\udde8\\ud83c\\uddf7\",\"marker\":{\"color\":\"#00cc96\",\"symbol\":\"square\"},\"mode\":\"markers\",\"name\":\"Costa Rica, \\ud83c\\udde8\\ud83c\\uddf7\",\"orientation\":\"v\",\"showlegend\":true,\"x\":[\"CR\"],\"xaxis\":\"x\",\"y\":[12508.6],\"yaxis\":\"y\",\"type\":\"scatter\"},{\"hovertemplate\":\"Country Name=St. Lucia<br>flag=\\ud83c\\uddf1\\ud83c\\udde8<br>2alphaCode=%{x}<br>2021=%{y}<extra></extra>\",\"legendgroup\":\"St. Lucia, \\ud83c\\uddf1\\ud83c\\udde8\",\"marker\":{\"color\":\"#ab63fa\",\"symbol\":\"x\"},\"mode\":\"markers\",\"name\":\"St. Lucia, \\ud83c\\uddf1\\ud83c\\udde8\",\"orientation\":\"v\",\"showlegend\":true,\"x\":[\"LC\"],\"xaxis\":\"x\",\"y\":[9571.0],\"yaxis\":\"y\",\"type\":\"scatter\"},{\"hovertemplate\":\"Country Name=Honduras<br>flag=\\ud83c\\udded\\ud83c\\uddf3<br>2alphaCode=%{x}<br>2021=%{y}<extra></extra>\",\"legendgroup\":\"Honduras, \\ud83c\\udded\\ud83c\\uddf3\",\"marker\":{\"color\":\"#FFA15A\",\"symbol\":\"cross\"},\"mode\":\"markers\",\"name\":\"Honduras, \\ud83c\\udded\\ud83c\\uddf3\",\"orientation\":\"v\",\"showlegend\":true,\"x\":[\"HN\"],\"xaxis\":\"x\",\"y\":[2831.0],\"yaxis\":\"y\",\"type\":\"scatter\"},{\"hovertemplate\":\"Country Name=Haiti<br>flag=\\ud83c\\udded\\ud83c\\uddf9<br>2alphaCode=%{x}<br>2021=%{y}<extra></extra>\",\"legendgroup\":\"Haiti, \\ud83c\\udded\\ud83c\\uddf9\",\"marker\":{\"color\":\"#19d3f3\",\"symbol\":\"circle\"},\"mode\":\"markers\",\"name\":\"Haiti, \\ud83c\\udded\\ud83c\\uddf9\",\"orientation\":\"v\",\"showlegend\":true,\"x\":[\"HT\"],\"xaxis\":\"x\",\"y\":[1814.7],\"yaxis\":\"y\",\"type\":\"scatter\"},{\"hovertemplate\":\"Country Name=Guatemala<br>flag=\\ud83c\\uddec\\ud83c\\uddf9<br>2alphaCode=%{x}<br>2021=%{y}<extra></extra>\",\"legendgroup\":\"Guatemala, \\ud83c\\uddec\\ud83c\\uddf9\",\"marker\":{\"color\":\"#FF6692\",\"symbol\":\"diamond\"},\"mode\":\"markers\",\"name\":\"Guatemala, \\ud83c\\uddec\\ud83c\\uddf9\",\"orientation\":\"v\",\"showlegend\":true,\"x\":[\"GT\"],\"xaxis\":\"x\",\"y\":[5025.6],\"yaxis\":\"y\",\"type\":\"scatter\"},{\"hovertemplate\":\"Country Name=Colombia<br>flag=\\ud83c\\udde8\\ud83c\\uddf4<br>2alphaCode=%{x}<br>2021=%{y}<extra></extra>\",\"legendgroup\":\"Colombia, \\ud83c\\udde8\\ud83c\\uddf4\",\"marker\":{\"color\":\"#B6E880\",\"symbol\":\"square\"},\"mode\":\"markers\",\"name\":\"Colombia, \\ud83c\\udde8\\ud83c\\uddf4\",\"orientation\":\"v\",\"showlegend\":true,\"x\":[\"CO\"],\"xaxis\":\"x\",\"y\":[6131.2],\"yaxis\":\"y\",\"type\":\"scatter\"},{\"hovertemplate\":\"Country Name=Chile<br>flag=\\ud83c\\udde8\\ud83c\\uddf1<br>2alphaCode=%{x}<br>2021=%{y}<extra></extra>\",\"legendgroup\":\"Chile, \\ud83c\\udde8\\ud83c\\uddf1\",\"marker\":{\"color\":\"#FF97FF\",\"symbol\":\"x\"},\"mode\":\"markers\",\"name\":\"Chile, \\ud83c\\udde8\\ud83c\\uddf1\",\"orientation\":\"v\",\"showlegend\":true,\"x\":[\"CL\"],\"xaxis\":\"x\",\"y\":[16502.8],\"yaxis\":\"y\",\"type\":\"scatter\"},{\"hovertemplate\":\"Country Name=Jamaica<br>flag=\\ud83c\\uddef\\ud83c\\uddf2<br>2alphaCode=%{x}<br>2021=%{y}<extra></extra>\",\"legendgroup\":\"Jamaica, \\ud83c\\uddef\\ud83c\\uddf2\",\"marker\":{\"color\":\"#FECB52\",\"symbol\":\"cross\"},\"mode\":\"markers\",\"name\":\"Jamaica, \\ud83c\\uddef\\ud83c\\uddf2\",\"orientation\":\"v\",\"showlegend\":true,\"x\":[\"JM\"],\"xaxis\":\"x\",\"y\":[4586.7],\"yaxis\":\"y\",\"type\":\"scatter\"},{\"hovertemplate\":\"Country Name=Bolivia<br>flag=\\ud83c\\udde7\\ud83c\\uddf4<br>2alphaCode=%{x}<br>2021=%{y}<extra></extra>\",\"legendgroup\":\"Bolivia, \\ud83c\\udde7\\ud83c\\uddf4\",\"marker\":{\"color\":\"#636efa\",\"symbol\":\"circle\"},\"mode\":\"markers\",\"name\":\"Bolivia, \\ud83c\\udde7\\ud83c\\uddf4\",\"orientation\":\"v\",\"showlegend\":true,\"x\":[\"BO\"],\"xaxis\":\"x\",\"y\":[3414.9],\"yaxis\":\"y\",\"type\":\"scatter\"},{\"hovertemplate\":\"Country Name=Dominican Republic<br>flag=\\ud83c\\udde9\\ud83c\\uddf4<br>2alphaCode=%{x}<br>2021=%{y}<extra></extra>\",\"legendgroup\":\"Dominican Republic, \\ud83c\\udde9\\ud83c\\uddf4\",\"marker\":{\"color\":\"#EF553B\",\"symbol\":\"diamond\"},\"mode\":\"markers\",\"name\":\"Dominican Republic, \\ud83c\\udde9\\ud83c\\uddf4\",\"orientation\":\"v\",\"showlegend\":true,\"x\":[\"DO\"],\"xaxis\":\"x\",\"y\":[8603.8],\"yaxis\":\"y\",\"type\":\"scatter\"},{\"hovertemplate\":\"Country Name=Belize<br>flag=\\ud83c\\udde7\\ud83c\\uddff<br>2alphaCode=%{x}<br>2021=%{y}<extra></extra>\",\"legendgroup\":\"Belize, \\ud83c\\udde7\\ud83c\\uddff\",\"marker\":{\"color\":\"#00cc96\",\"symbol\":\"square\"},\"mode\":\"markers\",\"name\":\"Belize, \\ud83c\\udde7\\ud83c\\uddff\",\"orientation\":\"v\",\"showlegend\":true,\"x\":[\"BZ\"],\"xaxis\":\"x\",\"y\":[4420.5],\"yaxis\":\"y\",\"type\":\"scatter\"},{\"hovertemplate\":\"Country Name=Argentina<br>flag=\\ud83c\\udde6\\ud83c\\uddf7<br>2alphaCode=%{x}<br>2021=%{y}<extra></extra>\",\"legendgroup\":\"Argentina, \\ud83c\\udde6\\ud83c\\uddf7\",\"marker\":{\"color\":\"#ab63fa\",\"symbol\":\"x\"},\"mode\":\"markers\",\"name\":\"Argentina, \\ud83c\\udde6\\ud83c\\uddf7\",\"orientation\":\"v\",\"showlegend\":true,\"x\":[\"AR\"],\"xaxis\":\"x\",\"y\":[10729.2],\"yaxis\":\"y\",\"type\":\"scatter\"},{\"hovertemplate\":\"Country Name=Ecuador<br>flag=\\ud83c\\uddea\\ud83c\\udde8<br>2alphaCode=%{x}<br>2021=%{y}<extra></extra>\",\"legendgroup\":\"Ecuador, \\ud83c\\uddea\\ud83c\\udde8\",\"marker\":{\"color\":\"#FFA15A\",\"symbol\":\"cross\"},\"mode\":\"markers\",\"name\":\"Ecuador, \\ud83c\\uddea\\ud83c\\udde8\",\"orientation\":\"v\",\"showlegend\":true,\"x\":[\"EC\"],\"xaxis\":\"x\",\"y\":[5934.9],\"yaxis\":\"y\",\"type\":\"scatter\"},{\"hovertemplate\":\"Country Name=Brazil<br>flag=\\ud83c\\udde7\\ud83c\\uddf7<br>2alphaCode=%{x}<br>2021=%{y}<extra></extra>\",\"legendgroup\":\"Brazil, \\ud83c\\udde7\\ud83c\\uddf7\",\"marker\":{\"color\":\"#19d3f3\",\"symbol\":\"circle\"},\"mode\":\"markers\",\"name\":\"Brazil, \\ud83c\\udde7\\ud83c\\uddf7\",\"orientation\":\"v\",\"showlegend\":true,\"x\":[\"BR\"],\"xaxis\":\"x\",\"y\":[7518.8],\"yaxis\":\"y\",\"type\":\"scatter\"},{\"hovertemplate\":\"Country Name=Guyana<br>flag=\\ud83c\\uddec\\ud83c\\uddfe<br>2alphaCode=%{x}<br>2021=%{y}<extra></extra>\",\"legendgroup\":\"Guyana, \\ud83c\\uddec\\ud83c\\uddfe\",\"marker\":{\"color\":\"#FF6692\",\"symbol\":\"diamond\"},\"mode\":\"markers\",\"name\":\"Guyana, \\ud83c\\uddec\\ud83c\\uddfe\",\"orientation\":\"v\",\"showlegend\":true,\"x\":[\"GY\"],\"xaxis\":\"x\",\"y\":[9374.8],\"yaxis\":\"y\",\"type\":\"scatter\"},{\"hovertemplate\":\"Country Name=Djibouti<br>flag=\\ud83c\\udde9\\ud83c\\uddef<br>2alphaCode=%{x}<br>2021=%{y}<extra></extra>\",\"legendgroup\":\"Djibouti, \\ud83c\\udde9\\ud83c\\uddef\",\"marker\":{\"color\":\"#B6E880\",\"symbol\":\"square\"},\"mode\":\"markers\",\"name\":\"Djibouti, \\ud83c\\udde9\\ud83c\\uddef\",\"orientation\":\"v\",\"showlegend\":true,\"x\":[\"DJ\"],\"xaxis\":\"x\",\"y\":[3363.7],\"yaxis\":\"y\",\"type\":\"scatter\"},{\"hovertemplate\":\"Country Name=Algeria<br>flag=\\ud83c\\udde9\\ud83c\\uddff<br>2alphaCode=%{x}<br>2021=%{y}<extra></extra>\",\"legendgroup\":\"Algeria, \\ud83c\\udde9\\ud83c\\uddff\",\"marker\":{\"color\":\"#FF97FF\",\"symbol\":\"x\"},\"mode\":\"markers\",\"name\":\"Algeria, \\ud83c\\udde9\\ud83c\\uddff\",\"orientation\":\"v\",\"showlegend\":true,\"x\":[\"DZ\"],\"xaxis\":\"x\",\"y\":[3765.0],\"yaxis\":\"y\",\"type\":\"scatter\"},{\"hovertemplate\":\"Country Name=Egypt, Arab Rep.<br>flag=\\ud83c\\uddea\\ud83c\\uddec<br>2alphaCode=%{x}<br>2021=%{y}<extra></extra>\",\"legendgroup\":\"Egypt, Arab Rep., \\ud83c\\uddea\\ud83c\\uddec\",\"marker\":{\"color\":\"#FECB52\",\"symbol\":\"cross\"},\"mode\":\"markers\",\"name\":\"Egypt, Arab Rep., \\ud83c\\uddea\\ud83c\\uddec\",\"orientation\":\"v\",\"showlegend\":true,\"x\":[\"EG\"],\"xaxis\":\"x\",\"y\":[3876.4],\"yaxis\":\"y\",\"type\":\"scatter\"},{\"hovertemplate\":\"Country Name=Syrian Arab Republic<br>flag=\\ud83c\\uddf8\\ud83c\\uddfe<br>2alphaCode=%{x}<br>2021=%{y}<extra></extra>\",\"legendgroup\":\"Syrian Arab Republic, \\ud83c\\uddf8\\ud83c\\uddfe\",\"marker\":{\"color\":\"#636efa\",\"symbol\":\"circle\"},\"mode\":\"markers\",\"name\":\"Syrian Arab Republic, \\ud83c\\uddf8\\ud83c\\uddfe\",\"orientation\":\"v\",\"showlegend\":true,\"x\":[\"SY\"],\"xaxis\":\"x\",\"y\":[0.0],\"yaxis\":\"y\",\"type\":\"scatter\"},{\"hovertemplate\":\"Country Name=Tunisia<br>flag=\\ud83c\\uddf9\\ud83c\\uddf3<br>2alphaCode=%{x}<br>2021=%{y}<extra></extra>\",\"legendgroup\":\"Tunisia, \\ud83c\\uddf9\\ud83c\\uddf3\",\"marker\":{\"color\":\"#EF553B\",\"symbol\":\"diamond\"},\"mode\":\"markers\",\"name\":\"Tunisia, \\ud83c\\uddf9\\ud83c\\uddf3\",\"orientation\":\"v\",\"showlegend\":true,\"x\":[\"TN\"],\"xaxis\":\"x\",\"y\":[3924.3],\"yaxis\":\"y\",\"type\":\"scatter\"},{\"hovertemplate\":\"Country Name=Yemen, Rep.<br>flag=\\ud83c\\uddfe\\ud83c\\uddea<br>2alphaCode=%{x}<br>2021=%{y}<extra></extra>\",\"legendgroup\":\"Yemen, Rep., \\ud83c\\uddfe\\ud83c\\uddea\",\"marker\":{\"color\":\"#00cc96\",\"symbol\":\"square\"},\"mode\":\"markers\",\"name\":\"Yemen, Rep., \\ud83c\\uddfe\\ud83c\\uddea\",\"orientation\":\"v\",\"showlegend\":true,\"x\":[\"YE\"],\"xaxis\":\"x\",\"y\":[690.8],\"yaxis\":\"y\",\"type\":\"scatter\"},{\"hovertemplate\":\"Country Name=West Bank and Gaza<br>flag=\\ud83c\\uddf5\\ud83c\\uddf8<br>2alphaCode=%{x}<br>2021=%{y}<extra></extra>\",\"legendgroup\":\"West Bank and Gaza, \\ud83c\\uddf5\\ud83c\\uddf8\",\"marker\":{\"color\":\"#ab63fa\",\"symbol\":\"x\"},\"mode\":\"markers\",\"name\":\"West Bank and Gaza, \\ud83c\\uddf5\\ud83c\\uddf8\",\"orientation\":\"v\",\"showlegend\":true,\"x\":[\"PS\"],\"xaxis\":\"x\",\"y\":[3664.0],\"yaxis\":\"y\",\"type\":\"scatter\"},{\"hovertemplate\":\"Country Name=Iraq<br>flag=\\ud83c\\uddee\\ud83c\\uddf6<br>2alphaCode=%{x}<br>2021=%{y}<extra></extra>\",\"legendgroup\":\"Iraq, \\ud83c\\uddee\\ud83c\\uddf6\",\"marker\":{\"color\":\"#FFA15A\",\"symbol\":\"cross\"},\"mode\":\"markers\",\"name\":\"Iraq, \\ud83c\\uddee\\ud83c\\uddf6\",\"orientation\":\"v\",\"showlegend\":true,\"x\":[\"IQ\"],\"xaxis\":\"x\",\"y\":[5048.4],\"yaxis\":\"y\",\"type\":\"scatter\"},{\"hovertemplate\":\"Country Name=Israel<br>flag=\\ud83c\\uddee\\ud83c\\uddf1<br>2alphaCode=%{x}<br>2021=%{y}<extra></extra>\",\"legendgroup\":\"Israel, \\ud83c\\uddee\\ud83c\\uddf1\",\"marker\":{\"color\":\"#19d3f3\",\"symbol\":\"circle\"},\"mode\":\"markers\",\"name\":\"Israel, \\ud83c\\uddee\\ud83c\\uddf1\",\"orientation\":\"v\",\"showlegend\":true,\"x\":[\"IL\"],\"xaxis\":\"x\",\"y\":[51430.1],\"yaxis\":\"y\",\"type\":\"scatter\"},{\"hovertemplate\":\"Country Name=Jordan<br>flag=\\ud83c\\uddef\\ud83c\\uddf4<br>2alphaCode=%{x}<br>2021=%{y}<extra></extra>\",\"legendgroup\":\"Jordan, \\ud83c\\uddef\\ud83c\\uddf4\",\"marker\":{\"color\":\"#FF6692\",\"symbol\":\"diamond\"},\"mode\":\"markers\",\"name\":\"Jordan, \\ud83c\\uddef\\ud83c\\uddf4\",\"orientation\":\"v\",\"showlegend\":true,\"x\":[\"JO\"],\"xaxis\":\"x\",\"y\":[4405.8],\"yaxis\":\"y\",\"type\":\"scatter\"},{\"hovertemplate\":\"Country Name=Morocco<br>flag=\\ud83c\\uddf2\\ud83c\\udde6<br>2alphaCode=%{x}<br>2021=%{y}<extra></extra>\",\"legendgroup\":\"Morocco, \\ud83c\\uddf2\\ud83c\\udde6\",\"marker\":{\"color\":\"#B6E880\",\"symbol\":\"square\"},\"mode\":\"markers\",\"name\":\"Morocco, \\ud83c\\uddf2\\ud83c\\udde6\",\"orientation\":\"v\",\"showlegend\":true,\"x\":[\"MA\"],\"xaxis\":\"x\",\"y\":[3496.8],\"yaxis\":\"y\",\"type\":\"scatter\"},{\"hovertemplate\":\"Country Name=Malta<br>flag=\\ud83c\\uddf2\\ud83c\\uddf9<br>2alphaCode=%{x}<br>2021=%{y}<extra></extra>\",\"legendgroup\":\"Malta, \\ud83c\\uddf2\\ud83c\\uddf9\",\"marker\":{\"color\":\"#FF97FF\",\"symbol\":\"x\"},\"mode\":\"markers\",\"name\":\"Malta, \\ud83c\\uddf2\\ud83c\\uddf9\",\"orientation\":\"v\",\"showlegend\":true,\"x\":[\"MT\"],\"xaxis\":\"x\",\"y\":[33257.4],\"yaxis\":\"y\",\"type\":\"scatter\"},{\"hovertemplate\":\"Country Name=Iran, Islamic Rep.<br>flag=\\ud83c\\uddee\\ud83c\\uddf7<br>2alphaCode=%{x}<br>2021=%{y}<extra></extra>\",\"legendgroup\":\"Iran, Islamic Rep., \\ud83c\\uddee\\ud83c\\uddf7\",\"marker\":{\"color\":\"#FECB52\",\"symbol\":\"cross\"},\"mode\":\"markers\",\"name\":\"Iran, Islamic Rep., \\ud83c\\uddee\\ud83c\\uddf7\",\"orientation\":\"v\",\"showlegend\":true,\"x\":[\"IR\"],\"xaxis\":\"x\",\"y\":[0.0],\"yaxis\":\"y\",\"type\":\"scatter\"},{\"hovertemplate\":\"Country Name=Lebanon<br>flag=\\ud83c\\uddf1\\ud83c\\udde7<br>2alphaCode=%{x}<br>2021=%{y}<extra></extra>\",\"legendgroup\":\"Lebanon, \\ud83c\\uddf1\\ud83c\\udde7\",\"marker\":{\"color\":\"#636efa\",\"symbol\":\"circle\"},\"mode\":\"markers\",\"name\":\"Lebanon, \\ud83c\\uddf1\\ud83c\\udde7\",\"orientation\":\"v\",\"showlegend\":true,\"x\":[\"LB\"],\"xaxis\":\"x\",\"y\":[2670.4],\"yaxis\":\"y\",\"type\":\"scatter\"},{\"hovertemplate\":\"Country Name=United States<br>flag=\\ud83c\\uddfa\\ud83c\\uddf8<br>2alphaCode=%{x}<br>2021=%{y}<extra></extra>\",\"legendgroup\":\"United States, \\ud83c\\uddfa\\ud83c\\uddf8\",\"marker\":{\"color\":\"#EF553B\",\"symbol\":\"diamond\"},\"mode\":\"markers\",\"name\":\"United States, \\ud83c\\uddfa\\ud83c\\uddf8\",\"orientation\":\"v\",\"showlegend\":true,\"x\":[\"US\"],\"xaxis\":\"x\",\"y\":[69287.5],\"yaxis\":\"y\",\"type\":\"scatter\"},{\"hovertemplate\":\"Country Name=Canada<br>flag=\\ud83c\\udde8\\ud83c\\udde6<br>2alphaCode=%{x}<br>2021=%{y}<extra></extra>\",\"legendgroup\":\"Canada, \\ud83c\\udde8\\ud83c\\udde6\",\"marker\":{\"color\":\"#00cc96\",\"symbol\":\"square\"},\"mode\":\"markers\",\"name\":\"Canada, \\ud83c\\udde8\\ud83c\\udde6\",\"orientation\":\"v\",\"showlegend\":true,\"x\":[\"CA\"],\"xaxis\":\"x\",\"y\":[52051.4],\"yaxis\":\"y\",\"type\":\"scatter\"},{\"hovertemplate\":\"Country Name=Pakistan<br>flag=\\ud83c\\uddf5\\ud83c\\uddf0<br>2alphaCode=%{x}<br>2021=%{y}<extra></extra>\",\"legendgroup\":\"Pakistan, \\ud83c\\uddf5\\ud83c\\uddf0\",\"marker\":{\"color\":\"#ab63fa\",\"symbol\":\"x\"},\"mode\":\"markers\",\"name\":\"Pakistan, \\ud83c\\uddf5\\ud83c\\uddf0\",\"orientation\":\"v\",\"showlegend\":true,\"x\":[\"PK\"],\"xaxis\":\"x\",\"y\":[1537.9],\"yaxis\":\"y\",\"type\":\"scatter\"},{\"hovertemplate\":\"Country Name=Bangladesh<br>flag=\\ud83c\\udde7\\ud83c\\udde9<br>2alphaCode=%{x}<br>2021=%{y}<extra></extra>\",\"legendgroup\":\"Bangladesh, \\ud83c\\udde7\\ud83c\\udde9\",\"marker\":{\"color\":\"#FFA15A\",\"symbol\":\"cross\"},\"mode\":\"markers\",\"name\":\"Bangladesh, \\ud83c\\udde7\\ud83c\\udde9\",\"orientation\":\"v\",\"showlegend\":true,\"x\":[\"BD\"],\"xaxis\":\"x\",\"y\":[2503.0],\"yaxis\":\"y\",\"type\":\"scatter\"},{\"hovertemplate\":\"Country Name=India<br>flag=\\ud83c\\uddee\\ud83c\\uddf3<br>2alphaCode=%{x}<br>2021=%{y}<extra></extra>\",\"legendgroup\":\"India, \\ud83c\\uddee\\ud83c\\uddf3\",\"marker\":{\"color\":\"#19d3f3\",\"symbol\":\"circle\"},\"mode\":\"markers\",\"name\":\"India, \\ud83c\\uddee\\ud83c\\uddf3\",\"orientation\":\"v\",\"showlegend\":true,\"x\":[\"IN\"],\"xaxis\":\"x\",\"y\":[2277.4],\"yaxis\":\"y\",\"type\":\"scatter\"},{\"hovertemplate\":\"Country Name=Bhutan<br>flag=\\ud83c\\udde7\\ud83c\\uddf9<br>2alphaCode=%{x}<br>2021=%{y}<extra></extra>\",\"legendgroup\":\"Bhutan, \\ud83c\\udde7\\ud83c\\uddf9\",\"marker\":{\"color\":\"#FF6692\",\"symbol\":\"diamond\"},\"mode\":\"markers\",\"name\":\"Bhutan, \\ud83c\\udde7\\ud83c\\uddf9\",\"orientation\":\"v\",\"showlegend\":true,\"x\":[\"BT\"],\"xaxis\":\"x\",\"y\":[0.0],\"yaxis\":\"y\",\"type\":\"scatter\"},{\"hovertemplate\":\"Country Name=Nepal<br>flag=\\ud83c\\uddf3\\ud83c\\uddf5<br>2alphaCode=%{x}<br>2021=%{y}<extra></extra>\",\"legendgroup\":\"Nepal, \\ud83c\\uddf3\\ud83c\\uddf5\",\"marker\":{\"color\":\"#B6E880\",\"symbol\":\"square\"},\"mode\":\"markers\",\"name\":\"Nepal, \\ud83c\\uddf3\\ud83c\\uddf5\",\"orientation\":\"v\",\"showlegend\":true,\"x\":[\"NP\"],\"xaxis\":\"x\",\"y\":[1222.9],\"yaxis\":\"y\",\"type\":\"scatter\"},{\"hovertemplate\":\"Country Name=Maldives<br>flag=\\ud83c\\uddf2\\ud83c\\uddfb<br>2alphaCode=%{x}<br>2021=%{y}<extra></extra>\",\"legendgroup\":\"Maldives, \\ud83c\\uddf2\\ud83c\\uddfb\",\"marker\":{\"color\":\"#FF97FF\",\"symbol\":\"x\"},\"mode\":\"markers\",\"name\":\"Maldives, \\ud83c\\uddf2\\ud83c\\uddfb\",\"orientation\":\"v\",\"showlegend\":true,\"x\":[\"MV\"],\"xaxis\":\"x\",\"y\":[8994.6],\"yaxis\":\"y\",\"type\":\"scatter\"},{\"hovertemplate\":\"Country Name=Afghanistan<br>flag=\\ud83c\\udde6\\ud83c\\uddeb<br>2alphaCode=%{x}<br>2021=%{y}<extra></extra>\",\"legendgroup\":\"Afghanistan, \\ud83c\\udde6\\ud83c\\uddeb\",\"marker\":{\"color\":\"#FECB52\",\"symbol\":\"cross\"},\"mode\":\"markers\",\"name\":\"Afghanistan, \\ud83c\\udde6\\ud83c\\uddeb\",\"orientation\":\"v\",\"showlegend\":true,\"x\":[\"AF\"],\"xaxis\":\"x\",\"y\":[0.0],\"yaxis\":\"y\",\"type\":\"scatter\"},{\"hovertemplate\":\"Country Name=Sri Lanka<br>flag=\\ud83c\\uddf1\\ud83c\\uddf0<br>2alphaCode=%{x}<br>2021=%{y}<extra></extra>\",\"legendgroup\":\"Sri Lanka, \\ud83c\\uddf1\\ud83c\\uddf0\",\"marker\":{\"color\":\"#636efa\",\"symbol\":\"circle\"},\"mode\":\"markers\",\"name\":\"Sri Lanka, \\ud83c\\uddf1\\ud83c\\uddf0\",\"orientation\":\"v\",\"showlegend\":true,\"x\":[\"LK\"],\"xaxis\":\"x\",\"y\":[3814.7],\"yaxis\":\"y\",\"type\":\"scatter\"},{\"hovertemplate\":\"Country Name=Benin<br>flag=\\ud83c\\udde7\\ud83c\\uddef<br>2alphaCode=%{x}<br>2021=%{y}<extra></extra>\",\"legendgroup\":\"Benin, \\ud83c\\udde7\\ud83c\\uddef\",\"marker\":{\"color\":\"#EF553B\",\"symbol\":\"diamond\"},\"mode\":\"markers\",\"name\":\"Benin, \\ud83c\\udde7\\ud83c\\uddef\",\"orientation\":\"v\",\"showlegend\":true,\"x\":[\"BJ\"],\"xaxis\":\"x\",\"y\":[1428.4],\"yaxis\":\"y\",\"type\":\"scatter\"},{\"hovertemplate\":\"Country Name=Central African Republic<br>flag=\\ud83c\\udde8\\ud83c\\uddeb<br>2alphaCode=%{x}<br>2021=%{y}<extra></extra>\",\"legendgroup\":\"Central African Republic, \\ud83c\\udde8\\ud83c\\uddeb\",\"marker\":{\"color\":\"#00cc96\",\"symbol\":\"square\"},\"mode\":\"markers\",\"name\":\"Central African Republic, \\ud83c\\udde8\\ud83c\\uddeb\",\"orientation\":\"v\",\"showlegend\":true,\"x\":[\"CF\"],\"xaxis\":\"x\",\"y\":[511.5],\"yaxis\":\"y\",\"type\":\"scatter\"},{\"hovertemplate\":\"Country Name=Chad<br>flag=\\ud83c\\uddf9\\ud83c\\udde9<br>2alphaCode=%{x}<br>2021=%{y}<extra></extra>\",\"legendgroup\":\"Chad, \\ud83c\\uddf9\\ud83c\\udde9\",\"marker\":{\"color\":\"#ab63fa\",\"symbol\":\"x\"},\"mode\":\"markers\",\"name\":\"Chad, \\ud83c\\uddf9\\ud83c\\udde9\",\"orientation\":\"v\",\"showlegend\":true,\"x\":[\"TD\"],\"xaxis\":\"x\",\"y\":[696.4],\"yaxis\":\"y\",\"type\":\"scatter\"},{\"hovertemplate\":\"Country Name=Togo<br>flag=\\ud83c\\uddf9\\ud83c\\uddec<br>2alphaCode=%{x}<br>2021=%{y}<extra></extra>\",\"legendgroup\":\"Togo, \\ud83c\\uddf9\\ud83c\\uddec\",\"marker\":{\"color\":\"#FFA15A\",\"symbol\":\"cross\"},\"mode\":\"markers\",\"name\":\"Togo, \\ud83c\\uddf9\\ud83c\\uddec\",\"orientation\":\"v\",\"showlegend\":true,\"x\":[\"TG\"],\"xaxis\":\"x\",\"y\":[992.3],\"yaxis\":\"y\",\"type\":\"scatter\"},{\"hovertemplate\":\"Country Name=Botswana<br>flag=\\ud83c\\udde7\\ud83c\\uddfc<br>2alphaCode=%{x}<br>2021=%{y}<extra></extra>\",\"legendgroup\":\"Botswana, \\ud83c\\udde7\\ud83c\\uddfc\",\"marker\":{\"color\":\"#19d3f3\",\"symbol\":\"circle\"},\"mode\":\"markers\",\"name\":\"Botswana, \\ud83c\\udde7\\ud83c\\uddfc\",\"orientation\":\"v\",\"showlegend\":true,\"x\":[\"BW\"],\"xaxis\":\"x\",\"y\":[7347.6],\"yaxis\":\"y\",\"type\":\"scatter\"},{\"hovertemplate\":\"Country Name=Madagascar<br>flag=\\ud83c\\uddf2\\ud83c\\uddec<br>2alphaCode=%{x}<br>2021=%{y}<extra></extra>\",\"legendgroup\":\"Madagascar, \\ud83c\\uddf2\\ud83c\\uddec\",\"marker\":{\"color\":\"#FF6692\",\"symbol\":\"diamond\"},\"mode\":\"markers\",\"name\":\"Madagascar, \\ud83c\\uddf2\\ud83c\\uddec\",\"orientation\":\"v\",\"showlegend\":true,\"x\":[\"MG\"],\"xaxis\":\"x\",\"y\":[514.9],\"yaxis\":\"y\",\"type\":\"scatter\"},{\"hovertemplate\":\"Country Name=Kenya<br>flag=\\ud83c\\uddf0\\ud83c\\uddea<br>2alphaCode=%{x}<br>2021=%{y}<extra></extra>\",\"legendgroup\":\"Kenya, \\ud83c\\uddf0\\ud83c\\uddea\",\"marker\":{\"color\":\"#B6E880\",\"symbol\":\"square\"},\"mode\":\"markers\",\"name\":\"Kenya, \\ud83c\\uddf0\\ud83c\\uddea\",\"orientation\":\"v\",\"showlegend\":true,\"x\":[\"KE\"],\"xaxis\":\"x\",\"y\":[2006.8],\"yaxis\":\"y\",\"type\":\"scatter\"},{\"hovertemplate\":\"Country Name=Burundi<br>flag=\\ud83c\\udde7\\ud83c\\uddee<br>2alphaCode=%{x}<br>2021=%{y}<extra></extra>\",\"legendgroup\":\"Burundi, \\ud83c\\udde7\\ud83c\\uddee\",\"marker\":{\"color\":\"#FF97FF\",\"symbol\":\"x\"},\"mode\":\"markers\",\"name\":\"Burundi, \\ud83c\\udde7\\ud83c\\uddee\",\"orientation\":\"v\",\"showlegend\":true,\"x\":[\"BI\"],\"xaxis\":\"x\",\"y\":[236.8],\"yaxis\":\"y\",\"type\":\"scatter\"},{\"hovertemplate\":\"Country Name=Angola<br>flag=\\ud83c\\udde6\\ud83c\\uddf4<br>2alphaCode=%{x}<br>2021=%{y}<extra></extra>\",\"legendgroup\":\"Angola, \\ud83c\\udde6\\ud83c\\uddf4\",\"marker\":{\"color\":\"#FECB52\",\"symbol\":\"cross\"},\"mode\":\"markers\",\"name\":\"Angola, \\ud83c\\udde6\\ud83c\\uddf4\",\"orientation\":\"v\",\"showlegend\":true,\"x\":[\"AO\"],\"xaxis\":\"x\",\"y\":[2137.9],\"yaxis\":\"y\",\"type\":\"scatter\"},{\"hovertemplate\":\"Country Name=Tanzania<br>flag=\\ud83c\\uddf9\\ud83c\\uddff<br>2alphaCode=%{x}<br>2021=%{y}<extra></extra>\",\"legendgroup\":\"Tanzania, \\ud83c\\uddf9\\ud83c\\uddff\",\"marker\":{\"color\":\"#636efa\",\"symbol\":\"circle\"},\"mode\":\"markers\",\"name\":\"Tanzania, \\ud83c\\uddf9\\ud83c\\uddff\",\"orientation\":\"v\",\"showlegend\":true,\"x\":[\"TZ\"],\"xaxis\":\"x\",\"y\":[1135.5],\"yaxis\":\"y\",\"type\":\"scatter\"},{\"hovertemplate\":\"Country Name=Lesotho<br>flag=\\ud83c\\uddf1\\ud83c\\uddf8<br>2alphaCode=%{x}<br>2021=%{y}<extra></extra>\",\"legendgroup\":\"Lesotho, \\ud83c\\uddf1\\ud83c\\uddf8\",\"marker\":{\"color\":\"#EF553B\",\"symbol\":\"diamond\"},\"mode\":\"markers\",\"name\":\"Lesotho, \\ud83c\\uddf1\\ud83c\\uddf8\",\"orientation\":\"v\",\"showlegend\":true,\"x\":[\"LS\"],\"xaxis\":\"x\",\"y\":[1166.5],\"yaxis\":\"y\",\"type\":\"scatter\"},{\"hovertemplate\":\"Country Name=Seychelles<br>flag=\\ud83c\\uddf8\\ud83c\\udde8<br>2alphaCode=%{x}<br>2021=%{y}<extra></extra>\",\"legendgroup\":\"Seychelles, \\ud83c\\uddf8\\ud83c\\udde8\",\"marker\":{\"color\":\"#00cc96\",\"symbol\":\"square\"},\"mode\":\"markers\",\"name\":\"Seychelles, \\ud83c\\uddf8\\ud83c\\udde8\",\"orientation\":\"v\",\"showlegend\":true,\"x\":[\"SC\"],\"xaxis\":\"x\",\"y\":[13306.7],\"yaxis\":\"y\",\"type\":\"scatter\"},{\"hovertemplate\":\"Country Name=Zambia<br>flag=\\ud83c\\uddff\\ud83c\\uddf2<br>2alphaCode=%{x}<br>2021=%{y}<extra></extra>\",\"legendgroup\":\"Zambia, \\ud83c\\uddff\\ud83c\\uddf2\",\"marker\":{\"color\":\"#ab63fa\",\"symbol\":\"x\"},\"mode\":\"markers\",\"name\":\"Zambia, \\ud83c\\uddff\\ud83c\\uddf2\",\"orientation\":\"v\",\"showlegend\":true,\"x\":[\"ZM\"],\"xaxis\":\"x\",\"y\":[1120.6],\"yaxis\":\"y\",\"type\":\"scatter\"},{\"hovertemplate\":\"Country Name=Liberia<br>flag=\\ud83c\\uddf1\\ud83c\\uddf7<br>2alphaCode=%{x}<br>2021=%{y}<extra></extra>\",\"legendgroup\":\"Liberia, \\ud83c\\uddf1\\ud83c\\uddf7\",\"marker\":{\"color\":\"#FFA15A\",\"symbol\":\"cross\"},\"mode\":\"markers\",\"name\":\"Liberia, \\ud83c\\uddf1\\ud83c\\uddf7\",\"orientation\":\"v\",\"showlegend\":true,\"x\":[\"LR\"],\"xaxis\":\"x\",\"y\":[673.1],\"yaxis\":\"y\",\"type\":\"scatter\"},{\"hovertemplate\":\"Country Name=Burkina Faso<br>flag=\\ud83c\\udde7\\ud83c\\uddeb<br>2alphaCode=%{x}<br>2021=%{y}<extra></extra>\",\"legendgroup\":\"Burkina Faso, \\ud83c\\udde7\\ud83c\\uddeb\",\"marker\":{\"color\":\"#19d3f3\",\"symbol\":\"circle\"},\"mode\":\"markers\",\"name\":\"Burkina Faso, \\ud83c\\udde7\\ud83c\\uddeb\",\"orientation\":\"v\",\"showlegend\":true,\"x\":[\"BF\"],\"xaxis\":\"x\",\"y\":[918.2],\"yaxis\":\"y\",\"type\":\"scatter\"},{\"hovertemplate\":\"Country Name=South Africa<br>flag=\\ud83c\\uddff\\ud83c\\udde6<br>2alphaCode=%{x}<br>2021=%{y}<extra></extra>\",\"legendgroup\":\"South Africa, \\ud83c\\uddff\\ud83c\\udde6\",\"marker\":{\"color\":\"#FF6692\",\"symbol\":\"diamond\"},\"mode\":\"markers\",\"name\":\"South Africa, \\ud83c\\uddff\\ud83c\\udde6\",\"orientation\":\"v\",\"showlegend\":true,\"x\":[\"ZA\"],\"xaxis\":\"x\",\"y\":[6994.2],\"yaxis\":\"y\",\"type\":\"scatter\"},{\"hovertemplate\":\"Country Name=Uganda<br>flag=\\ud83c\\uddfa\\ud83c\\uddec<br>2alphaCode=%{x}<br>2021=%{y}<extra></extra>\",\"legendgroup\":\"Uganda, \\ud83c\\uddfa\\ud83c\\uddec\",\"marker\":{\"color\":\"#B6E880\",\"symbol\":\"square\"},\"mode\":\"markers\",\"name\":\"Uganda, \\ud83c\\uddfa\\ud83c\\uddec\",\"orientation\":\"v\",\"showlegend\":true,\"x\":[\"UG\"],\"xaxis\":\"x\",\"y\":[858.1],\"yaxis\":\"y\",\"type\":\"scatter\"},{\"hovertemplate\":\"Country Name=Gambia, The<br>flag=\\ud83c\\uddec\\ud83c\\uddf2<br>2alphaCode=%{x}<br>2021=%{y}<extra></extra>\",\"legendgroup\":\"Gambia, The, \\ud83c\\uddec\\ud83c\\uddf2\",\"marker\":{\"color\":\"#FF97FF\",\"symbol\":\"x\"},\"mode\":\"markers\",\"name\":\"Gambia, The, \\ud83c\\uddec\\ud83c\\uddf2\",\"orientation\":\"v\",\"showlegend\":true,\"x\":[\"GM\"],\"xaxis\":\"x\",\"y\":[835.6],\"yaxis\":\"y\",\"type\":\"scatter\"},{\"hovertemplate\":\"Country Name=Guinea<br>flag=\\ud83c\\uddec\\ud83c\\uddf3<br>2alphaCode=%{x}<br>2021=%{y}<extra></extra>\",\"legendgroup\":\"Guinea, \\ud83c\\uddec\\ud83c\\uddf3\",\"marker\":{\"color\":\"#FECB52\",\"symbol\":\"cross\"},\"mode\":\"markers\",\"name\":\"Guinea, \\ud83c\\uddec\\ud83c\\uddf3\",\"orientation\":\"v\",\"showlegend\":true,\"x\":[\"GN\"],\"xaxis\":\"x\",\"y\":[1174.4],\"yaxis\":\"y\",\"type\":\"scatter\"},{\"hovertemplate\":\"Country Name=Ghana<br>flag=\\ud83c\\uddec\\ud83c\\udded<br>2alphaCode=%{x}<br>2021=%{y}<extra></extra>\",\"legendgroup\":\"Ghana, \\ud83c\\uddec\\ud83c\\udded\",\"marker\":{\"color\":\"#636efa\",\"symbol\":\"circle\"},\"mode\":\"markers\",\"name\":\"Ghana, \\ud83c\\uddec\\ud83c\\udded\",\"orientation\":\"v\",\"showlegend\":true,\"x\":[\"GH\"],\"xaxis\":\"x\",\"y\":[2445.3],\"yaxis\":\"y\",\"type\":\"scatter\"},{\"hovertemplate\":\"Country Name=Gabon<br>flag=\\ud83c\\uddec\\ud83c\\udde6<br>2alphaCode=%{x}<br>2021=%{y}<extra></extra>\",\"legendgroup\":\"Gabon, \\ud83c\\uddec\\ud83c\\udde6\",\"marker\":{\"color\":\"#EF553B\",\"symbol\":\"diamond\"},\"mode\":\"markers\",\"name\":\"Gabon, \\ud83c\\uddec\\ud83c\\udde6\",\"orientation\":\"v\",\"showlegend\":true,\"x\":[\"GA\"],\"xaxis\":\"x\",\"y\":[8017.0],\"yaxis\":\"y\",\"type\":\"scatter\"},{\"hovertemplate\":\"Country Name=Ethiopia<br>flag=\\ud83c\\uddea\\ud83c\\uddf9<br>2alphaCode=%{x}<br>2021=%{y}<extra></extra>\",\"legendgroup\":\"Ethiopia, \\ud83c\\uddea\\ud83c\\uddf9\",\"marker\":{\"color\":\"#00cc96\",\"symbol\":\"square\"},\"mode\":\"markers\",\"name\":\"Ethiopia, \\ud83c\\uddea\\ud83c\\uddf9\",\"orientation\":\"v\",\"showlegend\":true,\"x\":[\"ET\"],\"xaxis\":\"x\",\"y\":[944.0],\"yaxis\":\"y\",\"type\":\"scatter\"},{\"hovertemplate\":\"Country Name=Eritrea<br>flag=\\ud83c\\uddea\\ud83c\\uddf7<br>2alphaCode=%{x}<br>2021=%{y}<extra></extra>\",\"legendgroup\":\"Eritrea, \\ud83c\\uddea\\ud83c\\uddf7\",\"marker\":{\"color\":\"#ab63fa\",\"symbol\":\"x\"},\"mode\":\"markers\",\"name\":\"Eritrea, \\ud83c\\uddea\\ud83c\\uddf7\",\"orientation\":\"v\",\"showlegend\":true,\"x\":[\"ER\"],\"xaxis\":\"x\",\"y\":[0.0],\"yaxis\":\"y\",\"type\":\"scatter\"},{\"hovertemplate\":\"Country Name=Guinea-Bissau<br>flag=\\ud83c\\uddec\\ud83c\\uddfc<br>2alphaCode=%{x}<br>2021=%{y}<extra></extra>\",\"legendgroup\":\"Guinea-Bissau, \\ud83c\\uddec\\ud83c\\uddfc\",\"marker\":{\"color\":\"#FFA15A\",\"symbol\":\"cross\"},\"mode\":\"markers\",\"name\":\"Guinea-Bissau, \\ud83c\\uddec\\ud83c\\uddfc\",\"orientation\":\"v\",\"showlegend\":true,\"x\":[\"GW\"],\"xaxis\":\"x\",\"y\":[813.0],\"yaxis\":\"y\",\"type\":\"scatter\"},{\"hovertemplate\":\"Country Name=Equatorial Guinea<br>flag=\\ud83c\\uddec\\ud83c\\uddf6<br>2alphaCode=%{x}<br>2021=%{y}<extra></extra>\",\"legendgroup\":\"Equatorial Guinea, \\ud83c\\uddec\\ud83c\\uddf6\",\"marker\":{\"color\":\"#19d3f3\",\"symbol\":\"circle\"},\"mode\":\"markers\",\"name\":\"Equatorial Guinea, \\ud83c\\uddec\\ud83c\\uddf6\",\"orientation\":\"v\",\"showlegend\":true,\"x\":[\"GQ\"],\"xaxis\":\"x\",\"y\":[8462.3],\"yaxis\":\"y\",\"type\":\"scatter\"},{\"hovertemplate\":\"Country Name=Nigeria<br>flag=\\ud83c\\uddf3\\ud83c\\uddec<br>2alphaCode=%{x}<br>2021=%{y}<extra></extra>\",\"legendgroup\":\"Nigeria, \\ud83c\\uddf3\\ud83c\\uddec\",\"marker\":{\"color\":\"#FF6692\",\"symbol\":\"diamond\"},\"mode\":\"markers\",\"name\":\"Nigeria, \\ud83c\\uddf3\\ud83c\\uddec\",\"orientation\":\"v\",\"showlegend\":true,\"x\":[\"NG\"],\"xaxis\":\"x\",\"y\":[2085.0],\"yaxis\":\"y\",\"type\":\"scatter\"},{\"hovertemplate\":\"Country Name=Niger<br>flag=\\ud83c\\uddf3\\ud83c\\uddea<br>2alphaCode=%{x}<br>2021=%{y}<extra></extra>\",\"legendgroup\":\"Niger, \\ud83c\\uddf3\\ud83c\\uddea\",\"marker\":{\"color\":\"#B6E880\",\"symbol\":\"square\"},\"mode\":\"markers\",\"name\":\"Niger, \\ud83c\\uddf3\\ud83c\\uddea\",\"orientation\":\"v\",\"showlegend\":true,\"x\":[\"NE\"],\"xaxis\":\"x\",\"y\":[594.9],\"yaxis\":\"y\",\"type\":\"scatter\"},{\"hovertemplate\":\"Country Name=Malawi<br>flag=\\ud83c\\uddf2\\ud83c\\uddfc<br>2alphaCode=%{x}<br>2021=%{y}<extra></extra>\",\"legendgroup\":\"Malawi, \\ud83c\\uddf2\\ud83c\\uddfc\",\"marker\":{\"color\":\"#FF97FF\",\"symbol\":\"x\"},\"mode\":\"markers\",\"name\":\"Malawi, \\ud83c\\uddf2\\ud83c\\uddfc\",\"orientation\":\"v\",\"showlegend\":true,\"x\":[\"MW\"],\"xaxis\":\"x\",\"y\":[642.7],\"yaxis\":\"y\",\"type\":\"scatter\"},{\"hovertemplate\":\"Country Name=Mauritius<br>flag=\\ud83c\\uddf2\\ud83c\\uddfa<br>2alphaCode=%{x}<br>2021=%{y}<extra></extra>\",\"legendgroup\":\"Mauritius, \\ud83c\\uddf2\\ud83c\\uddfa\",\"marker\":{\"color\":\"#FECB52\",\"symbol\":\"cross\"},\"mode\":\"markers\",\"name\":\"Mauritius, \\ud83c\\uddf2\\ud83c\\uddfa\",\"orientation\":\"v\",\"showlegend\":true,\"x\":[\"MU\"],\"xaxis\":\"x\",\"y\":[8812.1],\"yaxis\":\"y\",\"type\":\"scatter\"},{\"hovertemplate\":\"Country Name=Mauritania<br>flag=\\ud83c\\uddf2\\ud83c\\uddf7<br>2alphaCode=%{x}<br>2021=%{y}<extra></extra>\",\"legendgroup\":\"Mauritania, \\ud83c\\uddf2\\ud83c\\uddf7\",\"marker\":{\"color\":\"#636efa\",\"symbol\":\"circle\"},\"mode\":\"markers\",\"name\":\"Mauritania, \\ud83c\\uddf2\\ud83c\\uddf7\",\"orientation\":\"v\",\"showlegend\":true,\"x\":[\"MR\"],\"xaxis\":\"x\",\"y\":[1723.0],\"yaxis\":\"y\",\"type\":\"scatter\"},{\"hovertemplate\":\"Country Name=Mozambique<br>flag=\\ud83c\\uddf2\\ud83c\\uddff<br>2alphaCode=%{x}<br>2021=%{y}<extra></extra>\",\"legendgroup\":\"Mozambique, \\ud83c\\uddf2\\ud83c\\uddff\",\"marker\":{\"color\":\"#EF553B\",\"symbol\":\"diamond\"},\"mode\":\"markers\",\"name\":\"Mozambique, \\ud83c\\uddf2\\ud83c\\uddff\",\"orientation\":\"v\",\"showlegend\":true,\"x\":[\"MZ\"],\"xaxis\":\"x\",\"y\":[500.4],\"yaxis\":\"y\",\"type\":\"scatter\"},{\"hovertemplate\":\"Country Name=Rwanda<br>flag=\\ud83c\\uddf7\\ud83c\\uddfc<br>2alphaCode=%{x}<br>2021=%{y}<extra></extra>\",\"legendgroup\":\"Rwanda, \\ud83c\\uddf7\\ud83c\\uddfc\",\"marker\":{\"color\":\"#00cc96\",\"symbol\":\"square\"},\"mode\":\"markers\",\"name\":\"Rwanda, \\ud83c\\uddf7\\ud83c\\uddfc\",\"orientation\":\"v\",\"showlegend\":true,\"x\":[\"RW\"],\"xaxis\":\"x\",\"y\":[833.8],\"yaxis\":\"y\",\"type\":\"scatter\"},{\"hovertemplate\":\"Country Name=Sudan<br>flag=\\ud83c\\uddf8\\ud83c\\udde9<br>2alphaCode=%{x}<br>2021=%{y}<extra></extra>\",\"legendgroup\":\"Sudan, \\ud83c\\uddf8\\ud83c\\udde9\",\"marker\":{\"color\":\"#ab63fa\",\"symbol\":\"x\"},\"mode\":\"markers\",\"name\":\"Sudan, \\ud83c\\uddf8\\ud83c\\udde9\",\"orientation\":\"v\",\"showlegend\":true,\"x\":[\"SD\"],\"xaxis\":\"x\",\"y\":[764.3],\"yaxis\":\"y\",\"type\":\"scatter\"},{\"hovertemplate\":\"Country Name=Senegal<br>flag=\\ud83c\\uddf8\\ud83c\\uddf3<br>2alphaCode=%{x}<br>2021=%{y}<extra></extra>\",\"legendgroup\":\"Senegal, \\ud83c\\uddf8\\ud83c\\uddf3\",\"marker\":{\"color\":\"#FFA15A\",\"symbol\":\"cross\"},\"mode\":\"markers\",\"name\":\"Senegal, \\ud83c\\uddf8\\ud83c\\uddf3\",\"orientation\":\"v\",\"showlegend\":true,\"x\":[\"SN\"],\"xaxis\":\"x\",\"y\":[1606.5],\"yaxis\":\"y\",\"type\":\"scatter\"},{\"hovertemplate\":\"Country Name=Cabo Verde<br>flag=\\ud83c\\udde8\\ud83c\\uddfb<br>2alphaCode=%{x}<br>2021=%{y}<extra></extra>\",\"legendgroup\":\"Cabo Verde, \\ud83c\\udde8\\ud83c\\uddfb\",\"marker\":{\"color\":\"#19d3f3\",\"symbol\":\"circle\"},\"mode\":\"markers\",\"name\":\"Cabo Verde, \\ud83c\\udde8\\ud83c\\uddfb\",\"orientation\":\"v\",\"showlegend\":true,\"x\":[\"CV\"],\"xaxis\":\"x\",\"y\":[3445.8],\"yaxis\":\"y\",\"type\":\"scatter\"},{\"hovertemplate\":\"Country Name=Sierra Leone<br>flag=\\ud83c\\uddf8\\ud83c\\uddf1<br>2alphaCode=%{x}<br>2021=%{y}<extra></extra>\",\"legendgroup\":\"Sierra Leone, \\ud83c\\uddf8\\ud83c\\uddf1\",\"marker\":{\"color\":\"#FF6692\",\"symbol\":\"diamond\"},\"mode\":\"markers\",\"name\":\"Sierra Leone, \\ud83c\\uddf8\\ud83c\\uddf1\",\"orientation\":\"v\",\"showlegend\":true,\"x\":[\"SL\"],\"xaxis\":\"x\",\"y\":[515.9],\"yaxis\":\"y\",\"type\":\"scatter\"},{\"hovertemplate\":\"Country Name=Comoros<br>flag=\\ud83c\\uddf0\\ud83c\\uddf2<br>2alphaCode=%{x}<br>2021=%{y}<extra></extra>\",\"legendgroup\":\"Comoros, \\ud83c\\uddf0\\ud83c\\uddf2\",\"marker\":{\"color\":\"#B6E880\",\"symbol\":\"square\"},\"mode\":\"markers\",\"name\":\"Comoros, \\ud83c\\uddf0\\ud83c\\uddf2\",\"orientation\":\"v\",\"showlegend\":true,\"x\":[\"KM\"],\"xaxis\":\"x\",\"y\":[1494.7],\"yaxis\":\"y\",\"type\":\"scatter\"},{\"hovertemplate\":\"Country Name=Mali<br>flag=\\ud83c\\uddf2\\ud83c\\uddf1<br>2alphaCode=%{x}<br>2021=%{y}<extra></extra>\",\"legendgroup\":\"Mali, \\ud83c\\uddf2\\ud83c\\uddf1\",\"marker\":{\"color\":\"#FF97FF\",\"symbol\":\"x\"},\"mode\":\"markers\",\"name\":\"Mali, \\ud83c\\uddf2\\ud83c\\uddf1\",\"orientation\":\"v\",\"showlegend\":true,\"x\":[\"ML\"],\"xaxis\":\"x\",\"y\":[917.9],\"yaxis\":\"y\",\"type\":\"scatter\"},{\"hovertemplate\":\"Country Name=Congo, Rep.<br>flag=\\ud83c\\udde8\\ud83c\\uddec<br>2alphaCode=%{x}<br>2021=%{y}<extra></extra>\",\"legendgroup\":\"Congo, Rep., \\ud83c\\udde8\\ud83c\\uddec\",\"marker\":{\"color\":\"#FECB52\",\"symbol\":\"cross\"},\"mode\":\"markers\",\"name\":\"Congo, Rep., \\ud83c\\udde8\\ud83c\\uddec\",\"orientation\":\"v\",\"showlegend\":true,\"x\":[\"CG\"],\"xaxis\":\"x\",\"y\":[2213.9],\"yaxis\":\"y\",\"type\":\"scatter\"},{\"hovertemplate\":\"Country Name=South Sudan<br>flag=\\ud83c\\uddf8\\ud83c\\uddf8<br>2alphaCode=%{x}<br>2021=%{y}<extra></extra>\",\"legendgroup\":\"South Sudan, \\ud83c\\uddf8\\ud83c\\uddf8\",\"marker\":{\"color\":\"#636efa\",\"symbol\":\"circle\"},\"mode\":\"markers\",\"name\":\"South Sudan, \\ud83c\\uddf8\\ud83c\\uddf8\",\"orientation\":\"v\",\"showlegend\":true,\"x\":[\"SS\"],\"xaxis\":\"x\",\"y\":[0.0],\"yaxis\":\"y\",\"type\":\"scatter\"},{\"hovertemplate\":\"Country Name=Sao Tome and Principe<br>flag=\\ud83c\\uddf8\\ud83c\\uddf9<br>2alphaCode=%{x}<br>2021=%{y}<extra></extra>\",\"legendgroup\":\"Sao Tome and Principe, \\ud83c\\uddf8\\ud83c\\uddf9\",\"marker\":{\"color\":\"#EF553B\",\"symbol\":\"diamond\"},\"mode\":\"markers\",\"name\":\"Sao Tome and Principe, \\ud83c\\uddf8\\ud83c\\uddf9\",\"orientation\":\"v\",\"showlegend\":true,\"x\":[\"ST\"],\"xaxis\":\"x\",\"y\":[2449.3],\"yaxis\":\"y\",\"type\":\"scatter\"},{\"hovertemplate\":\"Country Name=Congo, Dem. Rep.<br>flag=\\ud83c\\udde8\\ud83c\\udde9<br>2alphaCode=%{x}<br>2021=%{y}<extra></extra>\",\"legendgroup\":\"Congo, Dem. Rep., \\ud83c\\udde8\\ud83c\\udde9\",\"marker\":{\"color\":\"#00cc96\",\"symbol\":\"square\"},\"mode\":\"markers\",\"name\":\"Congo, Dem. Rep., \\ud83c\\udde8\\ud83c\\udde9\",\"orientation\":\"v\",\"showlegend\":true,\"x\":[\"CD\"],\"xaxis\":\"x\",\"y\":[584.1],\"yaxis\":\"y\",\"type\":\"scatter\"},{\"hovertemplate\":\"Country Name=Cameroon<br>flag=\\ud83c\\udde8\\ud83c\\uddf2<br>2alphaCode=%{x}<br>2021=%{y}<extra></extra>\",\"legendgroup\":\"Cameroon, \\ud83c\\udde8\\ud83c\\uddf2\",\"marker\":{\"color\":\"#ab63fa\",\"symbol\":\"x\"},\"mode\":\"markers\",\"name\":\"Cameroon, \\ud83c\\udde8\\ud83c\\uddf2\",\"orientation\":\"v\",\"showlegend\":true,\"x\":[\"CM\"],\"xaxis\":\"x\",\"y\":[1661.7],\"yaxis\":\"y\",\"type\":\"scatter\"},{\"hovertemplate\":\"Country Name=Cote d'Ivoire<br>flag=\\ud83c\\udde8\\ud83c\\uddee<br>2alphaCode=%{x}<br>2021=%{y}<extra></extra>\",\"legendgroup\":\"Cote d'Ivoire, \\ud83c\\udde8\\ud83c\\uddee\",\"marker\":{\"color\":\"#FFA15A\",\"symbol\":\"cross\"},\"mode\":\"markers\",\"name\":\"Cote d'Ivoire, \\ud83c\\udde8\\ud83c\\uddee\",\"orientation\":\"v\",\"showlegend\":true,\"x\":[\"CI\"],\"xaxis\":\"x\",\"y\":[2578.8],\"yaxis\":\"y\",\"type\":\"scatter\"},{\"hovertemplate\":\"Country Name=Eswatini<br>flag=\\ud83c\\uddf8\\ud83c\\uddff<br>2alphaCode=%{x}<br>2021=%{y}<extra></extra>\",\"legendgroup\":\"Eswatini, \\ud83c\\uddf8\\ud83c\\uddff\",\"marker\":{\"color\":\"#19d3f3\",\"symbol\":\"circle\"},\"mode\":\"markers\",\"name\":\"Eswatini, \\ud83c\\uddf8\\ud83c\\uddff\",\"orientation\":\"v\",\"showlegend\":true,\"x\":[\"SZ\"],\"xaxis\":\"x\",\"y\":[4214.9],\"yaxis\":\"y\",\"type\":\"scatter\"},{\"hovertemplate\":\"Country Name=Zimbabwe<br>flag=\\ud83c\\uddff\\ud83c\\uddfc<br>2alphaCode=%{x}<br>2021=%{y}<extra></extra>\",\"legendgroup\":\"Zimbabwe, \\ud83c\\uddff\\ud83c\\uddfc\",\"marker\":{\"color\":\"#FF6692\",\"symbol\":\"diamond\"},\"mode\":\"markers\",\"name\":\"Zimbabwe, \\ud83c\\uddff\\ud83c\\uddfc\",\"orientation\":\"v\",\"showlegend\":true,\"x\":[\"ZW\"],\"xaxis\":\"x\",\"y\":[1737.2],\"yaxis\":\"y\",\"type\":\"scatter\"}],                        {\"template\":{\"data\":{\"bar\":[{\"error_x\":{\"color\":\"#2a3f5f\"},\"error_y\":{\"color\":\"#2a3f5f\"},\"marker\":{\"line\":{\"color\":\"#E5ECF6\",\"width\":0.5},\"pattern\":{\"fillmode\":\"overlay\",\"size\":10,\"solidity\":0.2}},\"type\":\"bar\"}],\"barpolar\":[{\"marker\":{\"line\":{\"color\":\"#E5ECF6\",\"width\":0.5},\"pattern\":{\"fillmode\":\"overlay\",\"size\":10,\"solidity\":0.2}},\"type\":\"barpolar\"}],\"carpet\":[{\"aaxis\":{\"endlinecolor\":\"#2a3f5f\",\"gridcolor\":\"white\",\"linecolor\":\"white\",\"minorgridcolor\":\"white\",\"startlinecolor\":\"#2a3f5f\"},\"baxis\":{\"endlinecolor\":\"#2a3f5f\",\"gridcolor\":\"white\",\"linecolor\":\"white\",\"minorgridcolor\":\"white\",\"startlinecolor\":\"#2a3f5f\"},\"type\":\"carpet\"}],\"choropleth\":[{\"colorbar\":{\"outlinewidth\":0,\"ticks\":\"\"},\"type\":\"choropleth\"}],\"contour\":[{\"colorbar\":{\"outlinewidth\":0,\"ticks\":\"\"},\"colorscale\":[[0.0,\"#0d0887\"],[0.1111111111111111,\"#46039f\"],[0.2222222222222222,\"#7201a8\"],[0.3333333333333333,\"#9c179e\"],[0.4444444444444444,\"#bd3786\"],[0.5555555555555556,\"#d8576b\"],[0.6666666666666666,\"#ed7953\"],[0.7777777777777778,\"#fb9f3a\"],[0.8888888888888888,\"#fdca26\"],[1.0,\"#f0f921\"]],\"type\":\"contour\"}],\"contourcarpet\":[{\"colorbar\":{\"outlinewidth\":0,\"ticks\":\"\"},\"type\":\"contourcarpet\"}],\"heatmap\":[{\"colorbar\":{\"outlinewidth\":0,\"ticks\":\"\"},\"colorscale\":[[0.0,\"#0d0887\"],[0.1111111111111111,\"#46039f\"],[0.2222222222222222,\"#7201a8\"],[0.3333333333333333,\"#9c179e\"],[0.4444444444444444,\"#bd3786\"],[0.5555555555555556,\"#d8576b\"],[0.6666666666666666,\"#ed7953\"],[0.7777777777777778,\"#fb9f3a\"],[0.8888888888888888,\"#fdca26\"],[1.0,\"#f0f921\"]],\"type\":\"heatmap\"}],\"heatmapgl\":[{\"colorbar\":{\"outlinewidth\":0,\"ticks\":\"\"},\"colorscale\":[[0.0,\"#0d0887\"],[0.1111111111111111,\"#46039f\"],[0.2222222222222222,\"#7201a8\"],[0.3333333333333333,\"#9c179e\"],[0.4444444444444444,\"#bd3786\"],[0.5555555555555556,\"#d8576b\"],[0.6666666666666666,\"#ed7953\"],[0.7777777777777778,\"#fb9f3a\"],[0.8888888888888888,\"#fdca26\"],[1.0,\"#f0f921\"]],\"type\":\"heatmapgl\"}],\"histogram\":[{\"marker\":{\"pattern\":{\"fillmode\":\"overlay\",\"size\":10,\"solidity\":0.2}},\"type\":\"histogram\"}],\"histogram2d\":[{\"colorbar\":{\"outlinewidth\":0,\"ticks\":\"\"},\"colorscale\":[[0.0,\"#0d0887\"],[0.1111111111111111,\"#46039f\"],[0.2222222222222222,\"#7201a8\"],[0.3333333333333333,\"#9c179e\"],[0.4444444444444444,\"#bd3786\"],[0.5555555555555556,\"#d8576b\"],[0.6666666666666666,\"#ed7953\"],[0.7777777777777778,\"#fb9f3a\"],[0.8888888888888888,\"#fdca26\"],[1.0,\"#f0f921\"]],\"type\":\"histogram2d\"}],\"histogram2dcontour\":[{\"colorbar\":{\"outlinewidth\":0,\"ticks\":\"\"},\"colorscale\":[[0.0,\"#0d0887\"],[0.1111111111111111,\"#46039f\"],[0.2222222222222222,\"#7201a8\"],[0.3333333333333333,\"#9c179e\"],[0.4444444444444444,\"#bd3786\"],[0.5555555555555556,\"#d8576b\"],[0.6666666666666666,\"#ed7953\"],[0.7777777777777778,\"#fb9f3a\"],[0.8888888888888888,\"#fdca26\"],[1.0,\"#f0f921\"]],\"type\":\"histogram2dcontour\"}],\"mesh3d\":[{\"colorbar\":{\"outlinewidth\":0,\"ticks\":\"\"},\"type\":\"mesh3d\"}],\"parcoords\":[{\"line\":{\"colorbar\":{\"outlinewidth\":0,\"ticks\":\"\"}},\"type\":\"parcoords\"}],\"pie\":[{\"automargin\":true,\"type\":\"pie\"}],\"scatter\":[{\"marker\":{\"colorbar\":{\"outlinewidth\":0,\"ticks\":\"\"}},\"type\":\"scatter\"}],\"scatter3d\":[{\"line\":{\"colorbar\":{\"outlinewidth\":0,\"ticks\":\"\"}},\"marker\":{\"colorbar\":{\"outlinewidth\":0,\"ticks\":\"\"}},\"type\":\"scatter3d\"}],\"scattercarpet\":[{\"marker\":{\"colorbar\":{\"outlinewidth\":0,\"ticks\":\"\"}},\"type\":\"scattercarpet\"}],\"scattergeo\":[{\"marker\":{\"colorbar\":{\"outlinewidth\":0,\"ticks\":\"\"}},\"type\":\"scattergeo\"}],\"scattergl\":[{\"marker\":{\"colorbar\":{\"outlinewidth\":0,\"ticks\":\"\"}},\"type\":\"scattergl\"}],\"scattermapbox\":[{\"marker\":{\"colorbar\":{\"outlinewidth\":0,\"ticks\":\"\"}},\"type\":\"scattermapbox\"}],\"scatterpolar\":[{\"marker\":{\"colorbar\":{\"outlinewidth\":0,\"ticks\":\"\"}},\"type\":\"scatterpolar\"}],\"scatterpolargl\":[{\"marker\":{\"colorbar\":{\"outlinewidth\":0,\"ticks\":\"\"}},\"type\":\"scatterpolargl\"}],\"scatterternary\":[{\"marker\":{\"colorbar\":{\"outlinewidth\":0,\"ticks\":\"\"}},\"type\":\"scatterternary\"}],\"surface\":[{\"colorbar\":{\"outlinewidth\":0,\"ticks\":\"\"},\"colorscale\":[[0.0,\"#0d0887\"],[0.1111111111111111,\"#46039f\"],[0.2222222222222222,\"#7201a8\"],[0.3333333333333333,\"#9c179e\"],[0.4444444444444444,\"#bd3786\"],[0.5555555555555556,\"#d8576b\"],[0.6666666666666666,\"#ed7953\"],[0.7777777777777778,\"#fb9f3a\"],[0.8888888888888888,\"#fdca26\"],[1.0,\"#f0f921\"]],\"type\":\"surface\"}],\"table\":[{\"cells\":{\"fill\":{\"color\":\"#EBF0F8\"},\"line\":{\"color\":\"white\"}},\"header\":{\"fill\":{\"color\":\"#C8D4E3\"},\"line\":{\"color\":\"white\"}},\"type\":\"table\"}]},\"layout\":{\"annotationdefaults\":{\"arrowcolor\":\"#2a3f5f\",\"arrowhead\":0,\"arrowwidth\":1},\"autotypenumbers\":\"strict\",\"coloraxis\":{\"colorbar\":{\"outlinewidth\":0,\"ticks\":\"\"}},\"colorscale\":{\"diverging\":[[0,\"#8e0152\"],[0.1,\"#c51b7d\"],[0.2,\"#de77ae\"],[0.3,\"#f1b6da\"],[0.4,\"#fde0ef\"],[0.5,\"#f7f7f7\"],[0.6,\"#e6f5d0\"],[0.7,\"#b8e186\"],[0.8,\"#7fbc41\"],[0.9,\"#4d9221\"],[1,\"#276419\"]],\"sequential\":[[0.0,\"#0d0887\"],[0.1111111111111111,\"#46039f\"],[0.2222222222222222,\"#7201a8\"],[0.3333333333333333,\"#9c179e\"],[0.4444444444444444,\"#bd3786\"],[0.5555555555555556,\"#d8576b\"],[0.6666666666666666,\"#ed7953\"],[0.7777777777777778,\"#fb9f3a\"],[0.8888888888888888,\"#fdca26\"],[1.0,\"#f0f921\"]],\"sequentialminus\":[[0.0,\"#0d0887\"],[0.1111111111111111,\"#46039f\"],[0.2222222222222222,\"#7201a8\"],[0.3333333333333333,\"#9c179e\"],[0.4444444444444444,\"#bd3786\"],[0.5555555555555556,\"#d8576b\"],[0.6666666666666666,\"#ed7953\"],[0.7777777777777778,\"#fb9f3a\"],[0.8888888888888888,\"#fdca26\"],[1.0,\"#f0f921\"]]},\"colorway\":[\"#636efa\",\"#EF553B\",\"#00cc96\",\"#ab63fa\",\"#FFA15A\",\"#19d3f3\",\"#FF6692\",\"#B6E880\",\"#FF97FF\",\"#FECB52\"],\"font\":{\"color\":\"#2a3f5f\"},\"geo\":{\"bgcolor\":\"white\",\"lakecolor\":\"white\",\"landcolor\":\"#E5ECF6\",\"showlakes\":true,\"showland\":true,\"subunitcolor\":\"white\"},\"hoverlabel\":{\"align\":\"left\"},\"hovermode\":\"closest\",\"mapbox\":{\"style\":\"light\"},\"paper_bgcolor\":\"white\",\"plot_bgcolor\":\"#E5ECF6\",\"polar\":{\"angularaxis\":{\"gridcolor\":\"white\",\"linecolor\":\"white\",\"ticks\":\"\"},\"bgcolor\":\"#E5ECF6\",\"radialaxis\":{\"gridcolor\":\"white\",\"linecolor\":\"white\",\"ticks\":\"\"}},\"scene\":{\"xaxis\":{\"backgroundcolor\":\"#E5ECF6\",\"gridcolor\":\"white\",\"gridwidth\":2,\"linecolor\":\"white\",\"showbackground\":true,\"ticks\":\"\",\"zerolinecolor\":\"white\"},\"yaxis\":{\"backgroundcolor\":\"#E5ECF6\",\"gridcolor\":\"white\",\"gridwidth\":2,\"linecolor\":\"white\",\"showbackground\":true,\"ticks\":\"\",\"zerolinecolor\":\"white\"},\"zaxis\":{\"backgroundcolor\":\"#E5ECF6\",\"gridcolor\":\"white\",\"gridwidth\":2,\"linecolor\":\"white\",\"showbackground\":true,\"ticks\":\"\",\"zerolinecolor\":\"white\"}},\"shapedefaults\":{\"line\":{\"color\":\"#2a3f5f\"}},\"ternary\":{\"aaxis\":{\"gridcolor\":\"white\",\"linecolor\":\"white\",\"ticks\":\"\"},\"baxis\":{\"gridcolor\":\"white\",\"linecolor\":\"white\",\"ticks\":\"\"},\"bgcolor\":\"#E5ECF6\",\"caxis\":{\"gridcolor\":\"white\",\"linecolor\":\"white\",\"ticks\":\"\"}},\"title\":{\"x\":0.05},\"xaxis\":{\"automargin\":true,\"gridcolor\":\"white\",\"linecolor\":\"white\",\"ticks\":\"\",\"title\":{\"standoff\":15},\"zerolinecolor\":\"white\",\"zerolinewidth\":2},\"yaxis\":{\"automargin\":true,\"gridcolor\":\"white\",\"linecolor\":\"white\",\"ticks\":\"\",\"title\":{\"standoff\":15},\"zerolinecolor\":\"white\",\"zerolinewidth\":2}}},\"xaxis\":{\"anchor\":\"y\",\"domain\":[0.0,1.0],\"title\":{\"text\":\"\"}},\"yaxis\":{\"anchor\":\"x\",\"domain\":[0.0,1.0],\"title\":{\"text\":\"year 2021\"}},\"legend\":{\"title\":{\"text\":\"Country\",\"font\":{\"color\":\"green\"}},\"tracegroupgap\":0},\"title\":{\"text\":\"GDP per country on 2021\",\"font\":{\"family\":\"Arial\",\"color\":\"orange\"}},\"font\":{\"family\":\"Arial\",\"color\":\"black\"}},                        {\"responsive\": true}                    ).then(function(){\n",
       "                            \n",
       "var gd = document.getElementById('017645ac-acd9-46db-b34f-4e7bfd36de50');\n",
       "var x = new MutationObserver(function (mutations, observer) {{\n",
       "        var display = window.getComputedStyle(gd).display;\n",
       "        if (!display || display === 'none') {{\n",
       "            console.log([gd, 'removed!']);\n",
       "            Plotly.purge(gd);\n",
       "            observer.disconnect();\n",
       "        }}\n",
       "}});\n",
       "\n",
       "// Listen for the removal of the full notebook cells\n",
       "var notebookContainer = gd.closest('#notebook-container');\n",
       "if (notebookContainer) {{\n",
       "    x.observe(notebookContainer, {childList: true});\n",
       "}}\n",
       "\n",
       "// Listen for the clearing of the current output cell\n",
       "var outputEl = gd.closest('.output');\n",
       "if (outputEl) {{\n",
       "    x.observe(outputEl, {childList: true});\n",
       "}}\n",
       "\n",
       "                        })                };                });            </script>        </div>"
      ]
     },
     "metadata": {},
     "output_type": "display_data"
    }
   ],
   "source": [
    "fig = px.scatter(MainFrame, x='2alphaCode', y='2021',\n",
    "           color='Country Name',\n",
    "           symbol='flag',\n",
    "           title='GDP per country on 2021')\n",
    "\n",
    "fig.update_layout(\n",
    "    xaxis_title=\"\",\n",
    "    yaxis_title=\"year 2021\",\n",
    "    font_family=\"Arial\",\n",
    "    font_color=\"black\",\n",
    "    title_font_family=\"Arial\",\n",
    "    title_font_color=\"orange\",\n",
    "    legend_title='Country',\n",
    "    legend_title_font_color=\"green\")\n",
    "fig"
   ]
  },
  {
   "cell_type": "code",
   "execution_count": 341,
   "id": "4c64cdca-bbc4-452b-8002-47700f1cf405",
   "metadata": {},
   "outputs": [
    {
     "data": {
      "application/vnd.plotly.v1+json": {
       "config": {
        "plotlyServerURL": "https://plot.ly"
       },
       "data": [
        {
         "colorscale": [
          [
           0,
           "#636efa"
          ],
          [
           1,
           "#636efa"
          ]
         ],
         "geo": "geo",
         "hovertemplate": "IncomeGroup=Lower middle income<br>Country Code=%{location}<extra></extra>",
         "locations": [
          "LAO",
          "IDN",
          "MNG",
          "SLB",
          "FSM",
          "PNG",
          "TLS",
          "PHL",
          "MMR",
          "KHM",
          "VNM",
          "VUT",
          "KIR",
          "WSM",
          "KGZ",
          "TJK",
          "UKR",
          "UZB",
          "NIC",
          "SLV",
          "HND",
          "HTI",
          "BOL",
          "DJI",
          "DZA",
          "EGY",
          "TUN",
          "PSE",
          "MAR",
          "IRN",
          "LBN",
          "PAK",
          "BGD",
          "IND",
          "BTN",
          "NPL",
          "LKA",
          "BEN",
          "KEN",
          "AGO",
          "TZA",
          "LSO",
          "GHA",
          "NGA",
          "MRT",
          "SEN",
          "CPV",
          "COM",
          "COG",
          "STP",
          "CMR",
          "CIV",
          "SWZ",
          "ZWE"
         ],
         "name": "Lower middle income",
         "showlegend": true,
         "showscale": false,
         "type": "choropleth",
         "z": [
          1,
          1,
          1,
          1,
          1,
          1,
          1,
          1,
          1,
          1,
          1,
          1,
          1,
          1,
          1,
          1,
          1,
          1,
          1,
          1,
          1,
          1,
          1,
          1,
          1,
          1,
          1,
          1,
          1,
          1,
          1,
          1,
          1,
          1,
          1,
          1,
          1,
          1,
          1,
          1,
          1,
          1,
          1,
          1,
          1,
          1,
          1,
          1,
          1,
          1,
          1,
          1,
          1,
          1
         ]
        },
        {
         "colorscale": [
          [
           0,
           "#EF553B"
          ],
          [
           1,
           "#EF553B"
          ]
         ],
         "geo": "geo",
         "hovertemplate": "IncomeGroup=Upper middle income<br>Country Code=%{location}<extra></extra>",
         "locations": [
          "CHN",
          "MYS",
          "FJI",
          "PLW",
          "TON",
          "THA",
          "TUV",
          "GEO",
          "KAZ",
          "MDA",
          "MKD",
          "MNE",
          "AZE",
          "TUR",
          "BLR",
          "BIH",
          "BGR",
          "TKM",
          "ARM",
          "RUS",
          "SRB",
          "ALB",
          "XKX",
          "MEX",
          "SUR",
          "PRY",
          "PER",
          "CRI",
          "LCA",
          "GTM",
          "COL",
          "JAM",
          "DOM",
          "BLZ",
          "ARG",
          "ECU",
          "BRA",
          "GUY",
          "IRQ",
          "JOR",
          "MDV",
          "BWA",
          "ZAF",
          "GAB",
          "GNQ",
          "MUS"
         ],
         "name": "Upper middle income",
         "showlegend": true,
         "showscale": false,
         "type": "choropleth",
         "z": [
          1,
          1,
          1,
          1,
          1,
          1,
          1,
          1,
          1,
          1,
          1,
          1,
          1,
          1,
          1,
          1,
          1,
          1,
          1,
          1,
          1,
          1,
          1,
          1,
          1,
          1,
          1,
          1,
          1,
          1,
          1,
          1,
          1,
          1,
          1,
          1,
          1,
          1,
          1,
          1,
          1,
          1,
          1,
          1,
          1,
          1
         ]
        },
        {
         "colorscale": [
          [
           0,
           "#00cc96"
          ],
          [
           1,
           "#00cc96"
          ]
         ],
         "geo": "geo",
         "hovertemplate": "IncomeGroup=High income<br>Country Code=%{location}<extra></extra>",
         "locations": [
          "KOR",
          "JPN",
          "AUS",
          "FRA",
          "LVA",
          "LUX",
          "NOR",
          "GBR",
          "IRL",
          "HRV",
          "ITA",
          "HUN",
          "FIN",
          "ISL",
          "NLD",
          "GRC",
          "ESP",
          "SVN",
          "SWE",
          "CHE",
          "AUT",
          "EST",
          "SVK",
          "BEL",
          "DEU",
          "ROU",
          "CYP",
          "CZE",
          "PRT",
          "DNK",
          "LTU",
          "POL",
          "URY",
          "TTO",
          "PAN",
          "CHL",
          "ISR",
          "MLT",
          "USA",
          "CAN",
          "SYC"
         ],
         "name": "High income",
         "showlegend": true,
         "showscale": false,
         "type": "choropleth",
         "z": [
          1,
          1,
          1,
          1,
          1,
          1,
          1,
          1,
          1,
          1,
          1,
          1,
          1,
          1,
          1,
          1,
          1,
          1,
          1,
          1,
          1,
          1,
          1,
          1,
          1,
          1,
          1,
          1,
          1,
          1,
          1,
          1,
          1,
          1,
          1,
          1,
          1,
          1,
          1,
          1,
          1
         ]
        },
        {
         "colorscale": [
          [
           0,
           "#ab63fa"
          ],
          [
           1,
           "#ab63fa"
          ]
         ],
         "geo": "geo",
         "hovertemplate": "IncomeGroup=Low income<br>Country Code=%{location}<extra></extra>",
         "locations": [
          "SYR",
          "YEM",
          "AFG",
          "CAF",
          "TCD",
          "TGO",
          "MDG",
          "BDI",
          "ZMB",
          "LBR",
          "BFA",
          "UGA",
          "GMB",
          "GIN",
          "ETH",
          "ERI",
          "GNB",
          "NER",
          "MWI",
          "MOZ",
          "RWA",
          "SDN",
          "SLE",
          "MLI",
          "SSD",
          "COD"
         ],
         "name": "Low income",
         "showlegend": true,
         "showscale": false,
         "type": "choropleth",
         "z": [
          1,
          1,
          1,
          1,
          1,
          1,
          1,
          1,
          1,
          1,
          1,
          1,
          1,
          1,
          1,
          1,
          1,
          1,
          1,
          1,
          1,
          1,
          1,
          1,
          1,
          1
         ]
        }
       ],
       "layout": {
        "autosize": true,
        "geo": {
         "center": {},
         "domain": {
          "x": [
           0,
           1
          ],
          "y": [
           0,
           1
          ]
         },
         "projection": {
          "type": "mollweide"
         }
        },
        "legend": {
         "title": {
          "text": "Income"
         },
         "tracegroupgap": 0
        },
        "margin": {
         "t": 60
        },
        "template": {
         "data": {
          "bar": [
           {
            "error_x": {
             "color": "#2a3f5f"
            },
            "error_y": {
             "color": "#2a3f5f"
            },
            "marker": {
             "line": {
              "color": "#E5ECF6",
              "width": 0.5
             },
             "pattern": {
              "fillmode": "overlay",
              "size": 10,
              "solidity": 0.2
             }
            },
            "type": "bar"
           }
          ],
          "barpolar": [
           {
            "marker": {
             "line": {
              "color": "#E5ECF6",
              "width": 0.5
             },
             "pattern": {
              "fillmode": "overlay",
              "size": 10,
              "solidity": 0.2
             }
            },
            "type": "barpolar"
           }
          ],
          "carpet": [
           {
            "aaxis": {
             "endlinecolor": "#2a3f5f",
             "gridcolor": "white",
             "linecolor": "white",
             "minorgridcolor": "white",
             "startlinecolor": "#2a3f5f"
            },
            "baxis": {
             "endlinecolor": "#2a3f5f",
             "gridcolor": "white",
             "linecolor": "white",
             "minorgridcolor": "white",
             "startlinecolor": "#2a3f5f"
            },
            "type": "carpet"
           }
          ],
          "choropleth": [
           {
            "colorbar": {
             "outlinewidth": 0,
             "ticks": ""
            },
            "type": "choropleth"
           }
          ],
          "contour": [
           {
            "colorbar": {
             "outlinewidth": 0,
             "ticks": ""
            },
            "colorscale": [
             [
              0,
              "#0d0887"
             ],
             [
              0.1111111111111111,
              "#46039f"
             ],
             [
              0.2222222222222222,
              "#7201a8"
             ],
             [
              0.3333333333333333,
              "#9c179e"
             ],
             [
              0.4444444444444444,
              "#bd3786"
             ],
             [
              0.5555555555555556,
              "#d8576b"
             ],
             [
              0.6666666666666666,
              "#ed7953"
             ],
             [
              0.7777777777777778,
              "#fb9f3a"
             ],
             [
              0.8888888888888888,
              "#fdca26"
             ],
             [
              1,
              "#f0f921"
             ]
            ],
            "type": "contour"
           }
          ],
          "contourcarpet": [
           {
            "colorbar": {
             "outlinewidth": 0,
             "ticks": ""
            },
            "type": "contourcarpet"
           }
          ],
          "heatmap": [
           {
            "colorbar": {
             "outlinewidth": 0,
             "ticks": ""
            },
            "colorscale": [
             [
              0,
              "#0d0887"
             ],
             [
              0.1111111111111111,
              "#46039f"
             ],
             [
              0.2222222222222222,
              "#7201a8"
             ],
             [
              0.3333333333333333,
              "#9c179e"
             ],
             [
              0.4444444444444444,
              "#bd3786"
             ],
             [
              0.5555555555555556,
              "#d8576b"
             ],
             [
              0.6666666666666666,
              "#ed7953"
             ],
             [
              0.7777777777777778,
              "#fb9f3a"
             ],
             [
              0.8888888888888888,
              "#fdca26"
             ],
             [
              1,
              "#f0f921"
             ]
            ],
            "type": "heatmap"
           }
          ],
          "heatmapgl": [
           {
            "colorbar": {
             "outlinewidth": 0,
             "ticks": ""
            },
            "colorscale": [
             [
              0,
              "#0d0887"
             ],
             [
              0.1111111111111111,
              "#46039f"
             ],
             [
              0.2222222222222222,
              "#7201a8"
             ],
             [
              0.3333333333333333,
              "#9c179e"
             ],
             [
              0.4444444444444444,
              "#bd3786"
             ],
             [
              0.5555555555555556,
              "#d8576b"
             ],
             [
              0.6666666666666666,
              "#ed7953"
             ],
             [
              0.7777777777777778,
              "#fb9f3a"
             ],
             [
              0.8888888888888888,
              "#fdca26"
             ],
             [
              1,
              "#f0f921"
             ]
            ],
            "type": "heatmapgl"
           }
          ],
          "histogram": [
           {
            "marker": {
             "pattern": {
              "fillmode": "overlay",
              "size": 10,
              "solidity": 0.2
             }
            },
            "type": "histogram"
           }
          ],
          "histogram2d": [
           {
            "colorbar": {
             "outlinewidth": 0,
             "ticks": ""
            },
            "colorscale": [
             [
              0,
              "#0d0887"
             ],
             [
              0.1111111111111111,
              "#46039f"
             ],
             [
              0.2222222222222222,
              "#7201a8"
             ],
             [
              0.3333333333333333,
              "#9c179e"
             ],
             [
              0.4444444444444444,
              "#bd3786"
             ],
             [
              0.5555555555555556,
              "#d8576b"
             ],
             [
              0.6666666666666666,
              "#ed7953"
             ],
             [
              0.7777777777777778,
              "#fb9f3a"
             ],
             [
              0.8888888888888888,
              "#fdca26"
             ],
             [
              1,
              "#f0f921"
             ]
            ],
            "type": "histogram2d"
           }
          ],
          "histogram2dcontour": [
           {
            "colorbar": {
             "outlinewidth": 0,
             "ticks": ""
            },
            "colorscale": [
             [
              0,
              "#0d0887"
             ],
             [
              0.1111111111111111,
              "#46039f"
             ],
             [
              0.2222222222222222,
              "#7201a8"
             ],
             [
              0.3333333333333333,
              "#9c179e"
             ],
             [
              0.4444444444444444,
              "#bd3786"
             ],
             [
              0.5555555555555556,
              "#d8576b"
             ],
             [
              0.6666666666666666,
              "#ed7953"
             ],
             [
              0.7777777777777778,
              "#fb9f3a"
             ],
             [
              0.8888888888888888,
              "#fdca26"
             ],
             [
              1,
              "#f0f921"
             ]
            ],
            "type": "histogram2dcontour"
           }
          ],
          "mesh3d": [
           {
            "colorbar": {
             "outlinewidth": 0,
             "ticks": ""
            },
            "type": "mesh3d"
           }
          ],
          "parcoords": [
           {
            "line": {
             "colorbar": {
              "outlinewidth": 0,
              "ticks": ""
             }
            },
            "type": "parcoords"
           }
          ],
          "pie": [
           {
            "automargin": true,
            "type": "pie"
           }
          ],
          "scatter": [
           {
            "marker": {
             "colorbar": {
              "outlinewidth": 0,
              "ticks": ""
             }
            },
            "type": "scatter"
           }
          ],
          "scatter3d": [
           {
            "line": {
             "colorbar": {
              "outlinewidth": 0,
              "ticks": ""
             }
            },
            "marker": {
             "colorbar": {
              "outlinewidth": 0,
              "ticks": ""
             }
            },
            "type": "scatter3d"
           }
          ],
          "scattercarpet": [
           {
            "marker": {
             "colorbar": {
              "outlinewidth": 0,
              "ticks": ""
             }
            },
            "type": "scattercarpet"
           }
          ],
          "scattergeo": [
           {
            "marker": {
             "colorbar": {
              "outlinewidth": 0,
              "ticks": ""
             }
            },
            "type": "scattergeo"
           }
          ],
          "scattergl": [
           {
            "marker": {
             "colorbar": {
              "outlinewidth": 0,
              "ticks": ""
             }
            },
            "type": "scattergl"
           }
          ],
          "scattermapbox": [
           {
            "marker": {
             "colorbar": {
              "outlinewidth": 0,
              "ticks": ""
             }
            },
            "type": "scattermapbox"
           }
          ],
          "scatterpolar": [
           {
            "marker": {
             "colorbar": {
              "outlinewidth": 0,
              "ticks": ""
             }
            },
            "type": "scatterpolar"
           }
          ],
          "scatterpolargl": [
           {
            "marker": {
             "colorbar": {
              "outlinewidth": 0,
              "ticks": ""
             }
            },
            "type": "scatterpolargl"
           }
          ],
          "scatterternary": [
           {
            "marker": {
             "colorbar": {
              "outlinewidth": 0,
              "ticks": ""
             }
            },
            "type": "scatterternary"
           }
          ],
          "surface": [
           {
            "colorbar": {
             "outlinewidth": 0,
             "ticks": ""
            },
            "colorscale": [
             [
              0,
              "#0d0887"
             ],
             [
              0.1111111111111111,
              "#46039f"
             ],
             [
              0.2222222222222222,
              "#7201a8"
             ],
             [
              0.3333333333333333,
              "#9c179e"
             ],
             [
              0.4444444444444444,
              "#bd3786"
             ],
             [
              0.5555555555555556,
              "#d8576b"
             ],
             [
              0.6666666666666666,
              "#ed7953"
             ],
             [
              0.7777777777777778,
              "#fb9f3a"
             ],
             [
              0.8888888888888888,
              "#fdca26"
             ],
             [
              1,
              "#f0f921"
             ]
            ],
            "type": "surface"
           }
          ],
          "table": [
           {
            "cells": {
             "fill": {
              "color": "#EBF0F8"
             },
             "line": {
              "color": "white"
             }
            },
            "header": {
             "fill": {
              "color": "#C8D4E3"
             },
             "line": {
              "color": "white"
             }
            },
            "type": "table"
           }
          ]
         },
         "layout": {
          "annotationdefaults": {
           "arrowcolor": "#2a3f5f",
           "arrowhead": 0,
           "arrowwidth": 1
          },
          "autotypenumbers": "strict",
          "coloraxis": {
           "colorbar": {
            "outlinewidth": 0,
            "ticks": ""
           }
          },
          "colorscale": {
           "diverging": [
            [
             0,
             "#8e0152"
            ],
            [
             0.1,
             "#c51b7d"
            ],
            [
             0.2,
             "#de77ae"
            ],
            [
             0.3,
             "#f1b6da"
            ],
            [
             0.4,
             "#fde0ef"
            ],
            [
             0.5,
             "#f7f7f7"
            ],
            [
             0.6,
             "#e6f5d0"
            ],
            [
             0.7,
             "#b8e186"
            ],
            [
             0.8,
             "#7fbc41"
            ],
            [
             0.9,
             "#4d9221"
            ],
            [
             1,
             "#276419"
            ]
           ],
           "sequential": [
            [
             0,
             "#0d0887"
            ],
            [
             0.1111111111111111,
             "#46039f"
            ],
            [
             0.2222222222222222,
             "#7201a8"
            ],
            [
             0.3333333333333333,
             "#9c179e"
            ],
            [
             0.4444444444444444,
             "#bd3786"
            ],
            [
             0.5555555555555556,
             "#d8576b"
            ],
            [
             0.6666666666666666,
             "#ed7953"
            ],
            [
             0.7777777777777778,
             "#fb9f3a"
            ],
            [
             0.8888888888888888,
             "#fdca26"
            ],
            [
             1,
             "#f0f921"
            ]
           ],
           "sequentialminus": [
            [
             0,
             "#0d0887"
            ],
            [
             0.1111111111111111,
             "#46039f"
            ],
            [
             0.2222222222222222,
             "#7201a8"
            ],
            [
             0.3333333333333333,
             "#9c179e"
            ],
            [
             0.4444444444444444,
             "#bd3786"
            ],
            [
             0.5555555555555556,
             "#d8576b"
            ],
            [
             0.6666666666666666,
             "#ed7953"
            ],
            [
             0.7777777777777778,
             "#fb9f3a"
            ],
            [
             0.8888888888888888,
             "#fdca26"
            ],
            [
             1,
             "#f0f921"
            ]
           ]
          },
          "colorway": [
           "#636efa",
           "#EF553B",
           "#00cc96",
           "#ab63fa",
           "#FFA15A",
           "#19d3f3",
           "#FF6692",
           "#B6E880",
           "#FF97FF",
           "#FECB52"
          ],
          "font": {
           "color": "#2a3f5f"
          },
          "geo": {
           "bgcolor": "white",
           "lakecolor": "white",
           "landcolor": "#E5ECF6",
           "showlakes": true,
           "showland": true,
           "subunitcolor": "white"
          },
          "hoverlabel": {
           "align": "left"
          },
          "hovermode": "closest",
          "mapbox": {
           "style": "light"
          },
          "paper_bgcolor": "white",
          "plot_bgcolor": "#E5ECF6",
          "polar": {
           "angularaxis": {
            "gridcolor": "white",
            "linecolor": "white",
            "ticks": ""
           },
           "bgcolor": "#E5ECF6",
           "radialaxis": {
            "gridcolor": "white",
            "linecolor": "white",
            "ticks": ""
           }
          },
          "scene": {
           "xaxis": {
            "backgroundcolor": "#E5ECF6",
            "gridcolor": "white",
            "gridwidth": 2,
            "linecolor": "white",
            "showbackground": true,
            "ticks": "",
            "zerolinecolor": "white"
           },
           "yaxis": {
            "backgroundcolor": "#E5ECF6",
            "gridcolor": "white",
            "gridwidth": 2,
            "linecolor": "white",
            "showbackground": true,
            "ticks": "",
            "zerolinecolor": "white"
           },
           "zaxis": {
            "backgroundcolor": "#E5ECF6",
            "gridcolor": "white",
            "gridwidth": 2,
            "linecolor": "white",
            "showbackground": true,
            "ticks": "",
            "zerolinecolor": "white"
           }
          },
          "shapedefaults": {
           "line": {
            "color": "#2a3f5f"
           }
          },
          "ternary": {
           "aaxis": {
            "gridcolor": "white",
            "linecolor": "white",
            "ticks": ""
           },
           "baxis": {
            "gridcolor": "white",
            "linecolor": "white",
            "ticks": ""
           },
           "bgcolor": "#E5ECF6",
           "caxis": {
            "gridcolor": "white",
            "linecolor": "white",
            "ticks": ""
           }
          },
          "title": {
           "x": 0.05
          },
          "xaxis": {
           "automargin": true,
           "gridcolor": "white",
           "linecolor": "white",
           "ticks": "",
           "title": {
            "standoff": 15
           },
           "zerolinecolor": "white",
           "zerolinewidth": 2
          },
          "yaxis": {
           "automargin": true,
           "gridcolor": "white",
           "linecolor": "white",
           "ticks": "",
           "title": {
            "standoff": 15
           },
           "zerolinecolor": "white",
           "zerolinewidth": 2
          }
         }
        }
       }
      },
      "image/png": "[encoded data removed]",
      "text/html": [
       "<div>                            <div id=\"2540915a-56a3-4244-81b1-a464e45e5be1\" class=\"plotly-graph-div\" style=\"height:525px; width:100%;\"></div>            <script type=\"text/javascript\">                require([\"plotly\"], function(Plotly) {                    window.PLOTLYENV=window.PLOTLYENV || {};                                    if (document.getElementById(\"2540915a-56a3-4244-81b1-a464e45e5be1\")) {                    Plotly.newPlot(                        \"2540915a-56a3-4244-81b1-a464e45e5be1\",                        [{\"colorscale\":[[0.0,\"#636efa\"],[1.0,\"#636efa\"]],\"geo\":\"geo\",\"hovertemplate\":\"IncomeGroup=Lower middle income<br>Country Code=%{location}<extra></extra>\",\"locations\":[\"LAO\",\"IDN\",\"MNG\",\"SLB\",\"FSM\",\"PNG\",\"TLS\",\"PHL\",\"MMR\",\"KHM\",\"VNM\",\"VUT\",\"KIR\",\"WSM\",\"KGZ\",\"TJK\",\"UKR\",\"UZB\",\"NIC\",\"SLV\",\"HND\",\"HTI\",\"BOL\",\"DJI\",\"DZA\",\"EGY\",\"TUN\",\"PSE\",\"MAR\",\"IRN\",\"LBN\",\"PAK\",\"BGD\",\"IND\",\"BTN\",\"NPL\",\"LKA\",\"BEN\",\"KEN\",\"AGO\",\"TZA\",\"LSO\",\"GHA\",\"NGA\",\"MRT\",\"SEN\",\"CPV\",\"COM\",\"COG\",\"STP\",\"CMR\",\"CIV\",\"SWZ\",\"ZWE\"],\"name\":\"Lower middle income\",\"showlegend\":true,\"showscale\":false,\"z\":[1,1,1,1,1,1,1,1,1,1,1,1,1,1,1,1,1,1,1,1,1,1,1,1,1,1,1,1,1,1,1,1,1,1,1,1,1,1,1,1,1,1,1,1,1,1,1,1,1,1,1,1,1,1],\"type\":\"choropleth\"},{\"colorscale\":[[0.0,\"#EF553B\"],[1.0,\"#EF553B\"]],\"geo\":\"geo\",\"hovertemplate\":\"IncomeGroup=Upper middle income<br>Country Code=%{location}<extra></extra>\",\"locations\":[\"CHN\",\"MYS\",\"FJI\",\"PLW\",\"TON\",\"THA\",\"TUV\",\"GEO\",\"KAZ\",\"MDA\",\"MKD\",\"MNE\",\"AZE\",\"TUR\",\"BLR\",\"BIH\",\"BGR\",\"TKM\",\"ARM\",\"RUS\",\"SRB\",\"ALB\",\"XKX\",\"MEX\",\"SUR\",\"PRY\",\"PER\",\"CRI\",\"LCA\",\"GTM\",\"COL\",\"JAM\",\"DOM\",\"BLZ\",\"ARG\",\"ECU\",\"BRA\",\"GUY\",\"IRQ\",\"JOR\",\"MDV\",\"BWA\",\"ZAF\",\"GAB\",\"GNQ\",\"MUS\"],\"name\":\"Upper middle income\",\"showlegend\":true,\"showscale\":false,\"z\":[1,1,1,1,1,1,1,1,1,1,1,1,1,1,1,1,1,1,1,1,1,1,1,1,1,1,1,1,1,1,1,1,1,1,1,1,1,1,1,1,1,1,1,1,1,1],\"type\":\"choropleth\"},{\"colorscale\":[[0.0,\"#00cc96\"],[1.0,\"#00cc96\"]],\"geo\":\"geo\",\"hovertemplate\":\"IncomeGroup=High income<br>Country Code=%{location}<extra></extra>\",\"locations\":[\"KOR\",\"JPN\",\"AUS\",\"FRA\",\"LVA\",\"LUX\",\"NOR\",\"GBR\",\"IRL\",\"HRV\",\"ITA\",\"HUN\",\"FIN\",\"ISL\",\"NLD\",\"GRC\",\"ESP\",\"SVN\",\"SWE\",\"CHE\",\"AUT\",\"EST\",\"SVK\",\"BEL\",\"DEU\",\"ROU\",\"CYP\",\"CZE\",\"PRT\",\"DNK\",\"LTU\",\"POL\",\"URY\",\"TTO\",\"PAN\",\"CHL\",\"ISR\",\"MLT\",\"USA\",\"CAN\",\"SYC\"],\"name\":\"High income\",\"showlegend\":true,\"showscale\":false,\"z\":[1,1,1,1,1,1,1,1,1,1,1,1,1,1,1,1,1,1,1,1,1,1,1,1,1,1,1,1,1,1,1,1,1,1,1,1,1,1,1,1,1],\"type\":\"choropleth\"},{\"colorscale\":[[0.0,\"#ab63fa\"],[1.0,\"#ab63fa\"]],\"geo\":\"geo\",\"hovertemplate\":\"IncomeGroup=Low income<br>Country Code=%{location}<extra></extra>\",\"locations\":[\"SYR\",\"YEM\",\"AFG\",\"CAF\",\"TCD\",\"TGO\",\"MDG\",\"BDI\",\"ZMB\",\"LBR\",\"BFA\",\"UGA\",\"GMB\",\"GIN\",\"ETH\",\"ERI\",\"GNB\",\"NER\",\"MWI\",\"MOZ\",\"RWA\",\"SDN\",\"SLE\",\"MLI\",\"SSD\",\"COD\"],\"name\":\"Low income\",\"showlegend\":true,\"showscale\":false,\"z\":[1,1,1,1,1,1,1,1,1,1,1,1,1,1,1,1,1,1,1,1,1,1,1,1,1,1],\"type\":\"choropleth\"}],                        {\"template\":{\"data\":{\"bar\":[{\"error_x\":{\"color\":\"#2a3f5f\"},\"error_y\":{\"color\":\"#2a3f5f\"},\"marker\":{\"line\":{\"color\":\"#E5ECF6\",\"width\":0.5},\"pattern\":{\"fillmode\":\"overlay\",\"size\":10,\"solidity\":0.2}},\"type\":\"bar\"}],\"barpolar\":[{\"marker\":{\"line\":{\"color\":\"#E5ECF6\",\"width\":0.5},\"pattern\":{\"fillmode\":\"overlay\",\"size\":10,\"solidity\":0.2}},\"type\":\"barpolar\"}],\"carpet\":[{\"aaxis\":{\"endlinecolor\":\"#2a3f5f\",\"gridcolor\":\"white\",\"linecolor\":\"white\",\"minorgridcolor\":\"white\",\"startlinecolor\":\"#2a3f5f\"},\"baxis\":{\"endlinecolor\":\"#2a3f5f\",\"gridcolor\":\"white\",\"linecolor\":\"white\",\"minorgridcolor\":\"white\",\"startlinecolor\":\"#2a3f5f\"},\"type\":\"carpet\"}],\"choropleth\":[{\"colorbar\":{\"outlinewidth\":0,\"ticks\":\"\"},\"type\":\"choropleth\"}],\"contour\":[{\"colorbar\":{\"outlinewidth\":0,\"ticks\":\"\"},\"colorscale\":[[0.0,\"#0d0887\"],[0.1111111111111111,\"#46039f\"],[0.2222222222222222,\"#7201a8\"],[0.3333333333333333,\"#9c179e\"],[0.4444444444444444,\"#bd3786\"],[0.5555555555555556,\"#d8576b\"],[0.6666666666666666,\"#ed7953\"],[0.7777777777777778,\"#fb9f3a\"],[0.8888888888888888,\"#fdca26\"],[1.0,\"#f0f921\"]],\"type\":\"contour\"}],\"contourcarpet\":[{\"colorbar\":{\"outlinewidth\":0,\"ticks\":\"\"},\"type\":\"contourcarpet\"}],\"heatmap\":[{\"colorbar\":{\"outlinewidth\":0,\"ticks\":\"\"},\"colorscale\":[[0.0,\"#0d0887\"],[0.1111111111111111,\"#46039f\"],[0.2222222222222222,\"#7201a8\"],[0.3333333333333333,\"#9c179e\"],[0.4444444444444444,\"#bd3786\"],[0.5555555555555556,\"#d8576b\"],[0.6666666666666666,\"#ed7953\"],[0.7777777777777778,\"#fb9f3a\"],[0.8888888888888888,\"#fdca26\"],[1.0,\"#f0f921\"]],\"type\":\"heatmap\"}],\"heatmapgl\":[{\"colorbar\":{\"outlinewidth\":0,\"ticks\":\"\"},\"colorscale\":[[0.0,\"#0d0887\"],[0.1111111111111111,\"#46039f\"],[0.2222222222222222,\"#7201a8\"],[0.3333333333333333,\"#9c179e\"],[0.4444444444444444,\"#bd3786\"],[0.5555555555555556,\"#d8576b\"],[0.6666666666666666,\"#ed7953\"],[0.7777777777777778,\"#fb9f3a\"],[0.8888888888888888,\"#fdca26\"],[1.0,\"#f0f921\"]],\"type\":\"heatmapgl\"}],\"histogram\":[{\"marker\":{\"pattern\":{\"fillmode\":\"overlay\",\"size\":10,\"solidity\":0.2}},\"type\":\"histogram\"}],\"histogram2d\":[{\"colorbar\":{\"outlinewidth\":0,\"ticks\":\"\"},\"colorscale\":[[0.0,\"#0d0887\"],[0.1111111111111111,\"#46039f\"],[0.2222222222222222,\"#7201a8\"],[0.3333333333333333,\"#9c179e\"],[0.4444444444444444,\"#bd3786\"],[0.5555555555555556,\"#d8576b\"],[0.6666666666666666,\"#ed7953\"],[0.7777777777777778,\"#fb9f3a\"],[0.8888888888888888,\"#fdca26\"],[1.0,\"#f0f921\"]],\"type\":\"histogram2d\"}],\"histogram2dcontour\":[{\"colorbar\":{\"outlinewidth\":0,\"ticks\":\"\"},\"colorscale\":[[0.0,\"#0d0887\"],[0.1111111111111111,\"#46039f\"],[0.2222222222222222,\"#7201a8\"],[0.3333333333333333,\"#9c179e\"],[0.4444444444444444,\"#bd3786\"],[0.5555555555555556,\"#d8576b\"],[0.6666666666666666,\"#ed7953\"],[0.7777777777777778,\"#fb9f3a\"],[0.8888888888888888,\"#fdca26\"],[1.0,\"#f0f921\"]],\"type\":\"histogram2dcontour\"}],\"mesh3d\":[{\"colorbar\":{\"outlinewidth\":0,\"ticks\":\"\"},\"type\":\"mesh3d\"}],\"parcoords\":[{\"line\":{\"colorbar\":{\"outlinewidth\":0,\"ticks\":\"\"}},\"type\":\"parcoords\"}],\"pie\":[{\"automargin\":true,\"type\":\"pie\"}],\"scatter\":[{\"marker\":{\"colorbar\":{\"outlinewidth\":0,\"ticks\":\"\"}},\"type\":\"scatter\"}],\"scatter3d\":[{\"line\":{\"colorbar\":{\"outlinewidth\":0,\"ticks\":\"\"}},\"marker\":{\"colorbar\":{\"outlinewidth\":0,\"ticks\":\"\"}},\"type\":\"scatter3d\"}],\"scattercarpet\":[{\"marker\":{\"colorbar\":{\"outlinewidth\":0,\"ticks\":\"\"}},\"type\":\"scattercarpet\"}],\"scattergeo\":[{\"marker\":{\"colorbar\":{\"outlinewidth\":0,\"ticks\":\"\"}},\"type\":\"scattergeo\"}],\"scattergl\":[{\"marker\":{\"colorbar\":{\"outlinewidth\":0,\"ticks\":\"\"}},\"type\":\"scattergl\"}],\"scattermapbox\":[{\"marker\":{\"colorbar\":{\"outlinewidth\":0,\"ticks\":\"\"}},\"type\":\"scattermapbox\"}],\"scatterpolar\":[{\"marker\":{\"colorbar\":{\"outlinewidth\":0,\"ticks\":\"\"}},\"type\":\"scatterpolar\"}],\"scatterpolargl\":[{\"marker\":{\"colorbar\":{\"outlinewidth\":0,\"ticks\":\"\"}},\"type\":\"scatterpolargl\"}],\"scatterternary\":[{\"marker\":{\"colorbar\":{\"outlinewidth\":0,\"ticks\":\"\"}},\"type\":\"scatterternary\"}],\"surface\":[{\"colorbar\":{\"outlinewidth\":0,\"ticks\":\"\"},\"colorscale\":[[0.0,\"#0d0887\"],[0.1111111111111111,\"#46039f\"],[0.2222222222222222,\"#7201a8\"],[0.3333333333333333,\"#9c179e\"],[0.4444444444444444,\"#bd3786\"],[0.5555555555555556,\"#d8576b\"],[0.6666666666666666,\"#ed7953\"],[0.7777777777777778,\"#fb9f3a\"],[0.8888888888888888,\"#fdca26\"],[1.0,\"#f0f921\"]],\"type\":\"surface\"}],\"table\":[{\"cells\":{\"fill\":{\"color\":\"#EBF0F8\"},\"line\":{\"color\":\"white\"}},\"header\":{\"fill\":{\"color\":\"#C8D4E3\"},\"line\":{\"color\":\"white\"}},\"type\":\"table\"}]},\"layout\":{\"annotationdefaults\":{\"arrowcolor\":\"#2a3f5f\",\"arrowhead\":0,\"arrowwidth\":1},\"autotypenumbers\":\"strict\",\"coloraxis\":{\"colorbar\":{\"outlinewidth\":0,\"ticks\":\"\"}},\"colorscale\":{\"diverging\":[[0,\"#8e0152\"],[0.1,\"#c51b7d\"],[0.2,\"#de77ae\"],[0.3,\"#f1b6da\"],[0.4,\"#fde0ef\"],[0.5,\"#f7f7f7\"],[0.6,\"#e6f5d0\"],[0.7,\"#b8e186\"],[0.8,\"#7fbc41\"],[0.9,\"#4d9221\"],[1,\"#276419\"]],\"sequential\":[[0.0,\"#0d0887\"],[0.1111111111111111,\"#46039f\"],[0.2222222222222222,\"#7201a8\"],[0.3333333333333333,\"#9c179e\"],[0.4444444444444444,\"#bd3786\"],[0.5555555555555556,\"#d8576b\"],[0.6666666666666666,\"#ed7953\"],[0.7777777777777778,\"#fb9f3a\"],[0.8888888888888888,\"#fdca26\"],[1.0,\"#f0f921\"]],\"sequentialminus\":[[0.0,\"#0d0887\"],[0.1111111111111111,\"#46039f\"],[0.2222222222222222,\"#7201a8\"],[0.3333333333333333,\"#9c179e\"],[0.4444444444444444,\"#bd3786\"],[0.5555555555555556,\"#d8576b\"],[0.6666666666666666,\"#ed7953\"],[0.7777777777777778,\"#fb9f3a\"],[0.8888888888888888,\"#fdca26\"],[1.0,\"#f0f921\"]]},\"colorway\":[\"#636efa\",\"#EF553B\",\"#00cc96\",\"#ab63fa\",\"#FFA15A\",\"#19d3f3\",\"#FF6692\",\"#B6E880\",\"#FF97FF\",\"#FECB52\"],\"font\":{\"color\":\"#2a3f5f\"},\"geo\":{\"bgcolor\":\"white\",\"lakecolor\":\"white\",\"landcolor\":\"#E5ECF6\",\"showlakes\":true,\"showland\":true,\"subunitcolor\":\"white\"},\"hoverlabel\":{\"align\":\"left\"},\"hovermode\":\"closest\",\"mapbox\":{\"style\":\"light\"},\"paper_bgcolor\":\"white\",\"plot_bgcolor\":\"#E5ECF6\",\"polar\":{\"angularaxis\":{\"gridcolor\":\"white\",\"linecolor\":\"white\",\"ticks\":\"\"},\"bgcolor\":\"#E5ECF6\",\"radialaxis\":{\"gridcolor\":\"white\",\"linecolor\":\"white\",\"ticks\":\"\"}},\"scene\":{\"xaxis\":{\"backgroundcolor\":\"#E5ECF6\",\"gridcolor\":\"white\",\"gridwidth\":2,\"linecolor\":\"white\",\"showbackground\":true,\"ticks\":\"\",\"zerolinecolor\":\"white\"},\"yaxis\":{\"backgroundcolor\":\"#E5ECF6\",\"gridcolor\":\"white\",\"gridwidth\":2,\"linecolor\":\"white\",\"showbackground\":true,\"ticks\":\"\",\"zerolinecolor\":\"white\"},\"zaxis\":{\"backgroundcolor\":\"#E5ECF6\",\"gridcolor\":\"white\",\"gridwidth\":2,\"linecolor\":\"white\",\"showbackground\":true,\"ticks\":\"\",\"zerolinecolor\":\"white\"}},\"shapedefaults\":{\"line\":{\"color\":\"#2a3f5f\"}},\"ternary\":{\"aaxis\":{\"gridcolor\":\"white\",\"linecolor\":\"white\",\"ticks\":\"\"},\"baxis\":{\"gridcolor\":\"white\",\"linecolor\":\"white\",\"ticks\":\"\"},\"bgcolor\":\"#E5ECF6\",\"caxis\":{\"gridcolor\":\"white\",\"linecolor\":\"white\",\"ticks\":\"\"}},\"title\":{\"x\":0.05},\"xaxis\":{\"automargin\":true,\"gridcolor\":\"white\",\"linecolor\":\"white\",\"ticks\":\"\",\"title\":{\"standoff\":15},\"zerolinecolor\":\"white\",\"zerolinewidth\":2},\"yaxis\":{\"automargin\":true,\"gridcolor\":\"white\",\"linecolor\":\"white\",\"ticks\":\"\",\"title\":{\"standoff\":15},\"zerolinecolor\":\"white\",\"zerolinewidth\":2}}},\"geo\":{\"domain\":{\"x\":[0.0,1.0],\"y\":[0.0,1.0]},\"projection\":{\"type\":\"mollweide\"},\"center\":{}},\"legend\":{\"title\":{\"text\":\"Income\"},\"tracegroupgap\":0},\"margin\":{\"t\":60}},                        {\"responsive\": true}                    ).then(function(){\n",
       "                            \n",
       "var gd = document.getElementById('2540915a-56a3-4244-81b1-a464e45e5be1');\n",
       "var x = new MutationObserver(function (mutations, observer) {{\n",
       "        var display = window.getComputedStyle(gd).display;\n",
       "        if (!display || display === 'none') {{\n",
       "            console.log([gd, 'removed!']);\n",
       "            Plotly.purge(gd);\n",
       "            observer.disconnect();\n",
       "        }}\n",
       "}});\n",
       "\n",
       "// Listen for the removal of the full notebook cells\n",
       "var notebookContainer = gd.closest('#notebook-container');\n",
       "if (notebookContainer) {{\n",
       "    x.observe(notebookContainer, {childList: true});\n",
       "}}\n",
       "\n",
       "// Listen for the clearing of the current output cell\n",
       "var outputEl = gd.closest('.output');\n",
       "if (outputEl) {{\n",
       "    x.observe(outputEl, {childList: true});\n",
       "}}\n",
       "\n",
       "                        })                };                });            </script>        </div>"
      ]
     },
     "metadata": {},
     "output_type": "display_data"
    }
   ],
   "source": [
    "fig = px.choropleth(MainFrame, \n",
    "              locations=\"Country Code\", \n",
    "              color='IncomeGroup', \n",
    "              projection='mollweide')\n",
    "fig.update_layout(legend_title='Income')\n",
    "fig"
   ]
  },
  {
   "cell_type": "code",
   "execution_count": null,
   "id": "58de6317-cfe4-4644-b0b6-d399cab274d8",
   "metadata": {},
   "outputs": [],
   "source": []
  }
 ],
 "metadata": {
  "kernelspec": {
   "display_name": "Python 3 (ipykernel)",
   "language": "python",
   "name": "python3"
  },
  "language_info": {
   "codemirror_mode": {
    "name": "ipython",
    "version": 3
   },
   "file_extension": ".py",
   "mimetype": "text/x-python",
   "name": "python",
   "nbconvert_exporter": "python",
   "pygments_lexer": "ipython3",
   "version": "3.9.7"
  }
 },
 "nbformat": 4,
 "nbformat_minor": 5
}
