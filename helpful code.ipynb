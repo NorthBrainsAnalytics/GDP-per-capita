{
 "cells": [
  {
   "cell_type": "markdown",
   "id": "db1efecc-7772-4127-afac-e1991f88b6de",
   "metadata": {},
   "source": [
    "- In a case when we cannot change names of columns we may apply the below <b>loop</b>:"
   ]
  },
  {
   "cell_type": "code",
   "execution_count": 3,
   "id": "51dcc499-a873-4638-8fc6-138a1d6d0f51",
   "metadata": {
    "collapsed": true,
    "jupyter": {
     "outputs_hidden": true
    },
    "tags": []
   },
   "outputs": [
    {
     "ename": "NameError",
     "evalue": "name 'my_df' is not defined",
     "output_type": "error",
     "traceback": [
      "\u001b[0;31m---------------------------------------------------------------------------\u001b[0m",
      "\u001b[0;31mNameError\u001b[0m                                 Traceback (most recent call last)",
      "\u001b[0;32m/var/folders/8t/ll6ysglj0nj5dq53clwnnsg40000gn/T/ipykernel_36576/3150650150.py\u001b[0m in \u001b[0;36m<module>\u001b[0;34m\u001b[0m\n\u001b[1;32m      1\u001b[0m \u001b[0myear\u001b[0m \u001b[0;34m=\u001b[0m \u001b[0;36m1960\u001b[0m\u001b[0;34m\u001b[0m\u001b[0;34m\u001b[0m\u001b[0m\n\u001b[0;32m----> 2\u001b[0;31m \u001b[0;32mfor\u001b[0m \u001b[0mcol\u001b[0m \u001b[0;32min\u001b[0m \u001b[0mmy_df\u001b[0m\u001b[0;34m.\u001b[0m\u001b[0mcolumns\u001b[0m\u001b[0;34m:\u001b[0m\u001b[0;34m\u001b[0m\u001b[0;34m\u001b[0m\u001b[0m\n\u001b[0m\u001b[1;32m      3\u001b[0m     \u001b[0;32mif\u001b[0m \u001b[0mcol\u001b[0m\u001b[0;34m.\u001b[0m\u001b[0mstartswith\u001b[0m\u001b[0;34m(\u001b[0m\u001b[0;34m'Unnamed'\u001b[0m\u001b[0;34m)\u001b[0m\u001b[0;34m:\u001b[0m\u001b[0;34m\u001b[0m\u001b[0;34m\u001b[0m\u001b[0m\n\u001b[1;32m      4\u001b[0m          \u001b[0mmy_df\u001b[0m\u001b[0;34m.\u001b[0m\u001b[0mrename\u001b[0m\u001b[0;34m(\u001b[0m\u001b[0mcolumns\u001b[0m \u001b[0;34m=\u001b[0m \u001b[0;34m{\u001b[0m\u001b[0mcol\u001b[0m \u001b[0;34m:\u001b[0m\u001b[0;34mf'{year}'\u001b[0m\u001b[0;34m}\u001b[0m\u001b[0;34m,\u001b[0m \u001b[0minplace\u001b[0m \u001b[0;34m=\u001b[0m \u001b[0;32mTrue\u001b[0m\u001b[0;34m)\u001b[0m\u001b[0;34m\u001b[0m\u001b[0;34m\u001b[0m\u001b[0m\n\u001b[1;32m      5\u001b[0m          \u001b[0myear\u001b[0m \u001b[0;34m+=\u001b[0m \u001b[0;36m1\u001b[0m\u001b[0;34m\u001b[0m\u001b[0;34m\u001b[0m\u001b[0m\n",
      "\u001b[0;31mNameError\u001b[0m: name 'my_df' is not defined"
     ]
    }
   ],
   "source": [
    "year = 1960 \n",
    "for col in my_df.columns:\n",
    "    if col.startswith('Unnamed'): \n",
    "         my_df.rename(columns = {col :f'{year}'}, inplace = True)\n",
    "         year += 1"
   ]
  },
  {
   "cell_type": "markdown",
   "id": "5c7fd71c-3965-4924-b11f-4e1813a1f91e",
   "metadata": {},
   "source": [
    "- `NaN` vlaues for <b>0</b> values"
   ]
  },
  {
   "cell_type": "code",
   "execution_count": null,
   "id": "a8df4b61-c2f7-43bc-bc8b-9683bf094a27",
   "metadata": {
    "collapsed": true,
    "jupyter": {
     "outputs_hidden": true
    },
    "tags": []
   },
   "outputs": [],
   "source": [
    "#For a single column using Pandas: \n",
    "df['DataFrame Column'] = df['DataFrame Column'].fillna(0)\n",
    "\n",
    "#For a single column using NumPy:\n",
    "df['DataFrame Column'] = df['DataFrame Column'].replace(np.nan, 0)\n",
    "\n",
    "#For an entire DataFrame using Pandas:\n",
    "df.fillna(0)\n",
    "\n",
    "#For an entire DataFrame using NumPy:\n",
    "df.replace(np.nan,0)"
   ]
  },
  {
   "cell_type": "markdown",
   "id": "97b0099c-90c9-43d4-8f86-a68b48cf4828",
   "metadata": {},
   "source": [
    "- `iter` function - checking that indicated value is <b>iterable</b> "
   ]
  },
  {
   "cell_type": "code",
   "execution_count": 5,
   "id": "9d589ee6-359e-41c8-aefd-2831a1d731ed",
   "metadata": {},
   "outputs": [],
   "source": [
    "def isiterable(obj):\n",
    "    try:\n",
    "        iter(obj)\n",
    "        return True\n",
    "    except TypeError: # not iterable\n",
    "        return False"
   ]
  },
  {
   "cell_type": "code",
   "execution_count": 6,
   "id": "dc090334-b7be-4cb0-a8bb-1c2f3913d5e8",
   "metadata": {},
   "outputs": [
    {
     "data": {
      "text/plain": [
       "True"
      ]
     },
     "execution_count": 6,
     "metadata": {},
     "output_type": "execute_result"
    }
   ],
   "source": [
    "isiterable('a string')"
   ]
  },
  {
   "cell_type": "code",
   "execution_count": 7,
   "id": "a0a63577-46de-45bc-b3e0-657b0f23f11c",
   "metadata": {},
   "outputs": [
    {
     "data": {
      "text/plain": [
       "True"
      ]
     },
     "execution_count": 7,
     "metadata": {},
     "output_type": "execute_result"
    }
   ],
   "source": [
    "isiterable([1,2,3])"
   ]
  },
  {
   "cell_type": "code",
   "execution_count": 18,
   "id": "f914393c-2326-4f13-9f70-38dca3afb716",
   "metadata": {},
   "outputs": [
    {
     "data": {
      "text/plain": [
       "False"
      ]
     },
     "execution_count": 18,
     "metadata": {},
     "output_type": "execute_result"
    }
   ],
   "source": [
    "isiterable(5) #integer"
   ]
  },
  {
   "cell_type": "code",
   "execution_count": 13,
   "id": "69c16f77-480a-4853-a6d9-04b43fa9f78d",
   "metadata": {},
   "outputs": [
    {
     "data": {
      "text/plain": [
       "True"
      ]
     },
     "execution_count": 13,
     "metadata": {},
     "output_type": "execute_result"
    }
   ],
   "source": [
    "isiterable('5')"
   ]
  },
  {
   "cell_type": "markdown",
   "id": "40d864b4-629f-444a-b251-80714c11f8cc",
   "metadata": {},
   "source": [
    "- Condition with `None`"
   ]
  },
  {
   "cell_type": "code",
   "execution_count": 11,
   "id": "f831dfe2-f6f6-4245-87c7-b6f7952f2c3e",
   "metadata": {},
   "outputs": [],
   "source": [
    " def add_and_maybe_multiply(a, b, c=None):\n",
    "    result = a + b\n",
    "\n",
    "    if c is not None:\n",
    "        result = result * c\n",
    "\n",
    "    return result"
   ]
  },
  {
   "cell_type": "code",
   "execution_count": 12,
   "id": "03bb75b8-eb02-4ed7-88e2-f144fbb0b6bd",
   "metadata": {},
   "outputs": [
    {
     "data": {
      "text/plain": [
       "20"
      ]
     },
     "execution_count": 12,
     "metadata": {},
     "output_type": "execute_result"
    }
   ],
   "source": [
    "add_and_maybe_multiply(2,3,4)"
   ]
  },
  {
   "cell_type": "markdown",
   "id": "b13ce906-8e04-4498-81bd-14a63a8f8635",
   "metadata": {},
   "source": [
    "- Build a pre<b>matrix</b>"
   ]
  },
  {
   "cell_type": "code",
   "execution_count": 16,
   "id": "e08cf4fb-7ee8-4cd6-b098-cdbe4e9214f8",
   "metadata": {},
   "outputs": [
    {
     "name": "stdout",
     "output_type": "stream",
     "text": [
      "a=1, b=2, c=3\n",
      "a=4, b=5, c=6\n",
      "a=7, b=8, c=9\n"
     ]
    }
   ],
   "source": [
    "seq = [(1, 2, 3), (4, 5, 6), (7, 8, 9)]\n",
    "\n",
    "for a, b, c in seq:\n",
    "     print(f'a={a}, b={b}, c={c}')"
   ]
  },
  {
   "cell_type": "markdown",
   "id": "68d27048-2de7-4ad4-8dd9-32fb68f680db",
   "metadata": {},
   "source": [
    "- Creating dictionaries from <b>sequences</b>"
   ]
  },
  {
   "cell_type": "code",
   "execution_count": 17,
   "id": "dca4b65d-113c-4a08-8af6-41253ff25aec",
   "metadata": {
    "collapsed": true,
    "jupyter": {
     "outputs_hidden": true
    },
    "tags": []
   },
   "outputs": [
    {
     "ename": "NameError",
     "evalue": "name 'key_list' is not defined",
     "output_type": "error",
     "traceback": [
      "\u001b[0;31m---------------------------------------------------------------------------\u001b[0m",
      "\u001b[0;31mNameError\u001b[0m                                 Traceback (most recent call last)",
      "\u001b[0;32m/var/folders/8t/ll6ysglj0nj5dq53clwnnsg40000gn/T/ipykernel_23516/2849999117.py\u001b[0m in \u001b[0;36m<module>\u001b[0;34m\u001b[0m\n\u001b[1;32m      1\u001b[0m \u001b[0mmapping\u001b[0m \u001b[0;34m=\u001b[0m \u001b[0;34m{\u001b[0m\u001b[0;34m}\u001b[0m\u001b[0;34m\u001b[0m\u001b[0;34m\u001b[0m\u001b[0m\n\u001b[0;32m----> 2\u001b[0;31m \u001b[0;32mfor\u001b[0m \u001b[0mkey\u001b[0m\u001b[0;34m,\u001b[0m \u001b[0mvalue\u001b[0m \u001b[0;32min\u001b[0m \u001b[0mzip\u001b[0m\u001b[0;34m(\u001b[0m\u001b[0mkey_list\u001b[0m\u001b[0;34m,\u001b[0m \u001b[0mvalue_list\u001b[0m\u001b[0;34m)\u001b[0m\u001b[0;34m:\u001b[0m\u001b[0;34m\u001b[0m\u001b[0;34m\u001b[0m\u001b[0m\n\u001b[0m\u001b[1;32m      3\u001b[0m     \u001b[0mmapping\u001b[0m\u001b[0;34m[\u001b[0m\u001b[0mkey\u001b[0m\u001b[0;34m]\u001b[0m \u001b[0;34m=\u001b[0m \u001b[0mvalue\u001b[0m\u001b[0;34m\u001b[0m\u001b[0;34m\u001b[0m\u001b[0m\n",
      "\u001b[0;31mNameError\u001b[0m: name 'key_list' is not defined"
     ]
    }
   ],
   "source": [
    "mapping = {}\n",
    "for key, value in zip(key_list, value_list):\n",
    "    mapping[key] = value"
   ]
  },
  {
   "cell_type": "markdown",
   "id": "71533397-91c2-4493-8516-9e2e8b7e2ef5",
   "metadata": {},
   "source": [
    "- Creating dictionaries with <b>zipping</b>"
   ]
  },
  {
   "cell_type": "code",
   "execution_count": 29,
   "id": "505b4809-f981-4d1b-84d0-b50beebda222",
   "metadata": {},
   "outputs": [
    {
     "data": {
      "text/plain": [
       "<zip at 0x7fb1e8d23c00>"
      ]
     },
     "execution_count": 29,
     "metadata": {},
     "output_type": "execute_result"
    }
   ],
   "source": [
    "tuples = zip(range(5), reversed(range(5)))\n",
    "tuples"
   ]
  },
  {
   "cell_type": "code",
   "execution_count": 30,
   "id": "92bebc4e-2f3d-48cf-b3e1-12edd5fba417",
   "metadata": {},
   "outputs": [
    {
     "data": {
      "text/plain": [
       "{0: 4, 1: 3, 2: 2, 3: 1, 4: 0}"
      ]
     },
     "execution_count": 30,
     "metadata": {},
     "output_type": "execute_result"
    }
   ],
   "source": [
    "mapping = dict(tuples)\n",
    "mapping"
   ]
  },
  {
   "cell_type": "markdown",
   "id": "22765f83-57e1-417e-beb5-16ec5a83eb6b",
   "metadata": {},
   "source": [
    "- Filling empty dictionary with <b>keys</b>, <b>values</b> and <b>condtitions</b>"
   ]
  },
  {
   "cell_type": "code",
   "execution_count": 44,
   "id": "a17553af-da60-468f-a772-30e85b2075c5",
   "metadata": {},
   "outputs": [
    {
     "data": {
      "text/plain": [
       "{'a': ['apple', 'atom'], 'b': ['bat', 'bar', 'book']}"
      ]
     },
     "execution_count": 44,
     "metadata": {},
     "output_type": "execute_result"
    }
   ],
   "source": [
    "words = [\"apple\", \"bat\", \"bar\", \"atom\", \"book\"] #list \n",
    "\n",
    "by_letter = {} #empty dictionary\n",
    "\n",
    "for word in words:\n",
    "    letter = word[0] #listing all first letters from words\n",
    "    # if letter not in by_letter: #if the letter has no existing in dictionary\n",
    "    #     by_letter[letter] = [word] #then give value as wrod to matching letter\n",
    "    # else:\n",
    "    #     by_letter[letter].append(word) #if letter already exist just add wrod to letter\n",
    "    by_letter.setdefault(letter, []).append(word) #simpliest way than above\n",
    "by_letter"
   ]
  },
  {
   "cell_type": "code",
   "execution_count": 42,
   "id": "f211bdb6-23c4-4907-98b6-20310456b47c",
   "metadata": {},
   "outputs": [],
   "source": [
    "# for word in words:\n",
    "#     print(word[0])"
   ]
  },
  {
   "cell_type": "code",
   "execution_count": null,
   "id": "a0e6f386-a9ae-43db-bf82-eab492ae0154",
   "metadata": {},
   "outputs": [],
   "source": []
  },
  {
   "cell_type": "code",
   "execution_count": null,
   "id": "2183286d-83e1-42e2-b551-6f553a60b0fb",
   "metadata": {},
   "outputs": [],
   "source": []
  }
 ],
 "metadata": {
  "kernelspec": {
   "display_name": "Python 3 (ipykernel)",
   "language": "python",
   "name": "python3"
  },
  "language_info": {
   "codemirror_mode": {
    "name": "ipython",
    "version": 3
   },
   "file_extension": ".py",
   "mimetype": "text/x-python",
   "name": "python",
   "nbconvert_exporter": "python",
   "pygments_lexer": "ipython3",
   "version": "3.9.7"
  }
 },
 "nbformat": 4,
 "nbformat_minor": 5
}
